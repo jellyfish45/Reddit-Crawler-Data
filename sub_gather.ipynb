{
 "cells": [
  {
   "cell_type": "code",
   "execution_count": 2,
   "id": "33067792-c9dc-4f9c-b661-0c1a7824526f",
   "metadata": {
    "tags": []
   },
   "outputs": [],
   "source": [
    "import pandas as pd\n",
    "import numpy as np\n",
    "import praw"
   ]
  },
  {
   "cell_type": "code",
   "execution_count": 3,
   "id": "27a7bc09-82e3-4a91-ae9f-133e1891d9e0",
   "metadata": {
    "tags": []
   },
   "outputs": [],
   "source": [
    "reddit = praw.Reddit(\n",
    "    client_id=\"54u8-WeUDusPlUoFQDZu4w\",\n",
    "    client_secret=\"lGhkiE6scCkSMYsj0P9AXzyYVSLBag\",\n",
    "    user_agent=\"jellyfish\"\n",
    ")"
   ]
  },
  {
   "cell_type": "code",
   "execution_count": 20,
   "id": "be62a1c7-bec6-4fff-9a13-a860e0e36786",
   "metadata": {
    "tags": []
   },
   "outputs": [],
   "source": [
    "#1.black\n",
    "black= reddit.subreddit(\"black\")\n",
    "blackladies= reddit.subreddit(\"blackladies\")\n",
    "BlackPeopleTwitter= reddit.subreddit(\"BlackPeopleTwitter\")\n",
    "Blerds= reddit.subreddit(\"Blerds\")\n",
    "BlackPeopleGifs= reddit.subreddit(\"BlackPeopleGifs\")\n",
    "all=[black,blackladies,BlackPeopleTwitter,Blerds,BlackPeopleGifs]\n",
    "posts = []\n",
    "for subreddit in all:\n",
    "    for post in subreddit.search(\"suicide\", limit=200): \n",
    "        posts.append([post.title, post.score, post.id, post.subreddit, post.url, post.num_comments, post.selftext, post.created,'suicide'])\n",
    "    for post in subreddit.search(\"suicidal\", limit=200): \n",
    "        posts.append([post.title, post.score, post.id, post.subreddit, post.url, post.num_comments, post.selftext, post.created,'suicidal'])\n",
    "    for post in subreddit.search(\"depression\", limit=200): \n",
    "        posts.append([post.title, post.score, post.id, post.subreddit, post.url, post.num_comments, post.selftext, post.created,'depression'])"
   ]
  },
  {
   "cell_type": "code",
   "execution_count": 21,
   "id": "831464da-d9ce-47fe-9d6e-d6e2ed38a195",
   "metadata": {
    "tags": []
   },
   "outputs": [],
   "source": [
    "posts = pd.DataFrame(posts,columns=['title', 'score', 'id', 'subreddit', 'url', 'num_comments', 'body','created','key_words'])\n",
    "posts=posts.drop_duplicates(subset=['title'])\n",
    "#posts"
   ]
  },
  {
   "cell_type": "code",
   "execution_count": 22,
   "id": "3a9c5fbb-42ff-42bc-83cf-4c589b96db4f",
   "metadata": {
    "tags": []
   },
   "outputs": [],
   "source": [
    "Result_black=pd.read_csv('Result_black.csv')\n",
    "Result_black=pd.concat([Result_black,posts],ignore_index=True)\n",
    "Result_black=Result_black.drop_duplicates(subset=['title'])\n",
    "Result_black=Result_black.to_csv('Result_black.csv')"
   ]
  },
  {
   "cell_type": "code",
   "execution_count": 52,
   "id": "64b9aad0-a904-4867-9178-e243b073c5aa",
   "metadata": {
    "tags": []
   },
   "outputs": [],
   "source": [
    "#2.teenager\n",
    "teenagers= reddit.subreddit(\"teenagers\")\n",
    "teenagersbutpog= reddit.subreddit(\"teenagersbutpog\")\n",
    "teenagersnew= reddit.subreddit(\"teenagersnew\")\n",
    "TeenagersButHot= reddit.subreddit(\"TeenagersButHot\")\n",
    "teenager_polls= reddit.subreddit(\"teenager_polls\")\n",
    "all=[teenagers,teenagersnew,teenagersbutpog,teenager_polls,TeenagersButHot]\n",
    "posts = []\n",
    "for subreddit in all:\n",
    "    for post in subreddit.search(\"suicide\", limit=200): \n",
    "        posts.append([post.title, post.score, post.id, post.subreddit, post.url, post.num_comments, post.selftext, post.created,'suicide'])\n",
    "    for post in subreddit.search(\"suicidal\", limit=200): \n",
    "        posts.append([post.title, post.score, post.id, post.subreddit, post.url, post.num_comments, post.selftext, post.created,'suicidal'])\n",
    "    for post in subreddit.search(\"depression\", limit=200): \n",
    "        posts.append([post.title, post.score, post.id, post.subreddit, post.url, post.num_comments, post.selftext, post.created,'depression'])"
   ]
  },
  {
   "cell_type": "code",
   "execution_count": 55,
   "id": "814951b3-3000-40d0-9581-bda0f7e137b3",
   "metadata": {
    "tags": []
   },
   "outputs": [],
   "source": [
    "posts = pd.DataFrame(posts,columns=['title', 'score', 'id', 'subreddit', 'url', 'num_comments', 'body','created','key_words'])\n",
    "posts=posts.drop_duplicates()\n",
    "#posts"
   ]
  },
  {
   "cell_type": "code",
   "execution_count": 54,
   "id": "b61fad6e-2a59-48b9-9418-5b936421a0e1",
   "metadata": {
    "tags": []
   },
   "outputs": [],
   "source": [
    "Result_teen=pd.read_csv('Result_teen.csv')\n",
    "Result_teen=pd.concat([Result_teen,posts],ignore_index=True)\n",
    "Result_teen=Result_teen.drop_duplicates()\n",
    "Result_teen=Result_teen.to_csv('Result_teen.csv')"
   ]
  },
  {
   "cell_type": "code",
   "execution_count": 64,
   "id": "4c3a3613-60e2-4f40-8b61-11449212dccb",
   "metadata": {
    "tags": []
   },
   "outputs": [],
   "source": [
    "#3.parents\n",
    "teenagers= reddit.subreddit(\"teenagers\")\n",
    "ParentsAreFuckingDumb= reddit.subreddit(\"parent\")\n",
    "Parentingfails= reddit.subreddit(\"Parentingfails\")\n",
    "childhoodtrauma= reddit.subreddit(\"childhoodtrauma\")\n",
    "AsianParentStories= reddit.subreddit(\"AsianParentStories\")\n",
    "all=[teenagers,ParentsAreFuckingDumb,Parentingfails,childhoodtrauma,AsianParentStories]\n",
    "posts = []\n",
    "for subreddit in all:\n",
    "    for post in subreddit.search(\"suicide\", limit=200): \n",
    "        posts.append([post.title, post.score, post.id, post.subreddit, post.url, post.num_comments, post.selftext, post.created,'suicide'])\n",
    "    for post in subreddit.search(\"suicidal\", limit=200): \n",
    "        posts.append([post.title, post.score, post.id, post.subreddit, post.url, post.num_comments, post.selftext, post.created,'suicidal'])\n",
    "    for post in subreddit.search(\"depression\", limit=200): \n",
    "        posts.append([post.title, post.score, post.id, post.subreddit, post.url, post.num_comments, post.selftext, post.created,'depression'])"
   ]
  },
  {
   "cell_type": "code",
   "execution_count": 65,
   "id": "c31aeaee-620e-412e-b752-867759fa854e",
   "metadata": {
    "tags": []
   },
   "outputs": [
    {
     "data": {
      "text/plain": [
       "(1382, 9)"
      ]
     },
     "execution_count": 65,
     "metadata": {},
     "output_type": "execute_result"
    }
   ],
   "source": [
    "posts = pd.DataFrame(posts,columns=['title', 'score', 'id', 'subreddit', 'url', 'num_comments', 'body','created','key_words'])\n",
    "posts=posts.drop_duplicates()\n",
    "#posts.shape"
   ]
  },
  {
   "cell_type": "code",
   "execution_count": 66,
   "id": "3492c359-da42-4634-93e6-3b4f313d3c18",
   "metadata": {
    "tags": []
   },
   "outputs": [],
   "source": [
    "Result_parent=pd.read_csv('Result_parent.csv')\n",
    "Result_parent=pd.concat([Result_parent,posts],ignore_index=True)\n",
    "Result_parent=Result_parent.drop_duplicates()\n",
    "Result_parent=Result_parent.to_csv('Result_parent.csv')"
   ]
  },
  {
   "cell_type": "code",
   "execution_count": 77,
   "id": "16243d68-6732-43ff-9bcc-ee3d3c30c00d",
   "metadata": {
    "tags": []
   },
   "outputs": [],
   "source": [
    "#4.date\n",
    "dating=reddit.subreddit(\"dating\")\n",
    "relationships=reddit.subreddit(\"relationships\")\n",
    "single=reddit.subreddit(\"single\")\n",
    "SingleAndHappy=reddit.subreddit(\"SingleAndHappy\")\n",
    "all=[dating,relationships,single,SingleAndHappy]\n",
    "posts = []\n",
    "for subreddit in all:\n",
    "    for post in subreddit.search(\"suicide\", limit=200): \n",
    "        posts.append([post.title, post.score, post.id, post.subreddit, post.url, post.num_comments, post.selftext, post.created,'suicide'])\n",
    "    for post in subreddit.search(\"suicidal\", limit=200): \n",
    "        posts.append([post.title, post.score, post.id, post.subreddit, post.url, post.num_comments, post.selftext, post.created,'suicidal'])\n",
    "    for post in subreddit.search(\"depression\", limit=200): \n",
    "        posts.append([post.title, post.score, post.id, post.subreddit, post.url, post.num_comments, post.selftext, post.created,'depression'])"
   ]
  },
  {
   "cell_type": "code",
   "execution_count": 79,
   "id": "fda43d75-a28a-4c16-b12e-64b5d1575ceb",
   "metadata": {
    "tags": []
   },
   "outputs": [],
   "source": [
    "posts = pd.DataFrame(posts,columns=['title', 'score', 'id', 'subreddit', 'url', 'num_comments', 'body','created','key_words'])\n",
    "posts=posts.drop_duplicates()\n",
    "#posts.shape"
   ]
  },
  {
   "cell_type": "code",
   "execution_count": 80,
   "id": "ecce64e0-3486-4425-bae1-adf45257697f",
   "metadata": {
    "tags": []
   },
   "outputs": [],
   "source": [
    "Result_date=pd.read_csv('Result_date.csv')\n",
    "Result_date=pd.concat([Result_date,posts],ignore_index=True)\n",
    "Result_date=Result_date.drop_duplicates()\n",
    "Result_date=Result_date.to_csv('Result_date.csv')"
   ]
  },
  {
   "cell_type": "code",
   "execution_count": 81,
   "id": "5956249b-a03a-4fc6-ab54-bab32014943d",
   "metadata": {
    "tags": []
   },
   "outputs": [],
   "source": [
    "#5.college\n",
    "all=[reddit.subreddit(\"college\"),reddit.subreddit(\"CollegeMemes\"),reddit.subreddit(\"CollegeRant\"),reddit.subreddit(\"collegeresults\")]\n",
    "posts = []\n",
    "for subreddit in all:\n",
    "    for post in subreddit.search(\"suicide\", limit=200): \n",
    "        posts.append([post.title, post.score, post.id, post.subreddit, post.url, post.num_comments, post.selftext, post.created,'suicide'])\n",
    "    for post in subreddit.search(\"suicidal\", limit=200): \n",
    "        posts.append([post.title, post.score, post.id, post.subreddit, post.url, post.num_comments, post.selftext, post.created,'suicidal'])\n",
    "    for post in subreddit.search(\"depression\", limit=200): \n",
    "        posts.append([post.title, post.score, post.id, post.subreddit, post.url, post.num_comments, post.selftext, post.created,'depression'])"
   ]
  },
  {
   "cell_type": "code",
   "execution_count": 82,
   "id": "7671e2f1-922a-4793-a547-dae2625f622a",
   "metadata": {
    "tags": []
   },
   "outputs": [],
   "source": [
    "posts = pd.DataFrame(posts,columns=['title', 'score', 'id', 'subreddit', 'url', 'num_comments', 'body','created','key_words'])\n",
    "posts=posts.drop_duplicates()\n",
    "#posts.shape"
   ]
  },
  {
   "cell_type": "code",
   "execution_count": 83,
   "id": "ebdaa4d5-d0e3-4c81-a322-fac7286dc0fc",
   "metadata": {
    "tags": []
   },
   "outputs": [],
   "source": [
    "Result_college=pd.read_csv('Result_college.csv')\n",
    "Result_college=pd.concat([Result_college,posts],ignore_index=True)\n",
    "Result_college=Result_college.drop_duplicates()\n",
    "Result_college=Result_college.to_csv('Result_college.csv')"
   ]
  },
  {
   "cell_type": "code",
   "execution_count": null,
   "id": "cb6cfe3a-63c0-4b88-936f-86a3b73188d4",
   "metadata": {},
   "outputs": [],
   "source": []
  }
 ],
 "metadata": {
  "kernelspec": {
   "display_name": "Python 3 (ipykernel)",
   "language": "python",
   "name": "python3"
  },
  "language_info": {
   "codemirror_mode": {
    "name": "ipython",
    "version": 3
   },
   "file_extension": ".py",
   "mimetype": "text/x-python",
   "name": "python",
   "nbconvert_exporter": "python",
   "pygments_lexer": "ipython3",
   "version": "3.11.4"
  }
 },
 "nbformat": 4,
 "nbformat_minor": 5
}
