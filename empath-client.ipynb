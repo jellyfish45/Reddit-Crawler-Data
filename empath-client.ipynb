{
 "cells": [
  {
   "cell_type": "code",
   "execution_count": 13,
   "id": "9416ab9f-4310-480a-890b-6ace006e155c",
   "metadata": {
    "tags": []
   },
   "outputs": [],
   "source": [
    "from empath import Empath\n",
    "lexicon = Empath()"
   ]
  },
  {
   "cell_type": "code",
   "execution_count": 30,
   "id": "6bca7a73-e204-49af-97fe-dfe92b9ff85f",
   "metadata": {
    "collapsed": true,
    "jupyter": {
     "outputs_hidden": true
    },
    "tags": []
   },
   "outputs": [
    {
     "name": "stdout",
     "output_type": "stream",
     "text": [
      "[\"angry\", \"furious\", \"frustrated\", \"frightened\", \"disgusted\", \"outraged\", \"upset\", \"irritated\", \"resentful\", \"annoyed\", \"embarrassed\", \"unhappy\", \"exasperated\", \"incensed\", \"indignant\", \"fearful\", \"distressed\", \"scared\", \"terrified\", \"enraged\", \"confused\", \"afraid\", \"anxious\", \"irate\", \"insulted\", \"agitated\", \"distraught\", \"nervous\", \"bitter\", \"bewildered\", \"impatient\", \"offended\", \"shocked\", \"disgusted\", \"humiliated\", \"ashamed\", \"apprehensive\", \"puzzled\", \"incredulous\", \"perplexed\", \"tired\", \"worried\", \"disgruntled\", \"mystified\", \"dispirited\", \"despondent\", \"sad\", \"aghast\", \"alarmed\", \"exasperated\", \"mad\", \"terrified\", \"dismayed\", \"aggrieved\", \"irritated\", \"uneasy\", \"apologetic\", \"pained\", \"angered\", \"uncomfortable\", \"annoyed\", \"frightened\", \"bewildered\", \"horrified\", \"dissatisfied\", \"sorry\", \"appalled\", \"disappointed\", \"insecure\", \"defiant\", \"jealous\", \"relieved\", \"shocked\", \"bullied\", \"abusive\", \"intimidated\", \"disturbed\", \"suspicious\", \"complaining\", \"embittered\", \"elated\", \"angrier\", \"appalled\", \"stunned\", \"disillusioned\", \"outraged\", \"disoriented\", \"hysterical\", \"dumbfounded\", \"testy\", \"angered\", \"embarrassing\", \"embarrassed\", \"visibly\"]\n",
      "[\"lonely\", \"solitary\", \"sullen\", \"cranky\", \"homesick\", \"insecure\", \"bored\", \"restless\", \"neurotic\", \"spoiled\", \"terrified\", \"unloved\", \"miserable\", \"morose\", \"disoriented\", \"sad\", \"frightened\", \"bewildered\", \"orphaned\", \"grumpy\", \"frail\", \"jealous\", \"forlorn\", \"irritable\", \"possessive\", \"unbearably\", \"rootless\", \"alienated\", \"rebellious\", \"carefree\", \"introverted\", \"vain\", \"jaded\", \"repressed\", \"sickly\", \"contented\", \"pining\", \"outcast\", \"lovable\", \"loner\", \"adolescent\", \"wistful\", \"perpetually\", \"pampered\", \"surly\", \"adorable\", \"exhausted\", \"smug\", \"pathetic\", \"moody\", \"charming\", \"disheveled\", \"demented\", \"distracted\", \"spinster\", \"recluse\", \"heartbroken\", \"humble\", \"comforting\", \"hysterical\", \"depressed\", \"romantic\", \"stoic\", \"sleepy\", \"housewife\", \"resentful\", \"embittered\", \"pushy\", \"anguished\", \"forgetful\", \"despondent\", \"virgin\", \"withdrawn\", \"depressing\", \"brave\", \"narcissistic\", \"grown\", \"cheerful\", \"selfish\", \"tormented\", \"destitute\", \"breathless\", \"lonesome\", \"bossy\", \"weepy\", \"paranoid\", \"talkative\", \"cute\", \"spiritually\", \"exhilarated\", \"adrift\", \"beautiful\", \"feisty\", \"harried\", \"haggard\", \"unhappily\", \"mischievous\", \"rambunctious\", \"witless\", \"immature\"]\n",
      "[\"sad\", \"heartbreaking\", \"horrible\", \"depressing\", \"strange\", \"terrible\", \"awful\", \"sorry\", \"pathetic\", \"lonely\", \"upsetting\", \"pained\", \"ashamed\", \"miserable\", \"scary\", \"wonderful\", \"tragic\", \"weird\", \"frightening\", \"terrified\", \"shocking\", \"disgusted\", \"heartbroken\", \"pitiful\", \"frightened\", \"disheartening\", \"painful\", \"blessed\", \"ironic\", \"ugly\", \"comforting\", \"regretful\", \"beautiful\", \"sadly\", \"hysterical\", \"speechless\", \"terribly\", \"funny\", \"insecure\", \"appalled\", \"angry\", \"disgusting\", \"horrified\", \"relieved\", \"bewildered\", \"whole_experience\", \"comforting\", \"terrifying\", \"inspiring\", \"jaded\", \"smug\", \"scared\", \"dumbfounded\", \"unbelievable\", \"liberating\", \"fantastic\", \"offended\", \"joyful\", \"unfortunate\", \"unpleasant\", \"saddened\", \"happy\", \"numb\", \"moved\", \"stupid\", \"saddens\", \"unnerving\", \"strange_way\", \"exhilarated\", \"distressing\", \"embarrassing\", \"thankful\", \"gratifying\", \"exhausted\", \"bored\", \"hurtful\", \"horrifying\", \"ecstatic\", \"poignant\", \"perplexed\", \"remorseful\", \"selfish\", \"feel\", \"distressed\", \"shocked\", \"embarrassed\", \"uplifting\", \"humiliating\", \"jealous\", \"brave\", \"boring\", \"unbearable\", \"moving\", \"frustrating\", \"unbearably\", \"resentful\", \"cruel\"]\n",
      "[\"worried\", \"concerned\", \"worried\", \"worry\", \"concerned\", \"apprehensive\", \"nervous\", \"alarmed\", \"anxious\", \"fearful\", \"worrying\", \"afraid\", \"leery\", \"unhappy\", \"upset\", \"worries\", \"scared\", \"pessimistic\", \"uneasy\", \"wary\", \"skittish\", \"sanguine\", \"cautious\", \"skeptical\", \"angry\", \"frightened\", \"optimistic\", \"excited\", \"frustrated\", \"worries\", \"fret\", \"adamant\", \"irritated\", \"fear\", \"hesitant\", \"reassured\", \"worry\", \"second_thoughts\", \"annoyed\", \"distressed\", \"complacent\", \"unsure\", \"ambivalent\", \"convinced\", \"scared\", \"jittery\"]\n",
      "[\"frustrated\", \"angry\", \"frustrated\", \"irritated\", \"unhappy\", \"impatient\", \"annoyed\", \"disgusted\", \"dissatisfied\", \"exasperated\", \"confused\", \"upset\", \"anxious\", \"overwhelmed\", \"embarrassed\", \"apprehensive\", \"nervous\", \"distressed\", \"furious\", \"resentful\", \"frightened\", \"mystified\", \"disappointed\", \"tired\", \"exasperated\", \"alarmed\", \"fearful\", \"frustrating\", \"relieved\", \"despondent\", \"incensed\", \"agitated\", \"perplexed\", \"distracted\", \"worried\", \"dismayed\", \"disgruntled\", \"distraught\", \"bewildered\", \"demoralized\", \"bored\", \"leery\", \"fatigued\", \"scared\", \"intimidated\", \"baffled\", \"preoccupied\", \"testy\", \"complacent\", \"irritated\", \"uncomfortable\", \"dispirited\", \"uneasy\", \"elated\", \"irate\", \"disenchanted\", \"puzzled\", \"outraged\", \"disillusioned\", \"weary\", \"exhausted\", \"wary\", \"disenchanted\", \"stressed\", \"concerned\", \"perturbed\", \"disheartened\", \"disturbed\", \"annoyed\"]\n",
      "[\"anxious\", \"hesitant\", \"eager\", \"worried\", \"apprehensive\", \"nervous\", \"fearful\", \"frustrated\", \"impatient\", \"desperate\", \"frightened\", \"determined\", \"afraid\", \"irritated\", \"angry\", \"unhappy\", \"uneasy\", \"reluctant\", \"wanting\", \"hopeful\", \"happy\", \"concerned\", \"confused\", \"relieved\", \"inclined\", \"preoccupied\", \"wary\", \"confident\", \"resentful\", \"dissatisfied\", \"alarmed\", \"uncomfortable\", \"ambivalent\", \"excited\", \"cautious\", \"scared\", \"annoyed\", \"distressed\", \"upset\", \"embarrassed\", \"skittish\", \"insecure\", \"leery\", \"exasperated\", \"jittery\", \"distracted\", \"disgusted\", \"puzzled\"]\n",
      "[\"nervous\", \"apprehensive\", \"worried\", \"excited\", \"scared\", \"irritated\", \"annoyed\", \"anxious\", \"jittery\", \"uncomfortable\", \"frightened\", \"upset\", \"unnerved\", \"frustrated\", \"uneasy\", \"skittish\", \"confused\", \"embarrassed\", \"angry\", \"cautious\", \"queasy\", \"puzzled\", \"exasperated\", \"relieved\", \"agitated\", \"antsy\", \"hesitant\", \"alarmed\", \"perplexed\", \"euphoric\", \"mystified\", \"panicky\", \"edgy\", \"fatigued\", \"tired\", \"flustered\", \"disgusted\", \"leery\", \"unhappy\", \"impatient\", \"distracted\", \"surprised\", \"terrified\", \"afraid\", \"enthusiastic\", \"concerned\", \"elated\", \"perturbed\", \"bewildered\", \"scared\", \"wary\", \"panicking\", \"complacent\", \"uptight\", \"happy\", \"enthused\", \"insecure\", \"bored\", \"depressed\", \"stressed\", \"cold_feet\"]\n",
      "[\"disappointed\", \"disappointed\", \"pleased\", \"surprised\", \"gratified\", \"delighted\", \"elated\", \"relieved\", \"thrilled\", \"shocked\", \"upset\", \"dismayed\", \"distressed\", \"glad\", \"sorry\", \"embarrassed\", \"unhappy\", \"displeased\", \"disgusted\", \"satisfied\", \"happy\", \"annoyed\", \"excited\", \"flattered\", \"pleased\", \"frustrated\", \"impressed\", \"saddened\", \"puzzled\", \"outraged\", \"incensed\", \"gratified\", \"surprised\", \"stunned\", \"amazed\", \"encouraged\", \"astounded\", \"ecstatic\", \"regret\", \"chagrined\", \"angry\", \"mystified\", \"shocked\", \"flabbergasted\", \"grateful\", \"disappointing\", \"apprehensive\", \"optimistic\", \"dissatisfied\", \"thrilled\", \"miffed\", \"thankful\", \"concerned\"]\n",
      "[\"gloomy\", \"bleak\", \"grim\", \"buoyant\", \"euphoric\", \"rosy\", \"edgy\", \"subdued\", \"dim\", \"upbeat\", \"muted\", \"glum\", \"bleaker\", \"somber\", \"grimmer\", \"dreary\", \"unnerving\", \"cloudy\", \"pessimistic\", \"fatalistic\", \"reassuring\", \"unsettling\", \"ominous\", \"tepid\", \"unfocused\", \"downbeat\", \"jittery\", \"giddy\", \"tame\", \"dour\", \"placid\", \"blase\", \"gloomier\", \"predictable\", \"sanguine\", \"abrupt\", \"overdone\", \"prescient\", \"slack\", \"muddled\", \"unsettled\", \"jarring\", \"chilly\", \"disquieting\", \"dismal\", \"hazy\", \"serene\", \"chilly\", \"cheerful\", \"tranquil\", \"chaotic\", \"dull\", \"unperturbed\", \"untroubled\", \"depressing\", \"robust\", \"restrained\", \"temperate\", \"sobering\", \"depressing\", \"unpredictable\", \"gleeful\", \"stormy\", \"overheated\", \"palpably\", \"tentative\", \"benign\", \"sunny\", \"listless\", \"unconcerned\", \"cheery\", \"fuzzy\", \"decidedly\", \"perplexed\", \"apocalyptic\", \"wistful\", \"reflective\", \"dispiriting\", \"unruffled\", \"dispirited\", \"calmer\", \"comforting\", \"puzzling\", \"disappointingly\", \"smug\", \"prosaic\", \"dire\", \"nostalgic\", \"prophetic\", \"uplifting\", \"jaded\", \"unforgiving\", \"frenetic\", \"directionless\", \"sluggish\", \"depressingly\", \"lifeless\", \"contrived\", \"murky\"]\n",
      "[\"miserable\", \"exhausted\", \"lonely\", \"unbearable\", \"awful\", \"horrible\", \"bearable\", \"hopeless\", \"insecure\", \"terrible\", \"sad\", \"terrified\", \"unpleasant\", \"cranky\", \"depressing\", \"helpless\", \"selfish\", \"lousy\", \"numb\", \"bored\", \"stressed\", \"pathetic\", \"frightened\", \"depressed\", \"dizzy\", \"homesick\", \"humiliating\", \"blessed\", \"disoriented\", \"smug\", \"stressful\", \"fatigued\", \"carefree\", \"tiring\", \"wretched\", \"uptight\", \"irritable\", \"lazy\", \"jaded\", \"comforting\", \"dejected\", \"Emotionally\", \"boring\", \"resentful\", \"sick\", \"pitiful\", \"bewildered\", \"disgusted\", \"dreadful\", \"scary\", \"mad\", \"grumpy\", \"envious\", \"distracted\", \"overwhelmed\", \"bad\", \"hysterical\", \"tired\", \"queasy\", \"horribly\", \"worst_part\", \"upsetting\", \"heartbreaking\", \"sadder\", \"despondent\", \"paranoid\"]\n",
      "[\"lonely\", \"solitary\", \"sullen\", \"cranky\", \"homesick\", \"insecure\", \"bored\", \"restless\", \"neurotic\", \"spoiled\", \"terrified\", \"unloved\", \"miserable\", \"morose\", \"disoriented\", \"sad\", \"frightened\", \"bewildered\", \"orphaned\", \"grumpy\", \"frail\", \"jealous\", \"forlorn\", \"irritable\", \"possessive\", \"unbearably\", \"rootless\", \"alienated\", \"rebellious\", \"carefree\", \"introverted\", \"vain\", \"jaded\", \"repressed\", \"sickly\", \"contented\", \"pining\", \"outcast\", \"lovable\", \"loner\", \"adolescent\", \"wistful\", \"perpetually\", \"pampered\", \"surly\", \"adorable\", \"exhausted\", \"smug\", \"pathetic\", \"moody\", \"charming\", \"disheveled\", \"demented\", \"distracted\", \"spinster\", \"recluse\", \"heartbroken\", \"humble\", \"comforting\", \"hysterical\", \"depressed\", \"romantic\", \"stoic\", \"sleepy\", \"housewife\", \"resentful\", \"embittered\", \"pushy\", \"anguished\", \"forgetful\", \"despondent\", \"virgin\", \"withdrawn\", \"depressing\", \"brave\", \"narcissistic\", \"grown\", \"cheerful\", \"selfish\", \"tormented\", \"destitute\", \"breathless\", \"lonesome\", \"bossy\", \"weepy\", \"paranoid\", \"talkative\", \"cute\", \"spiritually\", \"exhilarated\", \"adrift\", \"beautiful\", \"feisty\", \"harried\", \"haggard\", \"unhappily\", \"mischievous\", \"rambunctious\", \"witless\", \"immature\"]\n"
     ]
    }
   ],
   "source": [
    "#negative\n",
    "lexicon.create_category(\"angry\", [\"angry\"], model=\"nytimes\")\n",
    "lexicon.create_category(\"lonely\", [\"lonely\"], model=\"nytimes\")\n",
    "lexicon.create_category(\"sad\", [\"sad\"], model=\"nytimes\")\n",
    "lexicon.create_category(\"worried\", [\"worried\"], model=\"nytimes\")\n",
    "lexicon.create_category(\"frustrated\", [\"frustrated\"], model=\"nytimes\")\n",
    "lexicon.create_category(\"anxious\", [\"anxious\"], model=\"nytimes\")\n",
    "lexicon.create_category(\"nervous\", [\"nervous\"], model=\"nytimes\")\n",
    "lexicon.create_category(\"disappointed\", [\"disappointed\"], model=\"nytimes\")\n",
    "lexicon.create_category(\"gloomy\", [\"gloomy\"], model=\"nytimes\")\n",
    "lexicon.create_category(\"miserable\", [\"miserable\"], model=\"nytimes\")\n",
    "lexicon.create_category(\"lonely\", [\"lonely\"], model=\"nytimes\")"
   ]
  },
  {
   "cell_type": "code",
   "execution_count": 32,
   "id": "b56d1c9d-dbea-4d35-a6bb-8023c0a07bab",
   "metadata": {
    "tags": []
   },
   "outputs": [
    {
     "name": "stdout",
     "output_type": "stream",
     "text": [
      "[\"happy\", \"glad\", \"thrilled\", \"delighted\", \"pleased\", \"nice\", \"excited\", \"thankful\", \"like\", \"proud\", \"satisfied\", \"grateful\", \"sorry\", \"love\", \"lucky\", \"relieved\", \"sure\", \"thrilled\", \"want\", \"surprised\", \"disappointed\", \"unhappy\", \"anxious\", \"afraid\", \"good\", \"content\", \"confident\", \"sure\", \"fortunate\", \"elated\", \"comfortable\", \"wish\", \"flattered\", \"scared\", \"overjoyed\", \"know\", \"'m\", \"sad\", \"ashamed\", \"embarrassed\", \"going\", \"think\", \"good_time\", \"nervous\", \"O.K.\", \"guess\"]\n",
      "[\"loved\", \"hated\", \"liked\", \"love\", \"adored\", \"admired\", \"loves\", \"treasured\", \"longed\", \"great_love\", \"loved\", \"cared\", \"blessed\", \"adore\", \"happiest\", \"yearned\", \"remembered\", \"wonderful\", \"loathed\", \"good_friends\", \"treasure\", \"fondly\"]\n",
      "[\"joyful\", \"joyous\", \"solemn\", \"uplifting\", \"wistful\", \"mournful\", \"touching\", \"contemplative\", \"sensual\", \"cathartic\", \"lighthearted\", \"exuberant\", \"merry\", \"endearing\", \"invigorating\", \"celebratory\", \"wondrous\", \"radiant\", \"dreamy\", \"dutiful\", \"exhilarating\", \"affectionate\", \"carefree\", \"soulful\", \"seductive\", \"gloriously\", \"childlike\", \"anguished\", \"unbearably\", \"heartbreaking\", \"melancholy\", \"mischievous\", \"playful\", \"beguiling\", \"redemptive\", \"pensive\", \"introspective\", \"rhapsodic\", \"thrilling\", \"soothing\", \"effervescent\", \"sentimental\", \"morbid\", \"meditative\", \"inspiring\", \"poetic\", \"rueful\", \"thrilling\", \"hypnotic\", \"poignant\", \"exhilarating\", \"mesmerizing\", \"lugubrious\", \"hauntingly\", \"wry\", \"plaintive\", \"mawkish\", \"sardonic\", \"heartwarming\", \"sublime\", \"brooding\", \"otherworldly\", \"dignified\", \"ethereal\", \"unforgettable\", \"sorrowful\", \"maudlin\", \"serene\", \"elegiac\", \"reverent\", \"touchingly\", \"portentous\", \"lyrical\", \"histrionic\", \"jolly\", \"palpably\", \"endearingly\", \"antic\", \"girlish\", \"decorous\", \"purposeful\", \"droll\", \"haunting\", \"blithe\", \"moody\", \"marvelous\", \"rambunctious\", \"liberating\", \"romantic\", \"magical\", \"lyrically\", \"sensuous\", \"enchanting\", \"uninhibited\", \"ponderous\", \"campy\", \"charming\", \"sly\", \"cloying\", \"exalted\"]\n",
      "[\"content\", \"format\", \"subject_matter\", \"electronic_media\", \"interactivity\", \"digital_technology\", \"new_medium\", \"written_word\", \"programming\", \"editorial_content\", \"medium\", \"formulas\", \"lowest_common_denominator\", \"current_events\", \"broadcasters\", \"mass_audience\", \"final_product\", \"sound_quality\", \"function\", \"blogs\", \"mass_media\", \"visuals\", \"disclaimers\", \"other_media\", \"meanings\"]\n",
      "[\"pleased\", \"delighted\", \"disappointed\", \"gratified\", \"disappointed\", \"thrilled\", \"happy\", \"satisfied\", \"surprised\", \"pleased\", \"glad\", \"impressed\", \"relieved\", \"confident\", \"encouraged\", \"gratified\", \"elated\", \"thrilled\", \"proud\", \"grateful\", \"hopeful\", \"excited\", \"dismayed\", \"unhappy\", \"optimistic\", \"surprised\", \"displeased\", \"shocked\", \"heartened\", \"amazed\"]\n",
      "[\"grateful\", \"thankful\", \"appreciative\", \"blessed\", \"fortunate\", \"glad\", \"thrilled\", \"delighted\", \"thank\", \"proud\", \"happy\", \"relieved\", \"gratified\", \"cherish\", \"pleased\", \"sorry\", \"gratitude\", \"overjoyed\", \"thrilled\", \"treasure\", \"comforted\", \"ashamed\", \"disappointed\", \"appreciate\", \"elated\"]\n",
      "[\"relieved\", \"relieved\"]\n",
      "[\"optimistic\", \"pessimistic\", \"hopeful\", \"sanguine\", \"confident\", \"cautious\", \"skeptical\", \"upbeat\", \"encouraging\", \"bullish\", \"concerned\", \"enthusiastic\", \"worried\", \"satisfied\", \"apprehensive\", \"convinced\", \"pleased\", \"enthused\", \"disappointed\", \"unconvinced\"]\n",
      "[\"satisfied\", \"pleased\", \"confident\", \"happy\", \"disappointed\", \"disappointed\", \"dissatisfied\", \"satisfied\", \"convinced\", \"optimistic\", \"pleased\", \"relieved\", \"assured\", \"unhappy\", \"concerned\", \"adamant\", \"reassured\", \"dissatisfied\", \"encouraged\", \"impressed\"]\n",
      "[\"excited\", \"thrilled\", \"excited\", \"nervous\", \"happy\", \"enthusiastic\", \"enthused\", \"exciting\", \"thrilled\", \"glad\", \"ecstatic\", \"disappointed\", \"apprehensive\", \"surprised\", \"delighted\", \"worried\", \"scared\", \"pleased\", \"elated\", \"impressed\", \"upset\", \"antsy\", \"anxious\", \"great_time\", \"flattered\", \"overjoyed\", \"relieved\", \"thinking\", \"curious\", \"thankful\", \"nice\", \"amazed\", \"concerned\", \"gratifying\"]\n",
      "[\"loved\", \"hated\", \"liked\", \"love\", \"adored\", \"admired\", \"loves\", \"treasured\", \"longed\", \"great_love\", \"loved\", \"cared\", \"blessed\", \"adore\", \"happiest\", \"yearned\", \"remembered\", \"wonderful\", \"loathed\", \"good_friends\", \"treasure\", \"fondly\"]\n"
     ]
    }
   ],
   "source": [
    "#positive\n",
    "lexicon.create_category(\"happy\", [\"happy\"], model=\"nytimes\")\n",
    "lexicon.create_category(\"loved\", [\"loved\"], model=\"nytimes\")\n",
    "lexicon.create_category(\"joyful\", [\"joyful\"], model=\"nytimes\")\n",
    "lexicon.create_category(\"content\", [\"content\"], model=\"nytimes\")\n",
    "lexicon.create_category(\"pleased\", [\"pleased\"], model=\"nytimes\")\n",
    "lexicon.create_category(\"grateful\", [\"grateful\"], model=\"nytimes\")\n",
    "lexicon.create_category(\"relieved\", [\"relieved\"], model=\"nytimes\")\n",
    "lexicon.create_category(\"optimistic\", [\"optimistic\"], model=\"nytimes\")\n",
    "lexicon.create_category(\"satisfied\", [\"satisfied\"], model=\"nytimes\")\n",
    "lexicon.create_category(\"excited\", [\"excited\"], model=\"nytimes\")\n",
    "lexicon.create_category(\"loved\", [\"loved\"], model=\"nytimes\")"
   ]
  },
  {
   "cell_type": "code",
   "execution_count": 34,
   "id": "57008bc2-8f8d-4f4f-8238-bb8c20cd2caf",
   "metadata": {
    "tags": []
   },
   "outputs": [
    {
     "name": "stdout",
     "output_type": "stream",
     "text": [
      "[\"loved\", \"liked\", \"adored\", \"hated\", \"enjoyed\", \"Loved\", \"Hated\", \"LOVED\", \"looooved\", \"adore\", \"disliked\", \"loathed\", \"LOVED\", \"despised\", \"loving\", \"loooved\", \"HATED\", \"huge_fan\", \"loooooved\", \"HUGE_fan\", \"biggest_disappointment\", \"biggest_fan\", \"enthralled\", \"detested\", \"captivated\", \"massive_fan\", \"Liked\", \"enthralled\", \"love(d\", \"raved\", \"amazing\", \"same_feeling\", \"huge_disappointment\", \"wished\", \"watched\", \"reminds\", \"soft_spot\", \"best_part\", \"those_years_ago\", \"favorite_story\", \"adoring\", \"love/hate_relationship\", \"favorite_parts\", \"fond_memories\", \"cared\", \"fantastic\", \"first_introduction\", \"enjoyed\", \"wowed\", \"AMAZING.\", \"pained\", \"huge_fans\", \"first_times\", \"first_time\", \"freakin\", \"absolute_favorite\", \"floored\", \"excited\", \"very_first_time\", \"favorite\", \"thrilled\", \"absolute_love\", \"favourite\", \"first_experience\", \"big_fan\", \"thrilled\", \"kick-ass\", \"amazed\", \"felt\", \"huge*_fan\", \"LOVED\", \"time_favorite\", \"AMAZING\", \"very_fond_memories\", \"favorite_part\", \"sucked\", \"disappointed\", \"adores\", \"enamored\", \"such_high_hopes\", \"wee_lad\", \"Huge_fan\", \"least_favorite\", \"only_good_thing\", \"favorite_thing\", \"best_parts\", \"best_moments\", \"cried\", \"favourite_parts\", \"remembered\", \"teared\", \"heartbroken\", \"such_fond_memories\", \"enamored\", \"major_fan\"]\n"
     ]
    }
   ],
   "source": [
    "lexicon.create_category(\"loved\", [\"loved\"], model=\"reddit\")"
   ]
  },
  {
   "cell_type": "code",
   "execution_count": 36,
   "id": "ffcda886-b005-4400-9c6e-7362ed640216",
   "metadata": {
    "tags": []
   },
   "outputs": [
    {
     "name": "stdout",
     "output_type": "stream",
     "text": [
      "[\"loved\", \"adored\", \"hated\", \"liked\", \"cared\", \"cherished\", \"despised\", \"love\", \"loves\", \"envied\", \"treasured\", \"loathed\", \"adore\", \"loving\", \"disliked\", \"believed\", \"knew\", \"always\", \"dearly\", \"trusted\", \"understood\", \"wished\", \"loathe\", \"truly\", \"resented\", \"idolized\", \"wanted\", \"hate\", \"happy\", \"lusted\", \"fancied\", \"respected\", \"especially\", \"reminded\", \"only_woman\", \"thought\", \"love\", \"despise\", \"enjoyed\", \"detested\", \"dreamed\", \"ever\", \"envy\", \"hates\", \"meant\", \"adores\", \"wish\", \"though\", \"much\", \"admired\", \"pitied\", \"first_love\", \"only_boy\", \"fantasized\", \"mattered\", \"actually\", \"much\", \"Because\", \"deserved\", \"missed\", \"prefered\", \"bonded\", \"loving_family\", \"unlike\", \"treasure\", \"only_man\", \"fascinated\", \"dislike\", \"special\", \"honestly\", \"childhood\", \"longed\", \"unconditionally\", \"amazing\", \"just_her\", \"truely\", \"craved\", \"funny_thing\", \"close_relationship\", \"care\", \"like\", \"despises\", \"amazed\", \"remember\", \"favored\", \"Mainly\", \"hating\", \"dreamt\", \"family\", \"likes\"]\n"
     ]
    }
   ],
   "source": [
    "lexicon.create_category(\"loved\", [\"loved\"])"
   ]
  },
  {
   "cell_type": "code",
   "execution_count": null,
   "id": "96c0e8e5-3427-425d-82b1-9a3f1097a07f",
   "metadata": {},
   "outputs": [],
   "source": []
  }
 ],
 "metadata": {
  "kernelspec": {
   "display_name": "Python 3 (ipykernel)",
   "language": "python",
   "name": "python3"
  },
  "language_info": {
   "codemirror_mode": {
    "name": "ipython",
    "version": 3
   },
   "file_extension": ".py",
   "mimetype": "text/x-python",
   "name": "python",
   "nbconvert_exporter": "python",
   "pygments_lexer": "ipython3",
   "version": "3.11.4"
  }
 },
 "nbformat": 4,
 "nbformat_minor": 5
}
