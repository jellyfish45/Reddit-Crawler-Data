{
 "cells": [
  {
   "cell_type": "code",
   "execution_count": 11,
   "id": "9c2bda71-c3b1-4019-9d1d-232c47b83285",
   "metadata": {
    "tags": []
   },
   "outputs": [],
   "source": [
    "import praw \n",
    "import pandas as pd"
   ]
  },
  {
   "cell_type": "code",
   "execution_count": 35,
   "id": "614a7236-8bb1-401e-99a8-a3138338c241",
   "metadata": {
    "tags": []
   },
   "outputs": [],
   "source": [
    "reddit = praw.Reddit(\n",
    "    client_id=\"cXb7-vX9BLku6yVl6aKagg\",\n",
    "    client_secret=\"Pa1gMfMKKUqS_hyFllKzzY6d7__JPw\",\n",
    "    user_agent=\"jellyfish\",\n",
    "    user_name=\"jellyfish5544\",\n",
    "    password=\"pjy530150\"\n",
    ")"
   ]
  },
  {
   "cell_type": "code",
   "execution_count": 173,
   "id": "21450e1e-5ff2-4a8d-b505-c4251f937928",
   "metadata": {
    "tags": []
   },
   "outputs": [
    {
     "data": {
      "text/html": [
       "<div>\n",
       "<style scoped>\n",
       "    .dataframe tbody tr th:only-of-type {\n",
       "        vertical-align: middle;\n",
       "    }\n",
       "\n",
       "    .dataframe tbody tr th {\n",
       "        vertical-align: top;\n",
       "    }\n",
       "\n",
       "    .dataframe thead th {\n",
       "        text-align: right;\n",
       "    }\n",
       "</style>\n",
       "<table border=\"1\" class=\"dataframe\">\n",
       "  <thead>\n",
       "    <tr style=\"text-align: right;\">\n",
       "      <th></th>\n",
       "      <th>Unnamed: 0</th>\n",
       "      <th>title</th>\n",
       "      <th>score</th>\n",
       "      <th>id</th>\n",
       "      <th>subreddit</th>\n",
       "      <th>url</th>\n",
       "      <th>num_comments</th>\n",
       "      <th>body</th>\n",
       "      <th>created</th>\n",
       "      <th>key_words</th>\n",
       "    </tr>\n",
       "  </thead>\n",
       "  <tbody>\n",
       "    <tr>\n",
       "      <th>5399</th>\n",
       "      <td>5400</td>\n",
       "      <td>to block the German autobahn</td>\n",
       "      <td>79603</td>\n",
       "      <td>zdc3sl</td>\n",
       "      <td>therewasanattempt</td>\n",
       "      <td>https://v.redd.it/zie3h567h54a1</td>\n",
       "      <td>4152</td>\n",
       "      <td>NaN</td>\n",
       "      <td>1.670259e+09</td>\n",
       "      <td>suicide</td>\n",
       "    </tr>\n",
       "    <tr>\n",
       "      <th>1614</th>\n",
       "      <td>1614</td>\n",
       "      <td>Gabby Petito Confirmed Dead by her Father on T...</td>\n",
       "      <td>75330</td>\n",
       "      <td>prift6</td>\n",
       "      <td>awfuleverything</td>\n",
       "      <td>https://i.redd.it/m3cc2ot6ijo71.png</td>\n",
       "      <td>11510</td>\n",
       "      <td>NaN</td>\n",
       "      <td>1.632092e+09</td>\n",
       "      <td>suicide</td>\n",
       "    </tr>\n",
       "    <tr>\n",
       "      <th>5884</th>\n",
       "      <td>5885</td>\n",
       "      <td>Print(\" suicidal thoughts\")</td>\n",
       "      <td>74839</td>\n",
       "      <td>e4golj</td>\n",
       "      <td>dankmemes</td>\n",
       "      <td>https://i.redd.it/4r4iepqfj0241.jpg</td>\n",
       "      <td>405</td>\n",
       "      <td>NaN</td>\n",
       "      <td>1.575202e+09</td>\n",
       "      <td>suicide</td>\n",
       "    </tr>\n",
       "    <tr>\n",
       "      <th>5376</th>\n",
       "      <td>5377</td>\n",
       "      <td>to make his death look like a suicide</td>\n",
       "      <td>61442</td>\n",
       "      <td>gd0bzc</td>\n",
       "      <td>therewasanattempt</td>\n",
       "      <td>https://i.redd.it/ujxthsw0umw41.jpg</td>\n",
       "      <td>832</td>\n",
       "      <td>NaN</td>\n",
       "      <td>1.588548e+09</td>\n",
       "      <td>suicide</td>\n",
       "    </tr>\n",
       "    <tr>\n",
       "      <th>5371</th>\n",
       "      <td>5372</td>\n",
       "      <td>to stop suicide</td>\n",
       "      <td>59371</td>\n",
       "      <td>iu8k8c</td>\n",
       "      <td>therewasanattempt</td>\n",
       "      <td>https://i.redd.it/2ez8ce09sln51.jpg</td>\n",
       "      <td>1212</td>\n",
       "      <td>NaN</td>\n",
       "      <td>1.600303e+09</td>\n",
       "      <td>suicide</td>\n",
       "    </tr>\n",
       "    <tr>\n",
       "      <th>...</th>\n",
       "      <td>...</td>\n",
       "      <td>...</td>\n",
       "      <td>...</td>\n",
       "      <td>...</td>\n",
       "      <td>...</td>\n",
       "      <td>...</td>\n",
       "      <td>...</td>\n",
       "      <td>...</td>\n",
       "      <td>...</td>\n",
       "      <td>...</td>\n",
       "    </tr>\n",
       "    <tr>\n",
       "      <th>107</th>\n",
       "      <td>107</td>\n",
       "      <td>suicide</td>\n",
       "      <td>0</td>\n",
       "      <td>16ta8aa</td>\n",
       "      <td>SuicideWatch</td>\n",
       "      <td>https://www.reddit.com/r/SuicideWatch/comments...</td>\n",
       "      <td>3</td>\n",
       "      <td>i really want to die can someone tell me if ta...</td>\n",
       "      <td>1.695787e+09</td>\n",
       "      <td>suicide</td>\n",
       "    </tr>\n",
       "    <tr>\n",
       "      <th>2462</th>\n",
       "      <td>2462</td>\n",
       "      <td>suicide by drowning? pros and cons?</td>\n",
       "      <td>0</td>\n",
       "      <td>rflftv</td>\n",
       "      <td>lonely</td>\n",
       "      <td>https://www.reddit.com/r/lonely/comments/rflft...</td>\n",
       "      <td>15</td>\n",
       "      <td>need help with that.. plz dm</td>\n",
       "      <td>1.639418e+09</td>\n",
       "      <td>suicide</td>\n",
       "    </tr>\n",
       "    <tr>\n",
       "      <th>1721</th>\n",
       "      <td>1721</td>\n",
       "      <td>Person wishes suicide and rape on someone who ...</td>\n",
       "      <td>0</td>\n",
       "      <td>hl65r8</td>\n",
       "      <td>awfuleverything</td>\n",
       "      <td>https://i.redd.it/cew0g2ezav851.jpg</td>\n",
       "      <td>6</td>\n",
       "      <td>NaN</td>\n",
       "      <td>1.593880e+09</td>\n",
       "      <td>suicide</td>\n",
       "    </tr>\n",
       "    <tr>\n",
       "      <th>2504</th>\n",
       "      <td>2504</td>\n",
       "      <td>I want to make a fake suicide note just to see...</td>\n",
       "      <td>0</td>\n",
       "      <td>z6ddon</td>\n",
       "      <td>lonely</td>\n",
       "      <td>https://www.reddit.com/r/lonely/comments/z6ddo...</td>\n",
       "      <td>3</td>\n",
       "      <td>I bet all the people who ignore my calls to ha...</td>\n",
       "      <td>1.669585e+09</td>\n",
       "      <td>suicide</td>\n",
       "    </tr>\n",
       "    <tr>\n",
       "      <th>2379</th>\n",
       "      <td>2379</td>\n",
       "      <td>Suicide is my solution for my problem!</td>\n",
       "      <td>0</td>\n",
       "      <td>17fxq8p</td>\n",
       "      <td>lonely</td>\n",
       "      <td>https://www.reddit.com/r/lonely/comments/17fxq...</td>\n",
       "      <td>7</td>\n",
       "      <td>I just can’t take it anymore. Because I’m havi...</td>\n",
       "      <td>1.698212e+09</td>\n",
       "      <td>suicide</td>\n",
       "    </tr>\n",
       "  </tbody>\n",
       "</table>\n",
       "<p>1364 rows × 10 columns</p>\n",
       "</div>"
      ],
      "text/plain": [
       "      Unnamed: 0                                              title  score  \\\n",
       "5399        5400                       to block the German autobahn  79603   \n",
       "1614        1614  Gabby Petito Confirmed Dead by her Father on T...  75330   \n",
       "5884        5885                        Print(\" suicidal thoughts\")  74839   \n",
       "5376        5377              to make his death look like a suicide  61442   \n",
       "5371        5372                                    to stop suicide  59371   \n",
       "...          ...                                                ...    ...   \n",
       "107          107                                            suicide      0   \n",
       "2462        2462                suicide by drowning? pros and cons?      0   \n",
       "1721        1721  Person wishes suicide and rape on someone who ...      0   \n",
       "2504        2504  I want to make a fake suicide note just to see...      0   \n",
       "2379        2379             Suicide is my solution for my problem!      0   \n",
       "\n",
       "           id          subreddit  \\\n",
       "5399   zdc3sl  therewasanattempt   \n",
       "1614   prift6    awfuleverything   \n",
       "5884   e4golj          dankmemes   \n",
       "5376   gd0bzc  therewasanattempt   \n",
       "5371   iu8k8c  therewasanattempt   \n",
       "...       ...                ...   \n",
       "107   16ta8aa       SuicideWatch   \n",
       "2462   rflftv             lonely   \n",
       "1721   hl65r8    awfuleverything   \n",
       "2504   z6ddon             lonely   \n",
       "2379  17fxq8p             lonely   \n",
       "\n",
       "                                                    url  num_comments  \\\n",
       "5399                    https://v.redd.it/zie3h567h54a1          4152   \n",
       "1614                https://i.redd.it/m3cc2ot6ijo71.png         11510   \n",
       "5884                https://i.redd.it/4r4iepqfj0241.jpg           405   \n",
       "5376                https://i.redd.it/ujxthsw0umw41.jpg           832   \n",
       "5371                https://i.redd.it/2ez8ce09sln51.jpg          1212   \n",
       "...                                                 ...           ...   \n",
       "107   https://www.reddit.com/r/SuicideWatch/comments...             3   \n",
       "2462  https://www.reddit.com/r/lonely/comments/rflft...            15   \n",
       "1721                https://i.redd.it/cew0g2ezav851.jpg             6   \n",
       "2504  https://www.reddit.com/r/lonely/comments/z6ddo...             3   \n",
       "2379  https://www.reddit.com/r/lonely/comments/17fxq...             7   \n",
       "\n",
       "                                                   body       created  \\\n",
       "5399                                                NaN  1.670259e+09   \n",
       "1614                                                NaN  1.632092e+09   \n",
       "5884                                                NaN  1.575202e+09   \n",
       "5376                                                NaN  1.588548e+09   \n",
       "5371                                                NaN  1.600303e+09   \n",
       "...                                                 ...           ...   \n",
       "107   i really want to die can someone tell me if ta...  1.695787e+09   \n",
       "2462                       need help with that.. plz dm  1.639418e+09   \n",
       "1721                                                NaN  1.593880e+09   \n",
       "2504  I bet all the people who ignore my calls to ha...  1.669585e+09   \n",
       "2379  I just can’t take it anymore. Because I’m havi...  1.698212e+09   \n",
       "\n",
       "     key_words  \n",
       "5399   suicide  \n",
       "1614   suicide  \n",
       "5884   suicide  \n",
       "5376   suicide  \n",
       "5371   suicide  \n",
       "...        ...  \n",
       "107    suicide  \n",
       "2462   suicide  \n",
       "1721   suicide  \n",
       "2504   suicide  \n",
       "2379   suicide  \n",
       "\n",
       "[1364 rows x 10 columns]"
      ]
     },
     "execution_count": 173,
     "metadata": {},
     "output_type": "execute_result"
    }
   ],
   "source": [
    "posts=pd.read_csv('suicide.csv')\n",
    "posts=posts.loc[(posts.key_words=='suicide') ]    #Only analyze 'suicide', narrow the range.\n",
    "posts=posts.sort_values(by='score', ascending=False)  #Score means upvoting numbers\n",
    "posts_sub=posts.loc[posts.subreddit=='SuicideWatch'].sort_values(by='score', ascending=False)\n",
    "posts_sub\n",
    "posts"
   ]
  },
  {
   "cell_type": "code",
   "execution_count": 37,
   "id": "29ebb568-62ce-4d92-b9e7-fc2984790432",
   "metadata": {
    "tags": []
   },
   "outputs": [
    {
     "name": "stderr",
     "output_type": "stream",
     "text": [
      "[nltk_data] Downloading package twitter_samples to\n",
      "[nltk_data]     /Users/panjiayi/nltk_data...\n",
      "[nltk_data]   Package twitter_samples is already up-to-date!\n"
     ]
    },
    {
     "data": {
      "text/plain": [
       "True"
      ]
     },
     "execution_count": 37,
     "metadata": {},
     "output_type": "execute_result"
    }
   ],
   "source": [
    "import nltk                                # Python library for NLP\n",
    "from nltk.corpus import twitter_samples    # sample Twitter dataset from NLTK\n",
    "import matplotlib.pyplot as plt            # library for visualization\n",
    "import random \n",
    "import numpy as np\n",
    "nltk.download('twitter_samples')"
   ]
  },
  {
   "cell_type": "code",
   "execution_count": 3,
   "id": "5cb4e9ca-27e1-4f5c-89af-7c016e667dd4",
   "metadata": {
    "tags": []
   },
   "outputs": [],
   "source": [
    "all_positive_tweets = twitter_samples.strings('positive_tweets.json')\n",
    "all_negative_tweets = twitter_samples.strings('negative_tweets.json')"
   ]
  },
  {
   "cell_type": "code",
   "execution_count": 4,
   "id": "35622daf-0d14-4e88-8f47-05b5f93765cc",
   "metadata": {
    "tags": []
   },
   "outputs": [],
   "source": [
    "test_pos = all_positive_tweets[4000:]\n",
    "train_pos = all_positive_tweets[:4000]\n",
    "test_neg = all_negative_tweets[4000:]\n",
    "train_neg = all_negative_tweets[:4000]\n",
    "\n",
    "train_x = train_pos + train_neg \n",
    "test_x = test_pos + test_neg\n",
    "\n",
    "train_y = np.append(np.ones((len(train_pos), 1)), np.zeros((len(train_neg), 1)), axis=0)\n",
    "test_y = np.append(np.ones((len(test_pos), 1)), np.zeros((len(test_neg), 1)), axis=0)"
   ]
  },
  {
   "cell_type": "code",
   "execution_count": 5,
   "id": "5db2c5da-5abb-453f-9a0b-a02f4f0dd864",
   "metadata": {
    "tags": []
   },
   "outputs": [],
   "source": [
    "import re                                  # library for regular expression operations\n",
    "import string                              # for string operations\n",
    "\n",
    "from nltk.corpus import stopwords          # module for stop words that come with NLTK\n",
    "from nltk.stem import PorterStemmer        # module for stemming\n",
    "from nltk.tokenize import TweetTokenizer "
   ]
  },
  {
   "cell_type": "code",
   "execution_count": 6,
   "id": "3f4ad96a-c065-420c-bf11-101099e317f3",
   "metadata": {
    "jupyter": {
     "source_hidden": true
    },
    "tags": []
   },
   "outputs": [],
   "source": [
    "def process_tweet(tweet):\n",
    "    tweet2 = re.sub(r'^RT[\\s]+', '', tweet)\n",
    "    tweet2 = re.sub(r'https?://[^\\s\\n\\r]+', '', tweet2)\n",
    "    tweet2 = re.sub(r'#', '', tweet2)\n",
    "    tokenizer = TweetTokenizer(preserve_case=False, strip_handles=True,\n",
    "                               reduce_len=True)\n",
    "    tweet_tokens = tokenizer.tokenize(tweet2)\n",
    "    stopwords_english = stopwords.words('english')\n",
    "    tweets_clean = []\n",
    "    for word in tweet_tokens: # Go through every word in your tokens list\n",
    "        if (word not in stopwords_english and  # remove stopwords\n",
    "            word not in string.punctuation):  # remove punctuation\n",
    "            tweets_clean.append(word)\n",
    "    stemmer = PorterStemmer() \n",
    "    # Create an empty list to store the stems\n",
    "    tweets_stem = [] \n",
    "    for word in tweets_clean:\n",
    "        stem_word = stemmer.stem(word)  # stemming word\n",
    "        tweets_stem.append(stem_word)  # append to the list\n",
    "    return tweets_stem\n",
    "\n",
    "def build_freqs(tweets, ys):\n",
    "    \"\"\"Build frequencies.\n",
    "    Input:\n",
    "        tweets: a list of tweets\n",
    "        ys: an m x 1 array with the sentiment label of each tweet\n",
    "            (either 0 or 1)\n",
    "    Output:\n",
    "        freqs: a dictionary mapping each (word, sentiment) pair to its\n",
    "        frequency\n",
    "    \"\"\"\n",
    "    # Convert np array to list since zip needs an iterable.\n",
    "    # The squeeze is necessary or the list ends up with one element.\n",
    "    # Also note that this is just a NOP if ys is already a list.\n",
    "    yslist = np.squeeze(ys).tolist()\n",
    "\n",
    "    # Start with an empty dictionary and populate it by looping over all tweets\n",
    "    # and over all processed words in each tweet.\n",
    "    freqs = {}\n",
    "    for y, tweet in zip(yslist, tweets):\n",
    "        for word in process_tweet(tweet):\n",
    "            pair = (word, y)\n",
    "            if pair in freqs:\n",
    "                freqs[pair] += 1\n",
    "            else:\n",
    "                freqs[pair] = 1    \n",
    "    return freqs\n",
    "\n",
    "freqs = build_freqs(train_x, train_y)  #Build Frequancy\n",
    "\n",
    "def sigmoid(z): \n",
    "    '''\n",
    "    Input:\n",
    "        z: is the input (can be a scalar or an array)\n",
    "    Output:\n",
    "        h: the sigmoid of z\n",
    "    '''\n",
    "    \n",
    "    ### START CODE HERE ###\n",
    "    # calculate the sigmoid of z\n",
    "    h = 1/(1+np.exp(-z))\n",
    "    ### END CODE HERE ###\n",
    "    \n",
    "    return h\n",
    "\n",
    "def gradientDescent(x, y, theta, alpha, num_iters):\n",
    "    '''\n",
    "    Input:\n",
    "        x: matrix of features which is (m,n+1)\n",
    "        y: corresponding labels of the input matrix x, dimensions (m,1)\n",
    "        theta: weight vector of dimension (n+1,1)\n",
    "        alpha: learning rate\n",
    "        num_iters: number of iterations you want to train your model for\n",
    "    Output:\n",
    "        J: the final cost\n",
    "        theta: your final weight vector\n",
    "    Hint: you might want to print the cost to make sure that it is going down.\n",
    "    '''\n",
    "    ### START CODE HERE ###\n",
    "    # get 'm', the number of rows in matrix x\n",
    "    m = x.shape[0]\n",
    "    for i in range(0, num_iters):\n",
    "        # get z, the dot product of x and theta\n",
    "        z = x@theta\n",
    "        # get the sigmoid of z\n",
    "        h = sigmoid(z)   #python自变量是标量还是向量无影响\n",
    "        # calculate the cost function\n",
    "        J = (-1/m)*(np.transpose(y)@np.log(h)+np.transpose((1-y))@np.log(1-h))  #向量运算要用@\n",
    "        # update the weights theta\n",
    "        theta = theta-alpha/m*(np.transpose(x)@(h-y))\n",
    "        \n",
    "    ### END CODE HERE ###\n",
    "    J = float(J)\n",
    "    return J,theta\n",
    "\n",
    "\n",
    "def extract_features(tweet, freqs, process_tweet=process_tweet):\n",
    "    '''\n",
    "    Input: \n",
    "        tweet: a list of words for one tweet\n",
    "        freqs: a dictionary corresponding to the frequencies of each tuple (word, label)\n",
    "    Output: \n",
    "        x: a feature vector of dimension (1,3)\n",
    "    '''\n",
    "    # process_tweet tokenizes, stems, and removes stopwords\n",
    "    word_l = process_tweet(tweet)\n",
    "    \n",
    "    # 3 elements for [bias, positive, negative] counts\n",
    "    x = np.zeros(3) \n",
    "    \n",
    "    # bias term is set to 1\n",
    "    x[0] = 1 \n",
    "    \n",
    "    ### START CODE HERE ###\n",
    "    \n",
    "    # loop through each word in the list of words\n",
    "    for word in word_l:\n",
    "        if (word, 1) in freqs:\n",
    "            # increment the word count for the positive label 1\n",
    "            x[1] += freqs[(word,1)]\n",
    "        if (word, 0) in freqs:\n",
    "            # increment the word count for the negative label 0\n",
    "            x[2] += freqs[(word,0)]\n",
    "        \n",
    "    ### END CODE HERE ###\n",
    "    \n",
    "    x = x[np.newaxis, :]  # adding batch dimension for further processing\n",
    "    assert(x.shape == (1, 3))\n",
    "    return x\n",
    "\n"
   ]
  },
  {
   "cell_type": "code",
   "execution_count": 7,
   "id": "81f01392-fdc6-40ea-916a-b0b0c03d42d8",
   "metadata": {
    "collapsed": true,
    "jupyter": {
     "outputs_hidden": true,
     "source_hidden": true
    },
    "tags": []
   },
   "outputs": [
    {
     "name": "stderr",
     "output_type": "stream",
     "text": [
      "/var/folders/ss/sv50jmf54z5fg7h09y4ws6gc0000gn/T/ipykernel_11621/2023382314.py:93: DeprecationWarning: Conversion of an array with ndim > 0 to a scalar is deprecated, and will error in future. Ensure you extract a single element from your array before performing this operation. (Deprecated NumPy 1.25.)\n",
      "  J = float(J)\n"
     ]
    }
   ],
   "source": [
    "X = np.zeros((len(train_x), 3))\n",
    "for i in range(len(train_x)):\n",
    "    X[i, :]= extract_features(train_x[i], freqs)\n",
    "\n",
    "# training labels corresponding to X\n",
    "Y = train_y\n",
    "\n",
    "# Apply gradient descent\n",
    "J, theta = gradientDescent(X, Y, np.zeros((3, 1)), 1e-9, 1500)"
   ]
  },
  {
   "cell_type": "code",
   "execution_count": 8,
   "id": "ecc7dfdd-0be0-4355-ab99-38c19bb7f00b",
   "metadata": {
    "jupyter": {
     "source_hidden": true
    },
    "tags": []
   },
   "outputs": [],
   "source": [
    "def predict_tweet(tweet, freqs, theta):\n",
    "    '''\n",
    "    Input: \n",
    "        tweet: a string\n",
    "        freqs: a dictionary corresponding to the frequencies of each tuple (word, label)\n",
    "        theta: (3,1) vector of weights\n",
    "    Output: \n",
    "        y_pred: the probability of a tweet being positive or negative\n",
    "    '''\n",
    "    ### START CODE HERE ###\n",
    "    \n",
    "    # extract the features of the tweet and store it into x\n",
    "    x = extract_features(tweet, freqs, process_tweet=process_tweet)\n",
    "    \n",
    "    # make the prediction using x and theta\n",
    "    y_pred = sigmoid(x@theta)\n",
    "    \n",
    "    ### END CODE HERE ###\n",
    "    \n",
    "    return y_pred"
   ]
  },
  {
   "cell_type": "code",
   "execution_count": 9,
   "id": "86b67909-e5a2-447d-bdf8-53d0f3517027",
   "metadata": {
    "jupyter": {
     "source_hidden": true
    },
    "tags": []
   },
   "outputs": [],
   "source": [
    "def test_logistic_regression(test_x, test_y, freqs, theta, predict_tweet=predict_tweet):\n",
    "    \"\"\"\n",
    "    Input: \n",
    "        test_x: a list of tweets\n",
    "        test_y: (m, 1) vector with the corresponding labels for the list of tweets\n",
    "        freqs: a dictionary with the frequency of each pair (or tuple)\n",
    "        theta: weight vector of dimension (3, 1)\n",
    "    Output: \n",
    "        accuracy: (# of tweets classified correctly) / (total # of tweets)\n",
    "    \"\"\"\n",
    "    \n",
    "    ### START CODE HERE ###\n",
    "    \n",
    "    # the list for storing predictions\n",
    "    y_hat = list()\n",
    "    \n",
    "    for tweet in test_x:\n",
    "        # get the label prediction for the tweet\n",
    "        z=extract_features(tweet, freqs, process_tweet=process_tweet)@theta\n",
    "        y_pred = sigmoid(z)\n",
    "        \n",
    "        if y_pred > 0.5:\n",
    "            # append 1.0 to the list\n",
    "            y_hat.append(1.0)\n",
    "        else:\n",
    "            # append 0 to the list\n",
    "            y_hat.append(0.0)\n",
    "\n",
    "    # With the above implementation, y_hat is a list, but test_y is (m,1) array\n",
    "    # convert both to one-dimensional arrays in order to compare them using the '==' operator\n",
    "    accuracy =np.sum(y_hat==test_y.flatten())/len(test_x)\n",
    "\n",
    "    ### END CODE HERE ###\n",
    "    \n",
    "    return accuracy"
   ]
  },
  {
   "cell_type": "code",
   "execution_count": 10,
   "id": "55bd71d6-dc90-4e58-a534-f8bf478e69a9",
   "metadata": {
    "jupyter": {
     "source_hidden": true
    },
    "tags": []
   },
   "outputs": [
    {
     "name": "stdout",
     "output_type": "stream",
     "text": [
      "Logistic regression model's accuracy = 0.9950\n"
     ]
    }
   ],
   "source": [
    "tmp_accuracy = test_logistic_regression(test_x, test_y, freqs, theta)\n",
    "print(f\"Logistic regression model's accuracy = {tmp_accuracy:.4f}\")"
   ]
  },
  {
   "cell_type": "code",
   "execution_count": 135,
   "id": "78071000-ae66-4c56-bb41-84ea84c52baf",
   "metadata": {
    "tags": []
   },
   "outputs": [
    {
     "name": "stdout",
     "output_type": "stream",
     "text": [
      "[Redditor(name='coderedninja'), Redditor(name='RedMirricat'), Redditor(name='hadToPutDickinCatHmm'), Redditor(name='Defy19'), Redditor(name='yennifluent'), Redditor(name='yeahwellokay'), Redditor(name='thistyviolin'), Redditor(name='ViciousNakedMoleRat'), Redditor(name='gsychopato'), Redditor(name='Deja__Vu__')]\n"
     ]
    }
   ],
   "source": [
    "#0  iloc[4]:\"to stop suicide\"\n",
    "submission = reddit.submission(url=\"https://www.reddit.com/r/therewasanattempt/comments/iu8k8c/to_stop_suicide/\")   #Find the first submission in 'suicide.csv' document \n",
    "                                                     \n",
    "submission.comments.replace_more(limit=None)  \n",
    "id=[]\n",
    "for comment in submission.comments.list():\n",
    "    id.append(comment.author)   #Find the author of comments of first submission\n",
    "    \n",
    "filtered_id = [item for item in id if item is not None]   #Some author log off so I cleared them.\n",
    "print(filtered_id[0:10])    #We are going to analyze 10 authors who were influenced by the first submission"
   ]
  },
  {
   "cell_type": "code",
   "execution_count": 136,
   "id": "0244a9f5-dbba-4a71-92f9-b0ee264bd643",
   "metadata": {
    "tags": []
   },
   "outputs": [
    {
     "name": "stdout",
     "output_type": "stream",
     "text": [
      "Positiveness before the first submission is [[0.4969238]] and after the first submission is [[0.48817875]] .\n",
      " The difference is [[0.00874505]]\n",
      "Positiveness before the first submission is [[0.44939618]] and after the first submission is [[0.51828169]] .\n",
      " The difference is [[-0.06888552]]\n",
      "Positiveness before the first submission is [[0.50000002]] and after the first submission is [[0.45621244]] .\n",
      " The difference is [[0.04378758]]\n",
      "Positiveness before the first submission is [[0.47572599]] and after the first submission is [[0.48828321]] .\n",
      " The difference is [[-0.01255722]]\n",
      "Positiveness before the first submission is [[0.35084829]] and after the first submission is [[0.32712443]] .\n",
      " The difference is [[0.02372387]]\n",
      "Positiveness before the first submission is [[0.50000002]] and after the first submission is [[0.49901796]] .\n",
      " The difference is [[0.00098205]]\n",
      "Positiveness before the first submission is [[0.52956741]] and after the first submission is [[0.52122144]] .\n",
      " The difference is [[0.00834597]]\n",
      "Positiveness before the first submission is [[0.50000002]] and after the first submission is [[0.46977453]] .\n",
      " The difference is [[0.03022548]]\n",
      "Positiveness before the first submission is [[0.50117577]] and after the first submission is [[0.4993806]] .\n",
      " The difference is [[0.00179517]]\n",
      "Positiveness before the first submission is [[0.45270471]] and after the first submission is [[0.42860163]] .\n",
      " The difference is [[0.02410308]]\n",
      "Positiveness before the first submission is [[0.45476081]] and after the first submission is [[0.4875907]] .\n",
      " The difference is [[-0.03282989]]\n",
      "Positiveness before the first submission is [[0.50351987]] and after the first submission is [[0.5151985]] .\n",
      " The difference is [[-0.01167864]]\n",
      "Positiveness before the first submission is [[0.11103201]] and after the first submission is [[0.50000002]] .\n",
      " The difference is [[-0.38896801]]\n"
     ]
    }
   ],
   "source": [
    "DIF0=[]\n",
    "for i in [0,2,3,4,5,6,7,8,9,10,11,12,13]:  #Total 13 redditors who made comments\n",
    "    comment0=[]\n",
    "    for submission in reddit.redditor(filtered_id[i].name).submissions.new(limit=200):\n",
    "        comment0.append([submission.title, \n",
    "                         submission.created,\n",
    "                         i])\n",
    "    comment0 = pd.DataFrame(comment0,\n",
    "                            columns=['title','created','Serial Number'])\n",
    "    #comment0 = comment0.sort_values(by='created', ascending=True)\n",
    "    split_time=posts['created'].iloc[4]\n",
    "    comment0_before=comment0.loc[comment0['created']<split_time]\n",
    "    comment0_after=comment0.loc[comment0['created']>split_time]\n",
    "    text0_before = ''.join(comment0_before.title.values)\n",
    "    y0_before=predict_tweet(text0_before, freqs, theta)\n",
    "    text0_after = ''.join(comment0_after.title.values)\n",
    "    y0_after=predict_tweet(text0_after, freqs, theta)\n",
    "    difference0=(y0_before-y0_after)\n",
    "    DIF0.append(difference0)\n",
    "    print(\"Positiveness before the first submission is\",y0_before,\"and after the first submission is\",y0_after,\".\\n\",\"The difference is\", difference0)"
   ]
  },
  {
   "cell_type": "code",
   "execution_count": 137,
   "id": "7be6aaed-3c14-49f9-88fa-3575fece3f36",
   "metadata": {
    "collapsed": true,
    "jupyter": {
     "outputs_hidden": true
    },
    "tags": []
   },
   "outputs": [
    {
     "data": {
      "text/plain": [
       "[array([[0.00874505]]),\n",
       " array([[-0.06888552]]),\n",
       " array([[0.04378758]]),\n",
       " array([[-0.01255722]]),\n",
       " array([[0.02372387]]),\n",
       " array([[0.00098205]]),\n",
       " array([[0.00834597]]),\n",
       " array([[0.03022548]]),\n",
       " array([[0.00179517]]),\n",
       " array([[0.02410308]]),\n",
       " array([[-0.03282989]]),\n",
       " array([[-0.01167864]]),\n",
       " array([[-0.38896801]])]"
      ]
     },
     "execution_count": 137,
     "metadata": {},
     "output_type": "execute_result"
    }
   ],
   "source": [
    "DIF0"
   ]
  },
  {
   "cell_type": "code",
   "execution_count": 168,
   "id": "c46b91fb-1205-46bc-a042-48c094f4b418",
   "metadata": {
    "collapsed": true,
    "jupyter": {
     "outputs_hidden": true
    },
    "tags": []
   },
   "outputs": [
    {
     "name": "stdout",
     "output_type": "stream",
     "text": [
      "[Redditor(name='AutoModerator'), Redditor(name='DMurBOOBS-I-Dare-You'), Redditor(name='snaeper'), Redditor(name='lazemachine'), Redditor(name='RahnKavall'), Redditor(name='AtLastThe1971Show'), Redditor(name='MileHighOllie'), Redditor(name='TH0T_P0L1CE'), Redditor(name='Harbor_Barber'), Redditor(name='magaphone12')]\n",
      "Positiveness before the second submission is [[0.50000002]] and after the second submission is [[0.29046203]] .\n",
      " The difference is [[0.20953799]]\n",
      "Positiveness before the second submission is [[0.41145243]] and after the second submission is [[0.53330328]] .\n",
      " The difference is [[-0.12185085]]\n",
      "Positiveness before the second submission is [[0.37263469]] and after the second submission is [[0.50390841]] .\n",
      " The difference is [[-0.13127373]]\n",
      "Positiveness before the second submission is [[0.50099671]] and after the second submission is [[0.51927504]] .\n",
      " The difference is [[-0.01827833]]\n",
      "Positiveness before the second submission is [[0.39768925]] and after the second submission is [[0.49912002]] .\n",
      " The difference is [[-0.10143077]]\n",
      "Positiveness before the second submission is [[0.49528511]] and after the second submission is [[0.50000002]] .\n",
      " The difference is [[-0.0047149]]\n",
      "Positiveness before the second submission is [[0.50061281]] and after the second submission is [[0.49957007]] .\n",
      " The difference is [[0.00104274]]\n",
      "Positiveness before the second submission is [[0.50000002]] and after the second submission is [[0.50000002]] .\n",
      " The difference is [[0.]]\n",
      "Positiveness before the second submission is [[0.57604348]] and after the second submission is [[0.49251523]] .\n",
      " The difference is [[0.08352825]]\n",
      "Positiveness before the second submission is [[0.48121018]] and after the second submission is [[0.50000002]] .\n",
      " The difference is [[-0.01878983]]\n",
      "Positiveness before the second submission is [[0.96582139]] and after the second submission is [[0.54757453]] .\n",
      " The difference is [[0.41824687]]\n",
      "Positiveness before the second submission is [[0.50000002]] and after the second submission is [[0.50000002]] .\n",
      " The difference is [[0.]]\n",
      "Positiveness before the second submission is [[0.6767651]] and after the second submission is [[0.46042744]] .\n",
      " The difference is [[0.21633767]]\n"
     ]
    }
   ],
   "source": [
    "#1  iloc[20]:\"to prevent suicide\"\n",
    "submission = reddit.submission(url=\"https://www.reddit.com/r/therewasanattempt/comments/16psiru/to_prevent_suicide/\")   #Find the second submission in 'suicide.csv' document \n",
    "                        \n",
    "submission.comments.replace_more(limit=None)  \n",
    "id=[]\n",
    "for comment in submission.comments.list():\n",
    "    id.append(comment.author)   #Find the author of comments of second submission\n",
    "    \n",
    "filtered_id = [item for item in id if item is not None]   #Some author log off so I cleared them.\n",
    "print(filtered_id[0:10])    #We are going to analyze 10 authors who were influenced by the second submission\n",
    "DIF1=[]\n",
    "for i in [0,1,2,3,4,5,6,7,8,9,11,12,13]:  #Total 13 redditors who made comments\n",
    "    comment1=[]\n",
    "    for submission in reddit.redditor(filtered_id[i].name).submissions.new(limit=200):\n",
    "        comment1.append([submission.title, \n",
    "                         submission.created,\n",
    "                         i])\n",
    "    comment1 = pd.DataFrame(comment1,\n",
    "                            columns=['title','created','Serial Number'])\n",
    "    #comment1 = comment1.sort_values(by='created', ascending=True)\n",
    "    split_time=posts['created'].iloc[20]\n",
    "    comment1_before=comment1.loc[comment1['created']<split_time]\n",
    "    comment1_after=comment1.loc[comment1['created']>split_time]\n",
    "    text1_before = ''.join(comment1_before.title.values)\n",
    "    y1_before=predict_tweet(text1_before, freqs, theta)\n",
    "    text1_after = ''.join(comment1_after.title.values)\n",
    "    y1_after=predict_tweet(text1_after, freqs, theta)\n",
    "    difference1=(y1_before-y1_after)\n",
    "    DIF1.append(difference1)\n",
    "    print(\"Positiveness before the second submission is\",y1_before,\"and after the second submission is\",y1_after,\".\\n\",\"The difference is\", difference1)\n"
   ]
  },
  {
   "cell_type": "code",
   "execution_count": 169,
   "id": "970219d1-e2e9-470f-a10d-2003ceb7fbdb",
   "metadata": {
    "collapsed": true,
    "jupyter": {
     "outputs_hidden": true
    },
    "tags": []
   },
   "outputs": [
    {
     "data": {
      "text/plain": [
       "[array([[0.20953799]]),\n",
       " array([[-0.12185085]]),\n",
       " array([[-0.13127373]]),\n",
       " array([[-0.01827833]]),\n",
       " array([[-0.10143077]]),\n",
       " array([[-0.0047149]]),\n",
       " array([[0.00104274]]),\n",
       " array([[0.]]),\n",
       " array([[0.08352825]]),\n",
       " array([[-0.01878983]]),\n",
       " array([[0.41824687]]),\n",
       " array([[0.]]),\n",
       " array([[0.21633767]])]"
      ]
     },
     "execution_count": 169,
     "metadata": {},
     "output_type": "execute_result"
    }
   ],
   "source": [
    "DIF1"
   ]
  },
  {
   "cell_type": "code",
   "execution_count": 164,
   "id": "481b8e9d-1842-431c-b272-8a8a90c0f2c3",
   "metadata": {
    "collapsed": true,
    "jupyter": {
     "outputs_hidden": true
    },
    "tags": []
   },
   "outputs": [
    {
     "name": "stdout",
     "output_type": "stream",
     "text": [
      "[Redditor(name='Throwawayrae20'), Redditor(name='Smearmytables'), Redditor(name='ToyboxOfThoughts'), Redditor(name='BloodyCattie'), Redditor(name='Stalanium'), Redditor(name='BeastKingYt'), Redditor(name='otto_vanoss'), Redditor(name='Ribichka'), Redditor(name='realityhofosho'), Redditor(name='Qfanjen')]\n",
      "Positiveness before the third submission is [[0.49985541]] and after the third submission is [[0.49753015]] .\n",
      " The difference is [[0.00232526]]\n",
      "Positiveness before the third submission is [[0.61950732]] and after the third submission is [[0.43983531]] .\n",
      " The difference is [[0.17967201]]\n",
      "Positiveness before the third submission is [[0.50000002]] and after the third submission is [[0.45941136]] .\n",
      " The difference is [[0.04058866]]\n",
      "Positiveness before the third submission is [[0.46783644]] and after the third submission is [[0.46929102]] .\n",
      " The difference is [[-0.00145458]]\n",
      "Positiveness before the third submission is [[0.45247118]] and after the third submission is [[0.44479762]] .\n",
      " The difference is [[0.00767356]]\n",
      "Positiveness before the third submission is [[0.49418022]] and after the third submission is [[0.34349648]] .\n",
      " The difference is [[0.15068374]]\n",
      "Positiveness before the third submission is [[0.44603955]] and after the third submission is [[0.49561334]] .\n",
      " The difference is [[-0.04957379]]\n",
      "Positiveness before the third submission is [[0.36956155]] and after the third submission is [[0.2340036]] .\n",
      " The difference is [[0.13555795]]\n",
      "Positiveness before the third submission is [[0.29324859]] and after the third submission is [[0.13404773]] .\n",
      " The difference is [[0.15920085]]\n",
      "Positiveness before the third submission is [[0.41790393]] and after the third submission is [[0.47494756]] .\n",
      " The difference is [[-0.05704362]]\n",
      "Positiveness before the third submission is [[0.38211214]] and after the third submission is [[0.52562769]] .\n",
      " The difference is [[-0.14351555]]\n",
      "Positiveness before the third submission is [[0.51622289]] and after the third submission is [[0.57189657]] .\n",
      " The difference is [[-0.05567369]]\n",
      "Positiveness before the third submission is [[0.22323811]] and after the third submission is [[0.06278141]] .\n",
      " The difference is [[0.1604567]]\n"
     ]
    }
   ],
   "source": [
    "#2  loc[47]:\"'If you were actually suicidal you'd have killed yourself already and not tell anybody' FUCK OFFFFFFF\"\n",
    "submission = reddit.submission(url=\"https://www.reddit.com/r/SuicideWatch/comments/jnrz57/if_you_were_actually_suicidal_youd_have_killed/\")   #Find the third submission in 'suicide.csv' document \n",
    "            \n",
    "submission.comments.replace_more(limit=None)  \n",
    "id=[]\n",
    "for comment in submission.comments.list():\n",
    "    id.append(comment.author)   #Find the author of comments of third submission\n",
    "    \n",
    "filtered_id = [item for item in id if item is not None]   #Some author log off so I cleared them.\n",
    "print(filtered_id[0:10])    \n",
    "DIF2=[]\n",
    "for i in [0,1,2,3,4,5,6,7,8,9,11,12,13]:  #Total 13 redditors who made comments\n",
    "    comment2=[]\n",
    "    for submission in reddit.redditor(filtered_id[i].name).submissions.new(limit=200):\n",
    "        comment2.append([submission.title, \n",
    "                         submission.created,\n",
    "                         i])\n",
    "    comment2 = pd.DataFrame(comment2,\n",
    "                            columns=['title','created','Serial Number'])\n",
    "    #comment2 = comment2.sort_values(by='created', ascending=True)\n",
    "    split_time=posts_sub['created'].loc[47]\n",
    "    comment2_before=comment2.loc[comment2['created']<split_time]\n",
    "    comment2_after=comment2.loc[comment2['created']>split_time]\n",
    "    text2_before = ''.join(comment2_before.title.values)\n",
    "    y2_before=predict_tweet(text2_before, freqs, theta)\n",
    "    text2_after = ''.join(comment2_after.title.values)\n",
    "    y2_after=predict_tweet(text2_after, freqs, theta)\n",
    "    difference2=(y2_before-y2_after)\n",
    "    DIF2.append(difference2)\n",
    "    print(\"Positiveness before the third submission is\",y2_before,\"and after the third submission is\",y2_after,\".\\n\",\"The difference is\", difference2)"
   ]
  },
  {
   "cell_type": "code",
   "execution_count": 165,
   "id": "25c28757-cc44-445a-8bb6-17fba49a86ca",
   "metadata": {
    "tags": []
   },
   "outputs": [
    {
     "data": {
      "text/plain": [
       "[array([[0.00232526]]),\n",
       " array([[0.17967201]]),\n",
       " array([[0.04058866]]),\n",
       " array([[-0.00145458]]),\n",
       " array([[0.00767356]]),\n",
       " array([[0.15068374]]),\n",
       " array([[-0.04957379]]),\n",
       " array([[0.13555795]]),\n",
       " array([[0.15920085]]),\n",
       " array([[-0.05704362]]),\n",
       " array([[-0.14351555]]),\n",
       " array([[-0.05567369]]),\n",
       " array([[0.1604567]])]"
      ]
     },
     "execution_count": 165,
     "metadata": {},
     "output_type": "execute_result"
    }
   ],
   "source": [
    "DIF2"
   ]
  },
  {
   "cell_type": "code",
   "execution_count": 171,
   "id": "a9190db4-4cc4-4112-99d2-fc6aefb893ac",
   "metadata": {
    "collapsed": true,
    "jupyter": {
     "outputs_hidden": true
    },
    "tags": []
   },
   "outputs": [
    {
     "name": "stdout",
     "output_type": "stream",
     "text": [
      "[Redditor(name='MoosieGoose'), Redditor(name='JollyK9'), Redditor(name='Peaceamongw0rlds'), Redditor(name='Southern_Ad3032'), Redditor(name='bduwowy272habbw'), Redditor(name='WeissFan43'), Redditor(name='Late_Introduction203'), Redditor(name='kapster68'), Redditor(name='TheApertureMonkey'), Redditor(name='I_hate_me_lol')]\n",
      "Positiveness before the fourth submission is [[0.50167878]] and after the fourth submission is [[0.50678963]] .\n",
      " The difference is [[-0.00511085]]\n",
      "Positiveness before the fourth submission is [[0.37987739]] and after the fourth submission is [[0.46399299]] .\n",
      " The difference is [[-0.08411561]]\n",
      "Positiveness before the fourth submission is [[0.47743997]] and after the fourth submission is [[0.50000002]] .\n",
      " The difference is [[-0.02256005]]\n",
      "Positiveness before the fourth submission is [[0.49537092]] and after the fourth submission is [[0.00552542]] .\n",
      " The difference is [[0.4898455]]\n",
      "Positiveness before the fourth submission is [[0.48475134]] and after the fourth submission is [[0.43949791]] .\n",
      " The difference is [[0.04525343]]\n",
      "Positiveness before the fourth submission is [[0.50000002]] and after the fourth submission is [[0.50000002]] .\n",
      " The difference is [[0.]]\n",
      "Positiveness before the fourth submission is [[0.50000002]] and after the fourth submission is [[0.50000002]] .\n",
      " The difference is [[0.]]\n",
      "Positiveness before the fourth submission is [[0.48355419]] and after the fourth submission is [[0.49616498]] .\n",
      " The difference is [[-0.01261079]]\n",
      "Positiveness before the fourth submission is [[0.50263886]] and after the fourth submission is [[0.67790685]] .\n",
      " The difference is [[-0.17526799]]\n",
      "Positiveness before the fourth submission is [[0.47931009]] and after the fourth submission is [[0.46978216]] .\n",
      " The difference is [[0.00952793]]\n",
      "Positiveness before the fourth submission is [[0.45733457]] and after the fourth submission is [[0.47790061]] .\n",
      " The difference is [[-0.02056604]]\n",
      "Positiveness before the fourth submission is [[0.49621297]] and after the fourth submission is [[0.50000002]] .\n",
      " The difference is [[-0.00378704]]\n",
      "Positiveness before the fourth submission is [[0.47198168]] and after the fourth submission is [[0.45608563]] .\n",
      " The difference is [[0.01589604]]\n"
     ]
    }
   ],
   "source": [
    "#3  loc[3]:\"I'm a fully-functioning suicidal.\"\n",
    "submission = reddit.submission(url=\"https://www.reddit.com/r/SuicideWatch/comments/ppjowo/im_a_fullyfunctioning_suicidal/\")   #Find the fourth submission in 'suicide.csv' document \n",
    "                                                     \n",
    "submission.comments.replace_more(limit=None)  \n",
    "id=[]\n",
    "for comment in submission.comments.list():\n",
    "    id.append(comment.author)   #Find the author of comments of fourth submission\n",
    "    \n",
    "filtered_id = [item for item in id if item is not None]   #Some author log off so I cleared them.\n",
    "print(filtered_id[0:10])   \n",
    "DIF3=[]\n",
    "for i in [0,1,2,3,4,6,7,8,9,10,11,12,13]:  #Total 33 redditors who made comments\n",
    "    comment3=[]\n",
    "    for submission in reddit.redditor(filtered_id[i].name).submissions.new(limit=200):\n",
    "        comment3.append([submission.title, \n",
    "                         submission.created,\n",
    "                         i])\n",
    "    comment3 = pd.DataFrame(comment3,\n",
    "                            columns=['title','created','Serial Number'])\n",
    "    #comment3 = comment3.sort_values(by='created', ascending=True)\n",
    "    split_time=posts_sub['created'].loc[3]\n",
    "    comment3_before=comment3.loc[comment3['created']<split_time]\n",
    "    comment3_after=comment3.loc[comment3['created']>split_time]\n",
    "    text3_before = ''.join(comment3_before.title.values)\n",
    "    y3_before=predict_tweet(text3_before, freqs, theta)\n",
    "    text3_after = ''.join(comment3_after.title.values)\n",
    "    y3_after=predict_tweet(text3_after, freqs, theta)\n",
    "    difference3=(y3_before-y3_after)\n",
    "    DIF3.append(difference3)\n",
    "    print(\"Positiveness before the fourth submission is\",y3_before,\"and after the fourth submission is\",y3_after,\".\\n\",\"The difference is\", difference3)"
   ]
  },
  {
   "cell_type": "code",
   "execution_count": 172,
   "id": "0d5f713a-b535-41ad-8948-f3f9a727091f",
   "metadata": {
    "tags": []
   },
   "outputs": [
    {
     "data": {
      "text/plain": [
       "[array([[-0.00511085]]),\n",
       " array([[-0.08411561]]),\n",
       " array([[-0.02256005]]),\n",
       " array([[0.4898455]]),\n",
       " array([[0.04525343]]),\n",
       " array([[0.]]),\n",
       " array([[0.]]),\n",
       " array([[-0.01261079]]),\n",
       " array([[-0.17526799]]),\n",
       " array([[0.00952793]]),\n",
       " array([[-0.02056604]]),\n",
       " array([[-0.00378704]]),\n",
       " array([[0.01589604]])]"
      ]
     },
     "execution_count": 172,
     "metadata": {},
     "output_type": "execute_result"
    }
   ],
   "source": [
    "DIF3"
   ]
  },
  {
   "cell_type": "code",
   "execution_count": null,
   "id": "3f752076-ed9f-48f4-be77-6c51dca8d478",
   "metadata": {},
   "outputs": [],
   "source": []
  }
 ],
 "metadata": {
  "kernelspec": {
   "display_name": "Python 3 (ipykernel)",
   "language": "python",
   "name": "python3"
  },
  "language_info": {
   "codemirror_mode": {
    "name": "ipython",
    "version": 3
   },
   "file_extension": ".py",
   "mimetype": "text/x-python",
   "name": "python",
   "nbconvert_exporter": "python",
   "pygments_lexer": "ipython3",
   "version": "3.11.4"
  }
 },
 "nbformat": 4,
 "nbformat_minor": 5
}
