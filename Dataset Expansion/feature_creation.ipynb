{
 "cells": [
  {
   "cell_type": "code",
   "execution_count": 88,
   "metadata": {},
   "outputs": [],
   "source": [
    "import os \n",
    "import json \n",
    "\n",
    "REDDITOR_FILE = \"raw_data/redditor_dict.json\"\n",
    "SUBMISSION_FILE = \"raw_data/submission_dict.json\"\n",
    "COMMENT_FILE = \"raw_data/comment_dict.json\"\n",
    "\n",
    "def save_get_json(file_name):\n",
    "    if (os.path.exists(file_name)):\n",
    "        with open(file_name, 'r') as f:\n",
    "            return json.load(f)\n",
    "    return dict()\n",
    "\n",
    "\n",
    "redditor_dict = save_get_json(REDDITOR_FILE)\n",
    "submission_dict = save_get_json(SUBMISSION_FILE)\n",
    "comment_dict = save_get_json(COMMENT_FILE)"
   ]
  },
  {
   "cell_type": "code",
   "execution_count": 89,
   "metadata": {},
   "outputs": [],
   "source": [
    "#16s for O(r+s+c) operation (oof)\n",
    "from datetime import datetime\n",
    "CONTROL_DATE = datetime(2023,11,22)\n",
    "control_group = ['MoosieGoose', 'JollyK9', 'Southern_Ad3032', 'bduwowy272habbw', 'Late_Introduction203', 'kapster68', 'TheApertureMonkey', 'talemoon22', 'sebagolindenwald', 'spicyranchplzz', 'TheFloorMayBeLava_02', 'rxtten_flesh', 'greenblooded395', 'greenblooded395', 'DrakenJosh98', 'WhichUsernameIsBest', 'FStahp2', 'Pongpianskul', 'Kanashimi515', 'eviuwu', 'Kattheloner_22', 'Reeze2911', 'Sac20000', 'RanpoWasTaken', 'jlynny1811', 'Playful-Fail4778', 'GarageOk8109', 'katandcats', 'holyredemption', 'jifpeanutbutter420', 'Timely_Inflation1000', 'Erica_Peanut']\n",
    "\n",
    "\n",
    "\n",
    "#okay, we need to do feature extraction based on this \n",
    "#consider that prof wanted some kind of classification flow over the last 4 months, first stat\n",
    "#online it was at least 2 weeks but we'll still do 4 months\n",
    "FIRST_CONSIDER_DATE = datetime(2023, 11-4,21)\n"
   ]
  },
  {
   "cell_type": "code",
   "execution_count": 17,
   "metadata": {},
   "outputs": [
    {
     "name": "stdout",
     "output_type": "stream",
     "text": [
      "Collecting empath\n",
      "  Using cached empath-0.89.tar.gz (57 kB)\n",
      "  Installing build dependencies: started\n",
      "  Installing build dependencies: finished with status 'done'\n",
      "  Getting requirements to build wheel: started\n",
      "  Getting requirements to build wheel: finished with status 'done'\n",
      "  Preparing metadata (pyproject.toml): started\n",
      "  Preparing metadata (pyproject.toml): finished with status 'done'\n",
      "Requirement already satisfied: requests in c:\\users\\logan\\documents\\research\\mental_health\\reddit_data_scraping\\reddit-crawler-data\\.venv\\lib\\site-packages (from empath) (2.31.0)\n",
      "Requirement already satisfied: charset-normalizer<4,>=2 in c:\\users\\logan\\documents\\research\\mental_health\\reddit_data_scraping\\reddit-crawler-data\\.venv\\lib\\site-packages (from requests->empath) (3.3.2)\n",
      "Requirement already satisfied: idna<4,>=2.5 in c:\\users\\logan\\documents\\research\\mental_health\\reddit_data_scraping\\reddit-crawler-data\\.venv\\lib\\site-packages (from requests->empath) (3.6)\n",
      "Requirement already satisfied: urllib3<3,>=1.21.1 in c:\\users\\logan\\documents\\research\\mental_health\\reddit_data_scraping\\reddit-crawler-data\\.venv\\lib\\site-packages (from requests->empath) (2.1.0)\n",
      "Requirement already satisfied: certifi>=2017.4.17 in c:\\users\\logan\\documents\\research\\mental_health\\reddit_data_scraping\\reddit-crawler-data\\.venv\\lib\\site-packages (from requests->empath) (2023.11.17)\n",
      "Building wheels for collected packages: empath\n",
      "  Building wheel for empath (pyproject.toml): started\n",
      "  Building wheel for empath (pyproject.toml): finished with status 'done'\n",
      "  Created wheel for empath: filename=empath-0.89-py3-none-any.whl size=57808 sha256=7bc73b88d250702f6a0bc44bf8f9da11a33d5fc52c4b69b43ad776b081a3a6b5\n",
      "  Stored in directory: c:\\users\\logan\\appdata\\local\\pip\\cache\\wheels\\92\\b3\\83\\9eb2c6199881e2385a59d99bd911363475060ebeb4bdb27242\n",
      "Successfully built empath\n",
      "Installing collected packages: empath\n",
      "Successfully installed empath-0.89\n"
     ]
    }
   ],
   "source": [
    "!pip install empath"
   ]
  },
  {
   "cell_type": "code",
   "execution_count": 90,
   "metadata": {},
   "outputs": [
    {
     "name": "stdout",
     "output_type": "stream",
     "text": [
      "[\"angry\", \"furious\", \"frustrated\", \"frightened\", \"disgusted\", \"outraged\", \"upset\", \"irritated\", \"resentful\", \"annoyed\", \"embarrassed\", \"unhappy\", \"exasperated\", \"incensed\", \"indignant\", \"fearful\", \"distressed\", \"scared\", \"terrified\", \"enraged\", \"confused\", \"afraid\", \"anxious\", \"irate\", \"insulted\", \"agitated\", \"distraught\", \"nervous\", \"bitter\", \"bewildered\", \"impatient\", \"offended\", \"shocked\", \"disgusted\", \"humiliated\", \"ashamed\", \"apprehensive\", \"puzzled\", \"incredulous\", \"perplexed\", \"tired\", \"worried\", \"disgruntled\", \"mystified\", \"dispirited\", \"despondent\", \"sad\", \"aghast\", \"alarmed\", \"exasperated\", \"mad\", \"terrified\", \"dismayed\", \"aggrieved\", \"irritated\", \"uneasy\", \"apologetic\", \"pained\", \"angered\", \"uncomfortable\", \"annoyed\", \"frightened\", \"bewildered\", \"horrified\", \"dissatisfied\", \"sorry\", \"appalled\", \"disappointed\", \"insecure\", \"defiant\", \"jealous\", \"relieved\", \"shocked\", \"bullied\", \"abusive\", \"intimidated\", \"disturbed\", \"suspicious\", \"complaining\", \"embittered\", \"elated\", \"angrier\", \"appalled\", \"stunned\", \"disillusioned\", \"outraged\", \"disoriented\", \"hysterical\", \"dumbfounded\", \"testy\", \"angered\", \"embarrassing\", \"embarrassed\", \"visibly\"]\n",
      "[\"lonely\", \"solitary\", \"sullen\", \"cranky\", \"homesick\", \"insecure\", \"bored\", \"restless\", \"neurotic\", \"spoiled\", \"terrified\", \"unloved\", \"miserable\", \"morose\", \"disoriented\", \"sad\", \"frightened\", \"bewildered\", \"orphaned\", \"grumpy\", \"frail\", \"jealous\", \"forlorn\", \"irritable\", \"possessive\", \"unbearably\", \"rootless\", \"alienated\", \"rebellious\", \"carefree\", \"introverted\", \"vain\", \"jaded\", \"repressed\", \"sickly\", \"contented\", \"pining\", \"outcast\", \"lovable\", \"loner\", \"adolescent\", \"wistful\", \"perpetually\", \"pampered\", \"surly\", \"adorable\", \"exhausted\", \"smug\", \"pathetic\", \"moody\", \"charming\", \"disheveled\", \"demented\", \"distracted\", \"spinster\", \"recluse\", \"heartbroken\", \"humble\", \"comforting\", \"hysterical\", \"depressed\", \"romantic\", \"stoic\", \"sleepy\", \"housewife\", \"resentful\", \"embittered\", \"pushy\", \"anguished\", \"forgetful\", \"despondent\", \"virgin\", \"withdrawn\", \"depressing\", \"brave\", \"narcissistic\", \"grown\", \"cheerful\", \"selfish\", \"tormented\", \"destitute\", \"breathless\", \"lonesome\", \"bossy\", \"weepy\", \"paranoid\", \"talkative\", \"cute\", \"spiritually\", \"exhilarated\", \"adrift\", \"beautiful\", \"feisty\", \"harried\", \"haggard\", \"unhappily\", \"mischievous\", \"rambunctious\", \"witless\", \"immature\"]\n",
      "[\"sad\", \"heartbreaking\", \"horrible\", \"depressing\", \"strange\", \"terrible\", \"awful\", \"sorry\", \"pathetic\", \"lonely\", \"upsetting\", \"pained\", \"ashamed\", \"miserable\", \"scary\", \"wonderful\", \"tragic\", \"weird\", \"frightening\", \"terrified\", \"shocking\", \"disgusted\", \"heartbroken\", \"pitiful\", \"frightened\", \"disheartening\", \"painful\", \"blessed\", \"ironic\", \"ugly\", \"comforting\", \"regretful\", \"beautiful\", \"sadly\", \"hysterical\", \"speechless\", \"terribly\", \"funny\", \"insecure\", \"appalled\", \"angry\", \"disgusting\", \"horrified\", \"relieved\", \"bewildered\", \"whole_experience\", \"comforting\", \"terrifying\", \"inspiring\", \"jaded\", \"smug\", \"scared\", \"dumbfounded\", \"unbelievable\", \"liberating\", \"fantastic\", \"offended\", \"joyful\", \"unfortunate\", \"unpleasant\", \"saddened\", \"happy\", \"numb\", \"moved\", \"stupid\", \"saddens\", \"unnerving\", \"strange_way\", \"exhilarated\", \"distressing\", \"embarrassing\", \"thankful\", \"gratifying\", \"exhausted\", \"bored\", \"hurtful\", \"horrifying\", \"ecstatic\", \"poignant\", \"perplexed\", \"remorseful\", \"selfish\", \"feel\", \"distressed\", \"shocked\", \"embarrassed\", \"uplifting\", \"humiliating\", \"jealous\", \"brave\", \"boring\", \"unbearable\", \"moving\", \"frustrating\", \"unbearably\", \"resentful\", \"cruel\"]\n",
      "[\"worried\", \"concerned\", \"worried\", \"worry\", \"concerned\", \"apprehensive\", \"nervous\", \"alarmed\", \"anxious\", \"fearful\", \"worrying\", \"afraid\", \"leery\", \"unhappy\", \"upset\", \"worries\", \"scared\", \"pessimistic\", \"uneasy\", \"wary\", \"skittish\", \"sanguine\", \"cautious\", \"skeptical\", \"angry\", \"frightened\", \"optimistic\", \"excited\", \"frustrated\", \"worries\", \"fret\", \"adamant\", \"irritated\", \"fear\", \"hesitant\", \"reassured\", \"worry\", \"second_thoughts\", \"annoyed\", \"distressed\", \"complacent\", \"unsure\", \"ambivalent\", \"convinced\", \"scared\", \"jittery\"]\n",
      "[\"frustrated\", \"angry\", \"frustrated\", \"irritated\", \"unhappy\", \"impatient\", \"annoyed\", \"disgusted\", \"dissatisfied\", \"exasperated\", \"confused\", \"upset\", \"anxious\", \"overwhelmed\", \"embarrassed\", \"apprehensive\", \"nervous\", \"distressed\", \"furious\", \"resentful\", \"frightened\", \"mystified\", \"disappointed\", \"tired\", \"exasperated\", \"alarmed\", \"fearful\", \"frustrating\", \"relieved\", \"despondent\", \"incensed\", \"agitated\", \"perplexed\", \"distracted\", \"worried\", \"dismayed\", \"disgruntled\", \"distraught\", \"bewildered\", \"demoralized\", \"bored\", \"leery\", \"fatigued\", \"scared\", \"intimidated\", \"baffled\", \"preoccupied\", \"testy\", \"complacent\", \"irritated\", \"uncomfortable\", \"dispirited\", \"uneasy\", \"elated\", \"irate\", \"disenchanted\", \"puzzled\", \"outraged\", \"disillusioned\", \"weary\", \"exhausted\", \"wary\", \"disenchanted\", \"stressed\", \"concerned\", \"perturbed\", \"disheartened\", \"disturbed\", \"annoyed\"]\n",
      "[\"anxious\", \"hesitant\", \"eager\", \"worried\", \"apprehensive\", \"nervous\", \"fearful\", \"frustrated\", \"impatient\", \"desperate\", \"frightened\", \"determined\", \"afraid\", \"irritated\", \"angry\", \"unhappy\", \"uneasy\", \"reluctant\", \"wanting\", \"hopeful\", \"happy\", \"concerned\", \"confused\", \"relieved\", \"inclined\", \"preoccupied\", \"wary\", \"confident\", \"resentful\", \"dissatisfied\", \"alarmed\", \"uncomfortable\", \"ambivalent\", \"excited\", \"cautious\", \"scared\", \"annoyed\", \"distressed\", \"upset\", \"embarrassed\", \"skittish\", \"insecure\", \"leery\", \"exasperated\", \"jittery\", \"distracted\", \"disgusted\", \"puzzled\"]\n",
      "[\"nervous\", \"apprehensive\", \"worried\", \"excited\", \"scared\", \"irritated\", \"annoyed\", \"anxious\", \"jittery\", \"uncomfortable\", \"frightened\", \"upset\", \"unnerved\", \"frustrated\", \"uneasy\", \"skittish\", \"confused\", \"embarrassed\", \"angry\", \"cautious\", \"queasy\", \"puzzled\", \"exasperated\", \"relieved\", \"agitated\", \"antsy\", \"hesitant\", \"alarmed\", \"perplexed\", \"euphoric\", \"mystified\", \"panicky\", \"edgy\", \"fatigued\", \"tired\", \"flustered\", \"disgusted\", \"leery\", \"unhappy\", \"impatient\", \"distracted\", \"surprised\", \"terrified\", \"afraid\", \"enthusiastic\", \"concerned\", \"elated\", \"perturbed\", \"bewildered\", \"scared\", \"wary\", \"panicking\", \"complacent\", \"uptight\", \"happy\", \"enthused\", \"insecure\", \"bored\", \"depressed\", \"stressed\", \"cold_feet\"]\n",
      "[\"disappointed\", \"disappointed\", \"pleased\", \"surprised\", \"gratified\", \"delighted\", \"elated\", \"relieved\", \"thrilled\", \"shocked\", \"upset\", \"dismayed\", \"distressed\", \"glad\", \"sorry\", \"embarrassed\", \"unhappy\", \"displeased\", \"disgusted\", \"satisfied\", \"happy\", \"annoyed\", \"excited\", \"flattered\", \"pleased\", \"frustrated\", \"impressed\", \"saddened\", \"puzzled\", \"outraged\", \"incensed\", \"gratified\", \"surprised\", \"stunned\", \"amazed\", \"encouraged\", \"astounded\", \"ecstatic\", \"regret\", \"chagrined\", \"angry\", \"mystified\", \"shocked\", \"flabbergasted\", \"grateful\", \"disappointing\", \"apprehensive\", \"optimistic\", \"dissatisfied\", \"thrilled\", \"miffed\", \"thankful\", \"concerned\"]\n",
      "[\"gloomy\", \"bleak\", \"grim\", \"buoyant\", \"euphoric\", \"rosy\", \"edgy\", \"subdued\", \"dim\", \"upbeat\", \"muted\", \"glum\", \"bleaker\", \"somber\", \"grimmer\", \"dreary\", \"unnerving\", \"cloudy\", \"pessimistic\", \"fatalistic\", \"reassuring\", \"unsettling\", \"ominous\", \"tepid\", \"unfocused\", \"downbeat\", \"jittery\", \"giddy\", \"tame\", \"dour\", \"placid\", \"blase\", \"gloomier\", \"predictable\", \"sanguine\", \"abrupt\", \"overdone\", \"prescient\", \"slack\", \"muddled\", \"unsettled\", \"jarring\", \"chilly\", \"disquieting\", \"dismal\", \"hazy\", \"serene\", \"chilly\", \"cheerful\", \"tranquil\", \"chaotic\", \"dull\", \"unperturbed\", \"untroubled\", \"depressing\", \"robust\", \"restrained\", \"temperate\", \"sobering\", \"depressing\", \"unpredictable\", \"gleeful\", \"stormy\", \"overheated\", \"palpably\", \"tentative\", \"benign\", \"sunny\", \"listless\", \"unconcerned\", \"cheery\", \"fuzzy\", \"decidedly\", \"perplexed\", \"apocalyptic\", \"wistful\", \"reflective\", \"dispiriting\", \"unruffled\", \"dispirited\", \"calmer\", \"comforting\", \"puzzling\", \"disappointingly\", \"smug\", \"prosaic\", \"dire\", \"nostalgic\", \"prophetic\", \"uplifting\", \"jaded\", \"unforgiving\", \"frenetic\", \"directionless\", \"sluggish\", \"depressingly\", \"lifeless\", \"contrived\", \"murky\"]\n",
      "[\"miserable\", \"exhausted\", \"lonely\", \"unbearable\", \"awful\", \"horrible\", \"bearable\", \"hopeless\", \"insecure\", \"terrible\", \"sad\", \"terrified\", \"unpleasant\", \"cranky\", \"depressing\", \"helpless\", \"selfish\", \"lousy\", \"numb\", \"bored\", \"stressed\", \"pathetic\", \"frightened\", \"depressed\", \"dizzy\", \"homesick\", \"humiliating\", \"blessed\", \"disoriented\", \"smug\", \"stressful\", \"fatigued\", \"carefree\", \"tiring\", \"wretched\", \"uptight\", \"irritable\", \"lazy\", \"jaded\", \"comforting\", \"dejected\", \"Emotionally\", \"boring\", \"resentful\", \"sick\", \"pitiful\", \"bewildered\", \"disgusted\", \"dreadful\", \"scary\", \"mad\", \"grumpy\", \"envious\", \"distracted\", \"overwhelmed\", \"bad\", \"hysterical\", \"tired\", \"queasy\", \"horribly\", \"worst_part\", \"upsetting\", \"heartbreaking\", \"sadder\", \"despondent\", \"paranoid\"]\n",
      "[\"lonely\", \"solitary\", \"sullen\", \"cranky\", \"homesick\", \"insecure\", \"bored\", \"restless\", \"neurotic\", \"spoiled\", \"terrified\", \"unloved\", \"miserable\", \"morose\", \"disoriented\", \"sad\", \"frightened\", \"bewildered\", \"orphaned\", \"grumpy\", \"frail\", \"jealous\", \"forlorn\", \"irritable\", \"possessive\", \"unbearably\", \"rootless\", \"alienated\", \"rebellious\", \"carefree\", \"introverted\", \"vain\", \"jaded\", \"repressed\", \"sickly\", \"contented\", \"pining\", \"outcast\", \"lovable\", \"loner\", \"adolescent\", \"wistful\", \"perpetually\", \"pampered\", \"surly\", \"adorable\", \"exhausted\", \"smug\", \"pathetic\", \"moody\", \"charming\", \"disheveled\", \"demented\", \"distracted\", \"spinster\", \"recluse\", \"heartbroken\", \"humble\", \"comforting\", \"hysterical\", \"depressed\", \"romantic\", \"stoic\", \"sleepy\", \"housewife\", \"resentful\", \"embittered\", \"pushy\", \"anguished\", \"forgetful\", \"despondent\", \"virgin\", \"withdrawn\", \"depressing\", \"brave\", \"narcissistic\", \"grown\", \"cheerful\", \"selfish\", \"tormented\", \"destitute\", \"breathless\", \"lonesome\", \"bossy\", \"weepy\", \"paranoid\", \"talkative\", \"cute\", \"spiritually\", \"exhilarated\", \"adrift\", \"beautiful\", \"feisty\", \"harried\", \"haggard\", \"unhappily\", \"mischievous\", \"rambunctious\", \"witless\", \"immature\"]\n",
      "[\"happy\", \"glad\", \"thrilled\", \"delighted\", \"pleased\", \"nice\", \"excited\", \"thankful\", \"like\", \"proud\", \"satisfied\", \"grateful\", \"sorry\", \"love\", \"lucky\", \"relieved\", \"sure\", \"thrilled\", \"want\", \"surprised\", \"disappointed\", \"unhappy\", \"anxious\", \"afraid\", \"good\", \"content\", \"confident\", \"sure\", \"fortunate\", \"elated\", \"comfortable\", \"wish\", \"flattered\", \"scared\", \"overjoyed\", \"know\", \"'m\", \"sad\", \"ashamed\", \"embarrassed\", \"going\", \"think\", \"good_time\", \"nervous\", \"O.K.\", \"guess\"]\n",
      "[\"loved\", \"hated\", \"liked\", \"love\", \"adored\", \"admired\", \"loves\", \"treasured\", \"longed\", \"great_love\", \"loved\", \"cared\", \"blessed\", \"adore\", \"happiest\", \"yearned\", \"remembered\", \"wonderful\", \"loathed\", \"good_friends\", \"treasure\", \"fondly\"]\n",
      "[\"joyful\", \"joyous\", \"solemn\", \"uplifting\", \"wistful\", \"mournful\", \"touching\", \"contemplative\", \"sensual\", \"cathartic\", \"lighthearted\", \"exuberant\", \"merry\", \"endearing\", \"invigorating\", \"celebratory\", \"wondrous\", \"radiant\", \"dreamy\", \"dutiful\", \"exhilarating\", \"affectionate\", \"carefree\", \"soulful\", \"seductive\", \"gloriously\", \"childlike\", \"anguished\", \"unbearably\", \"heartbreaking\", \"melancholy\", \"mischievous\", \"playful\", \"beguiling\", \"redemptive\", \"pensive\", \"introspective\", \"rhapsodic\", \"thrilling\", \"soothing\", \"effervescent\", \"sentimental\", \"morbid\", \"meditative\", \"inspiring\", \"poetic\", \"rueful\", \"thrilling\", \"hypnotic\", \"poignant\", \"exhilarating\", \"mesmerizing\", \"lugubrious\", \"hauntingly\", \"wry\", \"plaintive\", \"mawkish\", \"sardonic\", \"heartwarming\", \"sublime\", \"brooding\", \"otherworldly\", \"dignified\", \"ethereal\", \"unforgettable\", \"sorrowful\", \"maudlin\", \"serene\", \"elegiac\", \"reverent\", \"touchingly\", \"portentous\", \"lyrical\", \"histrionic\", \"jolly\", \"palpably\", \"endearingly\", \"antic\", \"girlish\", \"decorous\", \"purposeful\", \"droll\", \"haunting\", \"blithe\", \"moody\", \"marvelous\", \"rambunctious\", \"liberating\", \"romantic\", \"magical\", \"lyrically\", \"sensuous\", \"enchanting\", \"uninhibited\", \"ponderous\", \"campy\", \"charming\", \"sly\", \"cloying\", \"exalted\"]\n",
      "[\"content\", \"format\", \"subject_matter\", \"electronic_media\", \"interactivity\", \"digital_technology\", \"new_medium\", \"written_word\", \"programming\", \"editorial_content\", \"medium\", \"formulas\", \"lowest_common_denominator\", \"current_events\", \"broadcasters\", \"mass_audience\", \"final_product\", \"sound_quality\", \"function\", \"blogs\", \"mass_media\", \"visuals\", \"disclaimers\", \"other_media\", \"meanings\"]\n",
      "[\"pleased\", \"delighted\", \"disappointed\", \"gratified\", \"disappointed\", \"thrilled\", \"happy\", \"satisfied\", \"surprised\", \"pleased\", \"glad\", \"impressed\", \"relieved\", \"confident\", \"encouraged\", \"gratified\", \"elated\", \"thrilled\", \"proud\", \"grateful\", \"hopeful\", \"excited\", \"dismayed\", \"unhappy\", \"optimistic\", \"surprised\", \"displeased\", \"shocked\", \"heartened\", \"amazed\"]\n",
      "[\"grateful\", \"thankful\", \"appreciative\", \"blessed\", \"fortunate\", \"glad\", \"thrilled\", \"delighted\", \"thank\", \"proud\", \"happy\", \"relieved\", \"gratified\", \"cherish\", \"pleased\", \"sorry\", \"gratitude\", \"overjoyed\", \"thrilled\", \"treasure\", \"comforted\", \"ashamed\", \"disappointed\", \"appreciate\", \"elated\"]\n",
      "[\"relieved\", \"relieved\"]\n",
      "[\"optimistic\", \"pessimistic\", \"hopeful\", \"sanguine\", \"confident\", \"cautious\", \"skeptical\", \"upbeat\", \"encouraging\", \"bullish\", \"concerned\", \"enthusiastic\", \"worried\", \"satisfied\", \"apprehensive\", \"convinced\", \"pleased\", \"enthused\", \"disappointed\", \"unconvinced\"]\n",
      "[\"satisfied\", \"pleased\", \"confident\", \"happy\", \"disappointed\", \"disappointed\", \"dissatisfied\", \"satisfied\", \"convinced\", \"optimistic\", \"pleased\", \"relieved\", \"assured\", \"unhappy\", \"concerned\", \"adamant\", \"reassured\", \"dissatisfied\", \"encouraged\", \"impressed\"]\n",
      "[\"excited\", \"thrilled\", \"excited\", \"nervous\", \"happy\", \"enthusiastic\", \"enthused\", \"exciting\", \"thrilled\", \"glad\", \"ecstatic\", \"disappointed\", \"apprehensive\", \"surprised\", \"delighted\", \"worried\", \"scared\", \"pleased\", \"elated\", \"impressed\", \"upset\", \"antsy\", \"anxious\", \"great_time\", \"flattered\", \"overjoyed\", \"relieved\", \"thinking\", \"curious\", \"thankful\", \"nice\", \"amazed\", \"concerned\", \"gratifying\"]\n",
      "[\"loved\", \"hated\", \"liked\", \"love\", \"adored\", \"admired\", \"loves\", \"treasured\", \"longed\", \"great_love\", \"loved\", \"cared\", \"blessed\", \"adore\", \"happiest\", \"yearned\", \"remembered\", \"wonderful\", \"loathed\", \"good_friends\", \"treasure\", \"fondly\"]\n"
     ]
    }
   ],
   "source": [
    "#define input text model (as will be analyzed) here\n",
    "from empath import Empath\n",
    "\n",
    "global lexicon\n",
    "\n",
    "lexicon = Empath()\n",
    "\n",
    "#negative\n",
    "lexicon.create_category(\"angry\", [\"angry\"], model=\"nytimes\")\n",
    "lexicon.create_category(\"lonely\", [\"lonely\"], model=\"nytimes\")\n",
    "lexicon.create_category(\"sad\", [\"sad\"], model=\"nytimes\")\n",
    "lexicon.create_category(\"worried\", [\"worried\"], model=\"nytimes\")\n",
    "lexicon.create_category(\"frustrated\", [\"frustrated\"], model=\"nytimes\")\n",
    "lexicon.create_category(\"anxious\", [\"anxious\"], model=\"nytimes\")\n",
    "lexicon.create_category(\"nervous\", [\"nervous\"], model=\"nytimes\")\n",
    "lexicon.create_category(\"disappointed\", [\"disappointed\"], model=\"nytimes\")\n",
    "lexicon.create_category(\"gloomy\", [\"gloomy\"], model=\"nytimes\")\n",
    "lexicon.create_category(\"miserable\", [\"miserable\"], model=\"nytimes\")\n",
    "lexicon.create_category(\"lonely\", [\"lonely\"], model=\"nytimes\")\n",
    "\n",
    "#positive\n",
    "lexicon.create_category(\"happy\", [\"happy\"], model=\"nytimes\")\n",
    "lexicon.create_category(\"loved\", [\"loved\"], model=\"nytimes\")\n",
    "lexicon.create_category(\"joyful\", [\"joyful\"], model=\"nytimes\")\n",
    "lexicon.create_category(\"content\", [\"content\"], model=\"nytimes\")\n",
    "lexicon.create_category(\"pleased\", [\"pleased\"], model=\"nytimes\")\n",
    "lexicon.create_category(\"grateful\", [\"grateful\"], model=\"nytimes\")\n",
    "lexicon.create_category(\"relieved\", [\"relieved\"], model=\"nytimes\")\n",
    "lexicon.create_category(\"optimistic\", [\"optimistic\"], model=\"nytimes\")\n",
    "lexicon.create_category(\"satisfied\", [\"satisfied\"], model=\"nytimes\")\n",
    "lexicon.create_category(\"excited\", [\"excited\"], model=\"nytimes\")\n",
    "lexicon.create_category(\"loved\", [\"loved\"], model=\"nytimes\")\n",
    "\n",
    "\n",
    "\n"
   ]
  },
  {
   "cell_type": "code",
   "execution_count": 91,
   "metadata": {},
   "outputs": [],
   "source": [
    "def get_data_from_txt(txt:str):\n",
    "    global lexicon\n",
    "\n",
    "    if (not len(txt)):\n",
    "        return {k: 0 for k in[\"angry\",\"sad\",\"worried\",\n",
    "       \"frustrated\",\"anxious\",\n",
    "        \"nervous\",\"disappointed\",\n",
    "      \"gloomy\",\"miserable\",\"longly\",\n",
    "       \"happy\", \"loved\", \"joyful\",\n",
    "        \"content\", \"pleased\",\n",
    "      \"grateful\", \"relieved\",\n",
    "      \"optimistic\", \"satisfied\",\n",
    "        \"excited\"]}\n",
    "\n",
    "    unnormalized = lexicon.analyze(txt, categories=[\"angry\",\"sad\",\"worried\",\n",
    "       \"frustrated\",\"anxious\",\n",
    "        \"nervous\",\"disappointed\",\n",
    "      \"gloomy\",\"miserable\",\"longly\",\n",
    "       \"happy\", \"loved\", \"joyful\",\n",
    "        \"content\", \"pleased\",\n",
    "      \"grateful\", \"relieved\",\n",
    "      \"optimistic\", \"satisfied\",\n",
    "        \"excited\"],normalize = False)\n",
    "  \n",
    "    normalized = lexicon.analyze(txt, categories=[\"angry\",\"sad\",\"worried\",\n",
    "       \"frustrated\",\"anxious\",\n",
    "        \"nervous\",\"disappointed\",\n",
    "      \"gloomy\",\"miserable\",\"longly\",\n",
    "       \"happy\", \"loved\", \"joyful\",\n",
    "        \"content\", \"pleased\",\n",
    "      \"grateful\", \"relieved\",\n",
    "      \"optimistic\", \"satisfied\",\n",
    "        \"excited\"],normalize = True)\n",
    "    \n",
    "\n",
    "    #we want to make these average to 0 \n",
    "    summed = 0\n",
    "    for v in normalized.values(): summed += v \n",
    "    to_add = -summed/len(normalized)\n",
    "\n",
    "    for k in normalized.keys():\n",
    "        normalized[k] += to_add\n",
    "    \n",
    "    return normalized\n",
    "\n",
    "global txt_keys\n",
    "txt_keys = [\"angry\",\"sad\",\"worried\",\n",
    "       \"frustrated\",\"anxious\",\n",
    "        \"nervous\",\"disappointed\",\n",
    "      \"gloomy\",\"miserable\",\"longly\",\n",
    "       \"happy\", \"loved\", \"joyful\",\n",
    "        \"content\", \"pleased\",\n",
    "      \"grateful\", \"relieved\",\n",
    "      \"optimistic\", \"satisfied\",\n",
    "        \"excited\"]\n",
    "\n",
    "global submission_keys_order\n",
    "submission_keys_order = [\n",
    "        # \"distinguished\" ,\n",
    "        \"is_original_content\" ,\n",
    "        \"over_18\" ,\n",
    "        \"score\" ,\n",
    "        \"title\",\n",
    "        \"upvote_ratio\" ]\n",
    "\n",
    "global comment_key_order\n",
    "comment_key_order =  [\n",
    "      \"is_edited\",\n",
    "      \"num_replies\", \n",
    "      \"score\",\n",
    "      \"score_is_hidden\",\n",
    "      \"total_awards\",\n",
    "      \"num_ups\",\n",
    "      \"num_downs\",\n",
    "      \"body\",\n",
    "      \"is_submitter\", \n",
    "      \"stickied\"\n",
    "]"
   ]
  },
  {
   "cell_type": "code",
   "execution_count": 37,
   "metadata": {},
   "outputs": [
    {
     "name": "stdout",
     "output_type": "stream",
     "text": [
      "Collecting binary-search\n",
      "  Using cached binary_search-0.3.0.tar.gz (2.7 kB)\n",
      "  Installing build dependencies: started\n",
      "  Installing build dependencies: finished with status 'done'\n",
      "  Getting requirements to build wheel: started\n",
      "  Getting requirements to build wheel: finished with status 'error'\n"
     ]
    },
    {
     "name": "stderr",
     "output_type": "stream",
     "text": [
      "  error: subprocess-exited-with-error\n",
      "  \n",
      "  × Getting requirements to build wheel did not run successfully.\n",
      "  │ exit code: 1\n",
      "  ╰─> [16 lines of output]\n",
      "      C:\\Users\\logan\\AppData\\Local\\Temp\\pip-build-env-jr4hucmh\\overlay\\Lib\\site-packages\\setuptools\\dist.py:472: SetuptoolsDeprecationWarning: Invalid dash-separated options\n",
      "      !!\n",
      "      \n",
      "              ********************************************************************************\n",
      "              Usage of dash-separated 'description-file' will not be supported in future\n",
      "              versions. Please use the underscore name 'description_file' instead.\n",
      "      \n",
      "              By 2024-Sep-26, you need to update your project and remove deprecated calls\n",
      "              or your builds will no longer be supported.\n",
      "      \n",
      "              See https://setuptools.pypa.io/en/latest/userguide/declarative_config.html for details.\n",
      "              ********************************************************************************\n",
      "      \n",
      "      !!\n",
      "        opt = self.warn_dash_deprecation(opt, section)\n",
      "      error in binary_search setup command: 'python_requires' must be a string containing valid version specifiers; Invalid specifier: '>=3.5.*'\n",
      "      [end of output]\n",
      "  \n",
      "  note: This error originates from a subprocess, and is likely not a problem with pip.\n",
      "error: subprocess-exited-with-error\n",
      "\n",
      "× Getting requirements to build wheel did not run successfully.\n",
      "│ exit code: 1\n",
      "╰─> See above for output.\n",
      "\n",
      "note: This error originates from a subprocess, and is likely not a problem with pip.\n"
     ]
    }
   ],
   "source": [
    "!pip install binary-search"
   ]
  },
  {
   "cell_type": "code",
   "execution_count": 114,
   "metadata": {},
   "outputs": [
    {
     "data": {
      "text/plain": [
       "<__main__.Redditor at 0x14e0d9a7970>"
      ]
     },
     "execution_count": 114,
     "metadata": {},
     "output_type": "execute_result"
    }
   ],
   "source": [
    "import numpy as np\n",
    "import time\n",
    "# import binary_search\n",
    "\n",
    "class Redditor:\n",
    "\n",
    "    def __init__(self, redditor_dict, comment_dict, submission_dict, redditor_name, start_date, control_date):\n",
    "        global txt_keys\n",
    "        global submission_keys_order\n",
    "        global comment_key_order\n",
    "\n",
    "        self.all_data = None\n",
    "        #yield stats related to this\n",
    "        redditor =  redditor_dict[redditor_name] \n",
    "        base_redditor_data = redditor[\"data\"]\n",
    "        if (not base_redditor_data[\"has_subreddit\"]):\n",
    "            #set values to -1\n",
    "            base_redditor_data[\"over_18\"] = -1#redditor.subreddit[\"over_18\"]\n",
    "            base_redditor_data[\"num_subscribers\"] = -1#redditor.subreddit[\"subscribers\"]\n",
    "\n",
    "            #this is the only one added that rlly shouldn't be\n",
    "            base_redditor_data[\"public_description\"] = \"\"\n",
    "\n",
    "        \n",
    "        description_data = get_data_from_txt(base_redditor_data[\"public_description\"])\n",
    "\n",
    "        # base_data = np.array([v for k,v in base_redditor_data.items() if not isinstance(v, type(\"\"))] +[description_data[i] for i in txt_keys], dtype='float')\n",
    "        \n",
    "        base_data = [v for k,v in base_redditor_data.items() if not isinstance(v, type(\"\"))] +[description_data[i] for i in txt_keys]\n",
    "\n",
    "        #get sequential data for comments\n",
    "        sequential_redditor_data = redditor[\"comments\"]\n",
    "\n",
    "        \n",
    "\n",
    "        k_segs = 4\n",
    "        segments = [start_date + (1+i)*(control_date-start_date)/k_segs for i in range(k_segs)]\n",
    "        cnts = [0 for _ in range(k_segs)]\n",
    "        suicide_cnts = [0 for _ in range(k_segs)]\n",
    "        segment_data = [np.zeros((53,),dtype='float') for _ in range(k_segs)]\n",
    "        current_seg_idx = 0 \n",
    "\n",
    "        try:\n",
    "            sequential_redditor_data.sort()\n",
    "        except:\n",
    "            print(\"sequential data is \", sequential_redditor_data) #okay they have the exact same time which is why there are problems bc its not letting me sort bc dict not comparable\n",
    "            return #TODO - I actually need to correct this one - this doesn't enforce types we wanted to \n",
    "\n",
    "        # for i in range(len(sequential_redditor_data) -1 ):\n",
    "        #     if (i == 0):print(sequential_redditor_data[i][0])\n",
    "        #     print(sequential_redditor_data[i+1][0] )\n",
    "        #     assert(sequential_redditor_data[i][0] <= sequential_redditor_data[i+1][0])\n",
    "\n",
    "        #we need to make sure we have data covering for all this time NOTE must add this\n",
    "        is_valid = sequential_redditor_data[-1][0] < start_date if len(sequential_redditor_data) else True\n",
    "\n",
    "        for comment_date, comment_data in sequential_redditor_data:\n",
    "\n",
    "            #can do binary search for efficiency in future - TODO\n",
    "            if (comment_date > control_date):\n",
    "                break \n",
    "            if (comment_date < start_date): continue \n",
    "\n",
    "            sub_id = comment_data[\"submission_id\"] \n",
    "            comment_key = sub_id + \"--------\" + comment_data[\"comment_id\"]\n",
    "            try:\n",
    "                comment_data_dict = comment_dict[comment_key][\"data\"]\n",
    "            except:\n",
    "                return\n",
    "\n",
    "            #getting comment data \n",
    "            comment_body_data = get_data_from_txt(comment_data_dict[\"body\"])\n",
    "            comment_data = [comment_data_dict[k] for k in comment_key_order]\n",
    "            comment_data = [v for v in comment_data if not isinstance(v, type(\"\"))] + [comment_body_data[i] for i in txt_keys]\n",
    "\n",
    "            #getting submission data \n",
    "            try:\n",
    "                sub_data_dict = submission_dict[sub_id]\n",
    "            except:\n",
    "                return\n",
    "            sub_data = [sub_data_dict[k] for k in submission_keys_order]\n",
    "\n",
    "            #TODO - make lookup to avoid repeated computation\n",
    "            sub_title_data = get_data_from_txt(sub_data_dict[\"title\"])\n",
    "\n",
    "            sub_data = [v for v in sub_data if not isinstance(v, type(\"\"))] + [sub_title_data[i] for i in txt_keys]  \n",
    "            #we have a valid comment date \n",
    "\n",
    "\n",
    "            #aggregate\n",
    "            all_time_info = np.array(comment_data + sub_data, dtype='float')\n",
    "\n",
    "            while (segments[current_seg_idx] < comment_date):\n",
    "                current_seg_idx += 1\n",
    "            \n",
    "            cnts[current_seg_idx] += 1\n",
    "\n",
    "            segment_data[current_seg_idx] += all_time_info\n",
    "\n",
    "            if (any(kw in sub_data_dict[\"title\"] for kw in [\"suicide\", \"depress\"]) or any(kw in comment_data_dict[\"body\"] for kw in [\"suicide\", \"depress\"])):\n",
    "                suicide_cnts[current_seg_idx] += 1\n",
    "\n",
    "        all_data = base_data\n",
    "        segment_data = [segment_data[i]/max(1,cnts[i]) for i in range(k_segs)]\n",
    "        for i in range(k_segs):\n",
    "            all_data += segment_data[i].tolist()\n",
    "\n",
    "        for i in range(3): all_data.append(is_valid)\n",
    "        for i in range(3): \n",
    "            all_data += cnts\n",
    "        for i in range(5):\n",
    "            all_data += suicide_cnts\n",
    "\n",
    "        self.all_data = np.array(all_data, dtype='float')\n",
    "            #add it to the correct one \n",
    "\n",
    "\n",
    "        #okay time to get sequential data\n",
    "        \n",
    "\n",
    "\n",
    "    def get_data(self):\n",
    "        return self.all_data\n",
    "Redditor(redditor_dict, comment_dict, submission_dict, control_group[0], int(time.mktime(FIRST_CONSIDER_DATE.timetuple())), int(time.mktime(CONTROL_DATE.timetuple())) )\n",
    "# redditor_dict = save_get_json(REDDITOR_FILE)\n",
    "# submission_dict = save_get_json(SUBMISSION_FILE)\n",
    "# comment_dict = save_get_json(COMMENT_FILE)"
   ]
  },
  {
   "cell_type": "code",
   "execution_count": 115,
   "metadata": {},
   "outputs": [],
   "source": [
    "query_redditors = [Redditor(redditor_dict, comment_dict, submission_dict, c, int(time.mktime(FIRST_CONSIDER_DATE.timetuple())), int(time.mktime(CONTROL_DATE.timetuple())) ) for c in control_group]"
   ]
  },
  {
   "cell_type": "code",
   "execution_count": 116,
   "metadata": {},
   "outputs": [
    {
     "data": {
      "text/plain": [
       "281"
      ]
     },
     "execution_count": 116,
     "metadata": {},
     "output_type": "execute_result"
    }
   ],
   "source": [
    "len(query_redditors[0].get_data())"
   ]
  },
  {
   "cell_type": "code",
   "execution_count": 102,
   "metadata": {},
   "outputs": [
    {
     "name": "stdout",
     "output_type": "stream",
     "text": [
      "Collecting tqdm\n",
      "  Using cached tqdm-4.66.1-py3-none-any.whl.metadata (57 kB)\n",
      "Requirement already satisfied: colorama in c:\\users\\logan\\documents\\research\\mental_health\\reddit_data_scraping\\reddit-crawler-data\\.venv\\lib\\site-packages (from tqdm) (0.4.6)\n",
      "Using cached tqdm-4.66.1-py3-none-any.whl (78 kB)\n",
      "Installing collected packages: tqdm\n",
      "Successfully installed tqdm-4.66.1\n"
     ]
    }
   ],
   "source": [
    "!pip install tqdm"
   ]
  },
  {
   "cell_type": "code",
   "execution_count": 117,
   "metadata": {},
   "outputs": [
    {
     "name": "stderr",
     "output_type": "stream",
     "text": [
      " 10%|█         | 597/5930 [00:17<01:56, 45.91it/s]"
     ]
    },
    {
     "name": "stdout",
     "output_type": "stream",
     "text": [
      "sequential data is  [[1701464078, {'subreddit_id': 't5_2s30g', 'submission_id': '188m65r', 'comment_id': 'kbliupi'}], [1701464077, {'subreddit_id': 't5_2vfcm', 'submission_id': '188m663', 'comment_id': 'kbliuoh'}], [1701464077, {'subreddit_id': 't5_8pn3m2', 'submission_id': '188m65w', 'comment_id': 'kbliumv'}], [1701464077, {'subreddit_id': 't5_h4uwp', 'submission_id': '188m65k', 'comment_id': 'kbliumc'}], [1701464077, {'subreddit_id': 't5_34jka', 'submission_id': '188m64j', 'comment_id': 'kblium2'}], [1701464077, {'subreddit_id': 't5_2vgi4', 'submission_id': '188m65n', 'comment_id': 'kbliulv'}], [1701464077, {'subreddit_id': 't5_5t8ubq', 'submission_id': '188m65o', 'comment_id': 'kbliulx'}], [1701464077, {'subreddit_id': 't5_8pn3m2', 'submission_id': '188m65q', 'comment_id': 'kbliulg'}], [1701464077, {'subreddit_id': 't5_2rpd0', 'submission_id': '188m651', 'comment_id': 'kbliul1'}], [1701464076, {'subreddit_id': 't5_8pn3m2', 'submission_id': '188m65h', 'comment_id': 'kbliuk9'}], [1701464076, {'subreddit_id': 't5_8pn3m2', 'submission_id': '188m65f', 'comment_id': 'kbliuj5'}], [1701464076, {'subreddit_id': 't5_8pn3m2', 'submission_id': '188m658', 'comment_id': 'kbliuip'}], [1701464075, {'subreddit_id': 't5_8pn3m2', 'submission_id': '188m654', 'comment_id': 'kbliugs'}], [1701464075, {'subreddit_id': 't5_8pn3m2', 'submission_id': '188m650', 'comment_id': 'kbliufz'}], [1701464075, {'subreddit_id': 't5_8976a5', 'submission_id': '188m64w', 'comment_id': 'kbliufi'}], [1701464075, {'subreddit_id': 't5_29bibd', 'submission_id': '188dgxd', 'comment_id': 'kbliuf1'}], [1701464075, {'subreddit_id': 't5_4mmmtx', 'submission_id': '188m64r', 'comment_id': 'kbliuet'}], [1701464075, {'subreddit_id': 't5_8pn3m2', 'submission_id': '188m64t', 'comment_id': 'kbliue5'}], [1701464074, {'subreddit_id': 't5_2txtp', 'submission_id': '188m64m', 'comment_id': 'kbliudw'}], [1701464074, {'subreddit_id': 't5_5as7pu', 'submission_id': '188m64o', 'comment_id': 'kbliudt'}], [1701464074, {'subreddit_id': 't5_8pn3m2', 'submission_id': '188m64k', 'comment_id': 'kbliude'}], [1701464074, {'subreddit_id': 't5_97ma1t', 'submission_id': '188m64i', 'comment_id': 'kbliud8'}], [1701464074, {'subreddit_id': 't5_8pn3m2', 'submission_id': '188m647', 'comment_id': 'kbliubx'}], [1701464074, {'subreddit_id': 't5_8pn3m2', 'submission_id': '188m62l', 'comment_id': 'kbliubr'}], [1701464074, {'subreddit_id': 't5_33rc6', 'submission_id': '188m61z', 'comment_id': 'kbliual'}], [1701464074, {'subreddit_id': 't5_8pn3m2', 'submission_id': '188m63u', 'comment_id': 'kbliuag'}], [1701464074, {'subreddit_id': 't5_8pn3m2', 'submission_id': '188m63y', 'comment_id': 'kbliua7'}], [1701464073, {'subreddit_id': 't5_8pn3m2', 'submission_id': '188m63n', 'comment_id': 'kbliu82'}], [1701464073, {'subreddit_id': 't5_546p4v', 'submission_id': '188m5vq', 'comment_id': 'kbliu76'}], [1701464073, {'subreddit_id': 't5_2yfro', 'submission_id': '188m62i', 'comment_id': 'kbliu6u'}], [1701464073, {'subreddit_id': 't5_2r3em', 'submission_id': '188m63j', 'comment_id': 'kbliu6r'}], [1701464073, {'subreddit_id': 't5_8pn3m2', 'submission_id': '188m63c', 'comment_id': 'kbliu6g'}], [1701464072, {'subreddit_id': 't5_2xxu6', 'submission_id': '188m631', 'comment_id': 'kbliu5p'}], [1701464072, {'subreddit_id': 't5_3o2ar', 'submission_id': '188m62v', 'comment_id': 'kbliu3t'}], [1701464072, {'subreddit_id': 't5_8pn3m2', 'submission_id': '188m632', 'comment_id': 'kbliu3g'}], [1701464072, {'subreddit_id': 't5_3zthc3', 'submission_id': '188m62y', 'comment_id': 'kbliu35'}], [1701464072, {'subreddit_id': 't5_2uevm', 'submission_id': '188m62z', 'comment_id': 'kbliu30'}], [1701464072, {'subreddit_id': 't5_4ebedy', 'submission_id': '188m61n', 'comment_id': 'kbliu2x'}], [1701464071, {'subreddit_id': 't5_3r5kro', 'submission_id': '188m62x', 'comment_id': 'kbliu2m'}], [1701464071, {'subreddit_id': 't5_2vqun', 'submission_id': '188m62j', 'comment_id': 'kbliu1w'}], [1701464071, {'subreddit_id': 't5_8pn3m2', 'submission_id': '188m62u', 'comment_id': 'kbliu1n'}], [1701464071, {'subreddit_id': 't5_2r656', 'submission_id': '188m62m', 'comment_id': 'kbliu0u'}], [1701464071, {'subreddit_id': 't5_8pn3m2', 'submission_id': '188m62r', 'comment_id': 'kbliu0n'}], [1701464071, {'subreddit_id': 't5_28596c', 'submission_id': '188m624', 'comment_id': 'kbliu0x'}], [1701464070, {'subreddit_id': 't5_35g9w', 'submission_id': '188m61u', 'comment_id': 'kblityp'}], [1701464070, {'subreddit_id': 't5_2spkuv', 'submission_id': '188m61y', 'comment_id': 'kblityl'}], [1701464070, {'subreddit_id': 't5_8pn3m2', 'submission_id': '188m62c', 'comment_id': 'kblityi'}], [1701464070, {'subreddit_id': 't5_20ywkr', 'submission_id': '188m626', 'comment_id': 'kblitxu'}], [1701464070, {'subreddit_id': 't5_8pn3m2', 'submission_id': '188m627', 'comment_id': 'kblitxj'}], [1701464070, {'subreddit_id': 't5_6qhzyt', 'submission_id': '188m615', 'comment_id': 'kblitwy'}], [1701464069, {'subreddit_id': 't5_3k7ez', 'submission_id': '188m61b', 'comment_id': 'kblitus'}], [1701464069, {'subreddit_id': 't5_2r2mk', 'submission_id': '188m61p', 'comment_id': 'kblitub'}], [1701464069, {'subreddit_id': 't5_2qosw', 'submission_id': '188m61f', 'comment_id': 'kblittv'}], [1701464069, {'subreddit_id': 't5_28qodr', 'submission_id': '188hse9', 'comment_id': 'kblittu'}], [1701464069, {'subreddit_id': 't5_2qlnu', 'submission_id': '188m61g', 'comment_id': 'kblittc'}], [1701464069, {'subreddit_id': 't5_6rzov5', 'submission_id': '188m61h', 'comment_id': 'kblittb'}], [1701464069, {'subreddit_id': 't5_3k7ez', 'submission_id': '188m61b', 'comment_id': 'kblitta'}], [1701464069, {'subreddit_id': 't5_2t4jw', 'submission_id': '188m60t', 'comment_id': 'kblitst'}], [1701464068, {'subreddit_id': 't5_7qhgzz', 'submission_id': '188m61a', 'comment_id': 'kblits5'}], [1701464068, {'subreddit_id': 't5_2qwlm', 'submission_id': '188m619', 'comment_id': 'kblitry'}], [1701464068, {'subreddit_id': 't5_2ziji', 'submission_id': '188m60i', 'comment_id': 'kblitqn'}], [1701464067, {'subreddit_id': 't5_2rmov', 'submission_id': '188m5zt', 'comment_id': 'kblitoe'}], [1701464067, {'subreddit_id': 't5_2r0cn', 'submission_id': '188m60s', 'comment_id': 'kblitnz'}], [1701464067, {'subreddit_id': 't5_9gdn5i', 'submission_id': '188m5zy', 'comment_id': 'kblitn0'}], [1701464067, {'subreddit_id': 't5_2vqun', 'submission_id': '188m60n', 'comment_id': 'kblitmv'}], [1701464067, {'subreddit_id': 't5_3m7q3', 'submission_id': '188m60q', 'comment_id': 'kblitlw'}], [1701464066, {'subreddit_id': 't5_7o59p4', 'submission_id': '188m60m', 'comment_id': 'kblitkw'}], [1701464066, {'subreddit_id': 't5_2wcwv', 'submission_id': '188m60f', 'comment_id': 'kblitli'}], [1701464066, {'subreddit_id': 't5_2s7fq', 'submission_id': '188m5zi', 'comment_id': 'kblitke'}], [1701464066, {'subreddit_id': 't5_294odh', 'submission_id': '188m608', 'comment_id': 'kblitje'}], [1701464065, {'subreddit_id': 't5_2ca3vn', 'submission_id': '184d73t', 'comment_id': 'kblitha'}], [1701464065, {'subreddit_id': 't5_5l3176', 'submission_id': '188m603', 'comment_id': 'kblith8'}], [1701464064, {'subreddit_id': 't5_2rlnw', 'submission_id': '188m5zg', 'comment_id': 'kblitbu'}], [1701464064, {'subreddit_id': 't5_5giqcn', 'submission_id': '182quqr', 'comment_id': 'kblitb6'}], [1701464063, {'subreddit_id': 't5_2w6k5', 'submission_id': '188m5z7', 'comment_id': 'kblita7'}], [1701464063, {'subreddit_id': 't5_2vifd', 'submission_id': '188m5y5', 'comment_id': 'kblit8b'}], [1701464063, {'subreddit_id': 't5_2rga6', 'submission_id': '188m5ym', 'comment_id': 'kblit81'}], [1701464063, {'subreddit_id': 't5_kusn8', 'submission_id': '188m5yr', 'comment_id': 'kblit7q'}], [1701464063, {'subreddit_id': 't5_2t2ib', 'submission_id': '188m5y8', 'comment_id': 'kblit6w'}], [1701464062, {'subreddit_id': 't5_2vqun', 'submission_id': '188m5yj', 'comment_id': 'kblit8s'}], [1701464062, {'subreddit_id': 't5_673cxi', 'submission_id': '188m5yt', 'comment_id': 'kblit6n'}], [1701464062, {'subreddit_id': 't5_2szyo', 'submission_id': '188m5yg', 'comment_id': 'kblit5t'}], [1701464062, {'subreddit_id': 't5_2coav3', 'submission_id': '188m5y9', 'comment_id': 'kblit51'}], [1701464062, {'subreddit_id': 't5_2ql2m', 'submission_id': '188m5xq', 'comment_id': 'kblit45'}], [1701464061, {'subreddit_id': 't5_3dqgug', 'submission_id': '188m5y6', 'comment_id': 'kblit1q'}], [1701464061, {'subreddit_id': 't5_2vqun', 'submission_id': '188m5xy', 'comment_id': 'kblit0k'}], [1701464060, {'subreddit_id': 't5_2rf0j', 'submission_id': '188m5xn', 'comment_id': 'kbliszw'}], [1701464060, {'subreddit_id': 't5_2t4jw', 'submission_id': '188m5xs', 'comment_id': 'kblisz6'}], [1701464060, {'subreddit_id': 't5_3ioha', 'submission_id': '188m5pb', 'comment_id': 'kblisz1'}], [1701464060, {'subreddit_id': 't5_3fr54', 'submission_id': '188m5xo', 'comment_id': 'kblisyk'}], [1701464060, {'subreddit_id': 't5_3a2w4m', 'submission_id': '188m5xk', 'comment_id': 'kblisxi'}], [1701464060, {'subreddit_id': 't5_3j874', 'submission_id': '188m5xf', 'comment_id': 'kbliswn'}], [1701464058, {'subreddit_id': 't5_4rfcwg', 'submission_id': '188m5ue', 'comment_id': 'kblissz'}], [1701464058, {'subreddit_id': 't5_2x640', 'submission_id': '188m5vs', 'comment_id': 'kblisst'}], [1701464058, {'subreddit_id': 't5_2x3li9', 'submission_id': '188m5wt', 'comment_id': 'kblissn'}], [1701464058, {'subreddit_id': 't5_2qh1e', 'submission_id': '188m5vt', 'comment_id': 'kblissi'}], [1701464058, {'subreddit_id': 't5_359qr', 'submission_id': '188m5w8', 'comment_id': 'kblissb'}], [1701464057, {'subreddit_id': 't5_4wiqnm', 'submission_id': '188m5wp', 'comment_id': 'kblisrw'}], [1701464057, {'subreddit_id': 't5_359qr', 'submission_id': '188m5w8', 'comment_id': 'kblisql'}], [1701464056, {'subreddit_id': 't5_359qr', 'submission_id': '188m5w8', 'comment_id': 'kblisod'}]]\n",
      "sequential data is  [[1635148677, {'subreddit_id': 't5_2seh9', 'submission_id': 'qel8rv', 'comment_id': 'hhyng5p'}], [1635148629, {'subreddit_id': 't5_2s30g', 'submission_id': 'qeudzb', 'comment_id': 'hhyne8w'}], [1635148621, {'subreddit_id': 't5_2ymzc', 'submission_id': 'qfafk3', 'comment_id': 'hhyndwp'}], [1635148519, {'subreddit_id': 't5_2ubgg', 'submission_id': 'qexz8g', 'comment_id': 'hhyn9wq'}], [1635148003, {'subreddit_id': 't5_11isbz', 'submission_id': 'qf12j6', 'comment_id': 'hhymonw'}], [1635147876, {'subreddit_id': 't5_3buf1', 'submission_id': 'qf79sc', 'comment_id': 'hhymjgc'}], [1635147820, {'subreddit_id': 't5_26lae1', 'submission_id': 'qeqcde', 'comment_id': 'hhymh4j'}], [1635147710, {'subreddit_id': 't5_2s4cy', 'submission_id': 'qf68vo', 'comment_id': 'hhymcf9'}], [1635147684, {'subreddit_id': 't5_53zemd', 'submission_id': 'pyk3os', 'comment_id': 'hhymbad'}], [1635147668, {'subreddit_id': 't5_2yk91', 'submission_id': 'qezcl4', 'comment_id': 'hhymajr'}], [1635147656, {'subreddit_id': 't5_mbn0j', 'submission_id': 'qf53jg', 'comment_id': 'hhyma2o'}], [1635147602, {'subreddit_id': 't5_31zi1', 'submission_id': 'qdevv4', 'comment_id': 'hhym7sh'}], [1635147440, {'subreddit_id': 't5_2qiud', 'submission_id': 'qf7r5u', 'comment_id': 'hhym11h'}], [1635147434, {'subreddit_id': 't5_3fsv6', 'submission_id': 'qbj8dd', 'comment_id': 'hhym0qq'}], [1635147226, {'subreddit_id': 't5_378hb', 'submission_id': 'qf58h4', 'comment_id': 'hhylrqv'}], [1635147210, {'subreddit_id': 't5_2w7mz', 'submission_id': 'qf0w9t', 'comment_id': 'hhylqzm'}], [1635147131, {'subreddit_id': 't5_2goljt', 'submission_id': 'qds06o', 'comment_id': 'hhylnjb'}], [1635147117, {'subreddit_id': 't5_2qirg', 'submission_id': 'qfbbq8', 'comment_id': 'hhylmxq'}], [1635146933, {'subreddit_id': 't5_2taeb', 'submission_id': 'qf8iys', 'comment_id': 'hhylf18'}], [1635146925, {'subreddit_id': 't5_2re3s', 'submission_id': 'qf3scv', 'comment_id': 'hhyleq4'}], [1635146876, {'subreddit_id': 't5_2sctv', 'submission_id': 'qf2qkw', 'comment_id': 'hhylck7'}], [1635146737, {'subreddit_id': 't5_2ttc3', 'submission_id': 'qf993u', 'comment_id': 'hhyl6ow'}], [1635146715, {'subreddit_id': 't5_f29zi', 'submission_id': 'qf7w1l', 'comment_id': 'hhyl5rk'}], [1635146651, {'subreddit_id': 't5_37jgj', 'submission_id': 'qf2eoz', 'comment_id': 'hhyl2zo'}], [1635146595, {'subreddit_id': 't5_2rjpr', 'submission_id': 'qfasx9', 'comment_id': 'hhyl0ox'}], [1635146539, {'subreddit_id': 't5_30juii', 'submission_id': 'qevbzs', 'comment_id': 'hhyky86'}], [1635146331, {'subreddit_id': 't5_2szyo', 'submission_id': 'qf4v6z', 'comment_id': 'hhykp1g'}], [1635146320, {'subreddit_id': 't5_2xcxr', 'submission_id': 'qenv6h', 'comment_id': 'hhykojt'}], [1635146138, {'subreddit_id': 't5_3n628', 'submission_id': 'q3jl6s', 'comment_id': 'hhykgr0'}], [1635146087, {'subreddit_id': 't5_2qpe9', 'submission_id': 'qew1ws', 'comment_id': 'hhykehy'}], [1635145894, {'subreddit_id': 't5_2u8gb', 'submission_id': 'qf8fhg', 'comment_id': 'hhyk641'}], [1635145862, {'subreddit_id': 't5_2vxpf', 'submission_id': 'qf3bgf', 'comment_id': 'hhyk4r4'}], [1635145701, {'subreddit_id': 't5_2w7ch', 'submission_id': 'qeskf1', 'comment_id': 'hhyjxme'}], [1635145676, {'subreddit_id': 't5_2u0zn', 'submission_id': 'qf4i2x', 'comment_id': 'hhyjwhw'}], [1635145490, {'subreddit_id': 't5_3iv6q', 'submission_id': 'qetmvp', 'comment_id': 'hhyjo76'}], [1635145309, {'subreddit_id': 't5_339p9', 'submission_id': 'qeyu4b', 'comment_id': 'hhyjg1g'}], [1635145208, {'subreddit_id': 't5_2y15qk', 'submission_id': 'qfarbo', 'comment_id': 'hhyjbjn'}], [1635145200, {'subreddit_id': 't5_2zd61', 'submission_id': 'qfazed', 'comment_id': 'hhyjb61'}], [1635145175, {'subreddit_id': 't5_3foz6', 'submission_id': 'qeyfcn', 'comment_id': 'hhyja31'}], [1635145151, {'subreddit_id': 't5_3foz6', 'submission_id': 'qeyfcn', 'comment_id': 'hhyj921'}], [1635145085, {'subreddit_id': 't5_3k7eh', 'submission_id': 'qf4768', 'comment_id': 'hhyj65v'}], [1635144847, {'subreddit_id': 't5_35n7t', 'submission_id': 'qf3jrw', 'comment_id': 'hhyivj9'}], [1635144823, {'subreddit_id': 't5_2r12q', 'submission_id': 'q5q1rf', 'comment_id': 'hhyiuip'}], [1635144815, {'subreddit_id': 't5_2qhhw', 'submission_id': 'qf3040', 'comment_id': 'hhyiu6c'}], [1635144697, {'subreddit_id': 't5_37o2hz', 'submission_id': 'qf4ay9', 'comment_id': 'hhyiozr'}], [1635144611, {'subreddit_id': 't5_2ti4h', 'submission_id': 'qf5wn9', 'comment_id': 'hhyil6m'}], [1635144442, {'subreddit_id': 't5_2ubgg', 'submission_id': 'qf3127', 'comment_id': 'hhyie22'}], [1635144330, {'subreddit_id': 't5_2ti4h', 'submission_id': 'qf5wn9', 'comment_id': 'hhyi9dn'}], [1635144090, {'subreddit_id': 't5_3n7fs', 'submission_id': 'qf21dl', 'comment_id': 'hhyhz5i'}], [1635143902, {'subreddit_id': 't5_2u0tt', 'submission_id': 'qeu159', 'comment_id': 'hhyhr17'}], [1635143759, {'subreddit_id': 't5_13wks8', 'submission_id': 'qaofkc', 'comment_id': 'hhyhkn6'}], [1635143665, {'subreddit_id': 't5_4c4j2u', 'submission_id': 'qetf83', 'comment_id': 'hhyhgjb'}], [1635143581, {'subreddit_id': 't5_2r40j', 'submission_id': 'qf3xa1', 'comment_id': 'hhyhctg'}], [1635143561, {'subreddit_id': 't5_32ivr', 'submission_id': 'qesw1t', 'comment_id': 'hhyhbzc'}], [1635143540, {'subreddit_id': 't5_2vgfw', 'submission_id': 'qf9xeo', 'comment_id': 'hhyhb2l'}], [1635143521, {'subreddit_id': 't5_2qhrn', 'submission_id': 'qev4c5', 'comment_id': 'hhyha52'}], [1635143451, {'subreddit_id': 't5_2qq6g', 'submission_id': 'qeomcu', 'comment_id': 'hhyh72l'}], [1635143412, {'subreddit_id': 't5_2siqo', 'submission_id': 'qf0qtm', 'comment_id': 'hhyh5d4'}], [1635143302, {'subreddit_id': 't5_2ql0i', 'submission_id': 'qfa0j5', 'comment_id': 'hhyh0gu'}], [1635143218, {'subreddit_id': 't5_2ts07', 'submission_id': '8fzgzj', 'comment_id': 'hhygwsw'}], [1635143188, {'subreddit_id': 't5_2svqn', 'submission_id': 'qewce4', 'comment_id': 'hhygvh8'}], [1635143082, {'subreddit_id': 't5_2v0i1', 'submission_id': 'qesrdf', 'comment_id': 'hhygqtm'}], [1635143000, {'subreddit_id': 't5_2g3blu', 'submission_id': 'qf6cex', 'comment_id': 'hhygn6p'}], [1635142868, {'subreddit_id': 't5_2spy01', 'submission_id': 'qfacwu', 'comment_id': 'hhyghdm'}], [1635142824, {'subreddit_id': 't5_2shbb', 'submission_id': 'qf37ea', 'comment_id': 'hhygfbn'}], [1635142562, {'subreddit_id': 't5_2qhvl', 'submission_id': 'qf9dn9', 'comment_id': 'hhyg3kn'}], [1635142527, {'subreddit_id': 't5_3lf2f', 'submission_id': 'qf7cpr', 'comment_id': 'hhyg22u'}], [1635142497, {'subreddit_id': 't5_2qh1n', 'submission_id': 'qf3ybz', 'comment_id': 'hhyg0rh'}], [1635142465, {'subreddit_id': 't5_32fb0', 'submission_id': 'qf1neg', 'comment_id': 'hhyfzaz'}], [1635142383, {'subreddit_id': 't5_3iutp', 'submission_id': 'qetfci', 'comment_id': 'hhyfvlr'}], [1635142265, {'subreddit_id': 't5_2t3qtq', 'submission_id': 'qbel6y', 'comment_id': 'hhyfq92'}], [1635142246, {'subreddit_id': 't5_2tcwa', 'submission_id': 'qfa1t7', 'comment_id': 'hhyfpdi'}], [1635142200, {'subreddit_id': 't5_39ssk', 'submission_id': 'qf8bhr', 'comment_id': 'hhyfndh'}], [1635142014, {'subreddit_id': 't5_2sxpk', 'submission_id': 'qf4300', 'comment_id': 'hhyfeze'}], [1635141914, {'subreddit_id': 't5_2u2bh', 'submission_id': 'qf1oeq', 'comment_id': 'hhyfabh'}], [1635141895, {'subreddit_id': 't5_2tf0e', 'submission_id': 'qf3tha', 'comment_id': 'hhyf9er'}], [1635141858, {'subreddit_id': 't5_w8czs', 'submission_id': 'qf6kcv', 'comment_id': 'hhyf7qm'}], [1635141788, {'subreddit_id': 't5_38f3iy', 'submission_id': 'qewln0', 'comment_id': 'hhyf4i2'}], [1635141785, {'subreddit_id': 't5_2ryc6', 'submission_id': 'qeusdu', 'comment_id': 'hhyf4bx'}], [1635141768, {'subreddit_id': 't5_n9nn1', 'submission_id': 'qf9u3a', 'comment_id': 'hhyf3kw'}], [1635141768, {'subreddit_id': 't5_2qq6g', 'submission_id': 'qeomcu', 'comment_id': 'hhyf3kt'}], [1635141670, {'subreddit_id': 't5_2qr1y', 'submission_id': 'qf3v50', 'comment_id': 'hhyez28'}], [1635141560, {'subreddit_id': 't5_35n7t', 'submission_id': 'qf8x0q', 'comment_id': 'hhyeu0x'}], [1635141504, {'subreddit_id': 't5_2w7mz', 'submission_id': 'qf3cdy', 'comment_id': 'hhyerho'}], [1635141454, {'subreddit_id': 't5_2y15qk', 'submission_id': 'qfa3ep', 'comment_id': 'hhyep6p'}], [1635141422, {'subreddit_id': 't5_2raed', 'submission_id': 'qf5i4v', 'comment_id': 'hhyenph'}], [1635141362, {'subreddit_id': 't5_2dkvmc', 'submission_id': 'qf9sw4', 'comment_id': 'hhyekx1'}], [1635141284, {'subreddit_id': 't5_2m53wz', 'submission_id': 'qexyui', 'comment_id': 'hhyeheh'}], [1635141268, {'subreddit_id': 't5_2s4cy', 'submission_id': 'qf68vo', 'comment_id': 'hhyegoe'}], [1635141205, {'subreddit_id': 't5_4e76ne', 'submission_id': 'qepzl4', 'comment_id': 'hhyedt4'}], [1635141187, {'subreddit_id': 't5_3i6x1', 'submission_id': 'qexwwz', 'comment_id': 'hhyecz5'}], [1635141043, {'subreddit_id': 't5_3ipa1', 'submission_id': 'qewi4h', 'comment_id': 'hhye67c'}], [1635140919, {'subreddit_id': 't5_2rpor', 'submission_id': 'qf9lvb', 'comment_id': 'hhye0ak'}], [1635140791, {'subreddit_id': 't5_2r749', 'submission_id': 'qf68x7', 'comment_id': 'hhydufs'}], [1635140783, {'subreddit_id': 't5_25ta52', 'submission_id': 'qd86fv', 'comment_id': 'hhydu27'}], [1635140761, {'subreddit_id': 't5_2r78l', 'submission_id': 'qf0d1k', 'comment_id': 'hhydt04'}], [1635140743, {'subreddit_id': 't5_2qhdi', 'submission_id': 'qexrr5', 'comment_id': 'hhyds46'}], [1635140724, {'subreddit_id': 't5_2vqof', 'submission_id': 'qf0p29', 'comment_id': 'hhydr7n'}], [1635140580, {'subreddit_id': 't5_2rgny', 'submission_id': 'nmj1b9', 'comment_id': 'hhydk8v'}], [1635140452, {'subreddit_id': 't5_2s30g', 'submission_id': 'qeweqk', 'comment_id': 'hhyde0i'}]]\n"
     ]
    },
    {
     "name": "stderr",
     "output_type": "stream",
     "text": [
      " 65%|██████▌   | 3879/5930 [01:46<00:55, 37.04it/s]"
     ]
    },
    {
     "name": "stdout",
     "output_type": "stream",
     "text": [
      "sequential data is  [[1679520756, {'subreddit_id': 't5_2ssp7', 'submission_id': '11yblpn', 'comment_id': 'jd9uy20'}], [1674784672, {'subreddit_id': 't5_2yo6b', 'submission_id': '10lug0j', 'comment_id': 'j61nwnk'}], [1674784603, {'subreddit_id': 't5_39ne7', 'submission_id': '10m05l5', 'comment_id': 'j61nr5t'}], [1674784398, {'subreddit_id': 't5_39ne7', 'submission_id': '10jzuts', 'comment_id': 'j61nask'}], [1673985200, {'subreddit_id': 't5_2ssp7', 'submission_id': '10dxmif', 'comment_id': 'j4rlt8n'}], [1673321029, {'subreddit_id': 't5_msyp9', 'submission_id': '107wsln', 'comment_id': 'j3pbu28'}], [1672939447, {'subreddit_id': 't5_39ne7', 'submission_id': '103wu4v', 'comment_id': 'j32ok91'}], [1672936001, {'subreddit_id': 't5_swxxz', 'submission_id': '103ymoh', 'comment_id': 'j32f4hm'}], [1672886413, {'subreddit_id': 't5_39em5', 'submission_id': '103ctml', 'comment_id': 'j2zyj1c'}], [1672859586, {'subreddit_id': 't5_2ssp7', 'submission_id': '103494k', 'comment_id': 'j2y15m1'}], [1672851610, {'subreddit_id': 't5_2ssp7', 'submission_id': '101g4wy', 'comment_id': 'j2xfek2'}], [1672800697, {'subreddit_id': 't5_2ssp7', 'submission_id': 'zyuo0e', 'comment_id': 'j2ux6au'}], [1672800656, {'subreddit_id': 't5_2ssp7', 'submission_id': '101g4wy', 'comment_id': 'j2ux30o'}], [1672799564, {'subreddit_id': 't5_2ssp7', 'submission_id': '101g4wy', 'comment_id': 'j2uukfz'}], [1672795336, {'subreddit_id': 't5_2ssp7', 'submission_id': '101g4wy', 'comment_id': 'j2uksds'}], [1672795021, {'subreddit_id': 't5_2ssp7', 'submission_id': '101g4wy', 'comment_id': 'j2uk2i6'}], [1672792821, {'subreddit_id': 't5_2ssp7', 'submission_id': '101g4wy', 'comment_id': 'j2uewrx'}], [1672788624, {'subreddit_id': 't5_2ssp7', 'submission_id': '101g4wy', 'comment_id': 'j2u4msi'}], [1672788611, {'subreddit_id': 't5_q4neh', 'submission_id': '101grxv', 'comment_id': 'j2u4lno'}], [1672788598, {'subreddit_id': 't5_2ssp7', 'submission_id': '101g4wy', 'comment_id': 'j2u4kjy'}], [1672788567, {'subreddit_id': 't5_2ssp7', 'submission_id': 'zyuo0e', 'comment_id': 'j2u4hu7'}], [1672694412, {'subreddit_id': 't5_2ssp7', 'submission_id': '101g4wy', 'comment_id': 'j2oislu'}], [1672694235, {'subreddit_id': 't5_q4neh', 'submission_id': '101grxv', 'comment_id': 'j2oicgc'}], [1672628951, {'subreddit_id': 't5_2ssp7', 'submission_id': 'zyuo0e', 'comment_id': 'j2l3rs0'}], [1672424323, {'subreddit_id': 't5_2ssp7', 'submission_id': 'zyuo0e', 'comment_id': 'j29v5un'}], [1672353161, {'subreddit_id': 't5_hcycg', 'submission_id': 'zxv5jy', 'comment_id': 'j261bcm'}], [1672353064, {'subreddit_id': 't5_m0bnr', 'submission_id': 'zy69wm', 'comment_id': 'j2612v2'}], [1672293034, {'subreddit_id': 't5_4c4j2u', 'submission_id': 'zxdf86', 'comment_id': 'j22rt0w'}], [1672292786, {'subreddit_id': 't5_4c4j2u', 'submission_id': 'zxdf86', 'comment_id': 'j22regt'}], [1672291802, {'subreddit_id': 't5_hw1ju', 'submission_id': 'zxo9ch', 'comment_id': 'j22pr5j'}], [1672291758, {'subreddit_id': 't5_hw1ju', 'submission_id': 'zxo9ch', 'comment_id': 'j22poep'}], [1672291713, {'subreddit_id': 't5_hw1ju', 'submission_id': 'zxo9ch', 'comment_id': 'j22plmw'}], [1672291628, {'subreddit_id': 't5_mbn0j', 'submission_id': 'zxe0qu', 'comment_id': 'j22pgfu'}], [1672286971, {'subreddit_id': 't5_og6f7', 'submission_id': 'zxcnkw', 'comment_id': 'j22gqbl'}], [1672286893, {'subreddit_id': 't5_39em5', 'submission_id': 'zwz95p', 'comment_id': 'j22gkrg'}], [1672286841, {'subreddit_id': 't5_q4neh', 'submission_id': 'zx8jil', 'comment_id': 'j22ggxj'}], [1672281897, {'subreddit_id': 't5_39em5', 'submission_id': 'zwz95p', 'comment_id': 'j2260rz'}], [1672278535, {'subreddit_id': 't5_q4neh', 'submission_id': 'zx8jil', 'comment_id': 'j21ygst'}], [1672265227, {'subreddit_id': 't5_q4neh', 'submission_id': 'zx8jil', 'comment_id': 'j213fn9'}], [1672263394, {'subreddit_id': 't5_hcycg', 'submission_id': 'zxbi33', 'comment_id': 'j20yxqf'}], [1672260349, {'subreddit_id': 't5_hw1ju', 'submission_id': 'zxcqn7', 'comment_id': 'j20r96q'}], [1672259810, {'subreddit_id': 't5_2ssp7', 'submission_id': 'zx9spp', 'comment_id': 'j20pw2w'}], [1672258758, {'subreddit_id': 't5_2s30n', 'submission_id': 'zwz4qi', 'comment_id': 'j20n859'}], [1672258620, {'subreddit_id': 't5_2ssp7', 'submission_id': 'zwr3wo', 'comment_id': 'j20mvmp'}], [1669876070, {'subreddit_id': 't5_q4neh', 'submission_id': 'z94392', 'comment_id': 'iygnwyk'}], [1669759134, {'subreddit_id': 't5_mbn0j', 'submission_id': 'z7st1p', 'comment_id': 'iya63ic'}], [1663184635, {'subreddit_id': 't5_2ssp7', 'submission_id': 'v142yb', 'comment_id': 'iofs6nm'}], [1663184635, {'subreddit_id': 't5_2ssp7', 'submission_id': 'v142yb', 'comment_id': 'iofs6nf'}], [1663184607, {'subreddit_id': 't5_2ssp7', 'submission_id': 'v142yb', 'comment_id': 'iofs46z'}], [1663184597, {'subreddit_id': 't5_2ssp7', 'submission_id': 'v142yb', 'comment_id': 'iofs3c9'}], [1663184543, {'subreddit_id': 't5_2ssp7', 'submission_id': 'v142yb', 'comment_id': 'iofrykc'}], [1663184507, {'subreddit_id': 't5_2ssp7', 'submission_id': 'v142yb', 'comment_id': 'iofrvc3'}], [1663184468, {'subreddit_id': 't5_2ssp7', 'submission_id': 'v142yb', 'comment_id': 'iofrrt1'}], [1655759594, {'subreddit_id': 't5_2ssp7', 'submission_id': 'vgoahz', 'comment_id': 'id3t5q3'}], [1655603747, {'subreddit_id': 't5_2ssp7', 'submission_id': 'veztz3', 'comment_id': 'icwdpv2'}], [1654303024, {'subreddit_id': 't5_2ssp7', 'submission_id': 'v3xnx5', 'comment_id': 'ib3ki0c'}], [1654017092, {'subreddit_id': 't5_3pmoe', 'submission_id': 'v1gwof', 'comment_id': 'iaomp1i'}], [1653976112, {'subreddit_id': 't5_2ssp7', 'submission_id': 'v148xj', 'comment_id': 'iamrqt7'}], [1653972532, {'subreddit_id': 't5_2ssp7', 'submission_id': 'v148xj', 'comment_id': 'iammpp8'}], [1653955751, {'subreddit_id': 't5_2ssp7', 'submission_id': 'v142yb', 'comment_id': 'ials9nd'}], [1653954215, {'subreddit_id': 't5_2ssp7', 'submission_id': 'v142yb', 'comment_id': 'ialpcgn'}], [1653951693, {'subreddit_id': 't5_2ssp7', 'submission_id': 'v142yb', 'comment_id': 'ialkgy2'}], [1653948143, {'subreddit_id': 't5_2ssp7', 'submission_id': 'v142yb', 'comment_id': 'ialdeo6'}], [1653935142, {'subreddit_id': 't5_3nasz', 'submission_id': 'v11yci', 'comment_id': 'iakm25n'}], [1653934869, {'subreddit_id': 't5_2ssp7', 'submission_id': 'v148xj', 'comment_id': 'iaklgdf'}], [1653934370, {'subreddit_id': 't5_2ssp7', 'submission_id': 'v12eys', 'comment_id': 'iakkckd'}], [1653934292, {'subreddit_id': 't5_2ssp7', 'submission_id': 'v12y7l', 'comment_id': 'iakk6g5'}], [1653934197, {'subreddit_id': 't5_2ssp7', 'submission_id': 'v0uawz', 'comment_id': 'iakjyvr'}], [1653934112, {'subreddit_id': 't5_2ssp7', 'submission_id': 'v0t88y', 'comment_id': 'iakjs9e'}], [1653933921, {'subreddit_id': 't5_2ssp7', 'submission_id': 'v101dq', 'comment_id': 'iakjcxy'}], [1653933890, {'subreddit_id': 't5_2ssp7', 'submission_id': 'v105gm', 'comment_id': 'iakjagi'}], [1653933595, {'subreddit_id': 't5_2ssp7', 'submission_id': 'v0tkso', 'comment_id': 'iakimn3'}], [1653933452, {'subreddit_id': 't5_2ssp7', 'submission_id': 'v0cxdv', 'comment_id': 'iakibbu'}], [1653933314, {'subreddit_id': 't5_2ssp7', 'submission_id': 'v12c4k', 'comment_id': 'iaki0fn'}], [1653933217, {'subreddit_id': 't5_2ssp7', 'submission_id': 'v053aq', 'comment_id': 'iakhstr'}], [1653933116, {'subreddit_id': 't5_2ssp7', 'submission_id': 'v12rp2', 'comment_id': 'iakhl0t'}], [1653933065, {'subreddit_id': 't5_2ssp7', 'submission_id': 'v0wi9n', 'comment_id': 'iakhgwu'}], [1653932994, {'subreddit_id': 't5_2ssp7', 'submission_id': 'v131x3', 'comment_id': 'iakhb6z'}], [1653932877, {'subreddit_id': 't5_2ssp7', 'submission_id': 'uzt464', 'comment_id': 'iakh1qj'}], [1653932728, {'subreddit_id': 't5_2ssp7', 'submission_id': 'v13nao', 'comment_id': 'iakgptr'}], [1653932645, {'subreddit_id': 't5_2ssp7', 'submission_id': 'v0xaac', 'comment_id': 'iakgjb6'}], [1653932520, {'subreddit_id': 't5_2ssp7', 'submission_id': 'v142yb', 'comment_id': 'iakg92n'}], [1653932225, {'subreddit_id': 't5_2ssp7', 'submission_id': 'v14y6h', 'comment_id': 'iakfl2e'}], [1653932145, {'subreddit_id': 't5_2ssp7', 'submission_id': 'v158w3', 'comment_id': 'iakfej8'}], [1653931833, {'subreddit_id': 't5_2ssp7', 'submission_id': 'v147gj', 'comment_id': 'iakepbx'}], [1653931793, {'subreddit_id': 't5_2ssp7', 'submission_id': 'v148xj', 'comment_id': 'iakem4x'}], [1653931554, {'subreddit_id': 't5_2ssp7', 'submission_id': 'v11yg9', 'comment_id': 'iake2zu'}], [1653931414, {'subreddit_id': 't5_2ssp7', 'submission_id': 'v0efoo', 'comment_id': 'iakdrmm'}], [1653931100, {'subreddit_id': 't5_2ssp7', 'submission_id': 'v0yvyv', 'comment_id': 'iakd1j7'}], [1653931005, {'subreddit_id': 't5_2ssp7', 'submission_id': 'v11909', 'comment_id': 'iakctt8'}], [1653930402, {'subreddit_id': 't5_2ssp7', 'submission_id': 'v0y81k', 'comment_id': 'iakbguq'}], [1653930338, {'subreddit_id': 't5_2ssp7', 'submission_id': 'v0y81k', 'comment_id': 'iakbbk1'}], [1653930184, {'subreddit_id': 't5_2qnub', 'submission_id': 'v0p8l4', 'comment_id': 'iakayvr'}], [1653325651, {'subreddit_id': 't5_swxxz', 'submission_id': 'uvq19v', 'comment_id': 'i9pcywl'}], [1653236217, {'subreddit_id': 't5_3dpf92', 'submission_id': 'ub4tg4', 'comment_id': 'i9ktdd4'}], [1653236013, {'subreddit_id': 't5_3dpf92', 'submission_id': 'ufedwb', 'comment_id': 'i9kswj4'}], [1649558884, {'subreddit_id': 't5_2yo6b', 'submission_id': 'tvl670', 'comment_id': 'i446q42'}], [1649558866, {'subreddit_id': 't5_2yo6b', 'submission_id': 'tvl670', 'comment_id': 'i446ott'}], [1647369137, {'subreddit_id': 't5_qir9n', 'submission_id': 'tetdwy', 'comment_id': 'i0s5ckq'}], [1641267945, {'subreddit_id': 't5_2yrq6', 'submission_id': 'rut9fv', 'comment_id': 'hr62e4b'}]]\n"
     ]
    },
    {
     "name": "stderr",
     "output_type": "stream",
     "text": [
      " 66%|██████▌   | 3900/5930 [01:47<01:00, 33.30it/s]"
     ]
    },
    {
     "name": "stdout",
     "output_type": "stream",
     "text": [
      "sequential data is  [[1592773467, {'subreddit_id': 't5_swm44', 'submission_id': 'frqfg3', 'comment_id': 'fvknflh'}], [1592772688, {'subreddit_id': 't5_2xhvq', 'submission_id': 'hd72ld', 'comment_id': 'fvkm111'}], [1592767354, {'subreddit_id': 't5_2xhvq', 'submission_id': 'hd72ld', 'comment_id': 'fvkcbgu'}], [1592767354, {'subreddit_id': 't5_2xhvq', 'submission_id': 'hd72ld', 'comment_id': 'fvkcbgq'}], [1592762213, {'subreddit_id': 't5_2xhvq', 'submission_id': 'hd72ld', 'comment_id': 'fvk2qz7'}], [1592761310, {'subreddit_id': 't5_3jj03', 'submission_id': 'hd3tak', 'comment_id': 'fvk135f'}], [1592700798, {'subreddit_id': 't5_m0bnr', 'submission_id': 'hcrfr4', 'comment_id': 'fvhs67i'}], [1592680782, {'subreddit_id': 't5_2sdqx', 'submission_id': 'hcp9q0', 'comment_id': 'fvgtaug'}], [1592618128, {'subreddit_id': 't5_2uao3', 'submission_id': 'hcb0rn', 'comment_id': 'fvef1cd'}], [1592343849, {'subreddit_id': 't5_3079s', 'submission_id': 'h9x0pa', 'comment_id': 'fv24gdj'}], [1592323454, {'subreddit_id': 't5_2qh1i', 'submission_id': 'ha2lj2', 'comment_id': 'fv0utve'}], [1592257130, {'subreddit_id': 't5_2rjli', 'submission_id': 'h9hzh7', 'comment_id': 'fuy1pey'}], [1592148909, {'subreddit_id': 't5_2sdqx', 'submission_id': 'h8sa0r', 'comment_id': 'fut3m9h'}], [1591988724, {'subreddit_id': 't5_aclr0', 'submission_id': 'h7li55', 'comment_id': 'fummkeq'}], [1591988259, {'subreddit_id': 't5_2w844', 'submission_id': 'h7dokf', 'comment_id': 'fumlmt5'}], [1591889144, {'subreddit_id': 't5_2sdqx', 'submission_id': 'h0vs9p', 'comment_id': 'ftpcm8l'}], [1591713728, {'subreddit_id': 't5_2sdqx', 'submission_id': 'gzl1lw', 'comment_id': 'fthapa9'}], [1591540442, {'subreddit_id': 't5_2qh1i', 'submission_id': 'gy5hcu', 'comment_id': 'ft9rn93'}], [1591410071, {'subreddit_id': 't5_3jj03', 'submission_id': 'gx7nq5', 'comment_id': 'ft1nixv'}], [1591324967, {'subreddit_id': 't5_2sdqx', 'submission_id': 'gwsmq7', 'comment_id': 'fsxjp43'}], [1591220238, {'subreddit_id': 't5_323oy', 'submission_id': 'gvye94', 'comment_id': 'fssj5wv'}], [1590453379, {'subreddit_id': 't5_2sdqx', 'submission_id': 'gqibbv', 'comment_id': 'frtmg5j'}], [1590347791, {'subreddit_id': 't5_30tmh', 'submission_id': 'gprhe1', 'comment_id': 'froyx8y'}], [1590248025, {'subreddit_id': 't5_2rjli', 'submission_id': 'gp3oqx', 'comment_id': 'frk255p'}], [1589856121, {'subreddit_id': 't5_2sdqx', 'submission_id': 'gm2r9z', 'comment_id': 'fr3f7mt'}], [1589716407, {'subreddit_id': 't5_2sdqx', 'submission_id': 'gkxm35', 'comment_id': 'fqwsrk7'}], [1589474890, {'subreddit_id': 't5_2qh0u', 'submission_id': 'gjkjo5', 'comment_id': 'fqmbvzg'}], [1589338131, {'subreddit_id': 't5_2qh1i', 'submission_id': 'gi9wlt', 'comment_id': 'fqg51nm'}], [1588792399, {'subreddit_id': 't5_2s9qk', 'submission_id': 'genq01', 'comment_id': 'fpoxlgy'}], [1587740875, {'subreddit_id': 't5_2szyo', 'submission_id': 'g6xvl1', 'comment_id': 'fofq8r1'}], [1587335093, {'subreddit_id': 't5_2qh1i', 'submission_id': 'g4727o', 'comment_id': 'fnxb5qe'}], [1586553966, {'subreddit_id': 't5_3jj03', 'submission_id': 'fyiiv7', 'comment_id': 'fn13cmh'}], [1585758544, {'subreddit_id': 't5_2sdqx', 'submission_id': 'fsgox7', 'comment_id': 'fm4pq9e'}], [1584741802, {'subreddit_id': 't5_2sdqx', 'submission_id': 'fm2kdf', 'comment_id': 'fl230s1'}], [1584707369, {'subreddit_id': 't5_kf94g', 'submission_id': 'fljlt1', 'comment_id': 'fl0id33'}], [1583923089, {'subreddit_id': 't5_2qh1i', 'submission_id': 'fgq66l', 'comment_id': 'fk6zus8'}], [1583294063, {'subreddit_id': 't5_2sdqx', 'submission_id': 'fd4px4', 'comment_id': 'fjfl4y4'}], [1582378180, {'subreddit_id': 't5_2s30g', 'submission_id': 'f7rlwn', 'comment_id': 'fieeit0'}], [1582168060, {'subreddit_id': 't5_2qh1i', 'submission_id': 'f6fkuo', 'comment_id': 'fi5ppyk'}], [1581682207, {'subreddit_id': 't5_m0bnr', 'submission_id': 'f3m9g1', 'comment_id': 'fhkg034'}], [1581581333, {'subreddit_id': 't5_2s30g', 'submission_id': 'f2xds7', 'comment_id': 'fhgvscw'}], [1580530288, {'subreddit_id': 't5_2qtwb', 'submission_id': 'ewqn36', 'comment_id': 'fg5kw3q'}], [1580378109, {'subreddit_id': 't5_3jj03', 'submission_id': 'evmqhj', 'comment_id': 'ffzgmrr'}], [1580116842, {'subreddit_id': 't5_39em5', 'submission_id': 'euahla', 'comment_id': 'ffq2j35'}], [1580051047, {'subreddit_id': 't5_2rcuq', 'submission_id': 'eogwi8', 'comment_id': 'ffm9u1a'}], [1579554977, {'subreddit_id': 't5_2qh1i', 'submission_id': 'ercgvw', 'comment_id': 'ff43w7d'}], [1579452807, {'subreddit_id': 't5_2qp6s', 'submission_id': 'ehbyug', 'comment_id': 'fez0nil'}], [1579301360, {'subreddit_id': 't5_2sdqx', 'submission_id': 'eq1qdj', 'comment_id': 'feok8mo'}], [1579301041, {'subreddit_id': 't5_39em5', 'submission_id': 'eq4jll', 'comment_id': 'feojnu6'}], [1579267982, {'subreddit_id': 't5_2s30g', 'submission_id': 'epyrad', 'comment_id': 'fems26b'}], [1579163220, {'subreddit_id': 't5_2qh1i', 'submission_id': 'ep6k7l', 'comment_id': 'fej9tf5'}], [1579130088, {'subreddit_id': 't5_2qh1i', 'submission_id': 'ep3j8m', 'comment_id': 'fei4hm5'}], [1579129891, {'subreddit_id': 't5_cqvah', 'submission_id': 'eo8euj', 'comment_id': 'fei468f'}], [1577712455, {'subreddit_id': 't5_2sdqx', 'submission_id': 'ehkglm', 'comment_id': 'fck087j'}], [1576736089, {'subreddit_id': 't5_39em5', 'submission_id': 'ecmm9c', 'comment_id': 'fbcwa3r'}], [1576709198, {'subreddit_id': 't5_2qh03', 'submission_id': 'ech3vm', 'comment_id': 'fbbvpgl'}], [1576537941, {'subreddit_id': 't5_2s7x0', 'submission_id': 'ebhbka', 'comment_id': 'fb5zwb7'}], [1576494236, {'subreddit_id': 't5_39em5', 'submission_id': 'ebcnet', 'comment_id': 'fb3x9va'}], [1576353756, {'subreddit_id': 't5_2sdqx', 'submission_id': 'eanw1a', 'comment_id': 'fauxi2d'}], [1576185407, {'subreddit_id': 't5_2qh1i', 'submission_id': 'e9pecj', 'comment_id': 'falji3d'}], [1576175220, {'subreddit_id': 't5_36znx', 'submission_id': 'e8a3ff', 'comment_id': 'fakyeed'}], [1576172835, {'subreddit_id': 't5_2sdqx', 'submission_id': 'e9ou38', 'comment_id': 'faktevu'}], [1576086191, {'subreddit_id': 't5_2qh1i', 'submission_id': 'e92xoy', 'comment_id': 'fahhvd1'}], [1575840707, {'subreddit_id': 't5_2qh1i', 'submission_id': 'e7umv9', 'comment_id': 'fa836ud'}], [1575411195, {'subreddit_id': 't5_2sdqx', 'submission_id': 'e5m2ix', 'comment_id': 'f9kzpa0'}], [1575409216, {'subreddit_id': 't5_2sdqx', 'submission_id': 'e5kix2', 'comment_id': 'f9kwds4'}], [1574801135, {'subreddit_id': 't5_2qh1i', 'submission_id': 'e1we7p', 'comment_id': 'f8tdj72'}], [1574736732, {'subreddit_id': 't5_2qh1i', 'submission_id': 'e1o0mc', 'comment_id': 'f8rbyqt'}], [1574148835, {'subreddit_id': 't5_39em5', 'submission_id': 'dyaqdp', 'comment_id': 'f813uv4'}], [1574135513, {'subreddit_id': 't5_39em5', 'submission_id': 'dyaqdp', 'comment_id': 'f80qggf'}], [1574007068, {'subreddit_id': 't5_2xhvq', 'submission_id': 'dxi91m', 'comment_id': 'f7trs5b'}], [1573043697, {'subreddit_id': 't5_2qh1o', 'submission_id': 'ds7efo', 'comment_id': 'f6p0qvo'}], [1573043144, {'subreddit_id': 't5_2qh1i', 'submission_id': 'ds5d1a', 'comment_id': 'f6p07ik'}], [1573036958, {'subreddit_id': 't5_m0bnr', 'submission_id': 'dsc4de', 'comment_id': 'f6ovbnr'}], [1573011454, {'subreddit_id': 't5_2qh1i', 'submission_id': 'ds4fem', 'comment_id': 'f6oa0pj'}], [1572903864, {'subreddit_id': 't5_2szyo', 'submission_id': 'drk3u1', 'comment_id': 'f6k2fr2'}], [1572263084, {'subreddit_id': 't5_2ssp7', 'submission_id': 'do4dul', 'comment_id': 'f5kgx6g'}], [1572115981, {'subreddit_id': 't5_2qh1i', 'submission_id': 'dnd0p4', 'comment_id': 'f5b0ci8'}], [1572109996, {'subreddit_id': 't5_2qh0u', 'submission_id': 'dnevqg', 'comment_id': 'f5am4j6'}], [1572090870, {'subreddit_id': 't5_aclr0', 'submission_id': 'dn7smd', 'comment_id': 'f59k4ab'}], [1572086018, {'subreddit_id': 't5_2qh1i', 'submission_id': 'dn3gkd', 'comment_id': 'f59eilm'}], [1571915822, {'subreddit_id': 't5_2qh1i', 'submission_id': 'dm6qno', 'comment_id': 'f4ztv0o'}], [1571869913, {'subreddit_id': 't5_3gcwj', 'submission_id': 'dlyhf2', 'comment_id': 'f4xxfxu'}], [1571823764, {'subreddit_id': 't5_2qh1i', 'submission_id': 'dlrz06', 'comment_id': 'f4uq645'}], [1571697080, {'subreddit_id': 't5_2s30g', 'submission_id': 'dl3dbg', 'comment_id': 'f4o6gry'}], [1571656717, {'subreddit_id': 't5_2xhvq', 'submission_id': 'dkq8o5', 'comment_id': 'f4krlkq'}], [1571631995, {'subreddit_id': 't5_2qo2a', 'submission_id': 'dkt3vn', 'comment_id': 'f4k1gcu'}], [1571622634, {'subreddit_id': 't5_39em5', 'submission_id': 'dkj0hm', 'comment_id': 'f4jn94b'}], [1571621600, {'subreddit_id': 't5_2qh1i', 'submission_id': 'dko28q', 'comment_id': 'f4jl929'}], [1571359615, {'subreddit_id': 't5_2qh1i', 'submission_id': 'djabmx', 'comment_id': 'f44vcz9'}], [1571224176, {'subreddit_id': 't5_323oy', 'submission_id': 'dig595', 'comment_id': 'f3ww9dp'}], [1571045659, {'subreddit_id': 't5_3egn8', 'submission_id': 'dgx3ma', 'comment_id': 'f3p61qz'}], [1570969717, {'subreddit_id': 't5_2qh0u', 'submission_id': 'dh4ikq', 'comment_id': 'f3kue5m'}], [1570880665, {'subreddit_id': 't5_2szyo', 'submission_id': 'dgsfhp', 'comment_id': 'f3ek4k6'}], [1570879303, {'subreddit_id': 't5_2qh1i', 'submission_id': 'dghcy7', 'comment_id': 'f3eiujv'}], [1570705510, {'subreddit_id': 't5_2qh1i', 'submission_id': 'dfkzwo', 'comment_id': 'f364bpm'}], [1570671169, {'subreddit_id': 't5_2qh1i', 'submission_id': 'dfk2v4', 'comment_id': 'f358n6f'}], [1570619596, {'subreddit_id': 't5_2qo2a', 'submission_id': 'dfdfjk', 'comment_id': 'f32nrks'}], [1570616368, {'subreddit_id': 't5_2qh1i', 'submission_id': 'dfa6it', 'comment_id': 'f32lf6p'}], [1570326273, {'subreddit_id': 't5_2t25p', 'submission_id': 'dduyli', 'comment_id': 'f2ocy7l'}]]\n"
     ]
    },
    {
     "name": "stderr",
     "output_type": "stream",
     "text": [
      "100%|██████████| 5930/5930 [02:37<00:00, 37.60it/s]\n"
     ]
    },
    {
     "ename": "ValueError",
     "evalue": "The truth value of an array with more than one element is ambiguous. Use a.any() or a.all()",
     "output_type": "error",
     "traceback": [
      "\u001b[1;31m---------------------------------------------------------------------------\u001b[0m",
      "\u001b[1;31mValueError\u001b[0m                                Traceback (most recent call last)",
      "\u001b[1;32mc:\\Users\\logan\\Documents\\Research\\Mental_Health\\Reddit_Data_Scraping\\Reddit-Crawler-Data\\Dataset Expansion\\feature_creation.ipynb Cell 11\u001b[0m line \u001b[0;36m1\n\u001b[0;32m      <a href='vscode-notebook-cell:/c%3A/Users/logan/Documents/Research/Mental_Health/Reddit_Data_Scraping/Reddit-Crawler-Data/Dataset%20Expansion/feature_creation.ipynb#X20sZmlsZQ%3D%3D?line=6'>7</a>\u001b[0m     treat_redditors\u001b[39m.\u001b[39mappend(Redditor(redditor_dict, comment_dict, submission_dict, t, \u001b[39mint\u001b[39m(time\u001b[39m.\u001b[39mmktime(FIRST_CONSIDER_DATE\u001b[39m.\u001b[39mtimetuple())), \u001b[39mint\u001b[39m(time\u001b[39m.\u001b[39mmktime(CONTROL_DATE\u001b[39m.\u001b[39mtimetuple()))))\n\u001b[0;32m      <a href='vscode-notebook-cell:/c%3A/Users/logan/Documents/Research/Mental_Health/Reddit_Data_Scraping/Reddit-Crawler-Data/Dataset%20Expansion/feature_creation.ipynb#X20sZmlsZQ%3D%3D?line=7'>8</a>\u001b[0m     \u001b[39m# treat_redditors = [Redditor(redditor_dict, comment_dict, submission_dict, t, int(time.mktime(FIRST_CONSIDER_DATE.timetuple())), int(time.mktime(CONTROL_DATE.timetuple())) ) for t in redditor_dict.keys() if not t in control_group]\u001b[39;00m\n\u001b[1;32m---> <a href='vscode-notebook-cell:/c%3A/Users/logan/Documents/Research/Mental_Health/Reddit_Data_Scraping/Reddit-Crawler-Data/Dataset%20Expansion/feature_creation.ipynb#X20sZmlsZQ%3D%3D?line=9'>10</a>\u001b[0m treat_redditors \u001b[39m=\u001b[39m [t \u001b[39mfor\u001b[39;00m t \u001b[39min\u001b[39;00m treat_redditors \u001b[39mif\u001b[39;00m t\u001b[39m.\u001b[39mall_data]\n",
      "\u001b[1;32mc:\\Users\\logan\\Documents\\Research\\Mental_Health\\Reddit_Data_Scraping\\Reddit-Crawler-Data\\Dataset Expansion\\feature_creation.ipynb Cell 11\u001b[0m line \u001b[0;36m1\n\u001b[0;32m      <a href='vscode-notebook-cell:/c%3A/Users/logan/Documents/Research/Mental_Health/Reddit_Data_Scraping/Reddit-Crawler-Data/Dataset%20Expansion/feature_creation.ipynb#X20sZmlsZQ%3D%3D?line=6'>7</a>\u001b[0m     treat_redditors\u001b[39m.\u001b[39mappend(Redditor(redditor_dict, comment_dict, submission_dict, t, \u001b[39mint\u001b[39m(time\u001b[39m.\u001b[39mmktime(FIRST_CONSIDER_DATE\u001b[39m.\u001b[39mtimetuple())), \u001b[39mint\u001b[39m(time\u001b[39m.\u001b[39mmktime(CONTROL_DATE\u001b[39m.\u001b[39mtimetuple()))))\n\u001b[0;32m      <a href='vscode-notebook-cell:/c%3A/Users/logan/Documents/Research/Mental_Health/Reddit_Data_Scraping/Reddit-Crawler-Data/Dataset%20Expansion/feature_creation.ipynb#X20sZmlsZQ%3D%3D?line=7'>8</a>\u001b[0m     \u001b[39m# treat_redditors = [Redditor(redditor_dict, comment_dict, submission_dict, t, int(time.mktime(FIRST_CONSIDER_DATE.timetuple())), int(time.mktime(CONTROL_DATE.timetuple())) ) for t in redditor_dict.keys() if not t in control_group]\u001b[39;00m\n\u001b[1;32m---> <a href='vscode-notebook-cell:/c%3A/Users/logan/Documents/Research/Mental_Health/Reddit_Data_Scraping/Reddit-Crawler-Data/Dataset%20Expansion/feature_creation.ipynb#X20sZmlsZQ%3D%3D?line=9'>10</a>\u001b[0m treat_redditors \u001b[39m=\u001b[39m [t \u001b[39mfor\u001b[39;00m t \u001b[39min\u001b[39;00m treat_redditors \u001b[39mif\u001b[39;00m t\u001b[39m.\u001b[39mall_data]\n",
      "\u001b[1;31mValueError\u001b[0m: The truth value of an array with more than one element is ambiguous. Use a.any() or a.all()"
     ]
    }
   ],
   "source": [
    "from tqdm import tqdm\n",
    "treat_keys  = [t for t in redditor_dict.keys() if not t in control_group]\n",
    "treat_redditors = list()\n",
    "#TODO - parallelize? also w/ requests after is KD tree is threat safe\n",
    "for t in tqdm(treat_keys):\n",
    "    # t = treat_keys[t_idx]\n",
    "    treat_redditors.append(Redditor(redditor_dict, comment_dict, submission_dict, t, int(time.mktime(FIRST_CONSIDER_DATE.timetuple())), int(time.mktime(CONTROL_DATE.timetuple()))))\n",
    "    # treat_redditors = [Redditor(redditor_dict, comment_dict, submission_dict, t, int(time.mktime(FIRST_CONSIDER_DATE.timetuple())), int(time.mktime(CONTROL_DATE.timetuple())) ) for t in redditor_dict.keys() if not t in control_group]\n",
    "\n",
    "# treat_redditors = [t for t in treat_redditors if t.all_data]"
   ]
  },
  {
   "cell_type": "code",
   "execution_count": 149,
   "metadata": {},
   "outputs": [],
   "source": [
    "final_treat = list()\n",
    "final_treat_usernames = list()\n",
    "# for t in treat_redditors:\n",
    "for t_index in range(len(treat_redditors)):\n",
    "    t = treat_redditors[t_index]\n",
    "    try:\n",
    "        if (not isinstance(t.all_data, type(None))):\n",
    "            final_treat.append(t)\n",
    "            final_treat_usernames.append(treat_keys[t_index])\n",
    "\n",
    "    except:\n",
    "        pass"
   ]
  },
  {
   "cell_type": "code",
   "execution_count": 150,
   "metadata": {},
   "outputs": [
    {
     "data": {
      "text/plain": [
       "5930"
      ]
     },
     "execution_count": 150,
     "metadata": {},
     "output_type": "execute_result"
    }
   ],
   "source": [
    "len(treat_redditors)"
   ]
  },
  {
   "cell_type": "code",
   "execution_count": 151,
   "metadata": {},
   "outputs": [
    {
     "data": {
      "text/plain": [
       "5925"
      ]
     },
     "execution_count": 151,
     "metadata": {},
     "output_type": "execute_result"
    }
   ],
   "source": [
    "len(final_treat)"
   ]
  },
  {
   "cell_type": "code",
   "execution_count": 59,
   "metadata": {},
   "outputs": [
    {
     "data": {
      "text/plain": [
       "array([0., 1., 0.])"
      ]
     },
     "execution_count": 59,
     "metadata": {},
     "output_type": "execute_result"
    }
   ],
   "source": [
    "np.array([False, True, False], dtype='float')"
   ]
  },
  {
   "cell_type": "code",
   "execution_count": 33,
   "metadata": {},
   "outputs": [
    {
     "name": "stdout",
     "output_type": "stream",
     "text": [
      "1696949444\n",
      "1700632800\n",
      "3683356\n"
     ]
    }
   ],
   "source": [
    "import time\n",
    "print(1696949444)\n",
    "print(int(time.mktime(CONTROL_DATE.timetuple())))\n",
    "print(int(time.mktime(CONTROL_DATE.timetuple())) - 1696949444)"
   ]
  },
  {
   "cell_type": "code",
   "execution_count": null,
   "metadata": {},
   "outputs": [],
   "source": [
    "#kd tree\n",
    "#O(k*n*log(n)) construction\n",
    "#O(q*(log(n)->n)) query \n",
    "\n",
    "#search\n",
    "#O(q*k^2 * n)\n",
    "\n",
    "#kd\n",
    "#log(n) < q*k"
   ]
  },
  {
   "cell_type": "code",
   "execution_count": 11,
   "metadata": {},
   "outputs": [
    {
     "name": "stdout",
     "output_type": "stream",
     "text": [
      "Collecting scikit-learn\n",
      "  Downloading scikit_learn-1.3.2-cp310-cp310-win_amd64.whl.metadata (11 kB)\n",
      "Requirement already satisfied: numpy<2.0,>=1.17.3 in c:\\users\\logan\\documents\\research\\mental_health\\reddit_data_scraping\\reddit-crawler-data\\.venv\\lib\\site-packages (from scikit-learn) (1.26.2)\n",
      "Collecting scipy>=1.5.0 (from scikit-learn)\n",
      "  Downloading scipy-1.11.4-cp310-cp310-win_amd64.whl.metadata (60 kB)\n",
      "     ---------------------------------------- 0.0/60.4 kB ? eta -:--:--\n",
      "     ---------------------------------------- 60.4/60.4 kB 1.6 MB/s eta 0:00:00\n",
      "Collecting joblib>=1.1.1 (from scikit-learn)\n",
      "  Using cached joblib-1.3.2-py3-none-any.whl.metadata (5.4 kB)\n",
      "Collecting threadpoolctl>=2.0.0 (from scikit-learn)\n",
      "  Using cached threadpoolctl-3.2.0-py3-none-any.whl.metadata (10.0 kB)\n",
      "Downloading scikit_learn-1.3.2-cp310-cp310-win_amd64.whl (9.3 MB)\n",
      "   ---------------------------------------- 0.0/9.3 MB ? eta -:--:--\n",
      "   - -------------------------------------- 0.3/9.3 MB 5.9 MB/s eta 0:00:02\n",
      "   -- ------------------------------------- 0.5/9.3 MB 5.2 MB/s eta 0:00:02\n",
      "   --- ------------------------------------ 0.8/9.3 MB 5.4 MB/s eta 0:00:02\n",
      "   ---- ----------------------------------- 1.0/9.3 MB 5.5 MB/s eta 0:00:02\n",
      "   ----- ---------------------------------- 1.3/9.3 MB 5.6 MB/s eta 0:00:02\n",
      "   ------- -------------------------------- 1.8/9.3 MB 6.2 MB/s eta 0:00:02\n",
      "   --------- ------------------------------ 2.3/9.3 MB 6.9 MB/s eta 0:00:02\n",
      "   ------------ --------------------------- 2.8/9.3 MB 7.3 MB/s eta 0:00:01\n",
      "   --------------- ------------------------ 3.5/9.3 MB 7.9 MB/s eta 0:00:01\n",
      "   ---------------- ----------------------- 3.9/9.3 MB 8.4 MB/s eta 0:00:01\n",
      "   ------------------- -------------------- 4.4/9.3 MB 8.6 MB/s eta 0:00:01\n",
      "   -------------------- ------------------- 4.8/9.3 MB 8.3 MB/s eta 0:00:01\n",
      "   ----------------------- ---------------- 5.4/9.3 MB 8.7 MB/s eta 0:00:01\n",
      "   -------------------------- ------------- 6.2/9.3 MB 9.2 MB/s eta 0:00:01\n",
      "   ---------------------------- ----------- 6.6/9.3 MB 9.4 MB/s eta 0:00:01\n",
      "   ------------------------------- -------- 7.2/9.3 MB 9.6 MB/s eta 0:00:01\n",
      "   --------------------------------- ------ 7.7/9.3 MB 9.6 MB/s eta 0:00:01\n",
      "   ------------------------------------ --- 8.4/9.3 MB 9.7 MB/s eta 0:00:01\n",
      "   ---------------------------------------  9.2/9.3 MB 10.4 MB/s eta 0:00:01\n",
      "   ---------------------------------------- 9.3/9.3 MB 9.9 MB/s eta 0:00:00\n",
      "Using cached joblib-1.3.2-py3-none-any.whl (302 kB)\n",
      "Downloading scipy-1.11.4-cp310-cp310-win_amd64.whl (44.1 MB)\n",
      "   ---------------------------------------- 0.0/44.1 MB ? eta -:--:--\n",
      "    --------------------------------------- 0.6/44.1 MB 18.8 MB/s eta 0:00:03\n",
      "    --------------------------------------- 0.6/44.1 MB 18.8 MB/s eta 0:00:03\n",
      "   - -------------------------------------- 1.3/44.1 MB 11.9 MB/s eta 0:00:04\n",
      "   - -------------------------------------- 1.9/44.1 MB 12.3 MB/s eta 0:00:04\n",
      "   -- ------------------------------------- 2.2/44.1 MB 10.8 MB/s eta 0:00:04\n",
      "   -- ------------------------------------- 3.1/44.1 MB 13.0 MB/s eta 0:00:04\n",
      "   --- ------------------------------------ 3.7/44.1 MB 12.4 MB/s eta 0:00:04\n",
      "   --- ------------------------------------ 4.1/44.1 MB 12.6 MB/s eta 0:00:04\n",
      "   ---- ----------------------------------- 4.9/44.1 MB 13.1 MB/s eta 0:00:03\n",
      "   ----- ---------------------------------- 5.8/44.1 MB 13.8 MB/s eta 0:00:03\n",
      "   ----- ---------------------------------- 5.9/44.1 MB 13.4 MB/s eta 0:00:03\n",
      "   ----- ---------------------------------- 6.1/44.1 MB 11.5 MB/s eta 0:00:04\n",
      "   ----- ---------------------------------- 6.4/44.1 MB 12.1 MB/s eta 0:00:04\n",
      "   ------ --------------------------------- 6.7/44.1 MB 10.9 MB/s eta 0:00:04\n",
      "   ------ --------------------------------- 7.6/44.1 MB 11.3 MB/s eta 0:00:04\n",
      "   ------- -------------------------------- 8.5/44.1 MB 11.8 MB/s eta 0:00:04\n",
      "   -------- ------------------------------- 9.4/44.1 MB 12.3 MB/s eta 0:00:03\n",
      "   --------- ------------------------------ 10.0/44.1 MB 12.5 MB/s eta 0:00:03\n",
      "   --------- ------------------------------ 10.7/44.1 MB 12.3 MB/s eta 0:00:03\n",
      "   ---------- ----------------------------- 11.6/44.1 MB 13.1 MB/s eta 0:00:03\n",
      "   ----------- ---------------------------- 12.5/44.1 MB 13.6 MB/s eta 0:00:03\n",
      "   ------------ --------------------------- 13.4/44.1 MB 13.9 MB/s eta 0:00:03\n",
      "   ------------ --------------------------- 14.3/44.1 MB 14.2 MB/s eta 0:00:03\n",
      "   ------------- -------------------------- 14.8/44.1 MB 14.2 MB/s eta 0:00:03\n",
      "   -------------- ------------------------- 15.8/44.1 MB 14.6 MB/s eta 0:00:02\n",
      "   -------------- ------------------------- 16.5/44.1 MB 16.0 MB/s eta 0:00:02\n",
      "   --------------- ------------------------ 17.3/44.1 MB 17.7 MB/s eta 0:00:02\n",
      "   ---------------- ----------------------- 17.9/44.1 MB 17.7 MB/s eta 0:00:02\n",
      "   ---------------- ----------------------- 18.4/44.1 MB 16.8 MB/s eta 0:00:02\n",
      "   ----------------- ---------------------- 19.2/44.1 MB 17.2 MB/s eta 0:00:02\n",
      "   ------------------ --------------------- 20.0/44.1 MB 16.4 MB/s eta 0:00:02\n",
      "   ------------------ --------------------- 20.6/44.1 MB 16.4 MB/s eta 0:00:02\n",
      "   ------------------- -------------------- 21.5/44.1 MB 16.8 MB/s eta 0:00:02\n",
      "   -------------------- ------------------- 22.4/44.1 MB 16.4 MB/s eta 0:00:02\n",
      "   --------------------- ------------------ 23.2/44.1 MB 17.2 MB/s eta 0:00:02\n",
      "   --------------------- ------------------ 24.2/44.1 MB 17.7 MB/s eta 0:00:02\n",
      "   ---------------------- ----------------- 25.0/44.1 MB 16.8 MB/s eta 0:00:02\n",
      "   ----------------------- ---------------- 25.6/44.1 MB 16.4 MB/s eta 0:00:02\n",
      "   ----------------------- ---------------- 26.5/44.1 MB 16.8 MB/s eta 0:00:02\n",
      "   ------------------------ --------------- 26.7/44.1 MB 15.6 MB/s eta 0:00:02\n",
      "   ------------------------ --------------- 27.4/44.1 MB 15.6 MB/s eta 0:00:02\n",
      "   ------------------------- -------------- 28.1/44.1 MB 16.0 MB/s eta 0:00:02\n",
      "   -------------------------- ------------- 28.9/44.1 MB 16.0 MB/s eta 0:00:01\n",
      "   -------------------------- ------------- 29.4/44.1 MB 16.0 MB/s eta 0:00:01\n",
      "   --------------------------- ------------ 30.1/44.1 MB 16.0 MB/s eta 0:00:01\n",
      "   --------------------------- ------------ 30.6/44.1 MB 15.6 MB/s eta 0:00:01\n",
      "   ---------------------------- ----------- 31.4/44.1 MB 16.0 MB/s eta 0:00:01\n",
      "   ----------------------------- ---------- 32.2/44.1 MB 15.2 MB/s eta 0:00:01\n",
      "   ----------------------------- ---------- 32.6/44.1 MB 14.6 MB/s eta 0:00:01\n",
      "   ----------------------------- ---------- 33.0/44.1 MB 14.6 MB/s eta 0:00:01\n",
      "   ------------------------------ --------- 33.3/44.1 MB 13.6 MB/s eta 0:00:01\n",
      "   ------------------------------ --------- 33.9/44.1 MB 13.4 MB/s eta 0:00:01\n",
      "   ------------------------------- -------- 34.6/44.1 MB 13.1 MB/s eta 0:00:01\n",
      "   ------------------------------- -------- 35.1/44.1 MB 12.8 MB/s eta 0:00:01\n",
      "   -------------------------------- ------- 35.5/44.1 MB 12.6 MB/s eta 0:00:01\n",
      "   --------------------------------- ------ 36.4/44.1 MB 12.6 MB/s eta 0:00:01\n",
      "   --------------------------------- ------ 37.2/44.1 MB 13.4 MB/s eta 0:00:01\n",
      "   ---------------------------------- ----- 37.9/44.1 MB 13.1 MB/s eta 0:00:01\n",
      "   ---------------------------------- ----- 38.6/44.1 MB 13.4 MB/s eta 0:00:01\n",
      "   ----------------------------------- ---- 39.5/44.1 MB 13.4 MB/s eta 0:00:01\n",
      "   ------------------------------------ --- 40.4/44.1 MB 13.9 MB/s eta 0:00:01\n",
      "   ------------------------------------- -- 41.2/44.1 MB 14.6 MB/s eta 0:00:01\n",
      "   -------------------------------------- - 41.9/44.1 MB 14.6 MB/s eta 0:00:01\n",
      "   -------------------------------------- - 42.4/44.1 MB 13.9 MB/s eta 0:00:01\n",
      "   ---------------------------------------  43.2/44.1 MB 14.5 MB/s eta 0:00:01\n",
      "   ---------------------------------------  43.9/44.1 MB 16.0 MB/s eta 0:00:01\n",
      "   ---------------------------------------  44.1/44.1 MB 16.4 MB/s eta 0:00:01\n",
      "   ---------------------------------------  44.1/44.1 MB 16.4 MB/s eta 0:00:01\n",
      "   ---------------------------------------- 44.1/44.1 MB 13.6 MB/s eta 0:00:00\n",
      "Using cached threadpoolctl-3.2.0-py3-none-any.whl (15 kB)\n",
      "Installing collected packages: threadpoolctl, scipy, joblib, scikit-learn\n",
      "Successfully installed joblib-1.3.2 scikit-learn-1.3.2 scipy-1.11.4 threadpoolctl-3.2.0\n"
     ]
    }
   ],
   "source": [
    "!pip install scikit-learn"
   ]
  },
  {
   "cell_type": "code",
   "execution_count": 12,
   "metadata": {},
   "outputs": [],
   "source": [
    "from sklearn.neighbors import KDTree\n",
    "\n",
    "\n"
   ]
  },
  {
   "cell_type": "code",
   "execution_count": 141,
   "metadata": {},
   "outputs": [],
   "source": [
    "data = np.array([t.get_data().tolist() for t in final_treat])\n",
    "len(data)\n",
    "data = np.nan_to_num(data)"
   ]
  },
  {
   "cell_type": "code",
   "execution_count": 139,
   "metadata": {},
   "outputs": [
    {
     "data": {
      "text/plain": [
       "array([ 4.80300000e+03,  1.59238793e+09,  1.00000000e+00,  0.00000000e+00,\n",
       "        0.00000000e+00,  0.00000000e+00,  0.00000000e+00,  2.65400000e+03,\n",
       "        0.00000000e+00,  0.00000000e+00,  2.00000000e+00,  1.00000000e+00,\n",
       "        0.00000000e+00,  0.00000000e+00,  0.00000000e+00,  0.00000000e+00,\n",
       "        0.00000000e+00,  0.00000000e+00,  0.00000000e+00,  0.00000000e+00,\n",
       "        0.00000000e+00,  0.00000000e+00,  0.00000000e+00,  0.00000000e+00,\n",
       "        0.00000000e+00,  0.00000000e+00,  0.00000000e+00,  0.00000000e+00,\n",
       "        0.00000000e+00,  0.00000000e+00,  0.00000000e+00,  0.00000000e+00,\n",
       "        0.00000000e+00,  0.00000000e+00,  0.00000000e+00,  0.00000000e+00,\n",
       "        4.68750000e+00,  0.00000000e+00,  0.00000000e+00,  4.68750000e+00,\n",
       "        0.00000000e+00,  0.00000000e+00,  0.00000000e+00, -2.46710526e-04,\n",
       "       -2.46710526e-04, -2.46710526e-04, -2.46710526e-04, -2.46710526e-04,\n",
       "       -2.46710526e-04, -2.46710526e-04, -2.46710526e-04, -2.46710526e-04,\n",
       "       -2.46710526e-04,  4.68750000e-03, -2.46710526e-04, -2.46710526e-04,\n",
       "       -2.46710526e-04, -2.46710526e-04, -2.46710526e-04, -2.46710526e-04,\n",
       "       -2.46710526e-04, -2.46710526e-04, -2.46710526e-04,  0.00000000e+00,\n",
       "        0.00000000e+00,  2.25312500e+02,  8.56250000e-01,  0.00000000e+00,\n",
       "        0.00000000e+00,  0.00000000e+00,  0.00000000e+00,  0.00000000e+00,\n",
       "        0.00000000e+00,  0.00000000e+00,  0.00000000e+00,  0.00000000e+00,\n",
       "        0.00000000e+00,  0.00000000e+00,  0.00000000e+00,  0.00000000e+00,\n",
       "        0.00000000e+00,  0.00000000e+00,  0.00000000e+00,  0.00000000e+00,\n",
       "        0.00000000e+00,  0.00000000e+00,  0.00000000e+00,  0.00000000e+00,\n",
       "        0.00000000e+00,  8.00000000e+00,  0.00000000e+00,  0.00000000e+00,\n",
       "        8.00000000e+00,  0.00000000e+00,  0.00000000e+00,  0.00000000e+00,\n",
       "       -5.16575661e-04, -5.16575661e-04, -5.16575661e-04, -5.16575661e-04,\n",
       "        1.20756227e-03, -5.16575661e-04, -5.16575661e-04, -5.16575661e-04,\n",
       "       -5.16575661e-04, -5.16575661e-04,  5.77053120e-03,  1.80369278e-03,\n",
       "       -5.16575661e-04, -5.16575661e-04, -5.16575661e-04, -5.16575661e-04,\n",
       "       -5.16575661e-04, -5.16575661e-04, -5.16575661e-04, -5.16575661e-04,\n",
       "        0.00000000e+00,  0.00000000e+00,  2.53103448e+02,  8.66896552e-01,\n",
       "       -6.05500821e-04,  3.70484401e-03, -6.05500821e-04, -6.05500821e-04,\n",
       "       -6.05500821e-04, -6.05500821e-04, -6.05500821e-04, -6.05500821e-04,\n",
       "       -6.05500821e-04, -6.05500821e-04,  7.19417077e-03, -6.05500821e-04,\n",
       "       -6.05500821e-04, -6.05500821e-04, -6.05500821e-04, -6.05500821e-04,\n",
       "       -6.05500821e-04, -6.05500821e-04, -6.05500821e-04, -6.05500821e-04,\n",
       "        0.00000000e+00,  0.00000000e+00,  4.38095238e+00,  0.00000000e+00,\n",
       "        0.00000000e+00,  4.38095238e+00,  0.00000000e+00,  1.90476190e-01,\n",
       "        0.00000000e+00, -1.21353488e-03,  1.68310765e-03, -1.21353488e-03,\n",
       "       -1.21353488e-03, -1.21353488e-03, -1.21353488e-03,  9.50967285e-04,\n",
       "       -1.21353488e-03, -1.21353488e-03, -1.21353488e-03,  6.03972034e-03,\n",
       "        4.24925630e-03, -1.21353488e-03, -1.21353488e-03,  9.50967285e-04,\n",
       "        9.50967285e-04, -1.21353488e-03, -1.21353488e-03, -1.21353488e-03,\n",
       "        9.50967285e-04,  0.00000000e+00,  0.00000000e+00,  5.81285714e+02,\n",
       "        8.56666667e-01,  1.62071846e-03, -2.04228520e-03,  1.62071846e-03,\n",
       "        1.62071846e-03,  1.62071846e-03,  1.62071846e-03, -2.04228520e-03,\n",
       "       -2.04228520e-03, -2.04228520e-03, -2.04228520e-03,  1.31623932e-02,\n",
       "       -2.04228520e-03, -2.04228520e-03, -2.04228520e-03, -2.04228520e-03,\n",
       "       -2.04228520e-03, -2.04228520e-03,  1.62071846e-03, -2.04228520e-03,\n",
       "        1.62071846e-03,  0.00000000e+00,  0.00000000e+00,  7.72727273e+00,\n",
       "        0.00000000e+00,  0.00000000e+00,  7.72727273e+00,  0.00000000e+00,\n",
       "        1.81818182e-01,  0.00000000e+00, -2.70207946e-04,  1.19606771e-03,\n",
       "       -1.05390701e-03, -1.05390701e-03, -1.05390701e-03, -1.05390701e-03,\n",
       "       -1.05390701e-03, -1.05390701e-03,  5.13491113e-04, -1.05390701e-03,\n",
       "        1.54231612e-02, -1.05390701e-03, -1.05390701e-03, -1.05390701e-03,\n",
       "       -1.05390701e-03, -1.05390701e-03, -1.05390701e-03, -1.05390701e-03,\n",
       "       -1.05390701e-03, -1.05390701e-03,  0.00000000e+00,  0.00000000e+00,\n",
       "        1.19363636e+02,  7.58636364e-01, -8.26446281e-04, -8.26446281e-04,\n",
       "       -8.26446281e-04, -8.26446281e-04, -8.26446281e-04, -8.26446281e-04,\n",
       "       -8.26446281e-04, -8.26446281e-04, -8.26446281e-04, -8.26446281e-04,\n",
       "        1.57024793e-02, -8.26446281e-04, -8.26446281e-04, -8.26446281e-04,\n",
       "       -8.26446281e-04, -8.26446281e-04, -8.26446281e-04, -8.26446281e-04,\n",
       "       -8.26446281e-04, -8.26446281e-04,  0.00000000e+00,  0.00000000e+00,\n",
       "        0.00000000e+00,  1.60000000e+01,  2.90000000e+01,  2.10000000e+01,\n",
       "        2.20000000e+01,  1.60000000e+01,  2.90000000e+01,  2.10000000e+01,\n",
       "        2.20000000e+01,  1.60000000e+01,  2.90000000e+01,  2.10000000e+01,\n",
       "        2.20000000e+01,  0.00000000e+00,  0.00000000e+00,  0.00000000e+00,\n",
       "        1.00000000e+00,  0.00000000e+00,  0.00000000e+00,  0.00000000e+00,\n",
       "        1.00000000e+00,  0.00000000e+00,  0.00000000e+00,  0.00000000e+00,\n",
       "        1.00000000e+00,  0.00000000e+00,  0.00000000e+00,  0.00000000e+00,\n",
       "        1.00000000e+00,  0.00000000e+00,  0.00000000e+00,  0.00000000e+00,\n",
       "        1.00000000e+00])"
      ]
     },
     "execution_count": 139,
     "metadata": {},
     "output_type": "execute_result"
    }
   ],
   "source": [
    "data[1]"
   ]
  },
  {
   "cell_type": "code",
   "execution_count": 136,
   "metadata": {},
   "outputs": [
    {
     "data": {
      "text/plain": [
       "(5925, 281)"
      ]
     },
     "execution_count": 136,
     "metadata": {},
     "output_type": "execute_result"
    }
   ],
   "source": [
    "data.shape"
   ]
  },
  {
   "cell_type": "code",
   "execution_count": 142,
   "metadata": {},
   "outputs": [],
   "source": [
    "tree = KDTree(data)"
   ]
  },
  {
   "cell_type": "code",
   "execution_count": 152,
   "metadata": {},
   "outputs": [],
   "source": [
    "dist, matched_indices = tree.query([r.get_data() for r in query_redditors], k = 1)"
   ]
  },
  {
   "cell_type": "code",
   "execution_count": 155,
   "metadata": {},
   "outputs": [
    {
     "name": "stdout",
     "output_type": "stream",
     "text": [
      "taylorsway2527\n",
      "crispy_tofu_taco\n",
      "kate5251\n",
      "stowaway_69\n",
      "bluebellsnail\n",
      "Whats-it-to-ya-88\n",
      "munama\n",
      "ShinStew\n",
      "Justwhytry\n",
      "rotatingruhnama\n",
      "dibbsa\n",
      "Potential-Squash1706\n",
      "MintyFreshBreathYo\n",
      "MintyFreshBreathYo\n",
      "WORLDBENDER\n",
      "illfluffyy\n",
      "youreadrag\n",
      "abcdmetalhead\n",
      "l_ship_it\n",
      "Blueputtees\n",
      "illfluffyy\n",
      "ixrd\n",
      "sailor-jackn\n",
      "MordekaiserUwU\n",
      "XxLoxBagelxX\n",
      "No-Refrigerator5287\n",
      "Fate_Odin\n",
      "Rey_Mezcalero\n",
      "MyWhatBigEyesIHave\n",
      "YoImJustTired\n",
      "helpful-loner\n",
      "ExtremeAthlete\n"
     ]
    }
   ],
   "source": [
    "for treat_idx in matched_indices:\n",
    "    idx = treat_idx[0]\n",
    "    print(treat_keys[idx])"
   ]
  }
 ],
 "metadata": {
  "kernelspec": {
   "display_name": ".venv",
   "language": "python",
   "name": "python3"
  },
  "language_info": {
   "codemirror_mode": {
    "name": "ipython",
    "version": 3
   },
   "file_extension": ".py",
   "mimetype": "text/x-python",
   "name": "python",
   "nbconvert_exporter": "python",
   "pygments_lexer": "ipython3",
   "version": "3.10.0"
  }
 },
 "nbformat": 4,
 "nbformat_minor": 2
}
