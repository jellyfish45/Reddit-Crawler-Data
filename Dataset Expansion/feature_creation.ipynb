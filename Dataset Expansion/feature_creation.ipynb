{
 "cells": [
  {
   "cell_type": "code",
   "execution_count": 1,
   "metadata": {},
   "outputs": [],
   "source": [
    "import os \n",
    "import json \n",
    "\n",
    "REDDITOR_FILE = \"raw_data/redditor_dict.json\"\n",
    "SUBMISSION_FILE = \"raw_data/submission_dict.json\"\n",
    "COMMENT_FILE = \"raw_data/comment_dict.json\"\n",
    "\n",
    "def save_get_json(file_name):\n",
    "    if (os.path.exists(file_name)):\n",
    "        with open(file_name, 'r') as f:\n",
    "            return json.load(f)\n",
    "    return dict()\n",
    "\n",
    "\n",
    "redditor_dict = save_get_json(REDDITOR_FILE)\n",
    "submission_dict = save_get_json(SUBMISSION_FILE)\n",
    "comment_dict = save_get_json(COMMENT_FILE)"
   ]
  },
  {
   "cell_type": "code",
   "execution_count": 2,
   "metadata": {},
   "outputs": [],
   "source": [
    "#16s for O(r+s+c) operation (oof)\n",
    "from datetime import datetime\n",
    "CONTROL_DATE = datetime(2023,11,22)\n",
    "control_group = ['MoosieGoose', 'JollyK9', 'Southern_Ad3032', 'bduwowy272habbw', 'Late_Introduction203', 'kapster68', 'TheApertureMonkey', 'talemoon22', 'sebagolindenwald', 'spicyranchplzz', 'TheFloorMayBeLava_02', 'rxtten_flesh', 'greenblooded395', 'greenblooded395', 'DrakenJosh98', 'WhichUsernameIsBest', 'FStahp2', 'Pongpianskul', 'Kanashimi515', 'eviuwu', 'Kattheloner_22', 'Reeze2911', 'Sac20000', 'RanpoWasTaken', 'jlynny1811', 'Playful-Fail4778', 'GarageOk8109', 'katandcats', 'holyredemption', 'jifpeanutbutter420', 'Timely_Inflation1000', 'Erica_Peanut']\n",
    "\n",
    "\n",
    "\n",
    "#okay, we need to do feature extraction based on this \n",
    "#consider that prof wanted some kind of classification flow over the last 4 months, first stat\n",
    "#online it was at least 2 weeks but we'll still do 4 months\n",
    "FIRST_CONSIDER_DATE = datetime(2023, 11-4,21)\n"
   ]
  },
  {
   "cell_type": "code",
   "execution_count": 3,
   "metadata": {},
   "outputs": [
    {
     "name": "stdout",
     "output_type": "stream",
     "text": [
      "Requirement already satisfied: empath in c:\\users\\logan\\documents\\research\\mental_health\\reddit_data_scraping\\reddit-crawler-data\\.venv\\lib\\site-packages (0.89)\n",
      "Requirement already satisfied: requests in c:\\users\\logan\\documents\\research\\mental_health\\reddit_data_scraping\\reddit-crawler-data\\.venv\\lib\\site-packages (from empath) (2.31.0)\n",
      "Requirement already satisfied: charset-normalizer<4,>=2 in c:\\users\\logan\\documents\\research\\mental_health\\reddit_data_scraping\\reddit-crawler-data\\.venv\\lib\\site-packages (from requests->empath) (3.3.2)\n",
      "Requirement already satisfied: idna<4,>=2.5 in c:\\users\\logan\\documents\\research\\mental_health\\reddit_data_scraping\\reddit-crawler-data\\.venv\\lib\\site-packages (from requests->empath) (3.6)\n",
      "Requirement already satisfied: urllib3<3,>=1.21.1 in c:\\users\\logan\\documents\\research\\mental_health\\reddit_data_scraping\\reddit-crawler-data\\.venv\\lib\\site-packages (from requests->empath) (2.1.0)\n",
      "Requirement already satisfied: certifi>=2017.4.17 in c:\\users\\logan\\documents\\research\\mental_health\\reddit_data_scraping\\reddit-crawler-data\\.venv\\lib\\site-packages (from requests->empath) (2023.11.17)\n"
     ]
    }
   ],
   "source": [
    "!pip install empath"
   ]
  },
  {
   "cell_type": "code",
   "execution_count": 4,
   "metadata": {},
   "outputs": [
    {
     "name": "stdout",
     "output_type": "stream",
     "text": [
      "[\"angry\", \"furious\", \"frustrated\", \"frightened\", \"disgusted\", \"outraged\", \"upset\", \"irritated\", \"resentful\", \"annoyed\", \"embarrassed\", \"unhappy\", \"exasperated\", \"incensed\", \"indignant\", \"fearful\", \"distressed\", \"scared\", \"terrified\", \"enraged\", \"confused\", \"afraid\", \"anxious\", \"irate\", \"insulted\", \"agitated\", \"distraught\", \"nervous\", \"bitter\", \"bewildered\", \"impatient\", \"offended\", \"shocked\", \"disgusted\", \"humiliated\", \"ashamed\", \"apprehensive\", \"puzzled\", \"incredulous\", \"perplexed\", \"tired\", \"worried\", \"disgruntled\", \"mystified\", \"dispirited\", \"despondent\", \"sad\", \"aghast\", \"alarmed\", \"exasperated\", \"mad\", \"terrified\", \"dismayed\", \"aggrieved\", \"irritated\", \"uneasy\", \"apologetic\", \"pained\", \"angered\", \"uncomfortable\", \"annoyed\", \"frightened\", \"bewildered\", \"horrified\", \"dissatisfied\", \"sorry\", \"appalled\", \"disappointed\", \"insecure\", \"defiant\", \"jealous\", \"relieved\", \"shocked\", \"bullied\", \"abusive\", \"intimidated\", \"disturbed\", \"suspicious\", \"complaining\", \"embittered\", \"elated\", \"angrier\", \"appalled\", \"stunned\", \"disillusioned\", \"outraged\", \"disoriented\", \"hysterical\", \"dumbfounded\", \"testy\", \"angered\", \"embarrassing\", \"embarrassed\", \"visibly\"]\n",
      "[\"lonely\", \"solitary\", \"sullen\", \"cranky\", \"homesick\", \"insecure\", \"bored\", \"restless\", \"neurotic\", \"spoiled\", \"terrified\", \"unloved\", \"miserable\", \"morose\", \"disoriented\", \"sad\", \"frightened\", \"bewildered\", \"orphaned\", \"grumpy\", \"frail\", \"jealous\", \"forlorn\", \"irritable\", \"possessive\", \"unbearably\", \"rootless\", \"alienated\", \"rebellious\", \"carefree\", \"introverted\", \"vain\", \"jaded\", \"repressed\", \"sickly\", \"contented\", \"pining\", \"outcast\", \"lovable\", \"loner\", \"adolescent\", \"wistful\", \"perpetually\", \"pampered\", \"surly\", \"adorable\", \"exhausted\", \"smug\", \"pathetic\", \"moody\", \"charming\", \"disheveled\", \"demented\", \"distracted\", \"spinster\", \"recluse\", \"heartbroken\", \"humble\", \"comforting\", \"hysterical\", \"depressed\", \"romantic\", \"stoic\", \"sleepy\", \"housewife\", \"resentful\", \"embittered\", \"pushy\", \"anguished\", \"forgetful\", \"despondent\", \"virgin\", \"withdrawn\", \"depressing\", \"brave\", \"narcissistic\", \"grown\", \"cheerful\", \"selfish\", \"tormented\", \"destitute\", \"breathless\", \"lonesome\", \"bossy\", \"weepy\", \"paranoid\", \"talkative\", \"cute\", \"spiritually\", \"exhilarated\", \"adrift\", \"beautiful\", \"feisty\", \"harried\", \"haggard\", \"unhappily\", \"mischievous\", \"rambunctious\", \"witless\", \"immature\"]\n",
      "[\"sad\", \"heartbreaking\", \"horrible\", \"depressing\", \"strange\", \"terrible\", \"awful\", \"sorry\", \"pathetic\", \"lonely\", \"upsetting\", \"pained\", \"ashamed\", \"miserable\", \"scary\", \"wonderful\", \"tragic\", \"weird\", \"frightening\", \"terrified\", \"shocking\", \"disgusted\", \"heartbroken\", \"pitiful\", \"frightened\", \"disheartening\", \"painful\", \"blessed\", \"ironic\", \"ugly\", \"comforting\", \"regretful\", \"beautiful\", \"sadly\", \"hysterical\", \"speechless\", \"terribly\", \"funny\", \"insecure\", \"appalled\", \"angry\", \"disgusting\", \"horrified\", \"relieved\", \"bewildered\", \"whole_experience\", \"comforting\", \"terrifying\", \"inspiring\", \"jaded\", \"smug\", \"scared\", \"dumbfounded\", \"unbelievable\", \"liberating\", \"fantastic\", \"offended\", \"joyful\", \"unfortunate\", \"unpleasant\", \"saddened\", \"happy\", \"numb\", \"moved\", \"stupid\", \"saddens\", \"unnerving\", \"strange_way\", \"exhilarated\", \"distressing\", \"embarrassing\", \"thankful\", \"gratifying\", \"exhausted\", \"bored\", \"hurtful\", \"horrifying\", \"ecstatic\", \"poignant\", \"perplexed\", \"remorseful\", \"selfish\", \"feel\", \"distressed\", \"shocked\", \"embarrassed\", \"uplifting\", \"humiliating\", \"jealous\", \"brave\", \"boring\", \"unbearable\", \"moving\", \"frustrating\", \"unbearably\", \"resentful\", \"cruel\"]\n",
      "[\"worried\", \"concerned\", \"worried\", \"worry\", \"concerned\", \"apprehensive\", \"nervous\", \"alarmed\", \"anxious\", \"fearful\", \"worrying\", \"afraid\", \"leery\", \"unhappy\", \"upset\", \"worries\", \"scared\", \"pessimistic\", \"uneasy\", \"wary\", \"skittish\", \"sanguine\", \"cautious\", \"skeptical\", \"angry\", \"frightened\", \"optimistic\", \"excited\", \"frustrated\", \"worries\", \"fret\", \"adamant\", \"irritated\", \"fear\", \"hesitant\", \"reassured\", \"worry\", \"second_thoughts\", \"annoyed\", \"distressed\", \"complacent\", \"unsure\", \"ambivalent\", \"convinced\", \"scared\", \"jittery\"]\n",
      "[\"frustrated\", \"angry\", \"frustrated\", \"irritated\", \"unhappy\", \"impatient\", \"annoyed\", \"disgusted\", \"dissatisfied\", \"exasperated\", \"confused\", \"upset\", \"anxious\", \"overwhelmed\", \"embarrassed\", \"apprehensive\", \"nervous\", \"distressed\", \"furious\", \"resentful\", \"frightened\", \"mystified\", \"disappointed\", \"tired\", \"exasperated\", \"alarmed\", \"fearful\", \"frustrating\", \"relieved\", \"despondent\", \"incensed\", \"agitated\", \"perplexed\", \"distracted\", \"worried\", \"dismayed\", \"disgruntled\", \"distraught\", \"bewildered\", \"demoralized\", \"bored\", \"leery\", \"fatigued\", \"scared\", \"intimidated\", \"baffled\", \"preoccupied\", \"testy\", \"complacent\", \"irritated\", \"uncomfortable\", \"dispirited\", \"uneasy\", \"elated\", \"irate\", \"disenchanted\", \"puzzled\", \"outraged\", \"disillusioned\", \"weary\", \"exhausted\", \"wary\", \"disenchanted\", \"stressed\", \"concerned\", \"perturbed\", \"disheartened\", \"disturbed\", \"annoyed\"]\n",
      "[\"anxious\", \"hesitant\", \"eager\", \"worried\", \"apprehensive\", \"nervous\", \"fearful\", \"frustrated\", \"impatient\", \"desperate\", \"frightened\", \"determined\", \"afraid\", \"irritated\", \"angry\", \"unhappy\", \"uneasy\", \"reluctant\", \"wanting\", \"hopeful\", \"happy\", \"concerned\", \"confused\", \"relieved\", \"inclined\", \"preoccupied\", \"wary\", \"confident\", \"resentful\", \"dissatisfied\", \"alarmed\", \"uncomfortable\", \"ambivalent\", \"excited\", \"cautious\", \"scared\", \"annoyed\", \"distressed\", \"upset\", \"embarrassed\", \"skittish\", \"insecure\", \"leery\", \"exasperated\", \"jittery\", \"distracted\", \"disgusted\", \"puzzled\"]\n",
      "[\"nervous\", \"apprehensive\", \"worried\", \"excited\", \"scared\", \"irritated\", \"annoyed\", \"anxious\", \"jittery\", \"uncomfortable\", \"frightened\", \"upset\", \"unnerved\", \"frustrated\", \"uneasy\", \"skittish\", \"confused\", \"embarrassed\", \"angry\", \"cautious\", \"queasy\", \"puzzled\", \"exasperated\", \"relieved\", \"agitated\", \"antsy\", \"hesitant\", \"alarmed\", \"perplexed\", \"euphoric\", \"mystified\", \"panicky\", \"edgy\", \"fatigued\", \"tired\", \"flustered\", \"disgusted\", \"leery\", \"unhappy\", \"impatient\", \"distracted\", \"surprised\", \"terrified\", \"afraid\", \"enthusiastic\", \"concerned\", \"elated\", \"perturbed\", \"bewildered\", \"scared\", \"wary\", \"panicking\", \"complacent\", \"uptight\", \"happy\", \"enthused\", \"insecure\", \"bored\", \"depressed\", \"stressed\", \"cold_feet\"]\n",
      "[\"disappointed\", \"disappointed\", \"pleased\", \"surprised\", \"gratified\", \"delighted\", \"elated\", \"relieved\", \"thrilled\", \"shocked\", \"upset\", \"dismayed\", \"distressed\", \"glad\", \"sorry\", \"embarrassed\", \"unhappy\", \"displeased\", \"disgusted\", \"satisfied\", \"happy\", \"annoyed\", \"excited\", \"flattered\", \"pleased\", \"frustrated\", \"impressed\", \"saddened\", \"puzzled\", \"outraged\", \"incensed\", \"gratified\", \"surprised\", \"stunned\", \"amazed\", \"encouraged\", \"astounded\", \"ecstatic\", \"regret\", \"chagrined\", \"angry\", \"mystified\", \"shocked\", \"flabbergasted\", \"grateful\", \"disappointing\", \"apprehensive\", \"optimistic\", \"dissatisfied\", \"thrilled\", \"miffed\", \"thankful\", \"concerned\"]\n",
      "[\"gloomy\", \"bleak\", \"grim\", \"buoyant\", \"euphoric\", \"rosy\", \"edgy\", \"subdued\", \"dim\", \"upbeat\", \"muted\", \"glum\", \"bleaker\", \"somber\", \"grimmer\", \"dreary\", \"unnerving\", \"cloudy\", \"pessimistic\", \"fatalistic\", \"reassuring\", \"unsettling\", \"ominous\", \"tepid\", \"unfocused\", \"downbeat\", \"jittery\", \"giddy\", \"tame\", \"dour\", \"placid\", \"blase\", \"gloomier\", \"predictable\", \"sanguine\", \"abrupt\", \"overdone\", \"prescient\", \"slack\", \"muddled\", \"unsettled\", \"jarring\", \"chilly\", \"disquieting\", \"dismal\", \"hazy\", \"serene\", \"chilly\", \"cheerful\", \"tranquil\", \"chaotic\", \"dull\", \"unperturbed\", \"untroubled\", \"depressing\", \"robust\", \"restrained\", \"temperate\", \"sobering\", \"depressing\", \"unpredictable\", \"gleeful\", \"stormy\", \"overheated\", \"palpably\", \"tentative\", \"benign\", \"sunny\", \"listless\", \"unconcerned\", \"cheery\", \"fuzzy\", \"decidedly\", \"perplexed\", \"apocalyptic\", \"wistful\", \"reflective\", \"dispiriting\", \"unruffled\", \"dispirited\", \"calmer\", \"comforting\", \"puzzling\", \"disappointingly\", \"smug\", \"prosaic\", \"dire\", \"nostalgic\", \"prophetic\", \"uplifting\", \"jaded\", \"unforgiving\", \"frenetic\", \"directionless\", \"sluggish\", \"depressingly\", \"lifeless\", \"contrived\", \"murky\"]\n",
      "[\"miserable\", \"exhausted\", \"lonely\", \"unbearable\", \"awful\", \"horrible\", \"bearable\", \"hopeless\", \"insecure\", \"terrible\", \"sad\", \"terrified\", \"unpleasant\", \"cranky\", \"depressing\", \"helpless\", \"selfish\", \"lousy\", \"numb\", \"bored\", \"stressed\", \"pathetic\", \"frightened\", \"depressed\", \"dizzy\", \"homesick\", \"humiliating\", \"blessed\", \"disoriented\", \"smug\", \"stressful\", \"fatigued\", \"carefree\", \"tiring\", \"wretched\", \"uptight\", \"irritable\", \"lazy\", \"jaded\", \"comforting\", \"dejected\", \"Emotionally\", \"boring\", \"resentful\", \"sick\", \"pitiful\", \"bewildered\", \"disgusted\", \"dreadful\", \"scary\", \"mad\", \"grumpy\", \"envious\", \"distracted\", \"overwhelmed\", \"bad\", \"hysterical\", \"tired\", \"queasy\", \"horribly\", \"worst_part\", \"upsetting\", \"heartbreaking\", \"sadder\", \"despondent\", \"paranoid\"]\n",
      "[\"lonely\", \"solitary\", \"sullen\", \"cranky\", \"homesick\", \"insecure\", \"bored\", \"restless\", \"neurotic\", \"spoiled\", \"terrified\", \"unloved\", \"miserable\", \"morose\", \"disoriented\", \"sad\", \"frightened\", \"bewildered\", \"orphaned\", \"grumpy\", \"frail\", \"jealous\", \"forlorn\", \"irritable\", \"possessive\", \"unbearably\", \"rootless\", \"alienated\", \"rebellious\", \"carefree\", \"introverted\", \"vain\", \"jaded\", \"repressed\", \"sickly\", \"contented\", \"pining\", \"outcast\", \"lovable\", \"loner\", \"adolescent\", \"wistful\", \"perpetually\", \"pampered\", \"surly\", \"adorable\", \"exhausted\", \"smug\", \"pathetic\", \"moody\", \"charming\", \"disheveled\", \"demented\", \"distracted\", \"spinster\", \"recluse\", \"heartbroken\", \"humble\", \"comforting\", \"hysterical\", \"depressed\", \"romantic\", \"stoic\", \"sleepy\", \"housewife\", \"resentful\", \"embittered\", \"pushy\", \"anguished\", \"forgetful\", \"despondent\", \"virgin\", \"withdrawn\", \"depressing\", \"brave\", \"narcissistic\", \"grown\", \"cheerful\", \"selfish\", \"tormented\", \"destitute\", \"breathless\", \"lonesome\", \"bossy\", \"weepy\", \"paranoid\", \"talkative\", \"cute\", \"spiritually\", \"exhilarated\", \"adrift\", \"beautiful\", \"feisty\", \"harried\", \"haggard\", \"unhappily\", \"mischievous\", \"rambunctious\", \"witless\", \"immature\"]\n",
      "[\"happy\", \"glad\", \"thrilled\", \"delighted\", \"pleased\", \"nice\", \"excited\", \"thankful\", \"like\", \"proud\", \"satisfied\", \"grateful\", \"sorry\", \"love\", \"lucky\", \"relieved\", \"sure\", \"thrilled\", \"want\", \"surprised\", \"disappointed\", \"unhappy\", \"anxious\", \"afraid\", \"good\", \"content\", \"confident\", \"sure\", \"fortunate\", \"elated\", \"comfortable\", \"wish\", \"flattered\", \"scared\", \"overjoyed\", \"know\", \"'m\", \"sad\", \"ashamed\", \"embarrassed\", \"going\", \"think\", \"good_time\", \"nervous\", \"O.K.\", \"guess\"]\n",
      "[\"loved\", \"hated\", \"liked\", \"love\", \"adored\", \"admired\", \"loves\", \"treasured\", \"longed\", \"great_love\", \"loved\", \"cared\", \"blessed\", \"adore\", \"happiest\", \"yearned\", \"remembered\", \"wonderful\", \"loathed\", \"good_friends\", \"treasure\", \"fondly\"]\n",
      "[\"joyful\", \"joyous\", \"solemn\", \"uplifting\", \"wistful\", \"mournful\", \"touching\", \"contemplative\", \"sensual\", \"cathartic\", \"lighthearted\", \"exuberant\", \"merry\", \"endearing\", \"invigorating\", \"celebratory\", \"wondrous\", \"radiant\", \"dreamy\", \"dutiful\", \"exhilarating\", \"affectionate\", \"carefree\", \"soulful\", \"seductive\", \"gloriously\", \"childlike\", \"anguished\", \"unbearably\", \"heartbreaking\", \"melancholy\", \"mischievous\", \"playful\", \"beguiling\", \"redemptive\", \"pensive\", \"introspective\", \"rhapsodic\", \"thrilling\", \"soothing\", \"effervescent\", \"sentimental\", \"morbid\", \"meditative\", \"inspiring\", \"poetic\", \"rueful\", \"thrilling\", \"hypnotic\", \"poignant\", \"exhilarating\", \"mesmerizing\", \"lugubrious\", \"hauntingly\", \"wry\", \"plaintive\", \"mawkish\", \"sardonic\", \"heartwarming\", \"sublime\", \"brooding\", \"otherworldly\", \"dignified\", \"ethereal\", \"unforgettable\", \"sorrowful\", \"maudlin\", \"serene\", \"elegiac\", \"reverent\", \"touchingly\", \"portentous\", \"lyrical\", \"histrionic\", \"jolly\", \"palpably\", \"endearingly\", \"antic\", \"girlish\", \"decorous\", \"purposeful\", \"droll\", \"haunting\", \"blithe\", \"moody\", \"marvelous\", \"rambunctious\", \"liberating\", \"romantic\", \"magical\", \"lyrically\", \"sensuous\", \"enchanting\", \"uninhibited\", \"ponderous\", \"campy\", \"charming\", \"sly\", \"cloying\", \"exalted\"]\n",
      "[\"content\", \"format\", \"subject_matter\", \"electronic_media\", \"interactivity\", \"digital_technology\", \"new_medium\", \"written_word\", \"programming\", \"editorial_content\", \"medium\", \"formulas\", \"lowest_common_denominator\", \"current_events\", \"broadcasters\", \"mass_audience\", \"final_product\", \"sound_quality\", \"function\", \"blogs\", \"mass_media\", \"visuals\", \"disclaimers\", \"other_media\", \"meanings\"]\n",
      "[\"pleased\", \"delighted\", \"disappointed\", \"gratified\", \"disappointed\", \"thrilled\", \"happy\", \"satisfied\", \"surprised\", \"pleased\", \"glad\", \"impressed\", \"relieved\", \"confident\", \"encouraged\", \"gratified\", \"elated\", \"thrilled\", \"proud\", \"grateful\", \"hopeful\", \"excited\", \"dismayed\", \"unhappy\", \"optimistic\", \"surprised\", \"displeased\", \"shocked\", \"heartened\", \"amazed\"]\n",
      "[\"grateful\", \"thankful\", \"appreciative\", \"blessed\", \"fortunate\", \"glad\", \"thrilled\", \"delighted\", \"thank\", \"proud\", \"happy\", \"relieved\", \"gratified\", \"cherish\", \"pleased\", \"sorry\", \"gratitude\", \"overjoyed\", \"thrilled\", \"treasure\", \"comforted\", \"ashamed\", \"disappointed\", \"appreciate\", \"elated\"]\n",
      "[\"relieved\", \"relieved\"]\n",
      "[\"optimistic\", \"pessimistic\", \"hopeful\", \"sanguine\", \"confident\", \"cautious\", \"skeptical\", \"upbeat\", \"encouraging\", \"bullish\", \"concerned\", \"enthusiastic\", \"worried\", \"satisfied\", \"apprehensive\", \"convinced\", \"pleased\", \"enthused\", \"disappointed\", \"unconvinced\"]\n",
      "[\"satisfied\", \"pleased\", \"confident\", \"happy\", \"disappointed\", \"disappointed\", \"dissatisfied\", \"satisfied\", \"convinced\", \"optimistic\", \"pleased\", \"relieved\", \"assured\", \"unhappy\", \"concerned\", \"adamant\", \"reassured\", \"dissatisfied\", \"encouraged\", \"impressed\"]\n",
      "[\"excited\", \"thrilled\", \"excited\", \"nervous\", \"happy\", \"enthusiastic\", \"enthused\", \"exciting\", \"thrilled\", \"glad\", \"ecstatic\", \"disappointed\", \"apprehensive\", \"surprised\", \"delighted\", \"worried\", \"scared\", \"pleased\", \"elated\", \"impressed\", \"upset\", \"antsy\", \"anxious\", \"great_time\", \"flattered\", \"overjoyed\", \"relieved\", \"thinking\", \"curious\", \"thankful\", \"nice\", \"amazed\", \"concerned\", \"gratifying\"]\n",
      "[\"loved\", \"hated\", \"liked\", \"love\", \"adored\", \"admired\", \"loves\", \"treasured\", \"longed\", \"great_love\", \"loved\", \"cared\", \"blessed\", \"adore\", \"happiest\", \"yearned\", \"remembered\", \"wonderful\", \"loathed\", \"good_friends\", \"treasure\", \"fondly\"]\n"
     ]
    }
   ],
   "source": [
    "#define input text model (as will be analyzed) here\n",
    "from empath import Empath\n",
    "\n",
    "global lexicon\n",
    "\n",
    "lexicon = Empath()\n",
    "\n",
    "#negative\n",
    "lexicon.create_category(\"angry\", [\"angry\"], model=\"nytimes\")\n",
    "lexicon.create_category(\"lonely\", [\"lonely\"], model=\"nytimes\")\n",
    "lexicon.create_category(\"sad\", [\"sad\"], model=\"nytimes\")\n",
    "lexicon.create_category(\"worried\", [\"worried\"], model=\"nytimes\")\n",
    "lexicon.create_category(\"frustrated\", [\"frustrated\"], model=\"nytimes\")\n",
    "lexicon.create_category(\"anxious\", [\"anxious\"], model=\"nytimes\")\n",
    "lexicon.create_category(\"nervous\", [\"nervous\"], model=\"nytimes\")\n",
    "lexicon.create_category(\"disappointed\", [\"disappointed\"], model=\"nytimes\")\n",
    "lexicon.create_category(\"gloomy\", [\"gloomy\"], model=\"nytimes\")\n",
    "lexicon.create_category(\"miserable\", [\"miserable\"], model=\"nytimes\")\n",
    "lexicon.create_category(\"lonely\", [\"lonely\"], model=\"nytimes\")\n",
    "\n",
    "#positive\n",
    "lexicon.create_category(\"happy\", [\"happy\"], model=\"nytimes\")\n",
    "lexicon.create_category(\"loved\", [\"loved\"], model=\"nytimes\")\n",
    "lexicon.create_category(\"joyful\", [\"joyful\"], model=\"nytimes\")\n",
    "lexicon.create_category(\"content\", [\"content\"], model=\"nytimes\")\n",
    "lexicon.create_category(\"pleased\", [\"pleased\"], model=\"nytimes\")\n",
    "lexicon.create_category(\"grateful\", [\"grateful\"], model=\"nytimes\")\n",
    "lexicon.create_category(\"relieved\", [\"relieved\"], model=\"nytimes\")\n",
    "lexicon.create_category(\"optimistic\", [\"optimistic\"], model=\"nytimes\")\n",
    "lexicon.create_category(\"satisfied\", [\"satisfied\"], model=\"nytimes\")\n",
    "lexicon.create_category(\"excited\", [\"excited\"], model=\"nytimes\")\n",
    "lexicon.create_category(\"loved\", [\"loved\"], model=\"nytimes\")\n",
    "\n",
    "\n",
    "\n"
   ]
  },
  {
   "cell_type": "code",
   "execution_count": 5,
   "metadata": {},
   "outputs": [],
   "source": [
    "def get_data_from_txt(txt:str):\n",
    "    global lexicon\n",
    "\n",
    "    if (not len(txt)):\n",
    "        return {k: 0 for k in[\"angry\",\"sad\",\"worried\",\n",
    "       \"frustrated\",\"anxious\",\n",
    "        \"nervous\",\"disappointed\",\n",
    "      \"gloomy\",\"miserable\",\"longly\",\n",
    "       \"happy\", \"loved\", \"joyful\",\n",
    "        \"content\", \"pleased\",\n",
    "      \"grateful\", \"relieved\",\n",
    "      \"optimistic\", \"satisfied\",\n",
    "        \"excited\"]}\n",
    "\n",
    "    unnormalized = lexicon.analyze(txt, categories=[\"angry\",\"sad\",\"worried\",\n",
    "       \"frustrated\",\"anxious\",\n",
    "        \"nervous\",\"disappointed\",\n",
    "      \"gloomy\",\"miserable\",\"longly\",\n",
    "       \"happy\", \"loved\", \"joyful\",\n",
    "        \"content\", \"pleased\",\n",
    "      \"grateful\", \"relieved\",\n",
    "      \"optimistic\", \"satisfied\",\n",
    "        \"excited\"],normalize = False)\n",
    "  \n",
    "    normalized = lexicon.analyze(txt, categories=[\"angry\",\"sad\",\"worried\",\n",
    "       \"frustrated\",\"anxious\",\n",
    "        \"nervous\",\"disappointed\",\n",
    "      \"gloomy\",\"miserable\",\"longly\",\n",
    "       \"happy\", \"loved\", \"joyful\",\n",
    "        \"content\", \"pleased\",\n",
    "      \"grateful\", \"relieved\",\n",
    "      \"optimistic\", \"satisfied\",\n",
    "        \"excited\"],normalize = True)\n",
    "    \n",
    "\n",
    "    #we want to make these average to 0 \n",
    "    summed = 0\n",
    "    for v in normalized.values(): summed += v \n",
    "    to_add = -summed/len(normalized)\n",
    "\n",
    "    for k in normalized.keys():\n",
    "        normalized[k] += to_add\n",
    "    \n",
    "    return normalized\n",
    "\n",
    "global txt_keys\n",
    "txt_keys = [\"angry\",\"sad\",\"worried\",\n",
    "       \"frustrated\",\"anxious\",\n",
    "        \"nervous\",\"disappointed\",\n",
    "      \"gloomy\",\"miserable\",\"longly\",\n",
    "       \"happy\", \"loved\", \"joyful\",\n",
    "        \"content\", \"pleased\",\n",
    "      \"grateful\", \"relieved\",\n",
    "      \"optimistic\", \"satisfied\",\n",
    "        \"excited\"]\n",
    "\n",
    "global submission_keys_order\n",
    "submission_keys_order = [\n",
    "        # \"distinguished\" ,\n",
    "        \"is_original_content\" ,\n",
    "        \"over_18\" ,\n",
    "        \"score\" ,\n",
    "        \"title\",\n",
    "        \"upvote_ratio\" ]\n",
    "\n",
    "global comment_key_order\n",
    "comment_key_order =  [\n",
    "      \"is_edited\",\n",
    "      \"num_replies\", \n",
    "      \"score\",\n",
    "      \"score_is_hidden\",\n",
    "      \"total_awards\",\n",
    "      \"num_ups\",\n",
    "      \"num_downs\",\n",
    "      \"body\",\n",
    "      \"is_submitter\", \n",
    "      \"stickied\"\n",
    "]"
   ]
  },
  {
   "cell_type": "code",
   "execution_count": 6,
   "metadata": {},
   "outputs": [
    {
     "data": {
      "text/plain": [
       "<__main__.Redditor at 0x14faf52a410>"
      ]
     },
     "execution_count": 6,
     "metadata": {},
     "output_type": "execute_result"
    }
   ],
   "source": [
    "import numpy as np\n",
    "import time\n",
    "# import binary_search\n",
    "\n",
    "class Redditor:\n",
    "\n",
    "    comment_keys = []\n",
    "    sub_data_keys = []\n",
    "\n",
    "    def __init__(self, redditor_dict, comment_dict, submission_dict, redditor_name, start_date, control_date):\n",
    "        \"\"\"im lazy rn so first one passed in must have at least some comments\"\"\"\n",
    "        global txt_keys\n",
    "        global submission_keys_order\n",
    "        global comment_key_order\n",
    "\n",
    "        self.all_data = None\n",
    "        self.all_data_keys = None\n",
    "        #yield stats related to this\n",
    "        redditor =  redditor_dict[redditor_name] \n",
    "        base_redditor_data = redditor[\"data\"]\n",
    "        if (not base_redditor_data[\"has_subreddit\"]):\n",
    "            #set values to -1\n",
    "            base_redditor_data[\"over_18\"] = -1#redditor.subreddit[\"over_18\"]\n",
    "            base_redditor_data[\"num_subscribers\"] = -1#redditor.subreddit[\"subscribers\"]\n",
    "\n",
    "            #this is the only one added that rlly shouldn't be\n",
    "            base_redditor_data[\"public_description\"] = \"\"\n",
    "\n",
    "        \n",
    "        description_data = get_data_from_txt(base_redditor_data[\"public_description\"])\n",
    "\n",
    "        # base_data = np.array([v for k,v in base_redditor_data.items() if not isinstance(v, type(\"\"))] +[description_data[i] for i in txt_keys], dtype='float')\n",
    "        \n",
    "        base_data = [v for k,v in base_redditor_data.items() if not isinstance(v, type(\"\"))] +[description_data[i] for i in txt_keys]\n",
    "        base_data_keys = [k for k, v in base_redditor_data.items() if not isinstance(v, type(\"\"))] + [f'public_description_{i}' for i in txt_keys]\n",
    "\n",
    "        #get sequential data for comments\n",
    "        sequential_redditor_data = redditor[\"comments\"]\n",
    "\n",
    "        \n",
    "\n",
    "        k_segs = 4\n",
    "        segments = [start_date + (1+i)*(control_date-start_date)/k_segs for i in range(k_segs)]\n",
    "        cnts = [0 for _ in range(k_segs)]\n",
    "        suicide_cnts = [0 for _ in range(k_segs)]\n",
    "        segment_data = [np.zeros((53,),dtype='float') for _ in range(k_segs)]\n",
    "        comment_keys = [] #None, just setting each time even tho inefficient\n",
    "        sub_data_keys = []\n",
    "        current_seg_idx = 0 \n",
    "\n",
    "        try:\n",
    "            sequential_redditor_data.sort()\n",
    "        except:\n",
    "            print(\"sequential data is \", sequential_redditor_data) #okay they have the exact same time which is why there are problems bc its not letting me sort bc dict not comparable\n",
    "            return #TODO - I actually need to correct this one - this doesn't enforce types we wanted to \n",
    "\n",
    "        # for i in range(len(sequential_redditor_data) -1 ):\n",
    "        #     if (i == 0):print(sequential_redditor_data[i][0])\n",
    "        #     print(sequential_redditor_data[i+1][0] )\n",
    "        #     assert(sequential_redditor_data[i][0] <= sequential_redditor_data[i+1][0])\n",
    "\n",
    "        #we need to make sure we have data covering for all this time NOTE must add this\n",
    "        is_valid = sequential_redditor_data[-1][0] < start_date if len(sequential_redditor_data) else True\n",
    "\n",
    "        for comment_date, comment_data in sequential_redditor_data:\n",
    "\n",
    "            #can do binary search for efficiency in future - TODO\n",
    "            if (comment_date > control_date):\n",
    "                break \n",
    "            if (comment_date < start_date): continue \n",
    "\n",
    "            sub_id = comment_data[\"submission_id\"] \n",
    "            comment_key = sub_id + \"--------\" + comment_data[\"comment_id\"]\n",
    "            try:\n",
    "                comment_data_dict = comment_dict[comment_key][\"data\"]\n",
    "            except:\n",
    "                return\n",
    "\n",
    "            #getting comment data \n",
    "            comment_body_data = get_data_from_txt(comment_data_dict[\"body\"])\n",
    "            comment_data = [comment_data_dict[k] for k in comment_key_order]\n",
    "\n",
    "            if (not len(Redditor.comment_keys)): Redditor.comment_keys = [comment_key_order[i] for i in range(len(comment_key_order)) if not isinstance(comment_data[i], type(\"\"))] + [f'comment_body_{t}' for t in txt_keys]\n",
    "            \n",
    "            comment_data = [v for v in comment_data if not isinstance(v, type(\"\"))] + [comment_body_data[i] for i in txt_keys]\n",
    "\n",
    "            #getting submission data \n",
    "            try:\n",
    "                sub_data_dict = submission_dict[sub_id]\n",
    "            except:\n",
    "                return\n",
    "            sub_data = [sub_data_dict[k] for k in submission_keys_order]\n",
    "\n",
    "            #TODO - make lookup to avoid repeated computation\n",
    "            sub_title_data = get_data_from_txt(sub_data_dict[\"title\"])\n",
    "\n",
    "            if (not len(Redditor.sub_data_keys)): Redditor.sub_data_keys = [submission_keys_order[i] for i in range(len(submission_keys_order)) if not isinstance(sub_data[i], type(\"\"))] + [f'submission_title_{t}' for t in txt_keys]\n",
    "            sub_data = [v for v in sub_data if not isinstance(v, type(\"\"))] + [sub_title_data[i] for i in txt_keys]  \n",
    "            #we have a valid comment date \n",
    "\n",
    "\n",
    "            #aggregate\n",
    "            all_time_info = np.array(comment_data + sub_data, dtype='float')\n",
    "\n",
    "            while (segments[current_seg_idx] < comment_date):\n",
    "                current_seg_idx += 1\n",
    "            \n",
    "            cnts[current_seg_idx] += 1\n",
    "\n",
    "            segment_data[current_seg_idx] += all_time_info\n",
    "\n",
    "            if (any(kw in sub_data_dict[\"title\"] for kw in [\"suicide\", \"depress\"]) or any(kw in comment_data_dict[\"body\"] for kw in [\"suicide\", \"depress\"])):\n",
    "                suicide_cnts[current_seg_idx] += 1\n",
    "\n",
    "\n",
    "        segment_keys = Redditor.comment_keys + Redditor.sub_data_keys \n",
    "\n",
    "        all_data = base_data*5\n",
    "        all_data_keys = base_data_keys * 5\n",
    "        assert len(all_data) == len(all_data_keys), \"(0) all_data is of len \" + str(len(all_data)) + \" all data keys is of len \" + str(len(all_data_keys))\n",
    "        assert len(segment_keys) == len(segment_data[0].tolist()), \"segment keys is len \" + str(len(segment_keys)) + \" while segment_data is len \" +  str(len(segment_data[0].tolist()))\n",
    "        segment_data = [segment_data[i]/max(1,cnts[i]) for i in range(k_segs)]\n",
    "        for i in range(k_segs):\n",
    "            all_data += segment_data[i].tolist()\n",
    "            all_data_keys += [f'seg_{i}_{key_name}' for key_name in segment_keys]\n",
    "\n",
    "        for i in range(5): \n",
    "            all_data.append(is_valid)\n",
    "            all_data_keys.append(\"is_valid\")\n",
    "        for i in range(5): \n",
    "            all_data += cnts\n",
    "            all_data_keys += [f'num_comments_in_seg_{i}' for i in range(len(cnts))]\n",
    "        for i in range(10):\n",
    "            all_data += suicide_cnts\n",
    "            all_data_keys += [f'num_suicide_mentions_{i}' for i in range(len(suicide_cnts))]\n",
    "\n",
    "        assert len(all_data) == len(all_data_keys), \"all_data is of len \" + str(len(all_data)) + \" all data keys is of len \" + str(len(all_data_keys))\n",
    "        self.all_data_keys = all_data_keys\n",
    "        self.all_data = np.array(all_data, dtype='float')\n",
    "            #add it to the correct one \n",
    "\n",
    "\n",
    "        #okay time to get sequential data\n",
    "        \n",
    "\n",
    "\n",
    "    def get_data(self):\n",
    "        return self.all_data\n",
    "Redditor(redditor_dict, comment_dict, submission_dict, control_group[0], int(time.mktime(FIRST_CONSIDER_DATE.timetuple())), int(time.mktime(CONTROL_DATE.timetuple())) )\n",
    "# redditor_dict = save_get_json(REDDITOR_FILE)\n",
    "# submission_dict = save_get_json(SUBMISSION_FILE)\n",
    "# comment_dict = save_get_json(COMMENT_FILE)"
   ]
  },
  {
   "cell_type": "code",
   "execution_count": 7,
   "metadata": {},
   "outputs": [],
   "source": [
    "query_redditors = np.array([Redditor(redditor_dict, comment_dict, submission_dict, c, int(time.mktime(FIRST_CONSIDER_DATE.timetuple())), int(time.mktime(CONTROL_DATE.timetuple())) ).get_data() for c in control_group])"
   ]
  },
  {
   "cell_type": "code",
   "execution_count": 8,
   "metadata": {},
   "outputs": [
    {
     "name": "stderr",
     "output_type": "stream",
     "text": [
      "  5%|▍         | 595/12499 [00:59<22:35,  8.78it/s] "
     ]
    },
    {
     "name": "stdout",
     "output_type": "stream",
     "text": [
      "sequential data is  [[1701464078, {'subreddit_id': 't5_2s30g', 'submission_id': '188m65r', 'comment_id': 'kbliupi'}], [1701464077, {'subreddit_id': 't5_2vfcm', 'submission_id': '188m663', 'comment_id': 'kbliuoh'}], [1701464077, {'subreddit_id': 't5_8pn3m2', 'submission_id': '188m65w', 'comment_id': 'kbliumv'}], [1701464077, {'subreddit_id': 't5_h4uwp', 'submission_id': '188m65k', 'comment_id': 'kbliumc'}], [1701464077, {'subreddit_id': 't5_34jka', 'submission_id': '188m64j', 'comment_id': 'kblium2'}], [1701464077, {'subreddit_id': 't5_2vgi4', 'submission_id': '188m65n', 'comment_id': 'kbliulv'}], [1701464077, {'subreddit_id': 't5_5t8ubq', 'submission_id': '188m65o', 'comment_id': 'kbliulx'}], [1701464077, {'subreddit_id': 't5_8pn3m2', 'submission_id': '188m65q', 'comment_id': 'kbliulg'}], [1701464077, {'subreddit_id': 't5_2rpd0', 'submission_id': '188m651', 'comment_id': 'kbliul1'}], [1701464076, {'subreddit_id': 't5_8pn3m2', 'submission_id': '188m65h', 'comment_id': 'kbliuk9'}], [1701464076, {'subreddit_id': 't5_8pn3m2', 'submission_id': '188m65f', 'comment_id': 'kbliuj5'}], [1701464076, {'subreddit_id': 't5_8pn3m2', 'submission_id': '188m658', 'comment_id': 'kbliuip'}], [1701464075, {'subreddit_id': 't5_8pn3m2', 'submission_id': '188m654', 'comment_id': 'kbliugs'}], [1701464075, {'subreddit_id': 't5_8pn3m2', 'submission_id': '188m650', 'comment_id': 'kbliufz'}], [1701464075, {'subreddit_id': 't5_8976a5', 'submission_id': '188m64w', 'comment_id': 'kbliufi'}], [1701464075, {'subreddit_id': 't5_29bibd', 'submission_id': '188dgxd', 'comment_id': 'kbliuf1'}], [1701464075, {'subreddit_id': 't5_4mmmtx', 'submission_id': '188m64r', 'comment_id': 'kbliuet'}], [1701464075, {'subreddit_id': 't5_8pn3m2', 'submission_id': '188m64t', 'comment_id': 'kbliue5'}], [1701464074, {'subreddit_id': 't5_2txtp', 'submission_id': '188m64m', 'comment_id': 'kbliudw'}], [1701464074, {'subreddit_id': 't5_5as7pu', 'submission_id': '188m64o', 'comment_id': 'kbliudt'}], [1701464074, {'subreddit_id': 't5_8pn3m2', 'submission_id': '188m64k', 'comment_id': 'kbliude'}], [1701464074, {'subreddit_id': 't5_97ma1t', 'submission_id': '188m64i', 'comment_id': 'kbliud8'}], [1701464074, {'subreddit_id': 't5_8pn3m2', 'submission_id': '188m647', 'comment_id': 'kbliubx'}], [1701464074, {'subreddit_id': 't5_8pn3m2', 'submission_id': '188m62l', 'comment_id': 'kbliubr'}], [1701464074, {'subreddit_id': 't5_33rc6', 'submission_id': '188m61z', 'comment_id': 'kbliual'}], [1701464074, {'subreddit_id': 't5_8pn3m2', 'submission_id': '188m63u', 'comment_id': 'kbliuag'}], [1701464074, {'subreddit_id': 't5_8pn3m2', 'submission_id': '188m63y', 'comment_id': 'kbliua7'}], [1701464073, {'subreddit_id': 't5_8pn3m2', 'submission_id': '188m63n', 'comment_id': 'kbliu82'}], [1701464073, {'subreddit_id': 't5_546p4v', 'submission_id': '188m5vq', 'comment_id': 'kbliu76'}], [1701464073, {'subreddit_id': 't5_2yfro', 'submission_id': '188m62i', 'comment_id': 'kbliu6u'}], [1701464073, {'subreddit_id': 't5_2r3em', 'submission_id': '188m63j', 'comment_id': 'kbliu6r'}], [1701464073, {'subreddit_id': 't5_8pn3m2', 'submission_id': '188m63c', 'comment_id': 'kbliu6g'}], [1701464072, {'subreddit_id': 't5_2xxu6', 'submission_id': '188m631', 'comment_id': 'kbliu5p'}], [1701464072, {'subreddit_id': 't5_3o2ar', 'submission_id': '188m62v', 'comment_id': 'kbliu3t'}], [1701464072, {'subreddit_id': 't5_8pn3m2', 'submission_id': '188m632', 'comment_id': 'kbliu3g'}], [1701464072, {'subreddit_id': 't5_3zthc3', 'submission_id': '188m62y', 'comment_id': 'kbliu35'}], [1701464072, {'subreddit_id': 't5_2uevm', 'submission_id': '188m62z', 'comment_id': 'kbliu30'}], [1701464072, {'subreddit_id': 't5_4ebedy', 'submission_id': '188m61n', 'comment_id': 'kbliu2x'}], [1701464071, {'subreddit_id': 't5_3r5kro', 'submission_id': '188m62x', 'comment_id': 'kbliu2m'}], [1701464071, {'subreddit_id': 't5_2vqun', 'submission_id': '188m62j', 'comment_id': 'kbliu1w'}], [1701464071, {'subreddit_id': 't5_8pn3m2', 'submission_id': '188m62u', 'comment_id': 'kbliu1n'}], [1701464071, {'subreddit_id': 't5_2r656', 'submission_id': '188m62m', 'comment_id': 'kbliu0u'}], [1701464071, {'subreddit_id': 't5_8pn3m2', 'submission_id': '188m62r', 'comment_id': 'kbliu0n'}], [1701464071, {'subreddit_id': 't5_28596c', 'submission_id': '188m624', 'comment_id': 'kbliu0x'}], [1701464070, {'subreddit_id': 't5_35g9w', 'submission_id': '188m61u', 'comment_id': 'kblityp'}], [1701464070, {'subreddit_id': 't5_2spkuv', 'submission_id': '188m61y', 'comment_id': 'kblityl'}], [1701464070, {'subreddit_id': 't5_8pn3m2', 'submission_id': '188m62c', 'comment_id': 'kblityi'}], [1701464070, {'subreddit_id': 't5_20ywkr', 'submission_id': '188m626', 'comment_id': 'kblitxu'}], [1701464070, {'subreddit_id': 't5_8pn3m2', 'submission_id': '188m627', 'comment_id': 'kblitxj'}], [1701464070, {'subreddit_id': 't5_6qhzyt', 'submission_id': '188m615', 'comment_id': 'kblitwy'}], [1701464069, {'subreddit_id': 't5_3k7ez', 'submission_id': '188m61b', 'comment_id': 'kblitus'}], [1701464069, {'subreddit_id': 't5_2r2mk', 'submission_id': '188m61p', 'comment_id': 'kblitub'}], [1701464069, {'subreddit_id': 't5_2qosw', 'submission_id': '188m61f', 'comment_id': 'kblittv'}], [1701464069, {'subreddit_id': 't5_28qodr', 'submission_id': '188hse9', 'comment_id': 'kblittu'}], [1701464069, {'subreddit_id': 't5_2qlnu', 'submission_id': '188m61g', 'comment_id': 'kblittc'}], [1701464069, {'subreddit_id': 't5_6rzov5', 'submission_id': '188m61h', 'comment_id': 'kblittb'}], [1701464069, {'subreddit_id': 't5_3k7ez', 'submission_id': '188m61b', 'comment_id': 'kblitta'}], [1701464069, {'subreddit_id': 't5_2t4jw', 'submission_id': '188m60t', 'comment_id': 'kblitst'}], [1701464068, {'subreddit_id': 't5_7qhgzz', 'submission_id': '188m61a', 'comment_id': 'kblits5'}], [1701464068, {'subreddit_id': 't5_2qwlm', 'submission_id': '188m619', 'comment_id': 'kblitry'}], [1701464068, {'subreddit_id': 't5_2ziji', 'submission_id': '188m60i', 'comment_id': 'kblitqn'}], [1701464067, {'subreddit_id': 't5_2rmov', 'submission_id': '188m5zt', 'comment_id': 'kblitoe'}], [1701464067, {'subreddit_id': 't5_2r0cn', 'submission_id': '188m60s', 'comment_id': 'kblitnz'}], [1701464067, {'subreddit_id': 't5_9gdn5i', 'submission_id': '188m5zy', 'comment_id': 'kblitn0'}], [1701464067, {'subreddit_id': 't5_2vqun', 'submission_id': '188m60n', 'comment_id': 'kblitmv'}], [1701464067, {'subreddit_id': 't5_3m7q3', 'submission_id': '188m60q', 'comment_id': 'kblitlw'}], [1701464066, {'subreddit_id': 't5_7o59p4', 'submission_id': '188m60m', 'comment_id': 'kblitkw'}], [1701464066, {'subreddit_id': 't5_2wcwv', 'submission_id': '188m60f', 'comment_id': 'kblitli'}], [1701464066, {'subreddit_id': 't5_2s7fq', 'submission_id': '188m5zi', 'comment_id': 'kblitke'}], [1701464066, {'subreddit_id': 't5_294odh', 'submission_id': '188m608', 'comment_id': 'kblitje'}], [1701464065, {'subreddit_id': 't5_2ca3vn', 'submission_id': '184d73t', 'comment_id': 'kblitha'}], [1701464065, {'subreddit_id': 't5_5l3176', 'submission_id': '188m603', 'comment_id': 'kblith8'}], [1701464064, {'subreddit_id': 't5_2rlnw', 'submission_id': '188m5zg', 'comment_id': 'kblitbu'}], [1701464064, {'subreddit_id': 't5_5giqcn', 'submission_id': '182quqr', 'comment_id': 'kblitb6'}], [1701464063, {'subreddit_id': 't5_2w6k5', 'submission_id': '188m5z7', 'comment_id': 'kblita7'}], [1701464063, {'subreddit_id': 't5_2vifd', 'submission_id': '188m5y5', 'comment_id': 'kblit8b'}], [1701464063, {'subreddit_id': 't5_2rga6', 'submission_id': '188m5ym', 'comment_id': 'kblit81'}], [1701464063, {'subreddit_id': 't5_kusn8', 'submission_id': '188m5yr', 'comment_id': 'kblit7q'}], [1701464063, {'subreddit_id': 't5_2t2ib', 'submission_id': '188m5y8', 'comment_id': 'kblit6w'}], [1701464062, {'subreddit_id': 't5_2vqun', 'submission_id': '188m5yj', 'comment_id': 'kblit8s'}], [1701464062, {'subreddit_id': 't5_673cxi', 'submission_id': '188m5yt', 'comment_id': 'kblit6n'}], [1701464062, {'subreddit_id': 't5_2szyo', 'submission_id': '188m5yg', 'comment_id': 'kblit5t'}], [1701464062, {'subreddit_id': 't5_2coav3', 'submission_id': '188m5y9', 'comment_id': 'kblit51'}], [1701464062, {'subreddit_id': 't5_2ql2m', 'submission_id': '188m5xq', 'comment_id': 'kblit45'}], [1701464061, {'subreddit_id': 't5_3dqgug', 'submission_id': '188m5y6', 'comment_id': 'kblit1q'}], [1701464061, {'subreddit_id': 't5_2vqun', 'submission_id': '188m5xy', 'comment_id': 'kblit0k'}], [1701464060, {'subreddit_id': 't5_2rf0j', 'submission_id': '188m5xn', 'comment_id': 'kbliszw'}], [1701464060, {'subreddit_id': 't5_2t4jw', 'submission_id': '188m5xs', 'comment_id': 'kblisz6'}], [1701464060, {'subreddit_id': 't5_3ioha', 'submission_id': '188m5pb', 'comment_id': 'kblisz1'}], [1701464060, {'subreddit_id': 't5_3fr54', 'submission_id': '188m5xo', 'comment_id': 'kblisyk'}], [1701464060, {'subreddit_id': 't5_3a2w4m', 'submission_id': '188m5xk', 'comment_id': 'kblisxi'}], [1701464060, {'subreddit_id': 't5_3j874', 'submission_id': '188m5xf', 'comment_id': 'kbliswn'}], [1701464058, {'subreddit_id': 't5_4rfcwg', 'submission_id': '188m5ue', 'comment_id': 'kblissz'}], [1701464058, {'subreddit_id': 't5_2x640', 'submission_id': '188m5vs', 'comment_id': 'kblisst'}], [1701464058, {'subreddit_id': 't5_2x3li9', 'submission_id': '188m5wt', 'comment_id': 'kblissn'}], [1701464058, {'subreddit_id': 't5_2qh1e', 'submission_id': '188m5vt', 'comment_id': 'kblissi'}], [1701464058, {'subreddit_id': 't5_359qr', 'submission_id': '188m5w8', 'comment_id': 'kblissb'}], [1701464057, {'subreddit_id': 't5_4wiqnm', 'submission_id': '188m5wp', 'comment_id': 'kblisrw'}], [1701464057, {'subreddit_id': 't5_359qr', 'submission_id': '188m5w8', 'comment_id': 'kblisql'}], [1701464056, {'subreddit_id': 't5_359qr', 'submission_id': '188m5w8', 'comment_id': 'kblisod'}]]\n"
     ]
    },
    {
     "name": "stderr",
     "output_type": "stream",
     "text": [
      "  5%|▍         | 598/12499 [00:59<25:55,  7.65it/s]"
     ]
    },
    {
     "name": "stdout",
     "output_type": "stream",
     "text": [
      "sequential data is  [[1635148677, {'subreddit_id': 't5_2seh9', 'submission_id': 'qel8rv', 'comment_id': 'hhyng5p'}], [1635148629, {'subreddit_id': 't5_2s30g', 'submission_id': 'qeudzb', 'comment_id': 'hhyne8w'}], [1635148621, {'subreddit_id': 't5_2ymzc', 'submission_id': 'qfafk3', 'comment_id': 'hhyndwp'}], [1635148519, {'subreddit_id': 't5_2ubgg', 'submission_id': 'qexz8g', 'comment_id': 'hhyn9wq'}], [1635148003, {'subreddit_id': 't5_11isbz', 'submission_id': 'qf12j6', 'comment_id': 'hhymonw'}], [1635147876, {'subreddit_id': 't5_3buf1', 'submission_id': 'qf79sc', 'comment_id': 'hhymjgc'}], [1635147820, {'subreddit_id': 't5_26lae1', 'submission_id': 'qeqcde', 'comment_id': 'hhymh4j'}], [1635147710, {'subreddit_id': 't5_2s4cy', 'submission_id': 'qf68vo', 'comment_id': 'hhymcf9'}], [1635147684, {'subreddit_id': 't5_53zemd', 'submission_id': 'pyk3os', 'comment_id': 'hhymbad'}], [1635147668, {'subreddit_id': 't5_2yk91', 'submission_id': 'qezcl4', 'comment_id': 'hhymajr'}], [1635147656, {'subreddit_id': 't5_mbn0j', 'submission_id': 'qf53jg', 'comment_id': 'hhyma2o'}], [1635147602, {'subreddit_id': 't5_31zi1', 'submission_id': 'qdevv4', 'comment_id': 'hhym7sh'}], [1635147440, {'subreddit_id': 't5_2qiud', 'submission_id': 'qf7r5u', 'comment_id': 'hhym11h'}], [1635147434, {'subreddit_id': 't5_3fsv6', 'submission_id': 'qbj8dd', 'comment_id': 'hhym0qq'}], [1635147226, {'subreddit_id': 't5_378hb', 'submission_id': 'qf58h4', 'comment_id': 'hhylrqv'}], [1635147210, {'subreddit_id': 't5_2w7mz', 'submission_id': 'qf0w9t', 'comment_id': 'hhylqzm'}], [1635147131, {'subreddit_id': 't5_2goljt', 'submission_id': 'qds06o', 'comment_id': 'hhylnjb'}], [1635147117, {'subreddit_id': 't5_2qirg', 'submission_id': 'qfbbq8', 'comment_id': 'hhylmxq'}], [1635146933, {'subreddit_id': 't5_2taeb', 'submission_id': 'qf8iys', 'comment_id': 'hhylf18'}], [1635146925, {'subreddit_id': 't5_2re3s', 'submission_id': 'qf3scv', 'comment_id': 'hhyleq4'}], [1635146876, {'subreddit_id': 't5_2sctv', 'submission_id': 'qf2qkw', 'comment_id': 'hhylck7'}], [1635146737, {'subreddit_id': 't5_2ttc3', 'submission_id': 'qf993u', 'comment_id': 'hhyl6ow'}], [1635146715, {'subreddit_id': 't5_f29zi', 'submission_id': 'qf7w1l', 'comment_id': 'hhyl5rk'}], [1635146651, {'subreddit_id': 't5_37jgj', 'submission_id': 'qf2eoz', 'comment_id': 'hhyl2zo'}], [1635146595, {'subreddit_id': 't5_2rjpr', 'submission_id': 'qfasx9', 'comment_id': 'hhyl0ox'}], [1635146539, {'subreddit_id': 't5_30juii', 'submission_id': 'qevbzs', 'comment_id': 'hhyky86'}], [1635146331, {'subreddit_id': 't5_2szyo', 'submission_id': 'qf4v6z', 'comment_id': 'hhykp1g'}], [1635146320, {'subreddit_id': 't5_2xcxr', 'submission_id': 'qenv6h', 'comment_id': 'hhykojt'}], [1635146138, {'subreddit_id': 't5_3n628', 'submission_id': 'q3jl6s', 'comment_id': 'hhykgr0'}], [1635146087, {'subreddit_id': 't5_2qpe9', 'submission_id': 'qew1ws', 'comment_id': 'hhykehy'}], [1635145894, {'subreddit_id': 't5_2u8gb', 'submission_id': 'qf8fhg', 'comment_id': 'hhyk641'}], [1635145862, {'subreddit_id': 't5_2vxpf', 'submission_id': 'qf3bgf', 'comment_id': 'hhyk4r4'}], [1635145701, {'subreddit_id': 't5_2w7ch', 'submission_id': 'qeskf1', 'comment_id': 'hhyjxme'}], [1635145676, {'subreddit_id': 't5_2u0zn', 'submission_id': 'qf4i2x', 'comment_id': 'hhyjwhw'}], [1635145490, {'subreddit_id': 't5_3iv6q', 'submission_id': 'qetmvp', 'comment_id': 'hhyjo76'}], [1635145309, {'subreddit_id': 't5_339p9', 'submission_id': 'qeyu4b', 'comment_id': 'hhyjg1g'}], [1635145208, {'subreddit_id': 't5_2y15qk', 'submission_id': 'qfarbo', 'comment_id': 'hhyjbjn'}], [1635145200, {'subreddit_id': 't5_2zd61', 'submission_id': 'qfazed', 'comment_id': 'hhyjb61'}], [1635145175, {'subreddit_id': 't5_3foz6', 'submission_id': 'qeyfcn', 'comment_id': 'hhyja31'}], [1635145151, {'subreddit_id': 't5_3foz6', 'submission_id': 'qeyfcn', 'comment_id': 'hhyj921'}], [1635145085, {'subreddit_id': 't5_3k7eh', 'submission_id': 'qf4768', 'comment_id': 'hhyj65v'}], [1635144847, {'subreddit_id': 't5_35n7t', 'submission_id': 'qf3jrw', 'comment_id': 'hhyivj9'}], [1635144823, {'subreddit_id': 't5_2r12q', 'submission_id': 'q5q1rf', 'comment_id': 'hhyiuip'}], [1635144815, {'subreddit_id': 't5_2qhhw', 'submission_id': 'qf3040', 'comment_id': 'hhyiu6c'}], [1635144697, {'subreddit_id': 't5_37o2hz', 'submission_id': 'qf4ay9', 'comment_id': 'hhyiozr'}], [1635144611, {'subreddit_id': 't5_2ti4h', 'submission_id': 'qf5wn9', 'comment_id': 'hhyil6m'}], [1635144442, {'subreddit_id': 't5_2ubgg', 'submission_id': 'qf3127', 'comment_id': 'hhyie22'}], [1635144330, {'subreddit_id': 't5_2ti4h', 'submission_id': 'qf5wn9', 'comment_id': 'hhyi9dn'}], [1635144090, {'subreddit_id': 't5_3n7fs', 'submission_id': 'qf21dl', 'comment_id': 'hhyhz5i'}], [1635143902, {'subreddit_id': 't5_2u0tt', 'submission_id': 'qeu159', 'comment_id': 'hhyhr17'}], [1635143759, {'subreddit_id': 't5_13wks8', 'submission_id': 'qaofkc', 'comment_id': 'hhyhkn6'}], [1635143665, {'subreddit_id': 't5_4c4j2u', 'submission_id': 'qetf83', 'comment_id': 'hhyhgjb'}], [1635143581, {'subreddit_id': 't5_2r40j', 'submission_id': 'qf3xa1', 'comment_id': 'hhyhctg'}], [1635143561, {'subreddit_id': 't5_32ivr', 'submission_id': 'qesw1t', 'comment_id': 'hhyhbzc'}], [1635143540, {'subreddit_id': 't5_2vgfw', 'submission_id': 'qf9xeo', 'comment_id': 'hhyhb2l'}], [1635143521, {'subreddit_id': 't5_2qhrn', 'submission_id': 'qev4c5', 'comment_id': 'hhyha52'}], [1635143451, {'subreddit_id': 't5_2qq6g', 'submission_id': 'qeomcu', 'comment_id': 'hhyh72l'}], [1635143412, {'subreddit_id': 't5_2siqo', 'submission_id': 'qf0qtm', 'comment_id': 'hhyh5d4'}], [1635143302, {'subreddit_id': 't5_2ql0i', 'submission_id': 'qfa0j5', 'comment_id': 'hhyh0gu'}], [1635143218, {'subreddit_id': 't5_2ts07', 'submission_id': '8fzgzj', 'comment_id': 'hhygwsw'}], [1635143188, {'subreddit_id': 't5_2svqn', 'submission_id': 'qewce4', 'comment_id': 'hhygvh8'}], [1635143082, {'subreddit_id': 't5_2v0i1', 'submission_id': 'qesrdf', 'comment_id': 'hhygqtm'}], [1635143000, {'subreddit_id': 't5_2g3blu', 'submission_id': 'qf6cex', 'comment_id': 'hhygn6p'}], [1635142868, {'subreddit_id': 't5_2spy01', 'submission_id': 'qfacwu', 'comment_id': 'hhyghdm'}], [1635142824, {'subreddit_id': 't5_2shbb', 'submission_id': 'qf37ea', 'comment_id': 'hhygfbn'}], [1635142562, {'subreddit_id': 't5_2qhvl', 'submission_id': 'qf9dn9', 'comment_id': 'hhyg3kn'}], [1635142527, {'subreddit_id': 't5_3lf2f', 'submission_id': 'qf7cpr', 'comment_id': 'hhyg22u'}], [1635142497, {'subreddit_id': 't5_2qh1n', 'submission_id': 'qf3ybz', 'comment_id': 'hhyg0rh'}], [1635142465, {'subreddit_id': 't5_32fb0', 'submission_id': 'qf1neg', 'comment_id': 'hhyfzaz'}], [1635142383, {'subreddit_id': 't5_3iutp', 'submission_id': 'qetfci', 'comment_id': 'hhyfvlr'}], [1635142265, {'subreddit_id': 't5_2t3qtq', 'submission_id': 'qbel6y', 'comment_id': 'hhyfq92'}], [1635142246, {'subreddit_id': 't5_2tcwa', 'submission_id': 'qfa1t7', 'comment_id': 'hhyfpdi'}], [1635142200, {'subreddit_id': 't5_39ssk', 'submission_id': 'qf8bhr', 'comment_id': 'hhyfndh'}], [1635142014, {'subreddit_id': 't5_2sxpk', 'submission_id': 'qf4300', 'comment_id': 'hhyfeze'}], [1635141914, {'subreddit_id': 't5_2u2bh', 'submission_id': 'qf1oeq', 'comment_id': 'hhyfabh'}], [1635141895, {'subreddit_id': 't5_2tf0e', 'submission_id': 'qf3tha', 'comment_id': 'hhyf9er'}], [1635141858, {'subreddit_id': 't5_w8czs', 'submission_id': 'qf6kcv', 'comment_id': 'hhyf7qm'}], [1635141788, {'subreddit_id': 't5_38f3iy', 'submission_id': 'qewln0', 'comment_id': 'hhyf4i2'}], [1635141785, {'subreddit_id': 't5_2ryc6', 'submission_id': 'qeusdu', 'comment_id': 'hhyf4bx'}], [1635141768, {'subreddit_id': 't5_n9nn1', 'submission_id': 'qf9u3a', 'comment_id': 'hhyf3kw'}], [1635141768, {'subreddit_id': 't5_2qq6g', 'submission_id': 'qeomcu', 'comment_id': 'hhyf3kt'}], [1635141670, {'subreddit_id': 't5_2qr1y', 'submission_id': 'qf3v50', 'comment_id': 'hhyez28'}], [1635141560, {'subreddit_id': 't5_35n7t', 'submission_id': 'qf8x0q', 'comment_id': 'hhyeu0x'}], [1635141504, {'subreddit_id': 't5_2w7mz', 'submission_id': 'qf3cdy', 'comment_id': 'hhyerho'}], [1635141454, {'subreddit_id': 't5_2y15qk', 'submission_id': 'qfa3ep', 'comment_id': 'hhyep6p'}], [1635141422, {'subreddit_id': 't5_2raed', 'submission_id': 'qf5i4v', 'comment_id': 'hhyenph'}], [1635141362, {'subreddit_id': 't5_2dkvmc', 'submission_id': 'qf9sw4', 'comment_id': 'hhyekx1'}], [1635141284, {'subreddit_id': 't5_2m53wz', 'submission_id': 'qexyui', 'comment_id': 'hhyeheh'}], [1635141268, {'subreddit_id': 't5_2s4cy', 'submission_id': 'qf68vo', 'comment_id': 'hhyegoe'}], [1635141205, {'subreddit_id': 't5_4e76ne', 'submission_id': 'qepzl4', 'comment_id': 'hhyedt4'}], [1635141187, {'subreddit_id': 't5_3i6x1', 'submission_id': 'qexwwz', 'comment_id': 'hhyecz5'}], [1635141043, {'subreddit_id': 't5_3ipa1', 'submission_id': 'qewi4h', 'comment_id': 'hhye67c'}], [1635140919, {'subreddit_id': 't5_2rpor', 'submission_id': 'qf9lvb', 'comment_id': 'hhye0ak'}], [1635140791, {'subreddit_id': 't5_2r749', 'submission_id': 'qf68x7', 'comment_id': 'hhydufs'}], [1635140783, {'subreddit_id': 't5_25ta52', 'submission_id': 'qd86fv', 'comment_id': 'hhydu27'}], [1635140761, {'subreddit_id': 't5_2r78l', 'submission_id': 'qf0d1k', 'comment_id': 'hhydt04'}], [1635140743, {'subreddit_id': 't5_2qhdi', 'submission_id': 'qexrr5', 'comment_id': 'hhyds46'}], [1635140724, {'subreddit_id': 't5_2vqof', 'submission_id': 'qf0p29', 'comment_id': 'hhydr7n'}], [1635140580, {'subreddit_id': 't5_2rgny', 'submission_id': 'nmj1b9', 'comment_id': 'hhydk8v'}], [1635140452, {'subreddit_id': 't5_2s30g', 'submission_id': 'qeweqk', 'comment_id': 'hhyde0i'}]]\n"
     ]
    },
    {
     "name": "stderr",
     "output_type": "stream",
     "text": [
      " 31%|███       | 3873/12499 [32:04<14:47,  9.72it/s]     "
     ]
    },
    {
     "name": "stdout",
     "output_type": "stream",
     "text": [
      "sequential data is  [[1679520756, {'subreddit_id': 't5_2ssp7', 'submission_id': '11yblpn', 'comment_id': 'jd9uy20'}], [1674784672, {'subreddit_id': 't5_2yo6b', 'submission_id': '10lug0j', 'comment_id': 'j61nwnk'}], [1674784603, {'subreddit_id': 't5_39ne7', 'submission_id': '10m05l5', 'comment_id': 'j61nr5t'}], [1674784398, {'subreddit_id': 't5_39ne7', 'submission_id': '10jzuts', 'comment_id': 'j61nask'}], [1673985200, {'subreddit_id': 't5_2ssp7', 'submission_id': '10dxmif', 'comment_id': 'j4rlt8n'}], [1673321029, {'subreddit_id': 't5_msyp9', 'submission_id': '107wsln', 'comment_id': 'j3pbu28'}], [1672939447, {'subreddit_id': 't5_39ne7', 'submission_id': '103wu4v', 'comment_id': 'j32ok91'}], [1672936001, {'subreddit_id': 't5_swxxz', 'submission_id': '103ymoh', 'comment_id': 'j32f4hm'}], [1672886413, {'subreddit_id': 't5_39em5', 'submission_id': '103ctml', 'comment_id': 'j2zyj1c'}], [1672859586, {'subreddit_id': 't5_2ssp7', 'submission_id': '103494k', 'comment_id': 'j2y15m1'}], [1672851610, {'subreddit_id': 't5_2ssp7', 'submission_id': '101g4wy', 'comment_id': 'j2xfek2'}], [1672800697, {'subreddit_id': 't5_2ssp7', 'submission_id': 'zyuo0e', 'comment_id': 'j2ux6au'}], [1672800656, {'subreddit_id': 't5_2ssp7', 'submission_id': '101g4wy', 'comment_id': 'j2ux30o'}], [1672799564, {'subreddit_id': 't5_2ssp7', 'submission_id': '101g4wy', 'comment_id': 'j2uukfz'}], [1672795336, {'subreddit_id': 't5_2ssp7', 'submission_id': '101g4wy', 'comment_id': 'j2uksds'}], [1672795021, {'subreddit_id': 't5_2ssp7', 'submission_id': '101g4wy', 'comment_id': 'j2uk2i6'}], [1672792821, {'subreddit_id': 't5_2ssp7', 'submission_id': '101g4wy', 'comment_id': 'j2uewrx'}], [1672788624, {'subreddit_id': 't5_2ssp7', 'submission_id': '101g4wy', 'comment_id': 'j2u4msi'}], [1672788611, {'subreddit_id': 't5_q4neh', 'submission_id': '101grxv', 'comment_id': 'j2u4lno'}], [1672788598, {'subreddit_id': 't5_2ssp7', 'submission_id': '101g4wy', 'comment_id': 'j2u4kjy'}], [1672788567, {'subreddit_id': 't5_2ssp7', 'submission_id': 'zyuo0e', 'comment_id': 'j2u4hu7'}], [1672694412, {'subreddit_id': 't5_2ssp7', 'submission_id': '101g4wy', 'comment_id': 'j2oislu'}], [1672694235, {'subreddit_id': 't5_q4neh', 'submission_id': '101grxv', 'comment_id': 'j2oicgc'}], [1672628951, {'subreddit_id': 't5_2ssp7', 'submission_id': 'zyuo0e', 'comment_id': 'j2l3rs0'}], [1672424323, {'subreddit_id': 't5_2ssp7', 'submission_id': 'zyuo0e', 'comment_id': 'j29v5un'}], [1672353161, {'subreddit_id': 't5_hcycg', 'submission_id': 'zxv5jy', 'comment_id': 'j261bcm'}], [1672353064, {'subreddit_id': 't5_m0bnr', 'submission_id': 'zy69wm', 'comment_id': 'j2612v2'}], [1672293034, {'subreddit_id': 't5_4c4j2u', 'submission_id': 'zxdf86', 'comment_id': 'j22rt0w'}], [1672292786, {'subreddit_id': 't5_4c4j2u', 'submission_id': 'zxdf86', 'comment_id': 'j22regt'}], [1672291802, {'subreddit_id': 't5_hw1ju', 'submission_id': 'zxo9ch', 'comment_id': 'j22pr5j'}], [1672291758, {'subreddit_id': 't5_hw1ju', 'submission_id': 'zxo9ch', 'comment_id': 'j22poep'}], [1672291713, {'subreddit_id': 't5_hw1ju', 'submission_id': 'zxo9ch', 'comment_id': 'j22plmw'}], [1672291628, {'subreddit_id': 't5_mbn0j', 'submission_id': 'zxe0qu', 'comment_id': 'j22pgfu'}], [1672286971, {'subreddit_id': 't5_og6f7', 'submission_id': 'zxcnkw', 'comment_id': 'j22gqbl'}], [1672286893, {'subreddit_id': 't5_39em5', 'submission_id': 'zwz95p', 'comment_id': 'j22gkrg'}], [1672286841, {'subreddit_id': 't5_q4neh', 'submission_id': 'zx8jil', 'comment_id': 'j22ggxj'}], [1672281897, {'subreddit_id': 't5_39em5', 'submission_id': 'zwz95p', 'comment_id': 'j2260rz'}], [1672278535, {'subreddit_id': 't5_q4neh', 'submission_id': 'zx8jil', 'comment_id': 'j21ygst'}], [1672265227, {'subreddit_id': 't5_q4neh', 'submission_id': 'zx8jil', 'comment_id': 'j213fn9'}], [1672263394, {'subreddit_id': 't5_hcycg', 'submission_id': 'zxbi33', 'comment_id': 'j20yxqf'}], [1672260349, {'subreddit_id': 't5_hw1ju', 'submission_id': 'zxcqn7', 'comment_id': 'j20r96q'}], [1672259810, {'subreddit_id': 't5_2ssp7', 'submission_id': 'zx9spp', 'comment_id': 'j20pw2w'}], [1672258758, {'subreddit_id': 't5_2s30n', 'submission_id': 'zwz4qi', 'comment_id': 'j20n859'}], [1672258620, {'subreddit_id': 't5_2ssp7', 'submission_id': 'zwr3wo', 'comment_id': 'j20mvmp'}], [1669876070, {'subreddit_id': 't5_q4neh', 'submission_id': 'z94392', 'comment_id': 'iygnwyk'}], [1669759134, {'subreddit_id': 't5_mbn0j', 'submission_id': 'z7st1p', 'comment_id': 'iya63ic'}], [1663184635, {'subreddit_id': 't5_2ssp7', 'submission_id': 'v142yb', 'comment_id': 'iofs6nm'}], [1663184635, {'subreddit_id': 't5_2ssp7', 'submission_id': 'v142yb', 'comment_id': 'iofs6nf'}], [1663184607, {'subreddit_id': 't5_2ssp7', 'submission_id': 'v142yb', 'comment_id': 'iofs46z'}], [1663184597, {'subreddit_id': 't5_2ssp7', 'submission_id': 'v142yb', 'comment_id': 'iofs3c9'}], [1663184543, {'subreddit_id': 't5_2ssp7', 'submission_id': 'v142yb', 'comment_id': 'iofrykc'}], [1663184507, {'subreddit_id': 't5_2ssp7', 'submission_id': 'v142yb', 'comment_id': 'iofrvc3'}], [1663184468, {'subreddit_id': 't5_2ssp7', 'submission_id': 'v142yb', 'comment_id': 'iofrrt1'}], [1655759594, {'subreddit_id': 't5_2ssp7', 'submission_id': 'vgoahz', 'comment_id': 'id3t5q3'}], [1655603747, {'subreddit_id': 't5_2ssp7', 'submission_id': 'veztz3', 'comment_id': 'icwdpv2'}], [1654303024, {'subreddit_id': 't5_2ssp7', 'submission_id': 'v3xnx5', 'comment_id': 'ib3ki0c'}], [1654017092, {'subreddit_id': 't5_3pmoe', 'submission_id': 'v1gwof', 'comment_id': 'iaomp1i'}], [1653976112, {'subreddit_id': 't5_2ssp7', 'submission_id': 'v148xj', 'comment_id': 'iamrqt7'}], [1653972532, {'subreddit_id': 't5_2ssp7', 'submission_id': 'v148xj', 'comment_id': 'iammpp8'}], [1653955751, {'subreddit_id': 't5_2ssp7', 'submission_id': 'v142yb', 'comment_id': 'ials9nd'}], [1653954215, {'subreddit_id': 't5_2ssp7', 'submission_id': 'v142yb', 'comment_id': 'ialpcgn'}], [1653951693, {'subreddit_id': 't5_2ssp7', 'submission_id': 'v142yb', 'comment_id': 'ialkgy2'}], [1653948143, {'subreddit_id': 't5_2ssp7', 'submission_id': 'v142yb', 'comment_id': 'ialdeo6'}], [1653935142, {'subreddit_id': 't5_3nasz', 'submission_id': 'v11yci', 'comment_id': 'iakm25n'}], [1653934869, {'subreddit_id': 't5_2ssp7', 'submission_id': 'v148xj', 'comment_id': 'iaklgdf'}], [1653934370, {'subreddit_id': 't5_2ssp7', 'submission_id': 'v12eys', 'comment_id': 'iakkckd'}], [1653934292, {'subreddit_id': 't5_2ssp7', 'submission_id': 'v12y7l', 'comment_id': 'iakk6g5'}], [1653934197, {'subreddit_id': 't5_2ssp7', 'submission_id': 'v0uawz', 'comment_id': 'iakjyvr'}], [1653934112, {'subreddit_id': 't5_2ssp7', 'submission_id': 'v0t88y', 'comment_id': 'iakjs9e'}], [1653933921, {'subreddit_id': 't5_2ssp7', 'submission_id': 'v101dq', 'comment_id': 'iakjcxy'}], [1653933890, {'subreddit_id': 't5_2ssp7', 'submission_id': 'v105gm', 'comment_id': 'iakjagi'}], [1653933595, {'subreddit_id': 't5_2ssp7', 'submission_id': 'v0tkso', 'comment_id': 'iakimn3'}], [1653933452, {'subreddit_id': 't5_2ssp7', 'submission_id': 'v0cxdv', 'comment_id': 'iakibbu'}], [1653933314, {'subreddit_id': 't5_2ssp7', 'submission_id': 'v12c4k', 'comment_id': 'iaki0fn'}], [1653933217, {'subreddit_id': 't5_2ssp7', 'submission_id': 'v053aq', 'comment_id': 'iakhstr'}], [1653933116, {'subreddit_id': 't5_2ssp7', 'submission_id': 'v12rp2', 'comment_id': 'iakhl0t'}], [1653933065, {'subreddit_id': 't5_2ssp7', 'submission_id': 'v0wi9n', 'comment_id': 'iakhgwu'}], [1653932994, {'subreddit_id': 't5_2ssp7', 'submission_id': 'v131x3', 'comment_id': 'iakhb6z'}], [1653932877, {'subreddit_id': 't5_2ssp7', 'submission_id': 'uzt464', 'comment_id': 'iakh1qj'}], [1653932728, {'subreddit_id': 't5_2ssp7', 'submission_id': 'v13nao', 'comment_id': 'iakgptr'}], [1653932645, {'subreddit_id': 't5_2ssp7', 'submission_id': 'v0xaac', 'comment_id': 'iakgjb6'}], [1653932520, {'subreddit_id': 't5_2ssp7', 'submission_id': 'v142yb', 'comment_id': 'iakg92n'}], [1653932225, {'subreddit_id': 't5_2ssp7', 'submission_id': 'v14y6h', 'comment_id': 'iakfl2e'}], [1653932145, {'subreddit_id': 't5_2ssp7', 'submission_id': 'v158w3', 'comment_id': 'iakfej8'}], [1653931833, {'subreddit_id': 't5_2ssp7', 'submission_id': 'v147gj', 'comment_id': 'iakepbx'}], [1653931793, {'subreddit_id': 't5_2ssp7', 'submission_id': 'v148xj', 'comment_id': 'iakem4x'}], [1653931554, {'subreddit_id': 't5_2ssp7', 'submission_id': 'v11yg9', 'comment_id': 'iake2zu'}], [1653931414, {'subreddit_id': 't5_2ssp7', 'submission_id': 'v0efoo', 'comment_id': 'iakdrmm'}], [1653931100, {'subreddit_id': 't5_2ssp7', 'submission_id': 'v0yvyv', 'comment_id': 'iakd1j7'}], [1653931005, {'subreddit_id': 't5_2ssp7', 'submission_id': 'v11909', 'comment_id': 'iakctt8'}], [1653930402, {'subreddit_id': 't5_2ssp7', 'submission_id': 'v0y81k', 'comment_id': 'iakbguq'}], [1653930338, {'subreddit_id': 't5_2ssp7', 'submission_id': 'v0y81k', 'comment_id': 'iakbbk1'}], [1653930184, {'subreddit_id': 't5_2qnub', 'submission_id': 'v0p8l4', 'comment_id': 'iakayvr'}], [1653325651, {'subreddit_id': 't5_swxxz', 'submission_id': 'uvq19v', 'comment_id': 'i9pcywl'}], [1653236217, {'subreddit_id': 't5_3dpf92', 'submission_id': 'ub4tg4', 'comment_id': 'i9ktdd4'}], [1653236013, {'subreddit_id': 't5_3dpf92', 'submission_id': 'ufedwb', 'comment_id': 'i9kswj4'}], [1649558884, {'subreddit_id': 't5_2yo6b', 'submission_id': 'tvl670', 'comment_id': 'i446q42'}], [1649558866, {'subreddit_id': 't5_2yo6b', 'submission_id': 'tvl670', 'comment_id': 'i446ott'}], [1647369137, {'subreddit_id': 't5_qir9n', 'submission_id': 'tetdwy', 'comment_id': 'i0s5ckq'}], [1641267945, {'subreddit_id': 't5_2yrq6', 'submission_id': 'rut9fv', 'comment_id': 'hr62e4b'}]]\n"
     ]
    },
    {
     "name": "stderr",
     "output_type": "stream",
     "text": [
      " 31%|███       | 3892/12499 [32:09<28:12,  5.08it/s]"
     ]
    },
    {
     "name": "stdout",
     "output_type": "stream",
     "text": [
      "sequential data is  [[1592773467, {'subreddit_id': 't5_swm44', 'submission_id': 'frqfg3', 'comment_id': 'fvknflh'}], [1592772688, {'subreddit_id': 't5_2xhvq', 'submission_id': 'hd72ld', 'comment_id': 'fvkm111'}], [1592767354, {'subreddit_id': 't5_2xhvq', 'submission_id': 'hd72ld', 'comment_id': 'fvkcbgu'}], [1592767354, {'subreddit_id': 't5_2xhvq', 'submission_id': 'hd72ld', 'comment_id': 'fvkcbgq'}], [1592762213, {'subreddit_id': 't5_2xhvq', 'submission_id': 'hd72ld', 'comment_id': 'fvk2qz7'}], [1592761310, {'subreddit_id': 't5_3jj03', 'submission_id': 'hd3tak', 'comment_id': 'fvk135f'}], [1592700798, {'subreddit_id': 't5_m0bnr', 'submission_id': 'hcrfr4', 'comment_id': 'fvhs67i'}], [1592680782, {'subreddit_id': 't5_2sdqx', 'submission_id': 'hcp9q0', 'comment_id': 'fvgtaug'}], [1592618128, {'subreddit_id': 't5_2uao3', 'submission_id': 'hcb0rn', 'comment_id': 'fvef1cd'}], [1592343849, {'subreddit_id': 't5_3079s', 'submission_id': 'h9x0pa', 'comment_id': 'fv24gdj'}], [1592323454, {'subreddit_id': 't5_2qh1i', 'submission_id': 'ha2lj2', 'comment_id': 'fv0utve'}], [1592257130, {'subreddit_id': 't5_2rjli', 'submission_id': 'h9hzh7', 'comment_id': 'fuy1pey'}], [1592148909, {'subreddit_id': 't5_2sdqx', 'submission_id': 'h8sa0r', 'comment_id': 'fut3m9h'}], [1591988724, {'subreddit_id': 't5_aclr0', 'submission_id': 'h7li55', 'comment_id': 'fummkeq'}], [1591988259, {'subreddit_id': 't5_2w844', 'submission_id': 'h7dokf', 'comment_id': 'fumlmt5'}], [1591889144, {'subreddit_id': 't5_2sdqx', 'submission_id': 'h0vs9p', 'comment_id': 'ftpcm8l'}], [1591713728, {'subreddit_id': 't5_2sdqx', 'submission_id': 'gzl1lw', 'comment_id': 'fthapa9'}], [1591540442, {'subreddit_id': 't5_2qh1i', 'submission_id': 'gy5hcu', 'comment_id': 'ft9rn93'}], [1591410071, {'subreddit_id': 't5_3jj03', 'submission_id': 'gx7nq5', 'comment_id': 'ft1nixv'}], [1591324967, {'subreddit_id': 't5_2sdqx', 'submission_id': 'gwsmq7', 'comment_id': 'fsxjp43'}], [1591220238, {'subreddit_id': 't5_323oy', 'submission_id': 'gvye94', 'comment_id': 'fssj5wv'}], [1590453379, {'subreddit_id': 't5_2sdqx', 'submission_id': 'gqibbv', 'comment_id': 'frtmg5j'}], [1590347791, {'subreddit_id': 't5_30tmh', 'submission_id': 'gprhe1', 'comment_id': 'froyx8y'}], [1590248025, {'subreddit_id': 't5_2rjli', 'submission_id': 'gp3oqx', 'comment_id': 'frk255p'}], [1589856121, {'subreddit_id': 't5_2sdqx', 'submission_id': 'gm2r9z', 'comment_id': 'fr3f7mt'}], [1589716407, {'subreddit_id': 't5_2sdqx', 'submission_id': 'gkxm35', 'comment_id': 'fqwsrk7'}], [1589474890, {'subreddit_id': 't5_2qh0u', 'submission_id': 'gjkjo5', 'comment_id': 'fqmbvzg'}], [1589338131, {'subreddit_id': 't5_2qh1i', 'submission_id': 'gi9wlt', 'comment_id': 'fqg51nm'}], [1588792399, {'subreddit_id': 't5_2s9qk', 'submission_id': 'genq01', 'comment_id': 'fpoxlgy'}], [1587740875, {'subreddit_id': 't5_2szyo', 'submission_id': 'g6xvl1', 'comment_id': 'fofq8r1'}], [1587335093, {'subreddit_id': 't5_2qh1i', 'submission_id': 'g4727o', 'comment_id': 'fnxb5qe'}], [1586553966, {'subreddit_id': 't5_3jj03', 'submission_id': 'fyiiv7', 'comment_id': 'fn13cmh'}], [1585758544, {'subreddit_id': 't5_2sdqx', 'submission_id': 'fsgox7', 'comment_id': 'fm4pq9e'}], [1584741802, {'subreddit_id': 't5_2sdqx', 'submission_id': 'fm2kdf', 'comment_id': 'fl230s1'}], [1584707369, {'subreddit_id': 't5_kf94g', 'submission_id': 'fljlt1', 'comment_id': 'fl0id33'}], [1583923089, {'subreddit_id': 't5_2qh1i', 'submission_id': 'fgq66l', 'comment_id': 'fk6zus8'}], [1583294063, {'subreddit_id': 't5_2sdqx', 'submission_id': 'fd4px4', 'comment_id': 'fjfl4y4'}], [1582378180, {'subreddit_id': 't5_2s30g', 'submission_id': 'f7rlwn', 'comment_id': 'fieeit0'}], [1582168060, {'subreddit_id': 't5_2qh1i', 'submission_id': 'f6fkuo', 'comment_id': 'fi5ppyk'}], [1581682207, {'subreddit_id': 't5_m0bnr', 'submission_id': 'f3m9g1', 'comment_id': 'fhkg034'}], [1581581333, {'subreddit_id': 't5_2s30g', 'submission_id': 'f2xds7', 'comment_id': 'fhgvscw'}], [1580530288, {'subreddit_id': 't5_2qtwb', 'submission_id': 'ewqn36', 'comment_id': 'fg5kw3q'}], [1580378109, {'subreddit_id': 't5_3jj03', 'submission_id': 'evmqhj', 'comment_id': 'ffzgmrr'}], [1580116842, {'subreddit_id': 't5_39em5', 'submission_id': 'euahla', 'comment_id': 'ffq2j35'}], [1580051047, {'subreddit_id': 't5_2rcuq', 'submission_id': 'eogwi8', 'comment_id': 'ffm9u1a'}], [1579554977, {'subreddit_id': 't5_2qh1i', 'submission_id': 'ercgvw', 'comment_id': 'ff43w7d'}], [1579452807, {'subreddit_id': 't5_2qp6s', 'submission_id': 'ehbyug', 'comment_id': 'fez0nil'}], [1579301360, {'subreddit_id': 't5_2sdqx', 'submission_id': 'eq1qdj', 'comment_id': 'feok8mo'}], [1579301041, {'subreddit_id': 't5_39em5', 'submission_id': 'eq4jll', 'comment_id': 'feojnu6'}], [1579267982, {'subreddit_id': 't5_2s30g', 'submission_id': 'epyrad', 'comment_id': 'fems26b'}], [1579163220, {'subreddit_id': 't5_2qh1i', 'submission_id': 'ep6k7l', 'comment_id': 'fej9tf5'}], [1579130088, {'subreddit_id': 't5_2qh1i', 'submission_id': 'ep3j8m', 'comment_id': 'fei4hm5'}], [1579129891, {'subreddit_id': 't5_cqvah', 'submission_id': 'eo8euj', 'comment_id': 'fei468f'}], [1577712455, {'subreddit_id': 't5_2sdqx', 'submission_id': 'ehkglm', 'comment_id': 'fck087j'}], [1576736089, {'subreddit_id': 't5_39em5', 'submission_id': 'ecmm9c', 'comment_id': 'fbcwa3r'}], [1576709198, {'subreddit_id': 't5_2qh03', 'submission_id': 'ech3vm', 'comment_id': 'fbbvpgl'}], [1576537941, {'subreddit_id': 't5_2s7x0', 'submission_id': 'ebhbka', 'comment_id': 'fb5zwb7'}], [1576494236, {'subreddit_id': 't5_39em5', 'submission_id': 'ebcnet', 'comment_id': 'fb3x9va'}], [1576353756, {'subreddit_id': 't5_2sdqx', 'submission_id': 'eanw1a', 'comment_id': 'fauxi2d'}], [1576185407, {'subreddit_id': 't5_2qh1i', 'submission_id': 'e9pecj', 'comment_id': 'falji3d'}], [1576175220, {'subreddit_id': 't5_36znx', 'submission_id': 'e8a3ff', 'comment_id': 'fakyeed'}], [1576172835, {'subreddit_id': 't5_2sdqx', 'submission_id': 'e9ou38', 'comment_id': 'faktevu'}], [1576086191, {'subreddit_id': 't5_2qh1i', 'submission_id': 'e92xoy', 'comment_id': 'fahhvd1'}], [1575840707, {'subreddit_id': 't5_2qh1i', 'submission_id': 'e7umv9', 'comment_id': 'fa836ud'}], [1575411195, {'subreddit_id': 't5_2sdqx', 'submission_id': 'e5m2ix', 'comment_id': 'f9kzpa0'}], [1575409216, {'subreddit_id': 't5_2sdqx', 'submission_id': 'e5kix2', 'comment_id': 'f9kwds4'}], [1574801135, {'subreddit_id': 't5_2qh1i', 'submission_id': 'e1we7p', 'comment_id': 'f8tdj72'}], [1574736732, {'subreddit_id': 't5_2qh1i', 'submission_id': 'e1o0mc', 'comment_id': 'f8rbyqt'}], [1574148835, {'subreddit_id': 't5_39em5', 'submission_id': 'dyaqdp', 'comment_id': 'f813uv4'}], [1574135513, {'subreddit_id': 't5_39em5', 'submission_id': 'dyaqdp', 'comment_id': 'f80qggf'}], [1574007068, {'subreddit_id': 't5_2xhvq', 'submission_id': 'dxi91m', 'comment_id': 'f7trs5b'}], [1573043697, {'subreddit_id': 't5_2qh1o', 'submission_id': 'ds7efo', 'comment_id': 'f6p0qvo'}], [1573043144, {'subreddit_id': 't5_2qh1i', 'submission_id': 'ds5d1a', 'comment_id': 'f6p07ik'}], [1573036958, {'subreddit_id': 't5_m0bnr', 'submission_id': 'dsc4de', 'comment_id': 'f6ovbnr'}], [1573011454, {'subreddit_id': 't5_2qh1i', 'submission_id': 'ds4fem', 'comment_id': 'f6oa0pj'}], [1572903864, {'subreddit_id': 't5_2szyo', 'submission_id': 'drk3u1', 'comment_id': 'f6k2fr2'}], [1572263084, {'subreddit_id': 't5_2ssp7', 'submission_id': 'do4dul', 'comment_id': 'f5kgx6g'}], [1572115981, {'subreddit_id': 't5_2qh1i', 'submission_id': 'dnd0p4', 'comment_id': 'f5b0ci8'}], [1572109996, {'subreddit_id': 't5_2qh0u', 'submission_id': 'dnevqg', 'comment_id': 'f5am4j6'}], [1572090870, {'subreddit_id': 't5_aclr0', 'submission_id': 'dn7smd', 'comment_id': 'f59k4ab'}], [1572086018, {'subreddit_id': 't5_2qh1i', 'submission_id': 'dn3gkd', 'comment_id': 'f59eilm'}], [1571915822, {'subreddit_id': 't5_2qh1i', 'submission_id': 'dm6qno', 'comment_id': 'f4ztv0o'}], [1571869913, {'subreddit_id': 't5_3gcwj', 'submission_id': 'dlyhf2', 'comment_id': 'f4xxfxu'}], [1571823764, {'subreddit_id': 't5_2qh1i', 'submission_id': 'dlrz06', 'comment_id': 'f4uq645'}], [1571697080, {'subreddit_id': 't5_2s30g', 'submission_id': 'dl3dbg', 'comment_id': 'f4o6gry'}], [1571656717, {'subreddit_id': 't5_2xhvq', 'submission_id': 'dkq8o5', 'comment_id': 'f4krlkq'}], [1571631995, {'subreddit_id': 't5_2qo2a', 'submission_id': 'dkt3vn', 'comment_id': 'f4k1gcu'}], [1571622634, {'subreddit_id': 't5_39em5', 'submission_id': 'dkj0hm', 'comment_id': 'f4jn94b'}], [1571621600, {'subreddit_id': 't5_2qh1i', 'submission_id': 'dko28q', 'comment_id': 'f4jl929'}], [1571359615, {'subreddit_id': 't5_2qh1i', 'submission_id': 'djabmx', 'comment_id': 'f44vcz9'}], [1571224176, {'subreddit_id': 't5_323oy', 'submission_id': 'dig595', 'comment_id': 'f3ww9dp'}], [1571045659, {'subreddit_id': 't5_3egn8', 'submission_id': 'dgx3ma', 'comment_id': 'f3p61qz'}], [1570969717, {'subreddit_id': 't5_2qh0u', 'submission_id': 'dh4ikq', 'comment_id': 'f3kue5m'}], [1570880665, {'subreddit_id': 't5_2szyo', 'submission_id': 'dgsfhp', 'comment_id': 'f3ek4k6'}], [1570879303, {'subreddit_id': 't5_2qh1i', 'submission_id': 'dghcy7', 'comment_id': 'f3eiujv'}], [1570705510, {'subreddit_id': 't5_2qh1i', 'submission_id': 'dfkzwo', 'comment_id': 'f364bpm'}], [1570671169, {'subreddit_id': 't5_2qh1i', 'submission_id': 'dfk2v4', 'comment_id': 'f358n6f'}], [1570619596, {'subreddit_id': 't5_2qo2a', 'submission_id': 'dfdfjk', 'comment_id': 'f32nrks'}], [1570616368, {'subreddit_id': 't5_2qh1i', 'submission_id': 'dfa6it', 'comment_id': 'f32lf6p'}], [1570326273, {'subreddit_id': 't5_2t25p', 'submission_id': 'dduyli', 'comment_id': 'f2ocy7l'}]]\n"
     ]
    },
    {
     "name": "stderr",
     "output_type": "stream",
     "text": [
      " 54%|█████▍    | 6801/12499 [36:28<05:21, 17.74it/s]"
     ]
    },
    {
     "name": "stdout",
     "output_type": "stream",
     "text": [
      "sequential data is  [[1514783713, {'subreddit_id': 't5_2qiel', 'submission_id': '7mwmd9', 'comment_id': 'ds0zj3e'}], [1514619948, {'subreddit_id': 't5_35fmc', 'submission_id': '7mn35n', 'comment_id': 'dry2kgn'}], [1514614038, {'subreddit_id': 't5_2qiel', 'submission_id': '7mwmd9', 'comment_id': 'drxzplm'}], [1514491261, {'subreddit_id': 't5_2qh1u', 'submission_id': '7mkqmx', 'comment_id': 'drvjquy'}], [1513752458, {'subreddit_id': 't5_2t2gv', 'submission_id': '7kk7gs', 'comment_id': 'driegdf'}], [1513053891, {'subreddit_id': 't5_2tgev', 'submission_id': '7h14rg', 'comment_id': 'dr4en9w'}], [1512630321, {'subreddit_id': 't5_2cneq', 'submission_id': '7i4f36', 'comment_id': 'dqw3op6'}], [1511331884, {'subreddit_id': 't5_2qh68', 'submission_id': '7eebzm', 'comment_id': 'dq6h1a8'}], [1511246172, {'subreddit_id': 't5_2qh68', 'submission_id': '7eebzm', 'comment_id': 'dq4pmd4'}], [1511114959, {'subreddit_id': 't5_2qh68', 'submission_id': '7dyrv5', 'comment_id': 'dq1vzlz'}], [1510772010, {'subreddit_id': 't5_2cneq', 'submission_id': '7d4jhn', 'comment_id': 'dpvbhd1'}], [1510445842, {'subreddit_id': 't5_2qh0u', 'submission_id': '7c99a1', 'comment_id': 'dpoq4nt'}], [1509945260, {'subreddit_id': 't5_2cneq', 'submission_id': '7b1zce', 'comment_id': 'dpevr6p'}], [1509945159, {'subreddit_id': 't5_2cneq', 'submission_id': '7b1zce', 'comment_id': 'dpevowy'}], [1509945059, {'subreddit_id': 't5_2cneq', 'submission_id': '7b2wdj', 'comment_id': 'dpevmpk'}], [1509335063, {'subreddit_id': 't5_2cneq', 'submission_id': '79l33l', 'comment_id': 'dp2vmnt'}], [1508819763, {'subreddit_id': 't5_2qh68', 'submission_id': '7768ho', 'comment_id': 'dot01pg'}], [1508819430, {'subreddit_id': 't5_2cneq', 'submission_id': '78d1ax', 'comment_id': 'doszu8g'}], [1508338315, {'subreddit_id': 't5_2qh68', 'submission_id': '7768ho', 'comment_id': 'dojh5r9'}], [1508308381, {'subreddit_id': 't5_2cneq', 'submission_id': '7738x9', 'comment_id': 'doj21j4'}], [1508305906, {'subreddit_id': 't5_2qh3s', 'submission_id': '76eykq', 'comment_id': 'doj0wyz'}], [1508305723, {'subreddit_id': 't5_2sl16', 'submission_id': '75z9oy', 'comment_id': 'doj0tpe'}], [1508302116, {'subreddit_id': 't5_2cneq', 'submission_id': '772lce', 'comment_id': 'doiys68'}], [1508302116, {'subreddit_id': 't5_2cneq', 'submission_id': '772lce', 'comment_id': 'doiys62'}], [1508088829, {'subreddit_id': 't5_2cneq', 'submission_id': '76ixw5', 'comment_id': 'doelbwm'}], [1508088650, {'subreddit_id': 't5_2qt55', 'submission_id': '76ivjw', 'comment_id': 'doel5w6'}], [1508032766, {'subreddit_id': 't5_2qh3s', 'submission_id': '76eykq', 'comment_id': 'dodr6cf'}], [1508032653, {'subreddit_id': 't5_2qh3s', 'submission_id': '76eykq', 'comment_id': 'dodr3bf'}], [1507693706, {'subreddit_id': 't5_2qh3l', 'submission_id': '75k317', 'comment_id': 'do7bzqt'}], [1507249036, {'subreddit_id': 't5_2cneq', 'submission_id': '74k11d', 'comment_id': 'dnywm3o'}], [1507187027, {'subreddit_id': 't5_2qh3l', 'submission_id': '74bzhk', 'comment_id': 'dnxmh02'}], [1507185728, {'subreddit_id': 't5_2qh3l', 'submission_id': '74bzhk', 'comment_id': 'dnxlxzq'}], [1507184757, {'subreddit_id': 't5_2qh3l', 'submission_id': '74bzhk', 'comment_id': 'dnxlj32'}], [1507184622, {'subreddit_id': 't5_2qh3l', 'submission_id': '74bzhk', 'comment_id': 'dnxlgz2'}], [1507183923, {'subreddit_id': 't5_2qh3l', 'submission_id': '74bzhk', 'comment_id': 'dnxl5ww'}], [1507182876, {'subreddit_id': 't5_2qh3l', 'submission_id': '74bzhk', 'comment_id': 'dnxkp3t'}], [1507182819, {'subreddit_id': 't5_2qh3l', 'submission_id': '74bzhk', 'comment_id': 'dnxko45'}], [1507181928, {'subreddit_id': 't5_2qh0u', 'submission_id': '74ba0s', 'comment_id': 'dnxk8wl'}], [1507180849, {'subreddit_id': 't5_2qh0u', 'submission_id': '74ba0s', 'comment_id': 'dnxjpl4'}], [1507180814, {'subreddit_id': 't5_2qh0u', 'submission_id': '74ba0s', 'comment_id': 'dnxjow9'}], [1507180392, {'subreddit_id': 't5_2qh0u', 'submission_id': '74ba0s', 'comment_id': 'dnxjh1z'}], [1506918464, {'subreddit_id': 't5_2u3ta', 'submission_id': '72no00', 'comment_id': 'dnsdmzt'}], [1506918362, {'subreddit_id': 't5_2cneq', 'submission_id': '73qg48', 'comment_id': 'dnsdkvi'}], [1506525394, {'subreddit_id': 't5_2u3ta', 'submission_id': '72no00', 'comment_id': 'dnkyqei'}], [1506524943, {'subreddit_id': 't5_2u3ta', 'submission_id': '72no00', 'comment_id': 'dnkyb4w'}], [1505967308, {'subreddit_id': 't5_2cneq', 'submission_id': '71e8lf', 'comment_id': 'dnamp6v'}], [1505834489, {'subreddit_id': 't5_2cneq', 'submission_id': '713kpu', 'comment_id': 'dn7tve8'}], [1505770330, {'subreddit_id': 't5_2qh68', 'submission_id': '6yqsw0', 'comment_id': 'dn6q3jf'}], [1505695511, {'subreddit_id': 't5_2qh68', 'submission_id': '70hnap', 'comment_id': 'dn5ds71'}], [1505695399, {'subreddit_id': 't5_2qh68', 'submission_id': '6yqsw0', 'comment_id': 'dn5dp2p'}], [1505598361, {'subreddit_id': 't5_2qh3l', 'submission_id': '70dxjl', 'comment_id': 'dn3lzzq'}], [1505589625, {'subreddit_id': 't5_2qh68', 'submission_id': '70hnap', 'comment_id': 'dn3feef'}], [1505589337, {'subreddit_id': 't5_2qh68', 'submission_id': '70g7f9', 'comment_id': 'dn3f6gn'}], [1505589123, {'subreddit_id': 't5_2qh68', 'submission_id': '70g7f9', 'comment_id': 'dn3f0kk'}], [1505588883, {'subreddit_id': 't5_2qh3l', 'submission_id': '70dxjl', 'comment_id': 'dn3etw2'}], [1505588766, {'subreddit_id': 't5_2qh68', 'submission_id': '6yqsw0', 'comment_id': 'dn3eqpt'}], [1505543828, {'subreddit_id': 't5_2qh3l', 'submission_id': '70dxjl', 'comment_id': 'dn2r2t1'}], [1505543627, {'subreddit_id': 't5_2qh3l', 'submission_id': '70dxjl', 'comment_id': 'dn2r042'}], [1505543579, {'subreddit_id': 't5_2qh3l', 'submission_id': '70dxjl', 'comment_id': 'dn2qzgu'}], [1505541705, {'subreddit_id': 't5_2vqun', 'submission_id': '70fbqy', 'comment_id': 'dn2q97f'}], [1505506855, {'subreddit_id': 't5_2qt55', 'submission_id': '704wvp', 'comment_id': 'dn23o37'}], [1505506805, {'subreddit_id': 't5_2qt55', 'submission_id': '704wvp', 'comment_id': 'dn23mka'}], [1505493344, {'subreddit_id': 't5_3gcwj', 'submission_id': '708kat', 'comment_id': 'dn1r9tn'}], [1505493243, {'subreddit_id': 't5_3gcwj', 'submission_id': '708kat', 'comment_id': 'dn1r6au'}], [1505446217, {'subreddit_id': 't5_2qt55', 'submission_id': '704wvp', 'comment_id': 'dn0zzz0'}], [1505446056, {'subreddit_id': 't5_2xh58', 'submission_id': '7060n0', 'comment_id': 'dn0zvc3'}], [1505358984, {'subreddit_id': 't5_2cneq', 'submission_id': '6zxqrz', 'comment_id': 'dmz9x16'}], [1505351495, {'subreddit_id': 't5_2cneq', 'submission_id': '6zxqrz', 'comment_id': 'dmz4hjp'}], [1505340599, {'subreddit_id': 't5_2tpfa', 'submission_id': '6zrovp', 'comment_id': 'dmyvzs2'}], [1505340278, {'subreddit_id': 't5_2cneq', 'submission_id': '6zxqrz', 'comment_id': 'dmyvq7r'}], [1505280231, {'subreddit_id': 't5_2tpfa', 'submission_id': '6zrovp', 'comment_id': 'dmxqlwy'}], [1505245162, {'subreddit_id': 't5_2yhot', 'submission_id': '6zkm35', 'comment_id': 'dmwzn11'}], [1505195266, {'subreddit_id': 't5_2vxxc', 'submission_id': '6zjgk7', 'comment_id': 'dmw37v6'}], [1505195174, {'subreddit_id': 't5_2qnub', 'submission_id': '6zjql7', 'comment_id': 'dmw368f'}], [1505194049, {'subreddit_id': 't5_2yhot', 'submission_id': '6zkm35', 'comment_id': 'dmw2lc3'}], [1505193017, {'subreddit_id': 't5_2qnub', 'submission_id': '6zjql7', 'comment_id': 'dmw1yxr'}], [1505192887, {'subreddit_id': 't5_2qnub', 'submission_id': '6zjql7', 'comment_id': 'dmw1w7t'}], [1505192775, {'subreddit_id': 't5_2qnub', 'submission_id': '6zjql7', 'comment_id': 'dmw1try'}], [1505108199, {'subreddit_id': 't5_2qh68', 'submission_id': '6yqsw0', 'comment_id': 'dmug7hc'}], [1505108091, {'subreddit_id': 't5_2qh68', 'submission_id': '6yqsw0', 'comment_id': 'dmug5nj'}], [1505012890, {'subreddit_id': 't5_2qh68', 'submission_id': '6yqsw0', 'comment_id': 'dmsrp6i'}], [1504933482, {'subreddit_id': 't5_2qh87', 'submission_id': '6yxovo', 'comment_id': 'dmrg8zu'}], [1504932789, {'subreddit_id': 't5_2qh68', 'submission_id': '6yqsw0', 'comment_id': 'dmrfwzx'}], [1504890161, {'subreddit_id': 't5_2qh68', 'submission_id': '6yubaw', 'comment_id': 'dmqkdi9'}], [1504890128, {'subreddit_id': 't5_2qh68', 'submission_id': '6yqjra', 'comment_id': 'dmqkcf7'}], [1504890060, {'subreddit_id': 't5_2qh68', 'submission_id': '6yqsw0', 'comment_id': 'dmqka69'}], [1504889660, {'subreddit_id': 't5_2qh68', 'submission_id': '6yqsw0', 'comment_id': 'dmqjwul'}], [1504889527, {'subreddit_id': 't5_2qh68', 'submission_id': '6yqsw0', 'comment_id': 'dmqjsgx'}], [1504889421, {'subreddit_id': 't5_2qh68', 'submission_id': '6yqsw0', 'comment_id': 'dmqjp13'}], [1504889387, {'subreddit_id': 't5_2qh68', 'submission_id': '6yqjra', 'comment_id': 'dmqjnxf'}], [1504889290, {'subreddit_id': 't5_2qh68', 'submission_id': '6yqsw0', 'comment_id': 'dmqjkop'}], [1504889225, {'subreddit_id': 't5_2qh68', 'submission_id': '6yqjra', 'comment_id': 'dmqjin6'}], [1504889203, {'subreddit_id': 't5_2qh68', 'submission_id': '6yuh7y', 'comment_id': 'dmqjhz3'}], [1504849269, {'subreddit_id': 't5_2qh68', 'submission_id': '6yqsw0', 'comment_id': 'dmpx9f7'}], [1504849217, {'subreddit_id': 't5_2qh68', 'submission_id': '6yqsw0', 'comment_id': 'dmpx8i7'}], [1504849094, {'subreddit_id': 't5_2qh68', 'submission_id': '6yqsw0', 'comment_id': 'dmpx6be'}], [1504849004, {'subreddit_id': 't5_2qh68', 'submission_id': '6yqsw0', 'comment_id': 'dmpx4m9'}], [1504848882, {'subreddit_id': 't5_2qh68', 'submission_id': '6yqsw0', 'comment_id': 'dmpx2ee'}], [1504848451, {'subreddit_id': 't5_2qh68', 'submission_id': '6yqjra', 'comment_id': 'dmpwu9q'}], [1504848243, {'subreddit_id': 't5_2qh68', 'submission_id': '6yqjra', 'comment_id': 'dmpwqbg'}]]\n"
     ]
    },
    {
     "name": "stderr",
     "output_type": "stream",
     "text": [
      " 58%|█████▊    | 7290/12499 [36:51<02:48, 31.00it/s]"
     ]
    },
    {
     "name": "stdout",
     "output_type": "stream",
     "text": [
      "sequential data is  [[1701867795, {'subreddit_id': 't5_9fpi8f', 'submission_id': '18bymly', 'comment_id': 'kc7zvmv'}], [1701862456, {'subreddit_id': 't5_2qjpg', 'submission_id': '18bzc8e', 'comment_id': 'kc7r5d5'}], [1701862245, {'subreddit_id': 't5_2s8z6', 'submission_id': '18c1e6x', 'comment_id': 'kc7quu3'}], [1701836685, {'subreddit_id': 't5_2qhjv', 'submission_id': '18bt79f', 'comment_id': 'kc6rsks'}], [1701830552, {'subreddit_id': 't5_2qhjv', 'submission_id': '18bt79f', 'comment_id': 'kc6egko'}], [1701824229, {'subreddit_id': 't5_2qh44', 'submission_id': '18b62bv', 'comment_id': 'kc6061m'}], [1701822228, {'subreddit_id': 't5_2qh44', 'submission_id': '18b62bv', 'comment_id': 'kc5vmd8'}], [1701821961, {'subreddit_id': 't5_2qh44', 'submission_id': '18b62bv', 'comment_id': 'kc5v0ok'}], [1701810158, {'subreddit_id': 't5_2qh44', 'submission_id': '18b62bv', 'comment_id': 'kc525si'}], [1701810012, {'subreddit_id': 't5_2qh44', 'submission_id': '18b62bv', 'comment_id': 'kc51qyu'}], [1701802801, {'subreddit_id': 't5_3hd4p', 'submission_id': '18bg1rn', 'comment_id': 'kc4ish4'}], [1701799201, {'subreddit_id': 't5_10xdjv', 'submission_id': '18bca15', 'comment_id': 'kc49gow'}], [1701799034, {'subreddit_id': 't5_2qh44', 'submission_id': '18b62bv', 'comment_id': 'kc490xg'}], [1701798847, {'subreddit_id': 't5_2qh44', 'submission_id': '18b62bv', 'comment_id': 'kc48j6d'}], [1701798768, {'subreddit_id': 't5_2rahc', 'submission_id': '18b6o6b', 'comment_id': 'kc48bob'}], [1701798682, {'subreddit_id': 't5_2qh44', 'submission_id': '18b2t4u', 'comment_id': 'kc483ef'}], [1701771368, {'subreddit_id': 't5_2qh44', 'submission_id': '18b62bv', 'comment_id': 'kc2tyed'}], [1701769845, {'subreddit_id': 't5_2rahc', 'submission_id': '18b6o6b', 'comment_id': 'kc2s85u'}], [1701769594, {'subreddit_id': 't5_2qh44', 'submission_id': '18b62bv', 'comment_id': 'kc2rxx6'}], [1701765831, {'subreddit_id': 't5_2qi1r', 'submission_id': '18b4x2b', 'comment_id': 'kc2nmzt'}], [1701765705, {'subreddit_id': 't5_2qh44', 'submission_id': '18b2t4u', 'comment_id': 'kc2nhqx'}], [1701757350, {'subreddit_id': 't5_2s8z6', 'submission_id': '18b4cwt', 'comment_id': 'kc2cmns'}], [1701753910, {'subreddit_id': 't5_2qh16', 'submission_id': '18aypss', 'comment_id': 'kc273ne'}], [1701674620, {'subreddit_id': 't5_2qhjv', 'submission_id': '18abwda', 'comment_id': 'kbxe9vo'}], [1701674308, {'subreddit_id': 't5_2u4lp', 'submission_id': '18admvn', 'comment_id': 'kbxdv2u'}], [1701669580, {'subreddit_id': 't5_2qhjv', 'submission_id': '18abwda', 'comment_id': 'kbx733i'}], [1701668953, {'subreddit_id': 't5_2rm9e', 'submission_id': '18a4ha9', 'comment_id': 'kbx63im'}], [1701644140, {'subreddit_id': 't5_2s8z6', 'submission_id': '189ptzf', 'comment_id': 'kbvmtr9'}], [1701643995, {'subreddit_id': 't5_9fpi8f', 'submission_id': '189pz47', 'comment_id': 'kbvmgjw'}], [1701643898, {'subreddit_id': 't5_2rm9e', 'submission_id': '18a4ha9', 'comment_id': 'kbvm7n7'}], [1701635380, {'subreddit_id': 't5_2qhjv', 'submission_id': '189qp3j', 'comment_id': 'kbuyzsn'}], [1701635207, {'subreddit_id': 't5_9fpi8f', 'submission_id': '189pz47', 'comment_id': 'kbuyirp'}], [1701634772, {'subreddit_id': 't5_9fpi8f', 'submission_id': '189pz47', 'comment_id': 'kbuxb4x'}], [1701600787, {'subreddit_id': 't5_2u4lp', 'submission_id': '189pg0i', 'comment_id': 'kbsud6u'}], [1701599558, {'subreddit_id': 't5_9fpi8f', 'submission_id': '189pz47', 'comment_id': 'kbssvkr'}], [1701594295, {'subreddit_id': 't5_2qqqf', 'submission_id': '189p1x9', 'comment_id': 'kbsmi7d'}], [1701592295, {'subreddit_id': 't5_2qh44', 'submission_id': '189llda', 'comment_id': 'kbsk041'}], [1701592175, {'subreddit_id': 't5_2qh44', 'submission_id': '189llda', 'comment_id': 'kbsjurl'}], [1701584878, {'subreddit_id': 't5_9fpi8f', 'submission_id': '189nc2y', 'comment_id': 'kbsa05q'}], [1701584774, {'subreddit_id': 't5_9fpi8f', 'submission_id': '189nc2y', 'comment_id': 'kbs9ul7'}], [1701584626, {'subreddit_id': 't5_9fpi8f', 'submission_id': '189nc2y', 'comment_id': 'kbs9mt6'}], [1701584581, {'subreddit_id': 't5_9fpi8f', 'submission_id': '189nc2y', 'comment_id': 'kbs9kak'}], [1701578520, {'subreddit_id': 't5_h6drn', 'submission_id': '189jqrk', 'comment_id': 'kbrz2a8'}], [1701573609, {'subreddit_id': 't5_h6drn', 'submission_id': '189jqrk', 'comment_id': 'kbrortv'}], [1701561111, {'subreddit_id': 't5_2qh44', 'submission_id': '189bbod', 'comment_id': 'kbqwp80'}], [1701557482, {'subreddit_id': 't5_9fpi8f', 'submission_id': '1894w0u', 'comment_id': 'kbqo99a'}], [1701551507, {'subreddit_id': 't5_2sqpa', 'submission_id': '188us0f', 'comment_id': 'kbq9lzd'}], [1701545551, {'subreddit_id': 't5_h6drn', 'submission_id': '1895z59', 'comment_id': 'kbpuw24'}], [1701545362, {'subreddit_id': 't5_9fpi8f', 'submission_id': '1894w0u', 'comment_id': 'kbpufha'}], [1701544585, {'subreddit_id': 't5_2sqpa', 'submission_id': '188us0f', 'comment_id': 'kbpsh85'}], [1701505146, {'subreddit_id': 't5_h6drn', 'submission_id': '188ytlj', 'comment_id': 'kbnsrmu'}], [1701504908, {'subreddit_id': 't5_2qhjv', 'submission_id': '188yhxs', 'comment_id': 'kbnsheb'}], [1701501919, {'subreddit_id': 't5_2sqpa', 'submission_id': '188us0f', 'comment_id': 'kbnorpu'}], [1701501815, {'subreddit_id': 't5_2qh2z', 'submission_id': '188j3p7', 'comment_id': 'kbnomxq'}], [1701501660, {'subreddit_id': 't5_2qh2z', 'submission_id': '188j3p7', 'comment_id': 'kbnofnt'}], [1701501137, {'subreddit_id': 't5_2sqpa', 'submission_id': '188us0f', 'comment_id': 'kbnnr7o'}], [1701491973, {'subreddit_id': 't5_2qh44', 'submission_id': '188j9ak', 'comment_id': 'kbn9j7k'}], [1701465421, {'subreddit_id': 't5_2qh44', 'submission_id': '188j9ak', 'comment_id': 'kblmd62'}], [1701465089, {'subreddit_id': 't5_2qh44', 'submission_id': '188j9ak', 'comment_id': 'kbllhw8'}], [1701443960, {'subreddit_id': 't5_2qh44', 'submission_id': '1884ky9', 'comment_id': 'kbk0zb5'}], [1701426279, {'subreddit_id': 't5_2qh44', 'submission_id': '1884ky9', 'comment_id': 'kbj44lq'}], [1701420642, {'subreddit_id': 't5_2rgym', 'submission_id': '187sdg1', 'comment_id': 'kbixcoa'}], [1701416690, {'subreddit_id': 't5_2rgym', 'submission_id': '187sdg1', 'comment_id': 'kbiself'}], [1701411775, {'subreddit_id': 't5_2qh44', 'submission_id': '1884ky9', 'comment_id': 'kbili5h'}], [1701398064, {'subreddit_id': 't5_2rgym', 'submission_id': '187sdg1', 'comment_id': 'kbht3wn'}], [1701397992, {'subreddit_id': 't5_2sqpa', 'submission_id': '187whnw', 'comment_id': 'kbhsxi8'}], [1701373643, {'subreddit_id': 't5_2qhjv', 'submission_id': '187quzt', 'comment_id': 'kbg2y3c'}], [1701371788, {'subreddit_id': 't5_9fpi8f', 'submission_id': '187hefv', 'comment_id': 'kbfxu0h'}], [1701371694, {'subreddit_id': 't5_2qi1r', 'submission_id': '1876jej', 'comment_id': 'kbfxkr0'}], [1701371605, {'subreddit_id': 't5_2qhjv', 'submission_id': '1879sn7', 'comment_id': 'kbfxbtv'}], [1701334495, {'subreddit_id': 't5_2s8z6', 'submission_id': '1877vly', 'comment_id': 'kbdri2o'}], [1701334207, {'subreddit_id': 't5_2qi1r', 'submission_id': '18780kg', 'comment_id': 'kbdr5f5'}], [1701332101, {'subreddit_id': 't5_2qhjv', 'submission_id': '1875k8c', 'comment_id': 'kbdoj5i'}], [1701325971, {'subreddit_id': 't5_2qhjv', 'submission_id': '1875k8c', 'comment_id': 'kbdg6ct'}], [1701325526, {'subreddit_id': 't5_2qhjv', 'submission_id': '1879sn7', 'comment_id': 'kbdfikh'}], [1701324646, {'subreddit_id': 't5_2qi1r', 'submission_id': '1876jej', 'comment_id': 'kbde6ua'}], [1701322351, {'subreddit_id': 't5_2qhjv', 'submission_id': '1879sn7', 'comment_id': 'kbdagxn'}], [1701322262, {'subreddit_id': 't5_2qhjv', 'submission_id': '1879sn7', 'comment_id': 'kbdabiz'}], [1701313776, {'subreddit_id': 't5_r1l2z', 'submission_id': '186x60e', 'comment_id': 'kbctnat'}], [1701313637, {'subreddit_id': 't5_2qi1r', 'submission_id': '18780kg', 'comment_id': 'kbctbs1'}], [1701313637, {'subreddit_id': 't5_3hd4p', 'submission_id': '18782dq', 'comment_id': 'kbctbr5'}], [1701311920, {'subreddit_id': 't5_3hd4p', 'submission_id': '1876i0i', 'comment_id': 'kbcpajb'}], [1701310699, {'subreddit_id': 't5_2qy7w', 'submission_id': '1873j4y', 'comment_id': 'kbcmdli'}], [1701310419, {'subreddit_id': 't5_2rm9e', 'submission_id': '17kn3gl', 'comment_id': 'kbclpu7'}], [1701310258, {'subreddit_id': 't5_h6drn', 'submission_id': '18726uf', 'comment_id': 'kbclc7q'}], [1701309956, {'subreddit_id': 't5_r1l2z', 'submission_id': '186x60e', 'comment_id': 'kbckm7v'}], [1701309749, {'subreddit_id': 't5_2qhjv', 'submission_id': '1875k8c', 'comment_id': 'kbck4bn'}], [1701309537, {'subreddit_id': 't5_r1l2z', 'submission_id': '186x60e', 'comment_id': 'kbcjm4a'}], [1701291439, {'subreddit_id': 't5_2qhjv', 'submission_id': '186uni8', 'comment_id': 'kbbal8w'}], [1701236857, {'subreddit_id': 't5_2qhjv', 'submission_id': '186h1ud', 'comment_id': 'kb86zd2'}], [1701196005, {'subreddit_id': 't5_9fpi8f', 'submission_id': '183c0ya', 'comment_id': 'kb5d31w'}], [1701195826, {'subreddit_id': 't5_2qhjv', 'submission_id': '185wrgv', 'comment_id': 'kb5cl1u'}], [1701164155, {'subreddit_id': 't5_2s8z6', 'submission_id': '184wf6r', 'comment_id': 'kb3i6p0'}], [1701123865, {'subreddit_id': 't5_2qh44', 'submission_id': '184foa7', 'comment_id': 'kb1aa89'}], [1701122610, {'subreddit_id': 't5_2s8z6', 'submission_id': '184wf6r', 'comment_id': 'kb16wwm'}], [1701122479, {'subreddit_id': 't5_2qh44', 'submission_id': '184foa7', 'comment_id': 'kb16k1a'}], [1701071594, {'subreddit_id': 't5_2qh3s', 'submission_id': '1843of8', 'comment_id': 'kay7j6h'}], [1701070120, {'subreddit_id': 't5_2s8z6', 'submission_id': '184wf6r', 'comment_id': 'kay5kfd'}], [1701069480, {'subreddit_id': 't5_2rfz5', 'submission_id': '184ulxo', 'comment_id': 'kay4q3p'}], [1701063038, {'subreddit_id': 't5_2qh44', 'submission_id': '184rja7', 'comment_id': 'kaxv7ku'}]]\n"
     ]
    },
    {
     "name": "stderr",
     "output_type": "stream",
     "text": [
      " 75%|███████▍  | 9341/12499 [38:30<01:19, 39.94it/s]"
     ]
    },
    {
     "name": "stdout",
     "output_type": "stream",
     "text": [
      "sequential data is  [[1701911553, {'subreddit_id': 't5_2xhvq', 'submission_id': '18cjda0', 'comment_id': 'kcb299w'}], [1701911520, {'subreddit_id': 't5_2xhvq', 'submission_id': '18cjhjw', 'comment_id': 'kcb26kt'}], [1701909868, {'subreddit_id': 't5_2xhvq', 'submission_id': '18cihbe', 'comment_id': 'kcayd5r'}], [1701909594, {'subreddit_id': 't5_2xhvq', 'submission_id': '18cirlc', 'comment_id': 'kcaxqnl'}], [1701909555, {'subreddit_id': 't5_2xhvq', 'submission_id': '18cismf', 'comment_id': 'kcaxnjd'}], [1701909422, {'subreddit_id': 't5_2xhvq', 'submission_id': '18civ7m', 'comment_id': 'kcaxclh'}], [1701908680, {'subreddit_id': 't5_2xhvq', 'submission_id': '18cik2v', 'comment_id': 'kcavm51'}], [1701908488, {'subreddit_id': 't5_2xhvq', 'submission_id': '18c28ge', 'comment_id': 'kcav5ux'}], [1701908451, {'subreddit_id': 't5_2xhvq', 'submission_id': '18aru17', 'comment_id': 'kcav2q8'}], [1701908420, {'subreddit_id': 't5_2xhvq', 'submission_id': '18c28ge', 'comment_id': 'kcav062'}], [1701908387, {'subreddit_id': 't5_2xhvq', 'submission_id': '18b4z6p', 'comment_id': 'kcauxci'}], [1701908373, {'subreddit_id': 't5_2xhvq', 'submission_id': '18bqoiq', 'comment_id': 'kcauw4a'}], [1701908354, {'subreddit_id': 't5_2xhvq', 'submission_id': '18c1u3i', 'comment_id': 'kcauuka'}], [1701908345, {'subreddit_id': 't5_2xhvq', 'submission_id': '18bxd4y', 'comment_id': 'kcauts6'}], [1701908268, {'subreddit_id': 't5_2xhvq', 'submission_id': '18bubpe', 'comment_id': 'kcaundw'}], [1701908255, {'subreddit_id': 't5_2xhvq', 'submission_id': '18bnl4i', 'comment_id': 'kcauma0'}], [1701908241, {'subreddit_id': 't5_2xhvq', 'submission_id': '18byxr9', 'comment_id': 'kcaul2n'}], [1701908232, {'subreddit_id': 't5_2xhvq', 'submission_id': '18byxr9', 'comment_id': 'kcaukdy'}], [1701908207, {'subreddit_id': 't5_2xhvq', 'submission_id': '17zdr82', 'comment_id': 'kcauieq'}], [1701907947, {'subreddit_id': 't5_2xhvq', 'submission_id': '18ci1vy', 'comment_id': 'kcatwj3'}], [1701907876, {'subreddit_id': 't5_2xhvq', 'submission_id': '18bkav3', 'comment_id': 'kcatqn7'}], [1701907737, {'subreddit_id': 't5_2xhvq', 'submission_id': '18bsgxs', 'comment_id': 'kcatew1'}], [1701907255, {'subreddit_id': 't5_2xhvq', 'submission_id': '18chx14', 'comment_id': 'kcasanl'}], [1701907255, {'subreddit_id': 't5_2xhvq', 'submission_id': '18b7e5w', 'comment_id': 'kcasams'}], [1701907239, {'subreddit_id': 't5_2xhvq', 'submission_id': '18bhzzz', 'comment_id': 'kcas98z'}], [1701907211, {'subreddit_id': 't5_2xhvq', 'submission_id': '18cg65l', 'comment_id': 'kcas6y7'}], [1701907184, {'subreddit_id': 't5_2xhvq', 'submission_id': '18bme7p', 'comment_id': 'kcas4mq'}], [1701907152, {'subreddit_id': 't5_2xhvq', 'submission_id': '18caon8', 'comment_id': 'kcas1v0'}], [1701907139, {'subreddit_id': 't5_2xhvq', 'submission_id': '18ccwpb', 'comment_id': 'kcas0q7'}], [1701907127, {'subreddit_id': 't5_2xhvq', 'submission_id': '18chhp5', 'comment_id': 'kcarzp5'}], [1701907117, {'subreddit_id': 't5_2xhvq', 'submission_id': '18b3mxo', 'comment_id': 'kcarywb'}], [1701907095, {'subreddit_id': 't5_2xhvq', 'submission_id': '18cg199', 'comment_id': 'kcarx2f'}], [1701907080, {'subreddit_id': 't5_2xhvq', 'submission_id': '18cd5jt', 'comment_id': 'kcarvsv'}], [1701907009, {'subreddit_id': 't5_2xhvq', 'submission_id': '18chaiy', 'comment_id': 'kcarpwa'}], [1701906988, {'subreddit_id': 't5_2xhvq', 'submission_id': '18chhbr', 'comment_id': 'kcaro2q'}], [1701906952, {'subreddit_id': 't5_2xhvq', 'submission_id': '18ccfm1', 'comment_id': 'kcarl0v'}], [1701906919, {'subreddit_id': 't5_2xhvq', 'submission_id': '18cezeb', 'comment_id': 'kcari9e'}], [1701906888, {'subreddit_id': 't5_2xhvq', 'submission_id': '18c7lvl', 'comment_id': 'kcarfqa'}], [1701906849, {'subreddit_id': 't5_2xhvq', 'submission_id': '18cf8i4', 'comment_id': 'kcarcd5'}], [1701906833, {'subreddit_id': 't5_2xhvq', 'submission_id': '18cfxtc', 'comment_id': 'kcarb1t'}], [1701906694, {'subreddit_id': 't5_2xhvq', 'submission_id': '18cfv5q', 'comment_id': 'kcaqz4q'}], [1701906564, {'subreddit_id': 't5_2xhvq', 'submission_id': '18cg9r1', 'comment_id': 'kcaqnsc'}], [1701906532, {'subreddit_id': 't5_2xhvq', 'submission_id': '18cd6ux', 'comment_id': 'kcaqkyg'}], [1701906456, {'subreddit_id': 't5_2xhvq', 'submission_id': '18cgiyd', 'comment_id': 'kcaqeeq'}], [1701906363, {'subreddit_id': 't5_2xhvq', 'submission_id': '18bws5g', 'comment_id': 'kcaq6ln'}], [1701906075, {'subreddit_id': 't5_2xhvq', 'submission_id': '18cazr3', 'comment_id': 'kcapi9f'}], [1701905688, {'subreddit_id': 't5_2xhvq', 'submission_id': '18chj4j', 'comment_id': 'kcaol6m'}], [1701905633, {'subreddit_id': 't5_2xhvq', 'submission_id': '18chawh', 'comment_id': 'kcaogg1'}], [1701905559, {'subreddit_id': 't5_2xhvq', 'submission_id': '18beo3c', 'comment_id': 'kcaoa4e'}], [1701905510, {'subreddit_id': 't5_2xhvq', 'submission_id': '18bkzya', 'comment_id': 'kcao5wl'}], [1701905382, {'subreddit_id': 't5_2xhvq', 'submission_id': '18cc2st', 'comment_id': 'kcanuxq'}], [1701905308, {'subreddit_id': 't5_2xhvq', 'submission_id': '18ccn93', 'comment_id': 'kcanoqa'}], [1701905227, {'subreddit_id': 't5_2xhvq', 'submission_id': '18bd4pt', 'comment_id': 'kcanhor'}], [1701905205, {'subreddit_id': 't5_2xhvq', 'submission_id': '18cdnt2', 'comment_id': 'kcanfuv'}], [1701905168, {'subreddit_id': 't5_2xhvq', 'submission_id': '18bpqfi', 'comment_id': 'kcancn0'}], [1701905118, {'subreddit_id': 't5_2xhvq', 'submission_id': '18chbp8', 'comment_id': 'kcan8bn'}], [1701904968, {'subreddit_id': 't5_2xhvq', 'submission_id': '18b2ryc', 'comment_id': 'kcamv5j'}], [1701904642, {'subreddit_id': 't5_2xhvq', 'submission_id': '18ch4x1', 'comment_id': 'kcam2ir'}], [1701904299, {'subreddit_id': 't5_2xhvq', 'submission_id': '18cglcu', 'comment_id': 'kcal8tl'}], [1701904155, {'subreddit_id': 't5_2xhvq', 'submission_id': '18cesf0', 'comment_id': 'kcakwfu'}], [1701903969, {'subreddit_id': 't5_2xhvq', 'submission_id': '18cgsdb', 'comment_id': 'kcakg1h'}], [1701903800, {'subreddit_id': 't5_2xhvq', 'submission_id': '18cgrt2', 'comment_id': 'kcak102'}], [1701903706, {'subreddit_id': 't5_2xhvq', 'submission_id': '18cahxx', 'comment_id': 'kcajsku'}], [1701903460, {'subreddit_id': 't5_2xhvq', 'submission_id': '18btezc', 'comment_id': 'kcaj6w3'}], [1701901435, {'subreddit_id': 't5_2xhvq', 'submission_id': '18cfowh', 'comment_id': 'kcae1s2'}], [1701900042, {'subreddit_id': 't5_2xhvq', 'submission_id': '18cfca6', 'comment_id': 'kcaaaau'}], [1701899604, {'subreddit_id': 't5_2xhvq', 'submission_id': '18cdmpt', 'comment_id': 'kca9309'}], [1701897528, {'subreddit_id': 't5_2xhvq', 'submission_id': '18c5b7q', 'comment_id': 'kca3bef'}], [1701896833, {'subreddit_id': 't5_2xhvq', 'submission_id': '18b3bkf', 'comment_id': 'kca1e1u'}], [1701896819, {'subreddit_id': 't5_2xhvq', 'submission_id': '18bbeei', 'comment_id': 'kca1clg'}], [1701896810, {'subreddit_id': 't5_2xhvq', 'submission_id': '18bhv2r', 'comment_id': 'kca1bog'}], [1701896710, {'subreddit_id': 't5_2xhvq', 'submission_id': '18b3bkf', 'comment_id': 'kca11vp'}], [1701896673, {'subreddit_id': 't5_2xhvq', 'submission_id': '18b0345', 'comment_id': 'kca0y7b'}], [1701896666, {'subreddit_id': 't5_2xhvq', 'submission_id': '18blp5m', 'comment_id': 'kca0xin'}], [1701896634, {'subreddit_id': 't5_2xhvq', 'submission_id': '18bd4pt', 'comment_id': 'kca0uac'}], [1701896600, {'subreddit_id': 't5_2xhvq', 'submission_id': '18bft98', 'comment_id': 'kca0r0f'}], [1701896459, {'subreddit_id': 't5_2xhvq', 'submission_id': '18bhd0o', 'comment_id': 'kca0d0t'}], [1701896402, {'subreddit_id': 't5_2xhvq', 'submission_id': '18bhd0o', 'comment_id': 'kca0716'}], [1701896393, {'subreddit_id': 't5_2xhvq', 'submission_id': '18b4z6p', 'comment_id': 'kca063r'}], [1701896365, {'subreddit_id': 't5_2xhvq', 'submission_id': '18bhd0o', 'comment_id': 'kca039d'}], [1701896341, {'subreddit_id': 't5_2xhvq', 'submission_id': '18beo3c', 'comment_id': 'kca00wg'}], [1701896286, {'subreddit_id': 't5_2xhvq', 'submission_id': '18b4z6p', 'comment_id': 'kc9zvio'}], [1701896279, {'subreddit_id': 't5_2xhvq', 'submission_id': '18bfvq6', 'comment_id': 'kc9zutq'}], [1701896259, {'subreddit_id': 't5_2xhvq', 'submission_id': '18bcpiv', 'comment_id': 'kc9zsu3'}], [1701896248, {'subreddit_id': 't5_2xhvq', 'submission_id': '18b82hz', 'comment_id': 'kc9zrru'}], [1701896241, {'subreddit_id': 't5_2xhvq', 'submission_id': '18b4z6p', 'comment_id': 'kc9zr4c'}], [1701896232, {'subreddit_id': 't5_2xhvq', 'submission_id': '18b4z6p', 'comment_id': 'kc9zq8f'}], [1701896159, {'subreddit_id': 't5_2xhvq', 'submission_id': '18b4z6p', 'comment_id': 'kc9ziv7'}], [1701896135, {'subreddit_id': 't5_2xhvq', 'submission_id': '18beb5t', 'comment_id': 'kc9zgdy'}], [1701896115, {'subreddit_id': 't5_2xhvq', 'submission_id': '18bfxej', 'comment_id': 'kc9zecd'}], [1701896108, {'subreddit_id': 't5_2xhvq', 'submission_id': '18beb5t', 'comment_id': 'kc9zdon'}], [1701896100, {'subreddit_id': 't5_2xhvq', 'submission_id': '18b7e5w', 'comment_id': 'kc9zcuy'}], [1701896077, {'subreddit_id': 't5_2xhvq', 'submission_id': '189cq3t', 'comment_id': 'kc9zaht'}], [1701896070, {'subreddit_id': 't5_2xhvq', 'submission_id': '18bbeei', 'comment_id': 'kc9z9so'}], [1701896062, {'subreddit_id': 't5_2xhvq', 'submission_id': '18b5nml', 'comment_id': 'kc9z8zu'}], [1701896055, {'subreddit_id': 't5_2xhvq', 'submission_id': '18bflg9', 'comment_id': 'kc9z8ch'}], [1701896046, {'subreddit_id': 't5_2xhvq', 'submission_id': '18b4z6p', 'comment_id': 'kc9z7ez'}], [1701896027, {'subreddit_id': 't5_2xhvq', 'submission_id': '18b4z6p', 'comment_id': 'kc9z5l3'}], [1701895983, {'subreddit_id': 't5_2xhvq', 'submission_id': '18beb5t', 'comment_id': 'kc9z188'}], [1701895965, {'subreddit_id': 't5_2xhvq', 'submission_id': '18b4z6p', 'comment_id': 'kc9yze9'}]]\n"
     ]
    },
    {
     "name": "stderr",
     "output_type": "stream",
     "text": [
      " 79%|███████▉  | 9910/12499 [38:55<01:17, 33.30it/s]"
     ]
    },
    {
     "name": "stdout",
     "output_type": "stream",
     "text": [
      "sequential data is  [[1701913199, {'subreddit_id': 't5_2qlmm', 'submission_id': '18by8ln', 'comment_id': 'kcb63j1'}], [1701912608, {'subreddit_id': 't5_32q13', 'submission_id': '18bz38g', 'comment_id': 'kcb4pn0'}], [1701912175, {'subreddit_id': 't5_2qlmm', 'submission_id': '18by8ln', 'comment_id': 'kcb3pbf'}], [1701912158, {'subreddit_id': 't5_2qhuq', 'submission_id': '18cbra1', 'comment_id': 'kcb3nwk'}], [1701893342, {'subreddit_id': 't5_2qqt8', 'submission_id': '18bybt3', 'comment_id': 'kc9rqvo'}], [1701893199, {'subreddit_id': 't5_2qqt8', 'submission_id': '18bybt3', 'comment_id': 'kc9rcr3'}], [1701892252, {'subreddit_id': 't5_2qlmm', 'submission_id': '18by8ln', 'comment_id': 'kc9oryu'}], [1701890796, {'subreddit_id': 't5_2qhuq', 'submission_id': '18cbra1', 'comment_id': 'kc9ktsu'}], [1701890780, {'subreddit_id': 't5_2qqt8', 'submission_id': '18bybt3', 'comment_id': 'kc9ks6s'}], [1701890625, {'subreddit_id': 't5_2qlmm', 'submission_id': '18by8ln', 'comment_id': 'kc9kd6v'}], [1701888351, {'subreddit_id': 't5_2qlmm', 'submission_id': '18by8ln', 'comment_id': 'kc9e9t4'}], [1701888327, {'subreddit_id': 't5_32q13', 'submission_id': '18bz38g', 'comment_id': 'kc9e7hg'}], [1701888214, {'subreddit_id': 't5_2qlmm', 'submission_id': '18bylma', 'comment_id': 'kc9dwfk'}], [1701888176, {'subreddit_id': 't5_2qqt8', 'submission_id': '18bybt3', 'comment_id': 'kc9dstl'}], [1701888163, {'subreddit_id': 't5_32q13', 'submission_id': '18bz38g', 'comment_id': 'kc9drgt'}], [1701888133, {'subreddit_id': 't5_32q13', 'submission_id': '18bz38g', 'comment_id': 'kc9dopm'}], [1701888070, {'subreddit_id': 't5_32q13', 'submission_id': '18bz38g', 'comment_id': 'kc9ding'}], [1701888047, {'subreddit_id': 't5_2qlmm', 'submission_id': '18by8ln', 'comment_id': 'kc9dgd8'}], [1701888012, {'subreddit_id': 't5_32q13', 'submission_id': '18b7tfj', 'comment_id': 'kc9dcz7'}], [1701887985, {'subreddit_id': 't5_2qlmm', 'submission_id': '18by8ln', 'comment_id': 'kc9dabu'}], [1701887893, {'subreddit_id': 't5_32q13', 'submission_id': '18bz38g', 'comment_id': 'kc9d1i1'}], [1701887879, {'subreddit_id': 't5_32q13', 'submission_id': '18bz38g', 'comment_id': 'kc9d08h'}], [1701887842, {'subreddit_id': 't5_2qqt8', 'submission_id': '18bybt3', 'comment_id': 'kc9cwnz'}], [1701887818, {'subreddit_id': 't5_2qlmm', 'submission_id': '18bylma', 'comment_id': 'kc9cucq'}], [1701887749, {'subreddit_id': 't5_2qqt8', 'submission_id': '18byfd2', 'comment_id': 'kc9cnp4'}], [1701887700, {'subreddit_id': 't5_2qlmm', 'submission_id': '18by8ln', 'comment_id': 'kc9ciup'}], [1701887685, {'subreddit_id': 't5_2qlmm', 'submission_id': '18by8ln', 'comment_id': 'kc9chek'}], [1701887633, {'subreddit_id': 't5_9c9k47', 'submission_id': '188yark', 'comment_id': 'kc9ccf9'}], [1701850726, {'subreddit_id': 't5_2qqt8', 'submission_id': '18bybt3', 'comment_id': 'kc7d0n5'}], [1701843581, {'subreddit_id': 't5_2qlmm', 'submission_id': '18b77g3', 'comment_id': 'kc73nlv'}], [1701843260, {'subreddit_id': 't5_2qqt8', 'submission_id': '18b71c8', 'comment_id': 'kc7367l'}], [1701829726, {'subreddit_id': 't5_2qqt8', 'submission_id': '18b9iky', 'comment_id': 'kc6cl3y'}], [1701829336, {'subreddit_id': 't5_2qqt8', 'submission_id': '18b745w', 'comment_id': 'kc6bpu3'}], [1701828434, {'subreddit_id': 't5_2qlmm', 'submission_id': '18b77g3', 'comment_id': 'kc69ofb'}], [1701828136, {'subreddit_id': 't5_32q13', 'submission_id': '18b7ob5', 'comment_id': 'kc6903h'}], [1701827877, {'subreddit_id': 't5_32q13', 'submission_id': '18b7tfj', 'comment_id': 'kc68er6'}], [1701827865, {'subreddit_id': 't5_32q13', 'submission_id': '18b7tfj', 'comment_id': 'kc68dro'}], [1701827850, {'subreddit_id': 't5_32q13', 'submission_id': '18b7tfj', 'comment_id': 'kc68ci1'}], [1701827836, {'subreddit_id': 't5_32q13', 'submission_id': '18b7tfj', 'comment_id': 'kc68bfa'}], [1701827814, {'subreddit_id': 't5_32q13', 'submission_id': '18b7tfj', 'comment_id': 'kc689mm'}], [1701827765, {'subreddit_id': 't5_2qhuq', 'submission_id': '18bm8oy', 'comment_id': 'kc685l6'}], [1701810205, {'subreddit_id': 't5_2qlmm', 'submission_id': '18b7a79', 'comment_id': 'kc52aer'}], [1701805502, {'subreddit_id': 't5_32q13', 'submission_id': '18b7tfj', 'comment_id': 'kc4pu9v'}], [1701804964, {'subreddit_id': 't5_32q13', 'submission_id': '18b7tfj', 'comment_id': 'kc4ogcq'}], [1701804881, {'subreddit_id': 't5_32q13', 'submission_id': '18b7tfj', 'comment_id': 'kc4o8n0'}], [1701804842, {'subreddit_id': 't5_32q13', 'submission_id': '18b7ob5', 'comment_id': 'kc4o4xf'}], [1701804792, {'subreddit_id': 't5_32q13', 'submission_id': '18b7tfj', 'comment_id': 'kc4o0bc'}], [1701804766, {'subreddit_id': 't5_2qlmm', 'submission_id': '18b7a79', 'comment_id': 'kc4nxzh'}], [1701804733, {'subreddit_id': 't5_32q13', 'submission_id': '18b7tfj', 'comment_id': 'kc4nutl'}], [1701804700, {'subreddit_id': 't5_32q13', 'submission_id': '18b7tfj', 'comment_id': 'kc4nru1'}], [1701804648, {'subreddit_id': 't5_2qlmm', 'submission_id': '18b7a79', 'comment_id': 'kc4nn01'}], [1701804624, {'subreddit_id': 't5_32q13', 'submission_id': '18b7ijj', 'comment_id': 'kc4nkok'}], [1701804599, {'subreddit_id': 't5_32q13', 'submission_id': '18b7tfj', 'comment_id': 'kc4nieq'}], [1701804534, {'subreddit_id': 't5_2qlmm', 'submission_id': '18b7a79', 'comment_id': 'kc4nc9j'}], [1701804497, {'subreddit_id': 't5_2qlmm', 'submission_id': '18b7a79', 'comment_id': 'kc4n8ts'}], [1701804445, {'subreddit_id': 't5_2qlmm', 'submission_id': '18b77g3', 'comment_id': 'kc4n3vr'}], [1701804421, {'subreddit_id': 't5_2qlmm', 'submission_id': '18b77g3', 'comment_id': 'kc4n1mc'}], [1701804421, {'subreddit_id': 't5_32q13', 'submission_id': '18b7ijj', 'comment_id': 'kc4n1mb'}], [1701804316, {'subreddit_id': 't5_2qlmm', 'submission_id': '18b77g3', 'comment_id': 'kc4mrs3'}], [1701804304, {'subreddit_id': 't5_2qlmm', 'submission_id': '18b77g3', 'comment_id': 'kc4mqqh'}], [1701804281, {'subreddit_id': 't5_32q13', 'submission_id': '18b7ijj', 'comment_id': 'kc4molp'}], [1701804200, {'subreddit_id': 't5_32q13', 'submission_id': '18b7tfj', 'comment_id': 'kc4mh3p'}], [1701803913, {'subreddit_id': 't5_9c9k47', 'submission_id': '188yark', 'comment_id': 'kc4lq7a'}], [1701803736, {'subreddit_id': 't5_32q13', 'submission_id': '18b7tfj', 'comment_id': 'kc4l9ne'}], [1701803705, {'subreddit_id': 't5_32q13', 'submission_id': '18b7tfj', 'comment_id': 'kc4l6qn'}], [1701803187, {'subreddit_id': 't5_32q13', 'submission_id': '18b7ijj', 'comment_id': 'kc4jsba'}], [1701803143, {'subreddit_id': 't5_2qlmm', 'submission_id': '18b77g3', 'comment_id': 'kc4jo73'}], [1701767042, {'subreddit_id': 't5_32q13', 'submission_id': '18b7tfj', 'comment_id': 'kc2p0zz'}], [1701766891, {'subreddit_id': 't5_32q13', 'submission_id': '18b7ijj', 'comment_id': 'kc2ouvp'}], [1701765367, {'subreddit_id': 't5_2qqt8', 'submission_id': '18b745w', 'comment_id': 'kc2n3nn'}], [1701763620, {'subreddit_id': 't5_2qqt8', 'submission_id': '18b71c8', 'comment_id': 'kc2l0f3'}], [1701762213, {'subreddit_id': 't5_9c9k47', 'submission_id': '188yark', 'comment_id': 'kc2j8u2'}], [1701673895, {'subreddit_id': 't5_32q13', 'submission_id': '1890sa5', 'comment_id': 'kbxdboc'}], [1701631307, {'subreddit_id': 't5_32q13', 'submission_id': '1890sa5', 'comment_id': 'kbuns5g'}], [1701569720, {'subreddit_id': 't5_2qlmm', 'submission_id': '18902h3', 'comment_id': 'kbrg7t1'}], [1701564687, {'subreddit_id': 't5_2qlmm', 'submission_id': '18902h3', 'comment_id': 'kbr4x9i'}], [1701559467, {'subreddit_id': 't5_32q13', 'submission_id': '1890gga', 'comment_id': 'kbqswd9'}], [1701553378, {'subreddit_id': 't5_32q13', 'submission_id': '1890gga', 'comment_id': 'kbqe9rr'}], [1701553337, {'subreddit_id': 't5_32q13', 'submission_id': '1890gga', 'comment_id': 'kbqe66s'}], [1701553316, {'subreddit_id': 't5_32q13', 'submission_id': '1890sa5', 'comment_id': 'kbqe4b8'}], [1701553253, {'subreddit_id': 't5_2qlmm', 'submission_id': '18902h3', 'comment_id': 'kbqdyr1'}], [1701553224, {'subreddit_id': 't5_2qlmm', 'submission_id': '18902h3', 'comment_id': 'kbqdw3n'}], [1701553199, {'subreddit_id': 't5_2qqt8', 'submission_id': '188zpez', 'comment_id': 'kbqdtu3'}], [1701553188, {'subreddit_id': 't5_2qqt8', 'submission_id': '188zpez', 'comment_id': 'kbqdsw5'}], [1701553149, {'subreddit_id': 't5_32q13', 'submission_id': '1890gga', 'comment_id': 'kbqdpdp'}], [1701553104, {'subreddit_id': 't5_32q13', 'submission_id': '1890gga', 'comment_id': 'kbqdlbn'}], [1701553080, {'subreddit_id': 't5_32q13', 'submission_id': '1890gga', 'comment_id': 'kbqdj85'}], [1701553030, {'subreddit_id': 't5_2qqt8', 'submission_id': '188zpez', 'comment_id': 'kbqderh'}], [1701552990, {'subreddit_id': 't5_32q13', 'submission_id': '1890gga', 'comment_id': 'kbqdb54'}], [1701552952, {'subreddit_id': 't5_32q13', 'submission_id': '1890sa5', 'comment_id': 'kbqd7n4'}], [1701552909, {'subreddit_id': 't5_2qlmm', 'submission_id': '18902h3', 'comment_id': 'kbqd3t2'}], [1701552898, {'subreddit_id': 't5_2qlmm', 'submission_id': '18902h3', 'comment_id': 'kbqd2sy'}], [1701552837, {'subreddit_id': 't5_2qlmm', 'submission_id': '18902h3', 'comment_id': 'kbqcxhv'}], [1701552738, {'subreddit_id': 't5_32q13', 'submission_id': '1890gga', 'comment_id': 'kbqcon7'}], [1701552691, {'subreddit_id': 't5_32q13', 'submission_id': '1890gga', 'comment_id': 'kbqckgx'}], [1701552614, {'subreddit_id': 't5_32q13', 'submission_id': '1890gga', 'comment_id': 'kbqcdm1'}], [1701552595, {'subreddit_id': 't5_32q13', 'submission_id': '1890gga', 'comment_id': 'kbqcbvz'}], [1701512166, {'subreddit_id': 't5_32q13', 'submission_id': '1890gga', 'comment_id': 'kbo0yrq'}], [1701509554, {'subreddit_id': 't5_2qlmm', 'submission_id': '18902h3', 'comment_id': 'kbnxxs5'}], [1701509225, {'subreddit_id': 't5_2qqt8', 'submission_id': '188zpez', 'comment_id': 'kbnxk87'}]]\n"
     ]
    },
    {
     "name": "stderr",
     "output_type": "stream",
     "text": [
      "100%|██████████| 12499/12499 [40:55<00:00,  5.09it/s]\n"
     ]
    }
   ],
   "source": [
    "from tqdm import tqdm\n",
    "treat_keys  = [t for t in redditor_dict.keys() if not t in control_group]\n",
    "treat_redditors = list()\n",
    "#TODO - parallelize? also w/ requests after is KD tree is threat safe\n",
    "for t in tqdm(treat_keys):\n",
    "    # t = treat_keys[t_idx]\n",
    "    treat_redditors.append(Redditor(redditor_dict, comment_dict, submission_dict, t, int(time.mktime(FIRST_CONSIDER_DATE.timetuple())), int(time.mktime(CONTROL_DATE.timetuple()))))\n",
    "    # treat_redditors = [Redditor(redditor_dict, comment_dict, submission_dict, t, int(time.mktime(FIRST_CONSIDER_DATE.timetuple())), int(time.mktime(CONTROL_DATE.timetuple())) ) for t in redditor_dict.keys() if not t in control_group]\n",
    "\n",
    "# treat_redditors = [t for t in treat_redditors if t.all_data]"
   ]
  },
  {
   "cell_type": "code",
   "execution_count": null,
   "metadata": {},
   "outputs": [],
   "source": []
  },
  {
   "cell_type": "code",
   "execution_count": 9,
   "metadata": {},
   "outputs": [],
   "source": [
    "final_treat = list()\n",
    "final_treat_usernames = list()\n",
    "# for t in treat_redditors:\n",
    "for t_index in range(len(treat_redditors)):\n",
    "    t = treat_redditors[t_index]\n",
    "    try:\n",
    "        if (not isinstance(t.all_data, type(None))):\n",
    "            final_treat.append(t)\n",
    "            final_treat_usernames.append(treat_keys[t_index])\n",
    "\n",
    "    except:\n",
    "        pass"
   ]
  },
  {
   "cell_type": "code",
   "execution_count": 10,
   "metadata": {},
   "outputs": [
    {
     "data": {
      "text/plain": [
       "12499"
      ]
     },
     "execution_count": 10,
     "metadata": {},
     "output_type": "execute_result"
    }
   ],
   "source": [
    "len(treat_redditors)"
   ]
  },
  {
   "cell_type": "code",
   "execution_count": 11,
   "metadata": {},
   "outputs": [
    {
     "data": {
      "text/plain": [
       "12490"
      ]
     },
     "execution_count": 11,
     "metadata": {},
     "output_type": "execute_result"
    }
   ],
   "source": [
    "len(final_treat)"
   ]
  },
  {
   "cell_type": "code",
   "execution_count": 12,
   "metadata": {},
   "outputs": [
    {
     "data": {
      "text/plain": [
       "array([0., 1., 0.])"
      ]
     },
     "execution_count": 12,
     "metadata": {},
     "output_type": "execute_result"
    }
   ],
   "source": [
    "np.array([False, True, False], dtype='float')"
   ]
  },
  {
   "cell_type": "code",
   "execution_count": 13,
   "metadata": {},
   "outputs": [
    {
     "name": "stdout",
     "output_type": "stream",
     "text": [
      "1696949444\n",
      "1700632800\n",
      "3683356\n"
     ]
    }
   ],
   "source": [
    "import time\n",
    "print(1696949444)\n",
    "print(int(time.mktime(CONTROL_DATE.timetuple())))\n",
    "print(int(time.mktime(CONTROL_DATE.timetuple())) - 1696949444)"
   ]
  },
  {
   "cell_type": "markdown",
   "metadata": {},
   "source": [
    "# Method 1 - KD Tree"
   ]
  },
  {
   "cell_type": "code",
   "execution_count": 14,
   "metadata": {},
   "outputs": [],
   "source": [
    "#kd tree\n",
    "#O(k*n*log(n)) construction\n",
    "#O(q*(log(n)->n)) query \n",
    "\n",
    "#search\n",
    "#O(q*k^2 * n)\n",
    "\n",
    "#kd\n",
    "#log(n) < q*k"
   ]
  },
  {
   "cell_type": "code",
   "execution_count": 15,
   "metadata": {},
   "outputs": [],
   "source": [
    "from sklearn.neighbors import KDTree\n",
    "\n",
    "\n"
   ]
  },
  {
   "cell_type": "code",
   "execution_count": 16,
   "metadata": {},
   "outputs": [],
   "source": [
    "data = np.array([t.get_data().tolist() for t in final_treat])\n",
    "len(data)\n",
    "data = np.nan_to_num(data)"
   ]
  },
  {
   "cell_type": "code",
   "execution_count": 17,
   "metadata": {},
   "outputs": [
    {
     "data": {
      "text/plain": [
       "array([ 4.80300000e+03,  1.59238793e+09,  1.00000000e+00,  0.00000000e+00,\n",
       "        0.00000000e+00,  0.00000000e+00,  0.00000000e+00,  2.65400000e+03,\n",
       "        0.00000000e+00,  0.00000000e+00,  2.00000000e+00,  1.00000000e+00,\n",
       "        0.00000000e+00,  0.00000000e+00,  0.00000000e+00,  0.00000000e+00,\n",
       "        0.00000000e+00,  0.00000000e+00,  0.00000000e+00,  0.00000000e+00,\n",
       "        0.00000000e+00,  0.00000000e+00,  0.00000000e+00,  0.00000000e+00,\n",
       "        0.00000000e+00,  0.00000000e+00,  0.00000000e+00,  0.00000000e+00,\n",
       "        0.00000000e+00,  0.00000000e+00,  0.00000000e+00,  0.00000000e+00,\n",
       "        0.00000000e+00,  0.00000000e+00,  4.80300000e+03,  1.59238793e+09,\n",
       "        1.00000000e+00,  0.00000000e+00,  0.00000000e+00,  0.00000000e+00,\n",
       "        0.00000000e+00,  2.65400000e+03,  0.00000000e+00,  0.00000000e+00,\n",
       "        2.00000000e+00,  1.00000000e+00,  0.00000000e+00,  0.00000000e+00,\n",
       "        0.00000000e+00,  0.00000000e+00,  0.00000000e+00,  0.00000000e+00,\n",
       "        0.00000000e+00,  0.00000000e+00,  0.00000000e+00,  0.00000000e+00,\n",
       "        0.00000000e+00,  0.00000000e+00,  0.00000000e+00,  0.00000000e+00,\n",
       "        0.00000000e+00,  0.00000000e+00,  0.00000000e+00,  0.00000000e+00,\n",
       "        0.00000000e+00,  0.00000000e+00,  0.00000000e+00,  0.00000000e+00,\n",
       "        4.80300000e+03,  1.59238793e+09,  1.00000000e+00,  0.00000000e+00,\n",
       "        0.00000000e+00,  0.00000000e+00,  0.00000000e+00,  2.65400000e+03,\n",
       "        0.00000000e+00,  0.00000000e+00,  2.00000000e+00,  1.00000000e+00,\n",
       "        0.00000000e+00,  0.00000000e+00,  0.00000000e+00,  0.00000000e+00,\n",
       "        0.00000000e+00,  0.00000000e+00,  0.00000000e+00,  0.00000000e+00,\n",
       "        0.00000000e+00,  0.00000000e+00,  0.00000000e+00,  0.00000000e+00,\n",
       "        0.00000000e+00,  0.00000000e+00,  0.00000000e+00,  0.00000000e+00,\n",
       "        0.00000000e+00,  0.00000000e+00,  0.00000000e+00,  0.00000000e+00,\n",
       "        0.00000000e+00,  0.00000000e+00,  4.80300000e+03,  1.59238793e+09,\n",
       "        1.00000000e+00,  0.00000000e+00,  0.00000000e+00,  0.00000000e+00,\n",
       "        0.00000000e+00,  2.65400000e+03,  0.00000000e+00,  0.00000000e+00,\n",
       "        2.00000000e+00,  1.00000000e+00,  0.00000000e+00,  0.00000000e+00,\n",
       "        0.00000000e+00,  0.00000000e+00,  0.00000000e+00,  0.00000000e+00,\n",
       "        0.00000000e+00,  0.00000000e+00,  0.00000000e+00,  0.00000000e+00,\n",
       "        0.00000000e+00,  0.00000000e+00,  0.00000000e+00,  0.00000000e+00,\n",
       "        0.00000000e+00,  0.00000000e+00,  0.00000000e+00,  0.00000000e+00,\n",
       "        0.00000000e+00,  0.00000000e+00,  0.00000000e+00,  0.00000000e+00,\n",
       "        4.80300000e+03,  1.59238793e+09,  1.00000000e+00,  0.00000000e+00,\n",
       "        0.00000000e+00,  0.00000000e+00,  0.00000000e+00,  2.65400000e+03,\n",
       "        0.00000000e+00,  0.00000000e+00,  2.00000000e+00,  1.00000000e+00,\n",
       "        0.00000000e+00,  0.00000000e+00,  0.00000000e+00,  0.00000000e+00,\n",
       "        0.00000000e+00,  0.00000000e+00,  0.00000000e+00,  0.00000000e+00,\n",
       "        0.00000000e+00,  0.00000000e+00,  0.00000000e+00,  0.00000000e+00,\n",
       "        0.00000000e+00,  0.00000000e+00,  0.00000000e+00,  0.00000000e+00,\n",
       "        0.00000000e+00,  0.00000000e+00,  0.00000000e+00,  0.00000000e+00,\n",
       "        0.00000000e+00,  0.00000000e+00,  0.00000000e+00,  0.00000000e+00,\n",
       "        4.68750000e+00,  0.00000000e+00,  0.00000000e+00,  4.68750000e+00,\n",
       "        0.00000000e+00,  0.00000000e+00,  0.00000000e+00, -2.46710526e-04,\n",
       "       -2.46710526e-04, -2.46710526e-04, -2.46710526e-04, -2.46710526e-04,\n",
       "       -2.46710526e-04, -2.46710526e-04, -2.46710526e-04, -2.46710526e-04,\n",
       "       -2.46710526e-04,  4.68750000e-03, -2.46710526e-04, -2.46710526e-04,\n",
       "       -2.46710526e-04, -2.46710526e-04, -2.46710526e-04, -2.46710526e-04,\n",
       "       -2.46710526e-04, -2.46710526e-04, -2.46710526e-04,  0.00000000e+00,\n",
       "        0.00000000e+00,  2.26062500e+02,  8.60000000e-01,  0.00000000e+00,\n",
       "        0.00000000e+00,  0.00000000e+00,  0.00000000e+00,  0.00000000e+00,\n",
       "        0.00000000e+00,  0.00000000e+00,  0.00000000e+00,  0.00000000e+00,\n",
       "        0.00000000e+00,  0.00000000e+00,  0.00000000e+00,  0.00000000e+00,\n",
       "        0.00000000e+00,  0.00000000e+00,  0.00000000e+00,  0.00000000e+00,\n",
       "        0.00000000e+00,  0.00000000e+00,  0.00000000e+00,  0.00000000e+00,\n",
       "        0.00000000e+00,  8.00000000e+00,  0.00000000e+00,  0.00000000e+00,\n",
       "        8.00000000e+00,  0.00000000e+00,  0.00000000e+00,  0.00000000e+00,\n",
       "       -5.16575661e-04, -5.16575661e-04, -5.16575661e-04, -5.16575661e-04,\n",
       "        1.20756227e-03, -5.16575661e-04, -5.16575661e-04, -5.16575661e-04,\n",
       "       -5.16575661e-04, -5.16575661e-04,  5.77053120e-03,  1.80369278e-03,\n",
       "       -5.16575661e-04, -5.16575661e-04, -5.16575661e-04, -5.16575661e-04,\n",
       "       -5.16575661e-04, -5.16575661e-04, -5.16575661e-04, -5.16575661e-04,\n",
       "        0.00000000e+00,  0.00000000e+00,  2.53620690e+02,  8.60689655e-01,\n",
       "       -6.05500821e-04,  3.70484401e-03, -6.05500821e-04, -6.05500821e-04,\n",
       "       -6.05500821e-04, -6.05500821e-04, -6.05500821e-04, -6.05500821e-04,\n",
       "       -6.05500821e-04, -6.05500821e-04,  7.19417077e-03, -6.05500821e-04,\n",
       "       -6.05500821e-04, -6.05500821e-04, -6.05500821e-04, -6.05500821e-04,\n",
       "       -6.05500821e-04, -6.05500821e-04, -6.05500821e-04, -6.05500821e-04,\n",
       "        0.00000000e+00,  0.00000000e+00,  4.38095238e+00,  0.00000000e+00,\n",
       "        0.00000000e+00,  4.38095238e+00,  0.00000000e+00,  1.90476190e-01,\n",
       "        0.00000000e+00, -1.21353488e-03,  1.68310765e-03, -1.21353488e-03,\n",
       "       -1.21353488e-03, -1.21353488e-03, -1.21353488e-03,  9.50967285e-04,\n",
       "       -1.21353488e-03, -1.21353488e-03, -1.21353488e-03,  6.03972034e-03,\n",
       "        4.24925630e-03, -1.21353488e-03, -1.21353488e-03,  9.50967285e-04,\n",
       "        9.50967285e-04, -1.21353488e-03, -1.21353488e-03, -1.21353488e-03,\n",
       "        9.50967285e-04,  0.00000000e+00,  0.00000000e+00,  5.82285714e+02,\n",
       "        8.59523810e-01,  1.62071846e-03, -2.04228520e-03,  1.62071846e-03,\n",
       "        1.62071846e-03,  1.62071846e-03,  1.62071846e-03, -2.04228520e-03,\n",
       "       -2.04228520e-03, -2.04228520e-03, -2.04228520e-03,  1.31623932e-02,\n",
       "       -2.04228520e-03, -2.04228520e-03, -2.04228520e-03, -2.04228520e-03,\n",
       "       -2.04228520e-03, -2.04228520e-03,  1.62071846e-03, -2.04228520e-03,\n",
       "        1.62071846e-03,  0.00000000e+00,  0.00000000e+00,  7.72727273e+00,\n",
       "        0.00000000e+00,  0.00000000e+00,  7.72727273e+00,  0.00000000e+00,\n",
       "        1.81818182e-01,  0.00000000e+00, -2.70207946e-04,  1.19606771e-03,\n",
       "       -1.05390701e-03, -1.05390701e-03, -1.05390701e-03, -1.05390701e-03,\n",
       "       -1.05390701e-03, -1.05390701e-03,  5.13491113e-04, -1.05390701e-03,\n",
       "        1.54231612e-02, -1.05390701e-03, -1.05390701e-03, -1.05390701e-03,\n",
       "       -1.05390701e-03, -1.05390701e-03, -1.05390701e-03, -1.05390701e-03,\n",
       "       -1.05390701e-03, -1.05390701e-03,  0.00000000e+00,  0.00000000e+00,\n",
       "        1.18409091e+02,  7.42272727e-01, -8.26446281e-04, -8.26446281e-04,\n",
       "       -8.26446281e-04, -8.26446281e-04, -8.26446281e-04, -8.26446281e-04,\n",
       "       -8.26446281e-04, -8.26446281e-04, -8.26446281e-04, -8.26446281e-04,\n",
       "        1.57024793e-02, -8.26446281e-04, -8.26446281e-04, -8.26446281e-04,\n",
       "       -8.26446281e-04, -8.26446281e-04, -8.26446281e-04, -8.26446281e-04,\n",
       "       -8.26446281e-04, -8.26446281e-04,  0.00000000e+00,  0.00000000e+00,\n",
       "        0.00000000e+00,  0.00000000e+00,  0.00000000e+00,  1.60000000e+01,\n",
       "        2.90000000e+01,  2.10000000e+01,  2.20000000e+01,  1.60000000e+01,\n",
       "        2.90000000e+01,  2.10000000e+01,  2.20000000e+01,  1.60000000e+01,\n",
       "        2.90000000e+01,  2.10000000e+01,  2.20000000e+01,  1.60000000e+01,\n",
       "        2.90000000e+01,  2.10000000e+01,  2.20000000e+01,  1.60000000e+01,\n",
       "        2.90000000e+01,  2.10000000e+01,  2.20000000e+01,  0.00000000e+00,\n",
       "        0.00000000e+00,  0.00000000e+00,  1.00000000e+00,  0.00000000e+00,\n",
       "        0.00000000e+00,  0.00000000e+00,  1.00000000e+00,  0.00000000e+00,\n",
       "        0.00000000e+00,  0.00000000e+00,  1.00000000e+00,  0.00000000e+00,\n",
       "        0.00000000e+00,  0.00000000e+00,  1.00000000e+00,  0.00000000e+00,\n",
       "        0.00000000e+00,  0.00000000e+00,  1.00000000e+00,  0.00000000e+00,\n",
       "        0.00000000e+00,  0.00000000e+00,  1.00000000e+00,  0.00000000e+00,\n",
       "        0.00000000e+00,  0.00000000e+00,  1.00000000e+00,  0.00000000e+00,\n",
       "        0.00000000e+00,  0.00000000e+00,  1.00000000e+00,  0.00000000e+00,\n",
       "        0.00000000e+00,  0.00000000e+00,  1.00000000e+00,  0.00000000e+00,\n",
       "        0.00000000e+00,  0.00000000e+00,  1.00000000e+00])"
      ]
     },
     "execution_count": 17,
     "metadata": {},
     "output_type": "execute_result"
    }
   ],
   "source": [
    "data[1]"
   ]
  },
  {
   "cell_type": "code",
   "execution_count": 18,
   "metadata": {},
   "outputs": [
    {
     "data": {
      "text/plain": [
       "(12490, 447)"
      ]
     },
     "execution_count": 18,
     "metadata": {},
     "output_type": "execute_result"
    }
   ],
   "source": [
    "data.shape"
   ]
  },
  {
   "cell_type": "code",
   "execution_count": 19,
   "metadata": {},
   "outputs": [
    {
     "name": "stdout",
     "output_type": "stream",
     "text": [
      "(12490, 447)\n"
     ]
    }
   ],
   "source": [
    "#okay we need to restructure data and query \n",
    "print(data.shape)\n",
    "epsilon = 1/100000000\n",
    "mean_data = np.mean(data, axis=0).reshape(1,-1)\n",
    "std_data = np.std(data, axis=0).reshape(1,-1)\n",
    "\n",
    "#change to z norm\n",
    "#X = (X - u)/sigma\n",
    "\n",
    "#when put to propensity score matching do PCA to do analysis\n",
    "\n",
    "new_data =(data  - mean_data)/(std_data + epsilon)\n",
    "new_query_redditors = (query_redditors  - mean_data)/(std_data + epsilon)"
   ]
  },
  {
   "cell_type": "code",
   "execution_count": 20,
   "metadata": {},
   "outputs": [
    {
     "data": {
      "text/plain": [
       "(32, 447)"
      ]
     },
     "execution_count": 20,
     "metadata": {},
     "output_type": "execute_result"
    }
   ],
   "source": [
    "new_query_redditors.shape"
   ]
  },
  {
   "cell_type": "code",
   "execution_count": 21,
   "metadata": {},
   "outputs": [],
   "source": [
    "tree = KDTree(new_data)"
   ]
  },
  {
   "cell_type": "code",
   "execution_count": 22,
   "metadata": {},
   "outputs": [],
   "source": [
    "dist, matched_indices = tree.query(new_query_redditors, k = 1)"
   ]
  },
  {
   "cell_type": "code",
   "execution_count": 23,
   "metadata": {},
   "outputs": [
    {
     "name": "stdout",
     "output_type": "stream",
     "text": [
      "santascumdumpster\n",
      "4.717365666627416\n",
      "Evening-Management-7\n",
      "0.023493057010194496\n",
      "kendragibs\n",
      "0.08500888165503474\n",
      "throwaway8194122\n",
      "0.09649155254716366\n",
      "Intelligent-Risk9885\n",
      "0.012344288089443054\n",
      "jojaques\n",
      "0.005406505202240542\n",
      "control_burn\n",
      "28.03834526385116\n",
      "MetroL7\n",
      "0.009349557839466399\n",
      "abcdmetalhead\n",
      "0.006096841217311063\n",
      "GibbyTime24\n",
      "0.020545088076972015\n",
      "lola4274\n",
      "0.19372319467660862\n",
      "iuanaj\n",
      "0.032475885146572916\n",
      "Wide-Bridge-6461\n",
      "0.005850608395938849\n",
      "Wide-Bridge-6461\n",
      "0.005850608395938849\n",
      "lolboll12\n",
      "11.234272416986904\n",
      "ElthonJzohn_997\n",
      "0.0038796223388737235\n",
      "Am3l1a____\n",
      "0.00907027335650474\n",
      "Oz_a_day\n",
      "6.890082129854766\n",
      "nxj7437\n",
      "4.775282902656913\n",
      "BowlLoose5158\n",
      "10.877599006091213\n",
      "LobstrLord\n",
      "24.707037242733275\n",
      "ElthonJzohn_997\n",
      "0.0012409780202776602\n",
      "Awkward_Reindeer_788\n",
      "0.007789763933051038\n",
      "SpendLate5545\n",
      "0.02518760957580418\n",
      "orange_melted\n",
      "8.62247524930517\n",
      "Maggiethedogie\n",
      "0.04402750169664796\n",
      "CommunicationDue6753\n",
      "0.020595906682515257\n",
      "whale_omelette94\n",
      "0.026841887730667393\n",
      "IndependentInternet3\n",
      "0.02180777387040128\n",
      "Electric_Spongebob\n",
      "6.7089715400696655\n",
      "Mario_Lopes\n",
      "6.412811361660547\n",
      "ElizabethWolf1214\n",
      "0.009585170684651265\n",
      "u:  3.5515907917493537 sigma: 6.824928025355073 min: 0.0012409780202776602 max: 28.03834526385116 median: 0.026014748653235786\n",
      "ppl without matches r:  []\n",
      "ppl without matches proportion r:  0.0\n"
     ]
    }
   ],
   "source": [
    "list_of_control = list()\n",
    "list_of_control_data = list()\n",
    "\n",
    "all_distances = list()\n",
    "treat_to_matched_control = dict()\n",
    "ppl_with_matches = dict()\n",
    "for dist_idx, treat_idx in enumerate(matched_indices):\n",
    "    for distance, idx in zip(dist[dist_idx], treat_idx):\n",
    "        if (distance > 10000):\n",
    "            break\n",
    "        print(final_treat_usernames[idx])\n",
    "        # print(control_group[dist_idx])\n",
    "        ppl_with_matches[control_group[dist_idx]] = True \n",
    "\n",
    "        list_of_control.append(final_treat_usernames[idx])\n",
    "        list_of_control_data.append(new_data[idx])\n",
    "        print(distance)\n",
    "        all_distances.append(distance)\n",
    "        # ppl_with_matches[control_group]\n",
    "        # print(new_data[idx].shape)\n",
    "\n",
    "print(\"u: \", np.mean(all_distances), \"sigma:\", np.std(all_distances), \"min:\", np.min(all_distances), \"max:\", np.max(all_distances), \"median:\",np.median(all_distances))\n",
    "print(\"ppl without matches r: \", [c for c in control_group if not c in ppl_with_matches])\n",
    "\n",
    "print(\"ppl without matches proportion r: \", len([c for c in control_group if not c in ppl_with_matches])/len(control_group))"
   ]
  },
  {
   "cell_type": "code",
   "execution_count": 174,
   "metadata": {},
   "outputs": [],
   "source": [
    "vanilla_kd_control = list_of_control"
   ]
  },
  {
   "cell_type": "code",
   "execution_count": 24,
   "metadata": {},
   "outputs": [],
   "source": [
    "#https://pypi.org/project/psmpy/"
   ]
  },
  {
   "cell_type": "markdown",
   "metadata": {},
   "source": [
    "# Method 2 - PSA and Propensity"
   ]
  },
  {
   "cell_type": "code",
   "execution_count": 25,
   "metadata": {},
   "outputs": [
    {
     "name": "stdout",
     "output_type": "stream",
     "text": [
      "Requirement already satisfied: psmpy in c:\\users\\logan\\documents\\research\\mental_health\\reddit_data_scraping\\reddit-crawler-data\\.venv\\lib\\site-packages (0.3.13)\n",
      "Requirement already satisfied: matplotlib in c:\\users\\logan\\documents\\research\\mental_health\\reddit_data_scraping\\reddit-crawler-data\\.venv\\lib\\site-packages (from psmpy) (3.8.2)\n",
      "Requirement already satisfied: numpy in c:\\users\\logan\\documents\\research\\mental_health\\reddit_data_scraping\\reddit-crawler-data\\.venv\\lib\\site-packages (from psmpy) (1.26.2)\n",
      "Requirement already satisfied: pandas in c:\\users\\logan\\documents\\research\\mental_health\\reddit_data_scraping\\reddit-crawler-data\\.venv\\lib\\site-packages (from psmpy) (2.1.3)\n",
      "Requirement already satisfied: seaborn in c:\\users\\logan\\documents\\research\\mental_health\\reddit_data_scraping\\reddit-crawler-data\\.venv\\lib\\site-packages (from psmpy) (0.13.0)\n",
      "Requirement already satisfied: scikit-learn in c:\\users\\logan\\documents\\research\\mental_health\\reddit_data_scraping\\reddit-crawler-data\\.venv\\lib\\site-packages (from psmpy) (1.3.2)\n",
      "Requirement already satisfied: scipy in c:\\users\\logan\\documents\\research\\mental_health\\reddit_data_scraping\\reddit-crawler-data\\.venv\\lib\\site-packages (from psmpy) (1.11.4)\n",
      "Requirement already satisfied: contourpy>=1.0.1 in c:\\users\\logan\\documents\\research\\mental_health\\reddit_data_scraping\\reddit-crawler-data\\.venv\\lib\\site-packages (from matplotlib->psmpy) (1.2.0)\n",
      "Requirement already satisfied: cycler>=0.10 in c:\\users\\logan\\documents\\research\\mental_health\\reddit_data_scraping\\reddit-crawler-data\\.venv\\lib\\site-packages (from matplotlib->psmpy) (0.12.1)\n",
      "Requirement already satisfied: fonttools>=4.22.0 in c:\\users\\logan\\documents\\research\\mental_health\\reddit_data_scraping\\reddit-crawler-data\\.venv\\lib\\site-packages (from matplotlib->psmpy) (4.46.0)\n",
      "Requirement already satisfied: kiwisolver>=1.3.1 in c:\\users\\logan\\documents\\research\\mental_health\\reddit_data_scraping\\reddit-crawler-data\\.venv\\lib\\site-packages (from matplotlib->psmpy) (1.4.5)\n",
      "Requirement already satisfied: packaging>=20.0 in c:\\users\\logan\\documents\\research\\mental_health\\reddit_data_scraping\\reddit-crawler-data\\.venv\\lib\\site-packages (from matplotlib->psmpy) (23.2)\n",
      "Requirement already satisfied: pillow>=8 in c:\\users\\logan\\documents\\research\\mental_health\\reddit_data_scraping\\reddit-crawler-data\\.venv\\lib\\site-packages (from matplotlib->psmpy) (10.1.0)\n",
      "Requirement already satisfied: pyparsing>=2.3.1 in c:\\users\\logan\\documents\\research\\mental_health\\reddit_data_scraping\\reddit-crawler-data\\.venv\\lib\\site-packages (from matplotlib->psmpy) (3.1.1)\n",
      "Requirement already satisfied: python-dateutil>=2.7 in c:\\users\\logan\\documents\\research\\mental_health\\reddit_data_scraping\\reddit-crawler-data\\.venv\\lib\\site-packages (from matplotlib->psmpy) (2.8.2)\n",
      "Requirement already satisfied: pytz>=2020.1 in c:\\users\\logan\\documents\\research\\mental_health\\reddit_data_scraping\\reddit-crawler-data\\.venv\\lib\\site-packages (from pandas->psmpy) (2023.3.post1)\n",
      "Requirement already satisfied: tzdata>=2022.1 in c:\\users\\logan\\documents\\research\\mental_health\\reddit_data_scraping\\reddit-crawler-data\\.venv\\lib\\site-packages (from pandas->psmpy) (2023.3)\n",
      "Requirement already satisfied: joblib>=1.1.1 in c:\\users\\logan\\documents\\research\\mental_health\\reddit_data_scraping\\reddit-crawler-data\\.venv\\lib\\site-packages (from scikit-learn->psmpy) (1.3.2)\n",
      "Requirement already satisfied: threadpoolctl>=2.0.0 in c:\\users\\logan\\documents\\research\\mental_health\\reddit_data_scraping\\reddit-crawler-data\\.venv\\lib\\site-packages (from scikit-learn->psmpy) (3.2.0)\n",
      "Requirement already satisfied: six>=1.5 in c:\\users\\logan\\documents\\research\\mental_health\\reddit_data_scraping\\reddit-crawler-data\\.venv\\lib\\site-packages (from python-dateutil>=2.7->matplotlib->psmpy) (1.16.0)\n"
     ]
    }
   ],
   "source": [
    "!pip install psmpy"
   ]
  },
  {
   "cell_type": "code",
   "execution_count": 111,
   "metadata": {},
   "outputs": [],
   "source": [
    "from sklearn.decomposition import PCA\n",
    "\n",
    "import pandas as pd\n",
    "\n",
    "# combined_data = new_data + new_query_redditors\n",
    "combined_data = np.concatenate((new_data, new_query_redditors))\n",
    "keys =  treat_redditors[0].all_data_keys\n",
    "\n"
   ]
  },
  {
   "cell_type": "code",
   "execution_count": 112,
   "metadata": {},
   "outputs": [
    {
     "data": {
      "text/plain": [
       "array([[ 0.08416722, -1.49322515,  0.3173822 , ..., -0.12984965,\n",
       "        -0.14348168, -0.21451273],\n",
       "       [-0.31083905,  0.35243391,  0.3173822 , ..., -0.12984965,\n",
       "        -0.14348168,  1.74544632],\n",
       "       [-0.15823287, -1.64260384,  0.3173822 , ..., -0.12984965,\n",
       "        -0.14348168, -0.21451273],\n",
       "       ...,\n",
       "       [-0.34866207,  0.01162452,  0.3173822 , ..., -0.12984965,\n",
       "        -0.14348168, -0.21451273],\n",
       "       [-0.3331789 ,  0.62040812,  0.3173822 , ..., -0.12984965,\n",
       "        -0.14348168, -0.21451273],\n",
       "       [-0.35770186,  0.71634766,  0.3173822 , ..., -0.12984965,\n",
       "        -0.14348168, -0.21451273]])"
      ]
     },
     "execution_count": 112,
     "metadata": {},
     "output_type": "execute_result"
    }
   ],
   "source": [
    "combined_data.astype(float)"
   ]
  },
  {
   "cell_type": "code",
   "execution_count": 122,
   "metadata": {},
   "outputs": [
    {
     "data": {
      "text/html": [
       "<div>\n",
       "<style scoped>\n",
       "    .dataframe tbody tr th:only-of-type {\n",
       "        vertical-align: middle;\n",
       "    }\n",
       "\n",
       "    .dataframe tbody tr th {\n",
       "        vertical-align: top;\n",
       "    }\n",
       "\n",
       "    .dataframe thead th {\n",
       "        text-align: right;\n",
       "    }\n",
       "</style>\n",
       "<table border=\"1\" class=\"dataframe\">\n",
       "  <thead>\n",
       "    <tr style=\"text-align: right;\">\n",
       "      <th></th>\n",
       "      <th>comment_karma</th>\n",
       "      <th>time_creation</th>\n",
       "      <th>verified_email</th>\n",
       "      <th>is_employee</th>\n",
       "      <th>is_mod</th>\n",
       "      <th>is_gold</th>\n",
       "      <th>is_suspended</th>\n",
       "      <th>link_karma</th>\n",
       "      <th>num_moderated</th>\n",
       "      <th>num_multireddits</th>\n",
       "      <th>...</th>\n",
       "      <th>num_comments_in_seg_0</th>\n",
       "      <th>num_comments_in_seg_1</th>\n",
       "      <th>num_comments_in_seg_2</th>\n",
       "      <th>num_comments_in_seg_3</th>\n",
       "      <th>num_suicide_mentions_0</th>\n",
       "      <th>num_suicide_mentions_1</th>\n",
       "      <th>num_suicide_mentions_2</th>\n",
       "      <th>num_suicide_mentions_3</th>\n",
       "      <th>unique_id</th>\n",
       "      <th>is_treatment</th>\n",
       "    </tr>\n",
       "  </thead>\n",
       "  <tbody>\n",
       "    <tr>\n",
       "      <th>0</th>\n",
       "      <td>0.051081</td>\n",
       "      <td>-0.045567</td>\n",
       "      <td>0.317382</td>\n",
       "      <td>0.0</td>\n",
       "      <td>-0.409544</td>\n",
       "      <td>-0.108377</td>\n",
       "      <td>0.0</td>\n",
       "      <td>-0.122627</td>\n",
       "      <td>-0.034676</td>\n",
       "      <td>-0.037035</td>\n",
       "      <td>...</td>\n",
       "      <td>-0.377407</td>\n",
       "      <td>-0.444438</td>\n",
       "      <td>1.154361</td>\n",
       "      <td>1.717115</td>\n",
       "      <td>-0.102516</td>\n",
       "      <td>-0.12985</td>\n",
       "      <td>-0.143482</td>\n",
       "      <td>-0.214513</td>\n",
       "      <td>12491.0</td>\n",
       "      <td>1.0</td>\n",
       "    </tr>\n",
       "    <tr>\n",
       "      <th>1</th>\n",
       "      <td>-0.353685</td>\n",
       "      <td>0.609671</td>\n",
       "      <td>0.317382</td>\n",
       "      <td>0.0</td>\n",
       "      <td>-0.409544</td>\n",
       "      <td>-0.108377</td>\n",
       "      <td>0.0</td>\n",
       "      <td>-0.121212</td>\n",
       "      <td>-0.034676</td>\n",
       "      <td>-0.037035</td>\n",
       "      <td>...</td>\n",
       "      <td>-0.377407</td>\n",
       "      <td>-0.444438</td>\n",
       "      <td>-0.568056</td>\n",
       "      <td>-0.824346</td>\n",
       "      <td>-0.102516</td>\n",
       "      <td>-0.12985</td>\n",
       "      <td>-0.143482</td>\n",
       "      <td>-0.214513</td>\n",
       "      <td>12492.0</td>\n",
       "      <td>1.0</td>\n",
       "    </tr>\n",
       "    <tr>\n",
       "      <th>2</th>\n",
       "      <td>-0.347390</td>\n",
       "      <td>0.587896</td>\n",
       "      <td>-3.150775</td>\n",
       "      <td>0.0</td>\n",
       "      <td>-0.409544</td>\n",
       "      <td>-0.108377</td>\n",
       "      <td>0.0</td>\n",
       "      <td>-0.096302</td>\n",
       "      <td>-0.034676</td>\n",
       "      <td>-0.037035</td>\n",
       "      <td>...</td>\n",
       "      <td>-0.377407</td>\n",
       "      <td>-0.444438</td>\n",
       "      <td>-0.568056</td>\n",
       "      <td>-0.824346</td>\n",
       "      <td>-0.102516</td>\n",
       "      <td>-0.12985</td>\n",
       "      <td>-0.143482</td>\n",
       "      <td>-0.214513</td>\n",
       "      <td>12493.0</td>\n",
       "      <td>1.0</td>\n",
       "    </tr>\n",
       "    <tr>\n",
       "      <th>3</th>\n",
       "      <td>-0.360849</td>\n",
       "      <td>0.571733</td>\n",
       "      <td>-3.150775</td>\n",
       "      <td>0.0</td>\n",
       "      <td>-0.409544</td>\n",
       "      <td>-0.108377</td>\n",
       "      <td>0.0</td>\n",
       "      <td>-0.124526</td>\n",
       "      <td>-0.034676</td>\n",
       "      <td>-0.037035</td>\n",
       "      <td>...</td>\n",
       "      <td>-0.377407</td>\n",
       "      <td>-0.444438</td>\n",
       "      <td>-0.568056</td>\n",
       "      <td>-0.824346</td>\n",
       "      <td>-0.102516</td>\n",
       "      <td>-0.12985</td>\n",
       "      <td>-0.143482</td>\n",
       "      <td>-0.214513</td>\n",
       "      <td>12494.0</td>\n",
       "      <td>1.0</td>\n",
       "    </tr>\n",
       "    <tr>\n",
       "      <th>4</th>\n",
       "      <td>-0.361708</td>\n",
       "      <td>0.643656</td>\n",
       "      <td>0.317382</td>\n",
       "      <td>0.0</td>\n",
       "      <td>-0.409544</td>\n",
       "      <td>-0.108377</td>\n",
       "      <td>0.0</td>\n",
       "      <td>-0.129172</td>\n",
       "      <td>-0.034676</td>\n",
       "      <td>-0.037035</td>\n",
       "      <td>...</td>\n",
       "      <td>-0.377407</td>\n",
       "      <td>-0.444438</td>\n",
       "      <td>-0.568056</td>\n",
       "      <td>-0.824346</td>\n",
       "      <td>-0.102516</td>\n",
       "      <td>-0.12985</td>\n",
       "      <td>-0.143482</td>\n",
       "      <td>-0.214513</td>\n",
       "      <td>12495.0</td>\n",
       "      <td>1.0</td>\n",
       "    </tr>\n",
       "    <tr>\n",
       "      <th>...</th>\n",
       "      <td>...</td>\n",
       "      <td>...</td>\n",
       "      <td>...</td>\n",
       "      <td>...</td>\n",
       "      <td>...</td>\n",
       "      <td>...</td>\n",
       "      <td>...</td>\n",
       "      <td>...</td>\n",
       "      <td>...</td>\n",
       "      <td>...</td>\n",
       "      <td>...</td>\n",
       "      <td>...</td>\n",
       "      <td>...</td>\n",
       "      <td>...</td>\n",
       "      <td>...</td>\n",
       "      <td>...</td>\n",
       "      <td>...</td>\n",
       "      <td>...</td>\n",
       "      <td>...</td>\n",
       "      <td>...</td>\n",
       "      <td>...</td>\n",
       "    </tr>\n",
       "    <tr>\n",
       "      <th>12485</th>\n",
       "      <td>-0.236157</td>\n",
       "      <td>0.676968</td>\n",
       "      <td>0.317382</td>\n",
       "      <td>0.0</td>\n",
       "      <td>-0.409544</td>\n",
       "      <td>-0.108377</td>\n",
       "      <td>0.0</td>\n",
       "      <td>-0.081635</td>\n",
       "      <td>-0.034676</td>\n",
       "      <td>-0.037035</td>\n",
       "      <td>...</td>\n",
       "      <td>-0.377407</td>\n",
       "      <td>-0.444438</td>\n",
       "      <td>-0.568056</td>\n",
       "      <td>-0.785247</td>\n",
       "      <td>-0.102516</td>\n",
       "      <td>-0.12985</td>\n",
       "      <td>-0.143482</td>\n",
       "      <td>-0.214513</td>\n",
       "      <td>12485.0</td>\n",
       "      <td>0.0</td>\n",
       "    </tr>\n",
       "    <tr>\n",
       "      <th>12486</th>\n",
       "      <td>-0.291731</td>\n",
       "      <td>-1.134156</td>\n",
       "      <td>-3.150775</td>\n",
       "      <td>0.0</td>\n",
       "      <td>-0.409544</td>\n",
       "      <td>-0.108377</td>\n",
       "      <td>0.0</td>\n",
       "      <td>-0.114848</td>\n",
       "      <td>-0.034676</td>\n",
       "      <td>-0.037035</td>\n",
       "      <td>...</td>\n",
       "      <td>-0.377407</td>\n",
       "      <td>-0.444438</td>\n",
       "      <td>-0.568056</td>\n",
       "      <td>-0.824346</td>\n",
       "      <td>-0.102516</td>\n",
       "      <td>-0.12985</td>\n",
       "      <td>-0.143482</td>\n",
       "      <td>-0.214513</td>\n",
       "      <td>12486.0</td>\n",
       "      <td>0.0</td>\n",
       "    </tr>\n",
       "    <tr>\n",
       "      <th>12487</th>\n",
       "      <td>-0.354607</td>\n",
       "      <td>-0.803021</td>\n",
       "      <td>0.317382</td>\n",
       "      <td>0.0</td>\n",
       "      <td>-0.409544</td>\n",
       "      <td>-0.108377</td>\n",
       "      <td>0.0</td>\n",
       "      <td>-0.123637</td>\n",
       "      <td>-0.034676</td>\n",
       "      <td>-0.037035</td>\n",
       "      <td>...</td>\n",
       "      <td>-0.377407</td>\n",
       "      <td>-0.197238</td>\n",
       "      <td>-0.568056</td>\n",
       "      <td>-0.785247</td>\n",
       "      <td>-0.102516</td>\n",
       "      <td>-0.12985</td>\n",
       "      <td>-0.143482</td>\n",
       "      <td>-0.214513</td>\n",
       "      <td>12487.0</td>\n",
       "      <td>0.0</td>\n",
       "    </tr>\n",
       "    <tr>\n",
       "      <th>12488</th>\n",
       "      <td>-0.120272</td>\n",
       "      <td>0.447888</td>\n",
       "      <td>0.317382</td>\n",
       "      <td>0.0</td>\n",
       "      <td>2.441740</td>\n",
       "      <td>-0.108377</td>\n",
       "      <td>0.0</td>\n",
       "      <td>7.530469</td>\n",
       "      <td>0.144959</td>\n",
       "      <td>3.153055</td>\n",
       "      <td>...</td>\n",
       "      <td>0.356346</td>\n",
       "      <td>0.544360</td>\n",
       "      <td>-0.185296</td>\n",
       "      <td>-0.042358</td>\n",
       "      <td>-0.102516</td>\n",
       "      <td>-0.12985</td>\n",
       "      <td>-0.143482</td>\n",
       "      <td>-0.214513</td>\n",
       "      <td>12488.0</td>\n",
       "      <td>0.0</td>\n",
       "    </tr>\n",
       "    <tr>\n",
       "      <th>12489</th>\n",
       "      <td>-0.360341</td>\n",
       "      <td>0.902846</td>\n",
       "      <td>0.317382</td>\n",
       "      <td>0.0</td>\n",
       "      <td>-0.409544</td>\n",
       "      <td>-0.108377</td>\n",
       "      <td>0.0</td>\n",
       "      <td>-0.102484</td>\n",
       "      <td>-0.034676</td>\n",
       "      <td>-0.037035</td>\n",
       "      <td>...</td>\n",
       "      <td>-0.377407</td>\n",
       "      <td>-0.444438</td>\n",
       "      <td>-0.568056</td>\n",
       "      <td>0.622332</td>\n",
       "      <td>-0.102516</td>\n",
       "      <td>-0.12985</td>\n",
       "      <td>-0.143482</td>\n",
       "      <td>1.745446</td>\n",
       "      <td>12489.0</td>\n",
       "      <td>0.0</td>\n",
       "    </tr>\n",
       "  </tbody>\n",
       "</table>\n",
       "<p>12522 rows × 253 columns</p>\n",
       "</div>"
      ],
      "text/plain": [
       "       comment_karma  time_creation  verified_email  is_employee    is_mod  \\\n",
       "0           0.051081      -0.045567        0.317382          0.0 -0.409544   \n",
       "1          -0.353685       0.609671        0.317382          0.0 -0.409544   \n",
       "2          -0.347390       0.587896       -3.150775          0.0 -0.409544   \n",
       "3          -0.360849       0.571733       -3.150775          0.0 -0.409544   \n",
       "4          -0.361708       0.643656        0.317382          0.0 -0.409544   \n",
       "...              ...            ...             ...          ...       ...   \n",
       "12485      -0.236157       0.676968        0.317382          0.0 -0.409544   \n",
       "12486      -0.291731      -1.134156       -3.150775          0.0 -0.409544   \n",
       "12487      -0.354607      -0.803021        0.317382          0.0 -0.409544   \n",
       "12488      -0.120272       0.447888        0.317382          0.0  2.441740   \n",
       "12489      -0.360341       0.902846        0.317382          0.0 -0.409544   \n",
       "\n",
       "        is_gold  is_suspended  link_karma  num_moderated  num_multireddits  \\\n",
       "0     -0.108377           0.0   -0.122627      -0.034676         -0.037035   \n",
       "1     -0.108377           0.0   -0.121212      -0.034676         -0.037035   \n",
       "2     -0.108377           0.0   -0.096302      -0.034676         -0.037035   \n",
       "3     -0.108377           0.0   -0.124526      -0.034676         -0.037035   \n",
       "4     -0.108377           0.0   -0.129172      -0.034676         -0.037035   \n",
       "...         ...           ...         ...            ...               ...   \n",
       "12485 -0.108377           0.0   -0.081635      -0.034676         -0.037035   \n",
       "12486 -0.108377           0.0   -0.114848      -0.034676         -0.037035   \n",
       "12487 -0.108377           0.0   -0.123637      -0.034676         -0.037035   \n",
       "12488 -0.108377           0.0    7.530469       0.144959          3.153055   \n",
       "12489 -0.108377           0.0   -0.102484      -0.034676         -0.037035   \n",
       "\n",
       "       ...  num_comments_in_seg_0  num_comments_in_seg_1  \\\n",
       "0      ...              -0.377407              -0.444438   \n",
       "1      ...              -0.377407              -0.444438   \n",
       "2      ...              -0.377407              -0.444438   \n",
       "3      ...              -0.377407              -0.444438   \n",
       "4      ...              -0.377407              -0.444438   \n",
       "...    ...                    ...                    ...   \n",
       "12485  ...              -0.377407              -0.444438   \n",
       "12486  ...              -0.377407              -0.444438   \n",
       "12487  ...              -0.377407              -0.197238   \n",
       "12488  ...               0.356346               0.544360   \n",
       "12489  ...              -0.377407              -0.444438   \n",
       "\n",
       "       num_comments_in_seg_2  num_comments_in_seg_3  num_suicide_mentions_0  \\\n",
       "0                   1.154361               1.717115               -0.102516   \n",
       "1                  -0.568056              -0.824346               -0.102516   \n",
       "2                  -0.568056              -0.824346               -0.102516   \n",
       "3                  -0.568056              -0.824346               -0.102516   \n",
       "4                  -0.568056              -0.824346               -0.102516   \n",
       "...                      ...                    ...                     ...   \n",
       "12485              -0.568056              -0.785247               -0.102516   \n",
       "12486              -0.568056              -0.824346               -0.102516   \n",
       "12487              -0.568056              -0.785247               -0.102516   \n",
       "12488              -0.185296              -0.042358               -0.102516   \n",
       "12489              -0.568056               0.622332               -0.102516   \n",
       "\n",
       "       num_suicide_mentions_1  num_suicide_mentions_2  num_suicide_mentions_3  \\\n",
       "0                    -0.12985               -0.143482               -0.214513   \n",
       "1                    -0.12985               -0.143482               -0.214513   \n",
       "2                    -0.12985               -0.143482               -0.214513   \n",
       "3                    -0.12985               -0.143482               -0.214513   \n",
       "4                    -0.12985               -0.143482               -0.214513   \n",
       "...                       ...                     ...                     ...   \n",
       "12485                -0.12985               -0.143482               -0.214513   \n",
       "12486                -0.12985               -0.143482               -0.214513   \n",
       "12487                -0.12985               -0.143482               -0.214513   \n",
       "12488                -0.12985               -0.143482               -0.214513   \n",
       "12489                -0.12985               -0.143482                1.745446   \n",
       "\n",
       "       unique_id  is_treatment  \n",
       "0        12491.0           1.0  \n",
       "1        12492.0           1.0  \n",
       "2        12493.0           1.0  \n",
       "3        12494.0           1.0  \n",
       "4        12495.0           1.0  \n",
       "...          ...           ...  \n",
       "12485    12485.0           0.0  \n",
       "12486    12486.0           0.0  \n",
       "12487    12487.0           0.0  \n",
       "12488    12488.0           0.0  \n",
       "12489    12489.0           0.0  \n",
       "\n",
       "[12522 rows x 253 columns]"
      ]
     },
     "execution_count": 122,
     "metadata": {},
     "output_type": "execute_result"
    }
   ],
   "source": [
    "control_df = pd.DataFrame(new_data)\n",
    "control_df.columns = keys\n",
    "control_df[\"unique_id\"] = np.array([i for i in range(len(final_treat_usernames))],dtype=float) # I know this is misnamed - I need to correct above - I misnamed treat and control\n",
    "control_df[\"is_treatment\"] = np.array([0 for i in range(len(final_treat_usernames))],dtype=float)\n",
    "\n",
    "control_df = control_df.loc[:,~control_df.columns.duplicated()]\n",
    "# treatment_df.head()\n",
    "\n",
    "treatment_df = pd.DataFrame(new_query_redditors)\n",
    "treatment_df.columns = keys \n",
    "treatment_df[\"unique_id\"] = np.array([len(final_treat_usernames)+1+ i for i in range(len(control_group))],dtype=float)#control_group #again misnamed\n",
    "#seperate control by treatment - id shuld have one additional space btw\n",
    "treatment_df[\"is_treatment\"] = np.array([1 for i in range(len(control_group))])\n",
    "\n",
    "treatment_df = treatment_df.loc[:,~treatment_df.columns.duplicated()]\n",
    "\n",
    "\n",
    "combined_df = pd.concat((treatment_df, control_df))\n",
    "# combined_df = combined_df.apply(pd.to_numeric, errors=\"raise\").dropna().astype(\"float\")\n",
    "# combibed_df = combined_df.apply(lambda col: pd.to_numeric(col, errors='raise'))\n",
    "combined_df"
   ]
  },
  {
   "cell_type": "code",
   "execution_count": 123,
   "metadata": {},
   "outputs": [
    {
     "name": "stdout",
     "output_type": "stream",
     "text": [
      "Columns with non-numeric values: []\n"
     ]
    }
   ],
   "source": [
    "import pandas as pd\n",
    "import numpy as np\n",
    "\n",
    "# Assuming combined_df is your DataFrame\n",
    "df = combined_df\n",
    "\n",
    "# Convert non-numeric columns to numeric, coerce non-convertible values to NaN\n",
    "df = df.apply(pd.to_numeric, errors='coerce')\n",
    "\n",
    "# Print columns with non-numeric values\n",
    "non_numeric_columns = df.apply(lambda x: not pd.api.types.is_numeric_dtype(x))\n",
    "non_numeric_column_names = non_numeric_columns[non_numeric_columns].index.tolist()\n",
    "print(\"Columns with non-numeric values:\", non_numeric_column_names)\n",
    "\n",
    "# Check and assert that all columns are numeric\n",
    "for x in df.columns:\n",
    "    assert pd.api.types.is_numeric_dtype(df[x]) , \"Only numeric dtypes allowed\""
   ]
  },
  {
   "cell_type": "code",
   "execution_count": 87,
   "metadata": {},
   "outputs": [
    {
     "name": "stdout",
     "output_type": "stream",
     "text": [
      "Requirement already satisfied: psmpy in c:\\users\\logan\\documents\\research\\mental_health\\reddit_data_scraping\\reddit-crawler-data\\.venv\\lib\\site-packages (0.3.13)\n",
      "Requirement already satisfied: matplotlib in c:\\users\\logan\\documents\\research\\mental_health\\reddit_data_scraping\\reddit-crawler-data\\.venv\\lib\\site-packages (from psmpy) (3.8.2)\n",
      "Requirement already satisfied: numpy in c:\\users\\logan\\documents\\research\\mental_health\\reddit_data_scraping\\reddit-crawler-data\\.venv\\lib\\site-packages (from psmpy) (1.26.2)\n",
      "Requirement already satisfied: pandas in c:\\users\\logan\\documents\\research\\mental_health\\reddit_data_scraping\\reddit-crawler-data\\.venv\\lib\\site-packages (from psmpy) (2.1.3)\n",
      "Requirement already satisfied: seaborn in c:\\users\\logan\\documents\\research\\mental_health\\reddit_data_scraping\\reddit-crawler-data\\.venv\\lib\\site-packages (from psmpy) (0.13.0)\n",
      "Requirement already satisfied: scikit-learn in c:\\users\\logan\\documents\\research\\mental_health\\reddit_data_scraping\\reddit-crawler-data\\.venv\\lib\\site-packages (from psmpy) (1.3.2)\n",
      "Requirement already satisfied: scipy in c:\\users\\logan\\documents\\research\\mental_health\\reddit_data_scraping\\reddit-crawler-data\\.venv\\lib\\site-packages (from psmpy) (1.11.4)\n",
      "Requirement already satisfied: contourpy>=1.0.1 in c:\\users\\logan\\documents\\research\\mental_health\\reddit_data_scraping\\reddit-crawler-data\\.venv\\lib\\site-packages (from matplotlib->psmpy) (1.2.0)\n",
      "Requirement already satisfied: cycler>=0.10 in c:\\users\\logan\\documents\\research\\mental_health\\reddit_data_scraping\\reddit-crawler-data\\.venv\\lib\\site-packages (from matplotlib->psmpy) (0.12.1)\n",
      "Requirement already satisfied: fonttools>=4.22.0 in c:\\users\\logan\\documents\\research\\mental_health\\reddit_data_scraping\\reddit-crawler-data\\.venv\\lib\\site-packages (from matplotlib->psmpy) (4.46.0)\n",
      "Requirement already satisfied: kiwisolver>=1.3.1 in c:\\users\\logan\\documents\\research\\mental_health\\reddit_data_scraping\\reddit-crawler-data\\.venv\\lib\\site-packages (from matplotlib->psmpy) (1.4.5)\n",
      "Requirement already satisfied: packaging>=20.0 in c:\\users\\logan\\documents\\research\\mental_health\\reddit_data_scraping\\reddit-crawler-data\\.venv\\lib\\site-packages (from matplotlib->psmpy) (23.2)\n",
      "Requirement already satisfied: pillow>=8 in c:\\users\\logan\\documents\\research\\mental_health\\reddit_data_scraping\\reddit-crawler-data\\.venv\\lib\\site-packages (from matplotlib->psmpy) (10.1.0)\n",
      "Requirement already satisfied: pyparsing>=2.3.1 in c:\\users\\logan\\documents\\research\\mental_health\\reddit_data_scraping\\reddit-crawler-data\\.venv\\lib\\site-packages (from matplotlib->psmpy) (3.1.1)\n",
      "Requirement already satisfied: python-dateutil>=2.7 in c:\\users\\logan\\documents\\research\\mental_health\\reddit_data_scraping\\reddit-crawler-data\\.venv\\lib\\site-packages (from matplotlib->psmpy) (2.8.2)\n",
      "Requirement already satisfied: pytz>=2020.1 in c:\\users\\logan\\documents\\research\\mental_health\\reddit_data_scraping\\reddit-crawler-data\\.venv\\lib\\site-packages (from pandas->psmpy) (2023.3.post1)\n",
      "Requirement already satisfied: tzdata>=2022.1 in c:\\users\\logan\\documents\\research\\mental_health\\reddit_data_scraping\\reddit-crawler-data\\.venv\\lib\\site-packages (from pandas->psmpy) (2023.3)\n",
      "Requirement already satisfied: joblib>=1.1.1 in c:\\users\\logan\\documents\\research\\mental_health\\reddit_data_scraping\\reddit-crawler-data\\.venv\\lib\\site-packages (from scikit-learn->psmpy) (1.3.2)\n",
      "Requirement already satisfied: threadpoolctl>=2.0.0 in c:\\users\\logan\\documents\\research\\mental_health\\reddit_data_scraping\\reddit-crawler-data\\.venv\\lib\\site-packages (from scikit-learn->psmpy) (3.2.0)\n",
      "Requirement already satisfied: six>=1.5 in c:\\users\\logan\\documents\\research\\mental_health\\reddit_data_scraping\\reddit-crawler-data\\.venv\\lib\\site-packages (from python-dateutil>=2.7->matplotlib->psmpy) (1.16.0)\n"
     ]
    }
   ],
   "source": [
    "!pip install --upgrade psmpy"
   ]
  },
  {
   "cell_type": "code",
   "execution_count": 118,
   "metadata": {},
   "outputs": [
    {
     "data": {
      "text/plain": [
       "(12522, 253)"
      ]
     },
     "execution_count": 118,
     "metadata": {},
     "output_type": "execute_result"
    }
   ],
   "source": [
    "combined_df.shape"
   ]
  },
  {
   "cell_type": "code",
   "execution_count": 125,
   "metadata": {},
   "outputs": [
    {
     "name": "stdout",
     "output_type": "stream",
     "text": [
      "(32, 252)\n",
      "(12490, 252)\n"
     ]
    }
   ],
   "source": [
    "from psmpy import PsmPy\n",
    "import pandas.api.types as ptypes\n",
    "import warnings\n",
    "\n",
    "psm = PsmPy(combined_df, treatment = \"is_treatment\", indx=\"unique_id\")\n",
    "\n",
    "print(psm.treatmentdf.shape)\n",
    "print(psm.controldf.shape)\n",
    "with warnings.catch_warnings():\n",
    "    warnings.simplefilter(\"ignore\")\n",
    "    psm.logistic_ps(balance = True)"
   ]
  },
  {
   "cell_type": "code",
   "execution_count": 146,
   "metadata": {},
   "outputs": [
    {
     "name": "stdout",
     "output_type": "stream",
     "text": [
      "{12491.0: [5357.0], 12492.0: [11986.0], 12493.0: [2377.0], 12494.0: [5049.0], 12495.0: [4672.0], 12496.0: [1888.0], 12497.0: [8279.0], 12498.0: [10643.0], 12499.0: [586.0], 12500.0: [2301.0], 12501.0: [7667.0], 12502.0: [4674.0], 12503.0: [7422.0], 12504.0: [8750.0], 12505.0: [4374.0], 12506.0: [10867.0], 12507.0: [6576.0], 12508.0: [6104.0], 12509.0: [11834.0], 12510.0: [8594.0], 12511.0: [10063.0], 12512.0: [6647.0], 12513.0: [11233.0], 12514.0: [10720.0], 12515.0: [7726.0], 12516.0: [10131.0], 12517.0: [4642.0], 12518.0: [6008.0], 12519.0: [1438.0], 12520.0: [10349.0], 12521.0: [7389.0], 12522.0: [40.0]}\n"
     ]
    }
   ],
   "source": [
    "psm.knn_matched_12n(matcher='propensity_logit', how_many=1)\n",
    "\n",
    "exclude_column = \"unique_id\"\n",
    "matched_ids = psm.matched_ids\n",
    "matched_ids.set_index(\"unique_id\", inplace = True)\n",
    "# result_dict = {key: df.loc[key].values.tolist() for key in df.index}\n",
    "\n",
    "# Create a dictionary where the keys are from the 'unique_id' column and values are arrays of other columns\n",
    "result_dict = {key: matched_ids.iloc[i, :].values.tolist() for i, key in enumerate(matched_ids.index)}\n",
    "\n",
    "print(result_dict)\n"
   ]
  },
  {
   "cell_type": "code",
   "execution_count": 153,
   "metadata": {},
   "outputs": [
    {
     "name": "stdout",
     "output_type": "stream",
     "text": [
      "['sharkbag', 'Long-Strategy-3026', 'MysticalMagicalMilk', 'CommunicationDue6753', 'catharsisters', 'Its_Mels', 'Florgini', 'Majestic-Fig-524', 'Rich_Net6135', 'cutebutcrazy91', 'CrystalHope1998', 'JakeParsons21', 'I_am_Dragon_Flower', 'Spirited_Event', 'Intelligent-Risk9885', 'a1ayy', 'Standard-Albatross-3', 'yandererecon', 'fust0', 'Tight_Ad_4459', 'unrecognizable44', 'FragileStoner', '0Yarn0', 'Doodlebobbydoo', 'coffeepensbooks', 'Trampoline2355', 'UnfulfilledAndUnmet', 'MusicalPieceOfMusic', 'Cadillac85', 'AggressiveBench3028', 'Due_Yogurt_2502', 'Secret_Criticism3437']\n"
     ]
    }
   ],
   "source": [
    "propensity_matched_users = [final_treat_usernames[int(i)] for j in result_dict.values() for i in j]\n",
    "propensity_score_data = [new_data[int(i)] for j in result_dict.values() for i in j]\n",
    "print(propensity_matched_users)"
   ]
  },
  {
   "cell_type": "code",
   "execution_count": null,
   "metadata": {},
   "outputs": [],
   "source": []
  },
  {
   "cell_type": "code",
   "execution_count": 162,
   "metadata": {},
   "outputs": [
    {
     "name": "stdout",
     "output_type": "stream",
     "text": [
      "0.8142613571904246 [0.08233455 0.04817091 0.04680187 0.03358131 0.03257687 0.02539022\n",
      " 0.02434622 0.02342685 0.0225195  0.02131378 0.0196909  0.01860954\n",
      " 0.01699023 0.01582742 0.0149784  0.01360274 0.01325873 0.01291347\n",
      " 0.01276752 0.01248568 0.01208481 0.01194291 0.01160831 0.01150828\n",
      " 0.01131731 0.01073536 0.01023633 0.00954351 0.00920798 0.00878226\n",
      " 0.00855793 0.00824547 0.00776919 0.00738172 0.00725356 0.00710756\n",
      " 0.00695335 0.00683614 0.0065131  0.00649838 0.00634685 0.00625207\n",
      " 0.00618658 0.00603506 0.00580934 0.00557578 0.00554403 0.0054601\n",
      " 0.00538763 0.00525703 0.00512302 0.00490671 0.00463948 0.00442769\n",
      " 0.00433356 0.00428668 0.00416808 0.00402987 0.00391308 0.00381939\n",
      " 0.00374338 0.0036803  0.00362144 0.00341065 0.00335596 0.00327742]\n"
     ]
    }
   ],
   "source": [
    "#match based on PCA of higher size than two\n",
    "pca = PCA(n_components=66)\n",
    "pca.fit_transform(combined_data)\n",
    "print(sum(pca.explained_variance_ratio_), pca.explained_variance_ratio_)"
   ]
  },
  {
   "cell_type": "code",
   "execution_count": 168,
   "metadata": {},
   "outputs": [
    {
     "name": "stdout",
     "output_type": "stream",
     "text": [
      "(32, 67)\n",
      "(12490, 67)\n",
      "{12491.0: [4142.0], 12492.0: [1307.0], 12493.0: [10671.0], 12494.0: [5906.0], 12495.0: [9671.0], 12496.0: [5111.0], 12497.0: [6235.0], 12498.0: [1276.0], 12499.0: [12166.0], 12500.0: [4672.0], 12501.0: [11780.0], 12502.0: [1438.0], 12503.0: [9036.0], 12504.0: [11387.0], 12505.0: [5971.0], 12506.0: [9737.0], 12507.0: [12033.0], 12508.0: [6024.0], 12509.0: [2284.0], 12510.0: [3069.0], 12511.0: [10063.0], 12512.0: [12004.0], 12513.0: [3245.0], 12514.0: [10720.0], 12515.0: [8322.0], 12516.0: [1745.0], 12517.0: [8574.0], 12518.0: [8732.0], 12519.0: [8750.0], 12520.0: [3848.0], 12521.0: [7156.0], 12522.0: [8687.0]}\n",
      "['jkj2000', 'kendallkaylee', '-doves-nest-', 'Long_Spare7649', 'Various-Most-9673', 'Necessary-Sleep6669', 'MA63043', 'Ad-free-Music', 'cheebyl', 'catharsisters', 'p1llsandpotions', 'Cadillac85', 'i_did_it_n_quit_it', 'helteringskeltering', 'Pure_Void00', 'BDFelloMello', 'goldenrod10', 'sophietremaine', 'singlenutbuster', 'Similar-Lab64', 'unrecognizable44', 'Expensive-Help-1327', 'Important_Balance401', 'Doodlebobbydoo', 'SOAS1990', 'enough4me', 'Bigpeterlittlenuts', 'Soberclaude', 'Spirited_Event', 'FuckedYourFish', 'Dangerous-Gur-6222', 'bluesky7375']\n"
     ]
    }
   ],
   "source": [
    "#REPEAT ABOVE w/ PCA\n",
    "new_data_pca = pca.transform(new_data)\n",
    "query_data_pca = pca.transform(new_query_redditors)\n",
    "\n",
    "\n",
    "\"\"\"COPIED FROM ABOVE - SHOULD MAKE INTO FUNCTION\"\"\"\n",
    "control_df = pd.DataFrame(new_data_pca)\n",
    "# control_df.columns = keys\n",
    "control_df[\"unique_id\"] = np.array([i for i in range(len(final_treat_usernames))],dtype=float) # I know this is misnamed - I need to correct above - I misnamed treat and control\n",
    "control_df[\"is_treatment\"] = np.array([0 for i in range(len(final_treat_usernames))],dtype=float)\n",
    "\n",
    "control_df = control_df.loc[:,~control_df.columns.duplicated()]\n",
    "# treatment_df.head()\n",
    "\n",
    "treatment_df = pd.DataFrame(query_data_pca)\n",
    "# treatment_df.columns = keys \n",
    "treatment_df[\"unique_id\"] = np.array([len(final_treat_usernames)+1+ i for i in range(len(control_group))],dtype=float)#control_group #again misnamed\n",
    "#seperate control by treatment - id shuld have one additional space btw\n",
    "treatment_df[\"is_treatment\"] = np.array([1 for i in range(len(control_group))])\n",
    "\n",
    "treatment_df = treatment_df.loc[:,~treatment_df.columns.duplicated()]\n",
    "\n",
    "\n",
    "combined_df = pd.concat((treatment_df, control_df))\n",
    "\n",
    "psm2 = PsmPy(combined_df, treatment = \"is_treatment\", indx=\"unique_id\")\n",
    "\n",
    "print(psm2.treatmentdf.shape)\n",
    "print(psm2.controldf.shape)\n",
    "with warnings.catch_warnings():\n",
    "    warnings.simplefilter(\"ignore\")\n",
    "    psm2.logistic_ps(balance = True)\n",
    "\n",
    "\n",
    "\n",
    "psm2.knn_matched_12n(matcher='propensity_logit', how_many=1)\n",
    "\n",
    "exclude_column = \"unique_id\"\n",
    "matched_ids = psm2.matched_ids\n",
    "matched_ids.set_index(\"unique_id\", inplace = True)\n",
    "# result_dict = {key: df.loc[key].values.tolist() for key in df.index}\n",
    "\n",
    "# Create a dictionary where the keys are from the 'unique_id' column and values are arrays of other columns\n",
    "result_dict_pca = {key: matched_ids.iloc[i, :].values.tolist() for i, key in enumerate(matched_ids.index)}\n",
    "\n",
    "print(result_dict_pca)\n",
    "\n",
    "propensity_pca_matched_users = [final_treat_usernames[int(i)] for j in result_dict_pca.values() for i in j]\n",
    "propensity_pca_score_data = [new_data[int(i)] for j in result_dict_pca.values() for i in j]\n",
    "print(propensity_pca_matched_users)\n"
   ]
  },
  {
   "cell_type": "code",
   "execution_count": 181,
   "metadata": {},
   "outputs": [
    {
     "name": "stdout",
     "output_type": "stream",
     "text": [
      "explained variance (treat) if PCA for just them 0.7373579773270762 [0.57742578 0.15993219]\n",
      "explained variance (control all) 0.1304847608196161 [0.08234792 0.04813684]\n",
      "explained variance (control KD) if PCA for just them 0.8419627129169239 [0.77844928 0.06351343]\n",
      "explained variance (propensity) if PCA for just them 0.9808840076416707 [0.85299525 0.12788876]\n",
      "explained variance (propensity + PCA before) if PCA for just them 0.7303649057344733 [0.41692627 0.31343863]\n"
     ]
    }
   ],
   "source": [
    "n_components = 2\n",
    "\n",
    "\n",
    "\n",
    "combined_pca = PCA(n_components=2)\n",
    "combined_pca.fit_transform(combined_data)\n",
    "# combined_pca.fit_transform(new_query_redditors)\n",
    "\n",
    "treat_pca = PCA(n_components=n_components)\n",
    "treat_pca.fit_transform(new_query_redditors)\n",
    "query_components = combined_pca.transform(new_query_redditors)\n",
    "print(\"explained variance (treat) if PCA for just them\", sum(treat_pca.explained_variance_ratio_), treat_pca.explained_variance_ratio_)\n",
    "\n",
    "\n",
    "principalComponents = combined_pca.fit_transform(new_data)\n",
    "\n",
    "pca = PCA(n_components=n_components)\n",
    "pca.fit_transform(new_data)\n",
    "print(\"explained variance (control all)\", sum(pca.explained_variance_ratio_), pca.explained_variance_ratio_)\n",
    "\n",
    "\n",
    "selected_control = combined_pca.transform(list_of_control_data)\n",
    "trial_pca = PCA(n_components=n_components)\n",
    "trial_pca.fit_transform(list_of_control_data)\n",
    "print(\"explained variance (control KD) if PCA for just them\", sum(trial_pca.explained_variance_ratio_), trial_pca.explained_variance_ratio_)\n",
    "\n",
    "propensity_users = combined_pca.fit_transform(propensity_score_data)\n",
    "trial_pca.fit_transform(propensity_score_data)\n",
    "print(\"explained variance (propensity) if PCA for just them\", sum(trial_pca.explained_variance_ratio_), trial_pca.explained_variance_ratio_)\n",
    "\n",
    "propensity_pca_users = combined_pca.fit_transform(propensity_pca_score_data)\n",
    "trial_pca.fit_transform(propensity_pca_score_data)\n",
    "print(\"explained variance (propensity + PCA before) if PCA for just them\", sum(trial_pca.explained_variance_ratio_), trial_pca.explained_variance_ratio_)\n"
   ]
  },
  {
   "cell_type": "code",
   "execution_count": 182,
   "metadata": {},
   "outputs": [
    {
     "data": {
      "image/png": "[encoded data removed]",
      "text/plain": [
       "<Figure size 1000x800 with 1 Axes>"
      ]
     },
     "metadata": {},
     "output_type": "display_data"
    }
   ],
   "source": [
    "import matplotlib.pyplot as plt\n",
    "\n",
    "# Extract x and y coordinates from the data\n",
    "# x1, y1 = zip(*principalComponents)\n",
    "x2, y2 = zip(*query_components)\n",
    "x3, y3 = zip(*selected_control)\n",
    "x4, y4 = zip(*propensity_users)\n",
    "x5, y5 = zip(*propensity_pca_users)\n",
    "\n",
    "# Create a scatter plot with different colors for each set\n",
    "# plt.scatter(x1, y1, color='blue', label='All Other')\n",
    "\n",
    "\n",
    "plt.scatter(x4, y4, color='blue', label='Selected Control (Propensity Score - Plain)')\n",
    "plt.scatter(x5, y5, color='purple', label='Selected Control (Propensity Score - PCA)')\n",
    "plt.scatter(x3, y3, color='green', label='Selected Control (KD Tree)')\n",
    "plt.scatter(x2, y2, color='red', label='Treat')\n",
    "\n",
    "# Add labels and title\n",
    "plt.xlabel('X-axis Label')\n",
    "plt.ylabel('Y-axis Label')\n",
    "plt.title('Scatter Plot of Two Sets of Data')\n",
    "\n",
    "# Add legend\n",
    "plt.legend()\n",
    "\n",
    "# Show the plot\n",
    "plt.show()"
   ]
  },
  {
   "cell_type": "code",
   "execution_count": 175,
   "metadata": {},
   "outputs": [
    {
     "name": "stdout",
     "output_type": "stream",
     "text": [
      "pca + propensity: ['jkj2000', 'kendallkaylee', '-doves-nest-', 'Long_Spare7649', 'Various-Most-9673', 'Necessary-Sleep6669', 'MA63043', 'Ad-free-Music', 'cheebyl', 'catharsisters', 'p1llsandpotions', 'Cadillac85', 'i_did_it_n_quit_it', 'helteringskeltering', 'Pure_Void00', 'BDFelloMello', 'goldenrod10', 'sophietremaine', 'singlenutbuster', 'Similar-Lab64', 'unrecognizable44', 'Expensive-Help-1327', 'Important_Balance401', 'Doodlebobbydoo', 'SOAS1990', 'enough4me', 'Bigpeterlittlenuts', 'Soberclaude', 'Spirited_Event', 'FuckedYourFish', 'Dangerous-Gur-6222', 'bluesky7375']\n",
      "propensity: ['sharkbag', 'Long-Strategy-3026', 'MysticalMagicalMilk', 'CommunicationDue6753', 'catharsisters', 'Its_Mels', 'Florgini', 'Majestic-Fig-524', 'Rich_Net6135', 'cutebutcrazy91', 'CrystalHope1998', 'JakeParsons21', 'I_am_Dragon_Flower', 'Spirited_Event', 'Intelligent-Risk9885', 'a1ayy', 'Standard-Albatross-3', 'yandererecon', 'fust0', 'Tight_Ad_4459', 'unrecognizable44', 'FragileStoner', '0Yarn0', 'Doodlebobbydoo', 'coffeepensbooks', 'Trampoline2355', 'UnfulfilledAndUnmet', 'MusicalPieceOfMusic', 'Cadillac85', 'AggressiveBench3028', 'Due_Yogurt_2502', 'Secret_Criticism3437']\n",
      "KD: ['santascumdumpster', 'Evening-Management-7', 'kendragibs', 'throwaway8194122', 'Intelligent-Risk9885', 'jojaques', 'control_burn', 'MetroL7', 'abcdmetalhead', 'GibbyTime24', 'lola4274', 'iuanaj', 'Wide-Bridge-6461', 'Wide-Bridge-6461', 'lolboll12', 'ElthonJzohn_997', 'Am3l1a____', 'Oz_a_day', 'nxj7437', 'BowlLoose5158', 'LobstrLord', 'ElthonJzohn_997', 'Awkward_Reindeer_788', 'SpendLate5545', 'orange_melted', 'Maggiethedogie', 'CommunicationDue6753', 'whale_omelette94', 'IndependentInternet3', 'Electric_Spongebob', 'Mario_Lopes', 'ElizabethWolf1214']\n"
     ]
    }
   ],
   "source": [
    "#lets get all our groups of users so we can run on other side\n",
    "\n",
    "print(\"pca + propensity:\",propensity_pca_matched_users )\n",
    "print(\"propensity:\",propensity_matched_users )\n",
    "print(\"KD:\",vanilla_kd_control )"
   ]
  },
  {
   "cell_type": "code",
   "execution_count": 184,
   "metadata": {},
   "outputs": [
    {
     "data": {
      "text/plain": [
       "12530"
      ]
     },
     "execution_count": 184,
     "metadata": {},
     "output_type": "execute_result"
    }
   ],
   "source": [
    "len(redditor_dict)"
   ]
  }
 ],
 "metadata": {
  "kernelspec": {
   "display_name": ".venv",
   "language": "python",
   "name": "python3"
  },
  "language_info": {
   "codemirror_mode": {
    "name": "ipython",
    "version": 3
   },
   "file_extension": ".py",
   "mimetype": "text/x-python",
   "name": "python",
   "nbconvert_exporter": "python",
   "pygments_lexer": "ipython3",
   "version": "3.10.0"
  }
 },
 "nbformat": 4,
 "nbformat_minor": 2
}
